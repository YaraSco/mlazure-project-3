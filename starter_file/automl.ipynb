{
 "cells": [
  {
   "cell_type": "markdown",
   "metadata": {},
   "source": [
    "# Automated ML\n",
    "\n",
    "TODO: Import Dependencies. In the cell below, import all the dependencies that you will need to complete the project."
   ]
  },
  {
   "cell_type": "code",
   "execution_count": 1,
   "metadata": {
    "gather": {
     "logged": 1598423888013
    },
    "jupyter": {
     "outputs_hidden": false,
     "source_hidden": false
    },
    "nteract": {
     "transient": {
      "deleting": false
     }
    }
   },
   "outputs": [
    {
     "name": "stdout",
     "output_type": "stream",
     "text": [
      "SDK version: 1.42.0\n"
     ]
    }
   ],
   "source": [
    "import logging\n",
    "import os\n",
    "import io\n",
    "import joblib\n",
    "import json\n",
    "import math\n",
    "import requests\n",
    "import pandas as pd\n",
    "import datetime\n",
    "import azureml.core\n",
    "import azureml.automl\n",
    "\n",
    "from azureml.core.experiment import Experiment\n",
    "from azureml.core.workspace import Workspace\n",
    "from azureml.train.automl import AutoMLConfig\n",
    "from azureml.core.dataset import Dataset\n",
    "\n",
    "from azureml.core.compute import ComputeTarget, AmlCompute\n",
    "from azureml.core.compute_target import ComputeTargetException\n",
    "\n",
    "from azureml.widgets import RunDetails\n",
    "\n",
    "from azureml.core.environment import Environment\n",
    "from azureml.automl.core.shared import constants\n",
    "\n",
    "from azureml.core.model import InferenceConfig\n",
    "from azureml.core.webservice import AciWebservice\n",
    "from azureml.core.model import Model\n",
    "\n",
    "from inference.utils import align_outputs\n",
    "\n",
    "# Check core SDK version number\n",
    "print(\"SDK version:\", azureml.core.VERSION)"
   ]
  },
  {
   "cell_type": "markdown",
   "metadata": {},
   "source": [
    "## Dataset\n",
    "\n",
    "### Overview\n",
    "TODO: In this markdown cell, give an overview of the dataset you are using. Also mention the task you will be performing.\n",
    "\n",
    "\n",
    "TODO: Get data. In the cell below, write code to access the data you will be using in this project. Remember that the dataset needs to be external."
   ]
  },
  {
   "cell_type": "code",
   "execution_count": 2,
   "metadata": {
    "gather": {
     "logged": 1598423890461
    },
    "jupyter": {
     "outputs_hidden": false,
     "source_hidden": false
    },
    "nteract": {
     "transient": {
      "deleting": false
     }
    }
   },
   "outputs": [
    {
     "name": "stdout",
     "output_type": "stream",
     "text": [
      "quick-starts-ws-200268\n",
      "aml-quickstarts-200268\n",
      "southcentralus\n",
      "9a7511b8-150f-4a58-8528-3e7d50216c31\n"
     ]
    }
   ],
   "source": [
    "ws = Workspace.from_config()\n",
    "print(ws.name, ws.resource_group, ws.location, ws.subscription_id, sep = '\\n')\n",
    "\n",
    "# choose a name for experiment\n",
    "experiment_name = 'automl-forecast'\n",
    "\n",
    "experiment=Experiment(ws, experiment_name)"
   ]
  },
  {
   "cell_type": "code",
   "execution_count": 3,
   "metadata": {},
   "outputs": [
    {
     "name": "stdout",
     "output_type": "stream",
     "text": [
      "A new compute target has been created.\n",
      "InProgress.\n",
      "SucceededProvisioning operation finished, operation \"Succeeded\"\n",
      "Succeeded\n",
      "AmlCompute wait for completion finished\n",
      "\n",
      "Minimum number of nodes requested have been provisioned\n"
     ]
    }
   ],
   "source": [
    "# Create or attach a compute cluster\n",
    "cluster_name = \"canina-cluster\"\n",
    "\n",
    "try:\n",
    "    compute_target = ComputeTarget(workspace=ws, name=cluster_name)\n",
    "    print('This compute target already exists.')\n",
    "except ComputeTargetException:\n",
    "    compute_config = AmlCompute.provisioning_configuration(vm_size=\"Standard_D2_V2\",\n",
    "                                                          max_nodes=4)\n",
    "    compute_target = ComputeTarget.create(ws, cluster_name, compute_config)\n",
    "    print('A new compute target has been created.')\n",
    "    \n",
    "compute_target.wait_for_completion(show_output=True, min_node_count=0, timeout_in_minutes=10)"
   ]
  },
  {
   "cell_type": "code",
   "execution_count": 4,
   "metadata": {},
   "outputs": [],
   "source": [
    "DATA_DIR = os.path.join(os.path.abspath(os.getcwd()), \"ojdata\")\n",
    "LAST_WEEK = 138\n",
    "NUM_WEEK_TEST = 3\n",
    "time_column_name = \"week_start\"\n",
    "grain_column_names = [\"store\", \"brand\"]\n",
    "target = \"move\"\n",
    "\n",
    "# The start datetime of the first week in the record\n",
    "FIRST_WEEK_START = pd.to_datetime(\"1989-09-14 00:00:00\")\n",
    "\n",
    "df = pd.read_csv(os.path.join(DATA_DIR, \"yx.csv\"))\n",
    "df = df.loc[df.week <= LAST_WEEK]"
   ]
  },
  {
   "cell_type": "code",
   "execution_count": 5,
   "metadata": {},
   "outputs": [],
   "source": [
    "# Convert logarithm of the unit sales to unit sales\n",
    "df[\"move\"] = df[\"logmove\"].apply(lambda x: round(math.exp(x)))\n",
    "\n",
    "# Add timestamp column\n",
    "df[\"week_start\"] = df[\"week\"].apply(lambda x: FIRST_WEEK_START + datetime.timedelta(days=(x - 1) * 7))"
   ]
  },
  {
   "cell_type": "code",
   "execution_count": 6,
   "metadata": {},
   "outputs": [],
   "source": [
    "# Split data into training and test sets\n",
    "\n",
    "def split_last_n_by_grain(df, n):\n",
    "    \"\"\"Group df by grain and split on last n rows for each group.\"\"\"\n",
    "    df_grouped = df.sort_values(time_column_name).groupby(\n",
    "        grain_column_names, group_keys=False\n",
    "    )\n",
    "    df_head = df_grouped.apply(lambda dfg: dfg.iloc[:-n])\n",
    "    df_tail = df_grouped.apply(lambda dfg: dfg.iloc[-n:])\n",
    "    return df_head, df_tail\n",
    "\n",
    "# Drop \"logmove\", because it is a leaky feature\n",
    "df.drop(\"logmove\", axis=1, inplace=True)\n",
    "\n",
    "train_df, test_df = split_last_n_by_grain(df, NUM_WEEK_TEST)\n",
    "\n",
    "train_df.reset_index(drop=True)\n",
    "test_df.reset_index(drop=True)\n",
    "\n",
    "local_data_paths = [\n",
    "    os.path.join(DATA_DIR, \"train_automl.csv\"),\n",
    "    os.path.join(DATA_DIR, \"test_automl.csv\")\n",
    "]\n",
    "\n",
    "train_df.to_csv(local_data_paths[0], index=None, header=True)\n",
    "test_df.to_csv(local_data_paths[1], index=None, header=True)"
   ]
  },
  {
   "cell_type": "code",
   "execution_count": 7,
   "metadata": {},
   "outputs": [
    {
     "name": "stderr",
     "output_type": "stream",
     "text": [
      "\"datastore.upload_files\" is deprecated after version 1.0.69. Please use \"FileDatasetFactory.upload_directory\" instead. See Dataset API change notice at https://aka.ms/dataset-deprecation.\n"
     ]
    },
    {
     "data": {
      "text/plain": [
       "$AZUREML_DATAREFERENCE_93a2a9b23c7c4ddb8686023f467f7ccb"
      ]
     },
     "execution_count": 7,
     "metadata": {},
     "output_type": "execute_result"
    }
   ],
   "source": [
    "# Upload data to datastore\n",
    "\n",
    "ds = ws.get_default_datastore()\n",
    "ds.upload_files(\n",
    "    files=local_data_paths, \n",
    "    target_path=\"dataset/\", \n",
    "    overwrite=True, \n",
    "    show_progress=False)"
   ]
  },
  {
   "cell_type": "code",
   "execution_count": 8,
   "metadata": {},
   "outputs": [],
   "source": [
    "train_dataset = Dataset.Tabular.from_delimited_files(path=ds.path(\"dataset/train_automl.csv\"))"
   ]
  },
  {
   "cell_type": "code",
   "execution_count": 9,
   "metadata": {},
   "outputs": [
    {
     "data": {
      "text/html": [
       "<div>\n",
       "<style scoped>\n",
       "    .dataframe tbody tr th:only-of-type {\n",
       "        vertical-align: middle;\n",
       "    }\n",
       "\n",
       "    .dataframe tbody tr th {\n",
       "        vertical-align: top;\n",
       "    }\n",
       "\n",
       "    .dataframe thead th {\n",
       "        text-align: right;\n",
       "    }\n",
       "</style>\n",
       "<table border=\"1\" class=\"dataframe\">\n",
       "  <thead>\n",
       "    <tr style=\"text-align: right;\">\n",
       "      <th></th>\n",
       "      <th>store</th>\n",
       "      <th>brand</th>\n",
       "      <th>week</th>\n",
       "      <th>constant</th>\n",
       "      <th>price1</th>\n",
       "      <th>price2</th>\n",
       "      <th>price3</th>\n",
       "      <th>price4</th>\n",
       "      <th>price5</th>\n",
       "      <th>price6</th>\n",
       "      <th>price7</th>\n",
       "      <th>price8</th>\n",
       "      <th>price9</th>\n",
       "      <th>price10</th>\n",
       "      <th>price11</th>\n",
       "      <th>deal</th>\n",
       "      <th>feat</th>\n",
       "      <th>profit</th>\n",
       "      <th>move</th>\n",
       "      <th>week_start</th>\n",
       "    </tr>\n",
       "  </thead>\n",
       "  <tbody>\n",
       "    <tr>\n",
       "      <th>0</th>\n",
       "      <td>2</td>\n",
       "      <td>1</td>\n",
       "      <td>40</td>\n",
       "      <td>1</td>\n",
       "      <td>0.060469</td>\n",
       "      <td>0.060497</td>\n",
       "      <td>0.042031</td>\n",
       "      <td>0.029531</td>\n",
       "      <td>0.049531</td>\n",
       "      <td>0.053021</td>\n",
       "      <td>0.038906</td>\n",
       "      <td>0.041406</td>\n",
       "      <td>0.028906</td>\n",
       "      <td>0.024844</td>\n",
       "      <td>0.038984</td>\n",
       "      <td>1</td>\n",
       "      <td>0.0</td>\n",
       "      <td>37.992326</td>\n",
       "      <td>8256</td>\n",
       "      <td>1990-06-14</td>\n",
       "    </tr>\n",
       "    <tr>\n",
       "      <th>1</th>\n",
       "      <td>2</td>\n",
       "      <td>1</td>\n",
       "      <td>46</td>\n",
       "      <td>1</td>\n",
       "      <td>0.060469</td>\n",
       "      <td>0.060312</td>\n",
       "      <td>0.045156</td>\n",
       "      <td>0.046719</td>\n",
       "      <td>0.049531</td>\n",
       "      <td>0.047813</td>\n",
       "      <td>0.045781</td>\n",
       "      <td>0.027969</td>\n",
       "      <td>0.042969</td>\n",
       "      <td>0.042031</td>\n",
       "      <td>0.038984</td>\n",
       "      <td>0</td>\n",
       "      <td>0.0</td>\n",
       "      <td>30.126667</td>\n",
       "      <td>6144</td>\n",
       "      <td>1990-07-26</td>\n",
       "    </tr>\n",
       "    <tr>\n",
       "      <th>2</th>\n",
       "      <td>2</td>\n",
       "      <td>1</td>\n",
       "      <td>47</td>\n",
       "      <td>1</td>\n",
       "      <td>0.060469</td>\n",
       "      <td>0.060312</td>\n",
       "      <td>0.045156</td>\n",
       "      <td>0.046719</td>\n",
       "      <td>0.037344</td>\n",
       "      <td>0.053021</td>\n",
       "      <td>0.045781</td>\n",
       "      <td>0.041406</td>\n",
       "      <td>0.048125</td>\n",
       "      <td>0.032656</td>\n",
       "      <td>0.038984</td>\n",
       "      <td>0</td>\n",
       "      <td>0.0</td>\n",
       "      <td>30.000000</td>\n",
       "      <td>3840</td>\n",
       "      <td>1990-08-02</td>\n",
       "    </tr>\n",
       "    <tr>\n",
       "      <th>3</th>\n",
       "      <td>2</td>\n",
       "      <td>1</td>\n",
       "      <td>48</td>\n",
       "      <td>1</td>\n",
       "      <td>0.060469</td>\n",
       "      <td>0.060312</td>\n",
       "      <td>0.049844</td>\n",
       "      <td>0.037344</td>\n",
       "      <td>0.049531</td>\n",
       "      <td>0.053021</td>\n",
       "      <td>0.045781</td>\n",
       "      <td>0.041406</td>\n",
       "      <td>0.042344</td>\n",
       "      <td>0.032656</td>\n",
       "      <td>0.038984</td>\n",
       "      <td>0</td>\n",
       "      <td>0.0</td>\n",
       "      <td>29.950000</td>\n",
       "      <td>8000</td>\n",
       "      <td>1990-08-09</td>\n",
       "    </tr>\n",
       "    <tr>\n",
       "      <th>4</th>\n",
       "      <td>2</td>\n",
       "      <td>1</td>\n",
       "      <td>50</td>\n",
       "      <td>1</td>\n",
       "      <td>0.060469</td>\n",
       "      <td>0.060312</td>\n",
       "      <td>0.043594</td>\n",
       "      <td>0.031094</td>\n",
       "      <td>0.049531</td>\n",
       "      <td>0.053021</td>\n",
       "      <td>0.046648</td>\n",
       "      <td>0.041406</td>\n",
       "      <td>0.042344</td>\n",
       "      <td>0.032656</td>\n",
       "      <td>0.038203</td>\n",
       "      <td>0</td>\n",
       "      <td>0.0</td>\n",
       "      <td>29.920000</td>\n",
       "      <td>8896</td>\n",
       "      <td>1990-08-23</td>\n",
       "    </tr>\n",
       "  </tbody>\n",
       "</table>\n",
       "</div>"
      ],
      "text/plain": [
       "   store  brand  week  constant    price1    price2    price3    price4  \\\n",
       "0      2      1    40         1  0.060469  0.060497  0.042031  0.029531   \n",
       "1      2      1    46         1  0.060469  0.060312  0.045156  0.046719   \n",
       "2      2      1    47         1  0.060469  0.060312  0.045156  0.046719   \n",
       "3      2      1    48         1  0.060469  0.060312  0.049844  0.037344   \n",
       "4      2      1    50         1  0.060469  0.060312  0.043594  0.031094   \n",
       "\n",
       "     price5    price6    price7    price8    price9   price10   price11  deal  \\\n",
       "0  0.049531  0.053021  0.038906  0.041406  0.028906  0.024844  0.038984     1   \n",
       "1  0.049531  0.047813  0.045781  0.027969  0.042969  0.042031  0.038984     0   \n",
       "2  0.037344  0.053021  0.045781  0.041406  0.048125  0.032656  0.038984     0   \n",
       "3  0.049531  0.053021  0.045781  0.041406  0.042344  0.032656  0.038984     0   \n",
       "4  0.049531  0.053021  0.046648  0.041406  0.042344  0.032656  0.038203     0   \n",
       "\n",
       "   feat     profit  move week_start  \n",
       "0   0.0  37.992326  8256 1990-06-14  \n",
       "1   0.0  30.126667  6144 1990-07-26  \n",
       "2   0.0  30.000000  3840 1990-08-02  \n",
       "3   0.0  29.950000  8000 1990-08-09  \n",
       "4   0.0  29.920000  8896 1990-08-23  "
      ]
     },
     "execution_count": 9,
     "metadata": {},
     "output_type": "execute_result"
    }
   ],
   "source": [
    "# Visualize the first five lines of the training dataset\n",
    "\n",
    "train_dataset.to_pandas_dataframe().head(5)"
   ]
  },
  {
   "cell_type": "markdown",
   "metadata": {},
   "source": [
    "## AutoML Configuration\n",
    "\n",
    "TODO: Explain why you chose the automl settings and cofiguration you used below."
   ]
  },
  {
   "cell_type": "code",
   "execution_count": 10,
   "metadata": {
    "gather": {
     "logged": 1598429217746
    },
    "jupyter": {
     "outputs_hidden": false,
     "source_hidden": false
    },
    "nteract": {
     "transient": {
      "deleting": false
     }
    }
   },
   "outputs": [],
   "source": [
    "# Forecast settings\n",
    "forecast_settings = {\n",
    "    \"time_column_name\": time_column_name,\n",
    "    \"grain_column_names\": grain_column_names,\n",
    "    \"max_horizon\": NUM_WEEK_TEST\n",
    "}\n",
    "# Automl settings \n",
    "automl_settings = {\n",
    "    \"experiment_timeout_hours\" : 1.2,\n",
    "    \"primary_metric\" : \"normalized_mean_absolute_error\",\n",
    "    \"n_cross_validations\" : 3\n",
    "}\n",
    "\n",
    "# Automl config \n",
    "automl_config = AutoMLConfig(\n",
    "    task=\"forecasting\",\n",
    "    debug_log=\"automl_errors.log\",\n",
    "    training_data=train_dataset,\n",
    "    label_column_name=target,\n",
    "    compute_target=compute_target,\n",
    "    enable_early_stopping=True,\n",
    "    verbosity=logging.INFO,\n",
    "    **automl_settings,\n",
    "    **forecast_settings\n",
    ")"
   ]
  },
  {
   "cell_type": "code",
   "execution_count": 11,
   "metadata": {
    "gather": {
     "logged": 1598431107951
    },
    "jupyter": {
     "outputs_hidden": false,
     "source_hidden": false
    },
    "nteract": {
     "transient": {
      "deleting": false
     }
    }
   },
   "outputs": [
    {
     "name": "stdout",
     "output_type": "stream",
     "text": [
      "Submitting remote run.\n"
     ]
    },
    {
     "data": {
      "text/html": [
       "<table style=\"width:100%\"><tr><th>Experiment</th><th>Id</th><th>Type</th><th>Status</th><th>Details Page</th><th>Docs Page</th></tr><tr><td>automl-forecast</td><td>AutoML_c94e38b8-3c3a-4db6-a8f3-be5362cb1758</td><td>automl</td><td>NotStarted</td><td><a href=\"https://ml.azure.com/runs/AutoML_c94e38b8-3c3a-4db6-a8f3-be5362cb1758?wsid=/subscriptions/9a7511b8-150f-4a58-8528-3e7d50216c31/resourcegroups/aml-quickstarts-200268/workspaces/quick-starts-ws-200268&amp;tid=660b3398-b80e-49d2-bc5b-ac1dc93b5254\" target=\"_blank\" rel=\"noopener\">Link to Azure Machine Learning studio</a></td><td><a href=\"https://docs.microsoft.com/en-us/python/api/overview/azure/ml/intro?view=azure-ml-py\" target=\"_blank\" rel=\"noopener\">Link to Documentation</a></td></tr></table>"
      ],
      "text/plain": [
       "<IPython.core.display.HTML object>"
      ]
     },
     "metadata": {},
     "output_type": "display_data"
    }
   ],
   "source": [
    "# Submit the experiment\n",
    "remote_run = experiment.submit(automl_config)"
   ]
  },
  {
   "cell_type": "markdown",
   "metadata": {},
   "source": [
    "## Run Details\n",
    "\n",
    "OPTIONAL: Write about the different models trained and their performance. Why do you think some models did better than others?\n",
    "\n",
    "TODO: In the cell below, use the `RunDetails` widget to show the different experiments."
   ]
  },
  {
   "cell_type": "code",
   "execution_count": 12,
   "metadata": {
    "gather": {
     "logged": 1598431121770
    },
    "jupyter": {
     "outputs_hidden": false,
     "source_hidden": false
    },
    "nteract": {
     "transient": {
      "deleting": false
     }
    }
   },
   "outputs": [
    {
     "data": {
      "application/vnd.jupyter.widget-view+json": {
       "model_id": "8fef9b3086e04a94b1283370354077bf",
       "version_major": 2,
       "version_minor": 0
      },
      "text/plain": [
       "_AutoMLWidget(widget_settings={'childWidgetDisplay': 'popup', 'send_telemetry': False, 'log_level': 'INFO', 's…"
      ]
     },
     "metadata": {},
     "output_type": "display_data"
    },
    {
     "data": {
      "application/aml.mini.widget.v1": "{\"status\": \"Completed\", \"workbench_run_details_uri\": \"https://ml.azure.com/runs/AutoML_c94e38b8-3c3a-4db6-a8f3-be5362cb1758?wsid=/subscriptions/9a7511b8-150f-4a58-8528-3e7d50216c31/resourcegroups/aml-quickstarts-200268/workspaces/quick-starts-ws-200268&tid=660b3398-b80e-49d2-bc5b-ac1dc93b5254\", \"run_id\": \"AutoML_c94e38b8-3c3a-4db6-a8f3-be5362cb1758\", \"run_properties\": {\"run_id\": \"AutoML_c94e38b8-3c3a-4db6-a8f3-be5362cb1758\", \"created_utc\": \"2022-07-05T12:27:30.646426Z\", \"properties\": {\"num_iterations\": \"1000\", \"training_type\": \"TrainFull\", \"acquisition_function\": \"EI\", \"primary_metric\": \"normalized_mean_absolute_error\", \"train_split\": \"0\", \"acquisition_parameter\": \"0\", \"num_cross_validation\": \"3\", \"target\": \"canina-cluster\", \"AMLSettingsJsonString\": \"{\\\"path\\\":null,\\\"name\\\":\\\"automl-forecast\\\",\\\"subscription_id\\\":\\\"9a7511b8-150f-4a58-8528-3e7d50216c31\\\",\\\"resource_group\\\":\\\"aml-quickstarts-200268\\\",\\\"workspace_name\\\":\\\"quick-starts-ws-200268\\\",\\\"region\\\":\\\"southcentralus\\\",\\\"compute_target\\\":\\\"canina-cluster\\\",\\\"spark_service\\\":null,\\\"azure_service\\\":\\\"remote\\\",\\\"many_models\\\":false,\\\"pipeline_fetch_max_batch_size\\\":1,\\\"enable_batch_run\\\":true,\\\"enable_run_restructure\\\":false,\\\"start_auxiliary_runs_before_parent_complete\\\":false,\\\"enable_code_generation\\\":true,\\\"iterations\\\":1000,\\\"primary_metric\\\":\\\"normalized_mean_absolute_error\\\",\\\"task_type\\\":\\\"regression\\\",\\\"positive_label\\\":null,\\\"data_script\\\":null,\\\"test_size\\\":0.0,\\\"test_include_predictions_only\\\":false,\\\"validation_size\\\":0.0,\\\"n_cross_validations\\\":3,\\\"y_min\\\":null,\\\"y_max\\\":null,\\\"num_classes\\\":null,\\\"featurization\\\":\\\"auto\\\",\\\"_ignore_package_version_incompatibilities\\\":false,\\\"is_timeseries\\\":true,\\\"max_cores_per_iteration\\\":1,\\\"max_concurrent_iterations\\\":1,\\\"iteration_timeout_minutes\\\":null,\\\"mem_in_mb\\\":null,\\\"enforce_time_on_windows\\\":false,\\\"experiment_timeout_minutes\\\":72,\\\"experiment_exit_score\\\":null,\\\"partition_column_names\\\":null,\\\"whitelist_models\\\":null,\\\"blacklist_algos\\\":[\\\"TensorFlowDNN\\\",\\\"TensorFlowLinearRegressor\\\"],\\\"supported_models\\\":[\\\"GradientBoosting\\\",\\\"ExtremeRandomTrees\\\",\\\"TCNForecaster\\\",\\\"XGBoostRegressor\\\",\\\"Prophet\\\",\\\"DecisionTree\\\",\\\"AutoArima\\\",\\\"KNN\\\",\\\"LightGBM\\\",\\\"RandomForest\\\",\\\"TensorFlowLinearRegressor\\\",\\\"Arimax\\\",\\\"TabnetRegressor\\\",\\\"ExponentialSmoothing\\\",\\\"Naive\\\",\\\"SeasonalNaive\\\",\\\"LassoLars\\\",\\\"Average\\\",\\\"SeasonalAverage\\\",\\\"TensorFlowDNN\\\",\\\"SGD\\\",\\\"ElasticNet\\\"],\\\"private_models\\\":[],\\\"auto_blacklist\\\":true,\\\"blacklist_samples_reached\\\":false,\\\"exclude_nan_labels\\\":true,\\\"verbosity\\\":20,\\\"_debug_log\\\":\\\"azureml_automl.log\\\",\\\"show_warnings\\\":false,\\\"model_explainability\\\":true,\\\"service_url\\\":null,\\\"sdk_url\\\":null,\\\"sdk_packages\\\":null,\\\"enable_onnx_compatible_models\\\":false,\\\"enable_split_onnx_featurizer_estimator_models\\\":false,\\\"vm_type\\\":\\\"STANDARD_D2_V2\\\",\\\"telemetry_verbosity\\\":20,\\\"send_telemetry\\\":true,\\\"enable_dnn\\\":false,\\\"scenario\\\":\\\"SDK-1.13.0\\\",\\\"environment_label\\\":null,\\\"save_mlflow\\\":false,\\\"enable_categorical_indicators\\\":false,\\\"force_text_dnn\\\":false,\\\"enable_feature_sweeping\\\":false,\\\"time_column_name\\\":\\\"week_start\\\",\\\"grain_column_names\\\":[\\\"store\\\",\\\"brand\\\"],\\\"drop_column_names\\\":[],\\\"max_horizon\\\":3,\\\"dropna\\\":false,\\\"overwrite_columns\\\":true,\\\"transform_dictionary\\\":{\\\"min\\\":\\\"_automl_target_col\\\",\\\"max\\\":\\\"_automl_target_col\\\",\\\"mean\\\":\\\"_automl_target_col\\\"},\\\"window_size\\\":null,\\\"country_or_region\\\":null,\\\"lags\\\":null,\\\"feature_lags\\\":null,\\\"seasonality\\\":\\\"auto\\\",\\\"use_stl\\\":null,\\\"short_series_handling\\\":true,\\\"freq\\\":null,\\\"short_series_handling_configuration\\\":\\\"auto\\\",\\\"target_aggregation_function\\\":null,\\\"cv_step_size\\\":1,\\\"has_multiple_series\\\":true,\\\"enable_early_stopping\\\":true,\\\"early_stopping_n_iters\\\":10,\\\"arguments\\\":null,\\\"dataset_id\\\":\\\"3f3cde31-32a6-4bd8-b6ef-34c603703553\\\",\\\"hyperdrive_config\\\":null,\\\"validation_dataset_id\\\":null,\\\"run_source\\\":null,\\\"metrics\\\":null,\\\"enable_metric_confidence\\\":false,\\\"enable_ensembling\\\":true,\\\"enable_stack_ensembling\\\":false,\\\"ensemble_iterations\\\":15,\\\"enable_tf\\\":false,\\\"enable_subsampling\\\":false,\\\"subsample_seed\\\":null,\\\"enable_nimbusml\\\":false,\\\"enable_streaming\\\":false,\\\"force_streaming\\\":false,\\\"track_child_runs\\\":true,\\\"allowed_private_models\\\":[],\\\"label_column_name\\\":\\\"move\\\",\\\"weight_column_name\\\":null,\\\"cv_split_column_names\\\":null,\\\"enable_local_managed\\\":false,\\\"_local_managed_run_id\\\":null,\\\"cost_mode\\\":1,\\\"lag_length\\\":0,\\\"metric_operation\\\":\\\"minimize\\\",\\\"preprocess\\\":true}\", \"DataPrepJsonString\": \"{\\\\\\\"training_data\\\\\\\": {\\\\\\\"datasetId\\\\\\\": \\\\\\\"3f3cde31-32a6-4bd8-b6ef-34c603703553\\\\\\\"}, \\\\\\\"datasets\\\\\\\": 0}\", \"EnableSubsampling\": \"False\", \"runTemplate\": \"AutoML\", \"azureml.runsource\": \"automl\", \"display_task_type\": \"forecasting\", \"dependencies_versions\": \"{\\\"azureml-widgets\\\": \\\"1.42.0\\\", \\\"azureml-training-tabular\\\": \\\"1.42.0\\\", \\\"azureml-train\\\": \\\"1.42.0\\\", \\\"azureml-train-restclients-hyperdrive\\\": \\\"1.42.0\\\", \\\"azureml-train-core\\\": \\\"1.42.0\\\", \\\"azureml-train-automl\\\": \\\"1.42.0\\\", \\\"azureml-train-automl-runtime\\\": \\\"1.42.0\\\", \\\"azureml-train-automl-client\\\": \\\"1.42.0\\\", \\\"azureml-tensorboard\\\": \\\"1.42.0\\\", \\\"azureml-telemetry\\\": \\\"1.42.0\\\", \\\"azureml-sdk\\\": \\\"1.42.0\\\", \\\"azureml-samples\\\": \\\"0+unknown\\\", \\\"azureml-responsibleai\\\": \\\"1.42.0\\\", \\\"azureml-pipeline\\\": \\\"1.42.0\\\", \\\"azureml-pipeline-steps\\\": \\\"1.42.0\\\", \\\"azureml-pipeline-core\\\": \\\"1.42.0\\\", \\\"azureml-opendatasets\\\": \\\"1.42.0\\\", \\\"azureml-mlflow\\\": \\\"1.42.0\\\", \\\"azureml-interpret\\\": \\\"1.42.0\\\", \\\"azureml-inference-server-http\\\": \\\"0.4.13\\\", \\\"azureml-explain-model\\\": \\\"1.42.0\\\", \\\"azureml-defaults\\\": \\\"1.42.0\\\", \\\"azureml-dataset-runtime\\\": \\\"1.42.0\\\", \\\"azureml-dataprep\\\": \\\"4.0.1\\\", \\\"azureml-dataprep-rslex\\\": \\\"2.6.1\\\", \\\"azureml-dataprep-native\\\": \\\"38.0.0\\\", \\\"azureml-datadrift\\\": \\\"1.42.0\\\", \\\"azureml-core\\\": \\\"1.42.0\\\", \\\"azureml-contrib-services\\\": \\\"1.42.0\\\", \\\"azureml-contrib-server\\\": \\\"1.42.0\\\", \\\"azureml-contrib-reinforcementlearning\\\": \\\"1.42.0\\\", \\\"azureml-contrib-pipeline-steps\\\": \\\"1.42.0\\\", \\\"azureml-contrib-notebook\\\": \\\"1.42.0\\\", \\\"azureml-contrib-fairness\\\": \\\"1.42.0\\\", \\\"azureml-contrib-dataset\\\": \\\"1.42.0\\\", \\\"azureml-contrib-automl-pipeline-steps\\\": \\\"1.42.0\\\", \\\"azureml-cli-common\\\": \\\"1.42.0\\\", \\\"azureml-automl-runtime\\\": \\\"1.42.0\\\", \\\"azureml-automl-dnn-nlp\\\": \\\"1.42.0\\\", \\\"azureml-automl-core\\\": \\\"1.42.0\\\", \\\"azureml-accel-models\\\": \\\"1.42.0\\\"}\", \"_aml_system_scenario_identification\": \"Remote.Parent\", \"ClientType\": \"SDK\", \"environment_cpu_name\": \"AzureML-AutoML\", \"environment_cpu_label\": \"prod\", \"environment_gpu_name\": \"AzureML-AutoML-GPU\", \"environment_gpu_label\": \"prod\", \"root_attribution\": \"automl\", \"attribution\": \"AutoML\", \"Orchestrator\": \"AutoML\", \"CancelUri\": \"https://southcentralus.api.azureml.ms/jasmine/v1.0/subscriptions/9a7511b8-150f-4a58-8528-3e7d50216c31/resourceGroups/aml-quickstarts-200268/providers/Microsoft.MachineLearningServices/workspaces/quick-starts-ws-200268/experimentids/3560655b-dfde-45a7-bfce-1cab8e7ce2df/cancel/AutoML_c94e38b8-3c3a-4db6-a8f3-be5362cb1758\", \"ClientSdkVersion\": \"1.42.0.post1\", \"snapshotId\": \"00000000-0000-0000-0000-000000000000\", \"SetupRunId\": \"AutoML_c94e38b8-3c3a-4db6-a8f3-be5362cb1758_setup\", \"SetupRunContainerId\": \"dcid.AutoML_c94e38b8-3c3a-4db6-a8f3-be5362cb1758_setup\", \"forecasting_target_lags\": \"[0]\", \"forecasting_target_rolling_window_size\": \"0\", \"forecasting_max_horizon\": \"3\", \"forecasting_freq\": \"W-THU\", \"ProblemInfoJsonString\": \"{\\\"dataset_num_categorical\\\": 0, \\\"is_sparse\\\": false, \\\"subsampling\\\": false, \\\"has_extra_col\\\": true, \\\"dataset_classes\\\": 2253, \\\"dataset_features\\\": 41, \\\"dataset_samples\\\": 86966, \\\"single_frequency_class_detected\\\": false, \\\"series_column_count\\\": 2, \\\"series_count\\\": 913, \\\"series_len_min\\\": 62, \\\"series_len_max\\\": 96, \\\"series_len_avg\\\": 92.19277108433735, \\\"series_len_perc_25\\\": 91.0, \\\"series_len_perc_50\\\": 93.0, \\\"series_len_perc_75\\\": 95.0}\", \"ModelExplainRunId\": \"AutoML_c94e38b8-3c3a-4db6-a8f3-be5362cb1758_ModelExplain\"}, \"tags\": {\"model_explain_run\": \"best_run\", \"_aml_system_automl_run_workspace_id\": \"edbc03e8-cb9c-4e13-b805-14a9472da177\", \"_aml_system_azureml.automlComponent\": \"AutoML\", \"pipeline_id\": \"\", \"score\": \"\", \"predicted_cost\": \"\", \"fit_time\": \"\", \"training_percent\": \"\", \"iteration\": \"\", \"run_preprocessor\": \"\", \"run_algorithm\": \"\", \"_aml_system_azureml.automl_early_exit_message\": \"Experiment timeout reached, hence experiment stopped. Current experiment timeout: 1 hour(s) 12 minute(s)\", \"automl_best_child_run_id\": \"AutoML_c94e38b8-3c3a-4db6-a8f3-be5362cb1758_20\", \"model_explain_best_run_child_id\": \"AutoML_c94e38b8-3c3a-4db6-a8f3-be5362cb1758_20\"}, \"end_time_utc\": \"2022-07-05T14:00:34.005152Z\", \"status\": \"Completed\", \"log_files\": {}, \"log_groups\": [], \"run_duration\": \"1:33:03\", \"run_number\": \"1657024050\", \"run_queued_details\": {\"status\": \"Completed\", \"details\": null}}, \"child_runs\": [{\"run_id\": \"AutoML_c94e38b8-3c3a-4db6-a8f3-be5362cb1758_setup\", \"run_number\": 1657024063, \"metric\": null, \"status\": \"Completed\", \"run_type\": \"azureml.scriptrun\", \"training_percent\": null, \"start_time\": \"2022-07-05T12:33:49.361697Z\", \"end_time\": \"2022-07-05T12:43:35.55914Z\", \"created_time\": \"2022-07-05T12:27:43.81764Z\", \"created_time_dt\": \"2022-07-05T12:27:43.81764Z\", \"duration\": \"0:15:51\", \"iteration\": null, \"goal\": null, \"run_name\": \"Completed\", \"run_properties\": null}, {\"run_id\": \"AutoML_c94e38b8-3c3a-4db6-a8f3-be5362cb1758_0\", \"run_number\": 1657025017, \"metric\": null, \"status\": \"Completed\", \"run_type\": null, \"training_percent\": \"100\", \"start_time\": \"2022-07-05T12:44:10.161762Z\", \"end_time\": \"2022-07-05T12:45:15.497845Z\", \"created_time\": \"2022-07-05T12:43:37.456972Z\", \"created_time_dt\": \"2022-07-05T12:43:37.456972Z\", \"duration\": \"0:01:38\", \"iteration\": \"0\", \"goal\": \"normalized_mean_absolute_error_min\", \"run_name\": \"Naive\", \"run_properties\": \"timeseries_param_dict={'time_column_name': 'week_start', 'grain_column_names': ['store', 'brand'], 'drop_column_names': [], 'overwrite_columns': True, 'dropna': False, 'transform_dictionary': {'min': '_automl_target_col', 'max': '_automl_target_col', 'mean': '_automl_target_col'}, 'max_horizon': 3, 'origin_time_colname': 'origin', 'country_or_region': None, 'n_cross_validations': 3, 'short_series_handling': True, 'max_cores_per_iteration': 1, 'feature_lags': None, 'target_aggregation_function': None, 'cv_step_size': 1, 'seasonality': 4, 'use_stl': None, 'freq': 'W-THU', 'short_series_handling_configuration': 'auto', 'target_lags': [0], 'target_rolling_window_size': 0, 'arimax_raw_columns': ['brand', 'feat', 'price8', 'price2', 'price3', 'week', 'price7', 'week_start', 'profit', 'price1', 'price4', 'price9', 'deal', 'price11', 'constant', 'price6', 'price10', 'price5', 'store']}\", \"primary_metric\": 0.12678031, \"best_metric\": 0.12678031}, {\"run_id\": \"AutoML_c94e38b8-3c3a-4db6-a8f3-be5362cb1758_2\", \"run_number\": 1657025019, \"metric\": null, \"status\": \"Completed\", \"run_type\": null, \"training_percent\": \"100\", \"start_time\": \"2022-07-05T12:46:21.772801Z\", \"end_time\": \"2022-07-05T12:47:25.657903Z\", \"created_time\": \"2022-07-05T12:43:39.140381Z\", \"created_time_dt\": \"2022-07-05T12:43:39.140381Z\", \"duration\": \"0:03:46\", \"iteration\": \"2\", \"goal\": \"normalized_mean_absolute_error_min\", \"run_name\": \"Average\", \"run_properties\": \"timeseries_param_dict={'time_column_name': 'week_start', 'grain_column_names': ['store', 'brand'], 'drop_column_names': [], 'overwrite_columns': True, 'dropna': False, 'transform_dictionary': {'min': '_automl_target_col', 'max': '_automl_target_col', 'mean': '_automl_target_col'}, 'max_horizon': 3, 'origin_time_colname': 'origin', 'country_or_region': None, 'n_cross_validations': 3, 'short_series_handling': True, 'max_cores_per_iteration': 1, 'feature_lags': None, 'target_aggregation_function': None, 'cv_step_size': 1, 'seasonality': 4, 'use_stl': None, 'freq': 'W-THU', 'short_series_handling_configuration': 'auto', 'target_lags': [0], 'target_rolling_window_size': 0, 'arimax_raw_columns': ['brand', 'feat', 'price8', 'price2', 'price3', 'week', 'price7', 'week_start', 'profit', 'price1', 'price4', 'price9', 'deal', 'price11', 'constant', 'price6', 'price10', 'price5', 'store']}\", \"primary_metric\": 0.11565582, \"best_metric\": 0.11565582}, {\"run_id\": \"AutoML_c94e38b8-3c3a-4db6-a8f3-be5362cb1758_5\", \"run_number\": 1657025020, \"metric\": null, \"status\": \"Canceled\", \"run_type\": null, \"training_percent\": \"100\", \"start_time\": \"2022-07-05T12:43:40.2342Z\", \"end_time\": \"2022-07-05T13:57:36.901109Z\", \"created_time\": \"2022-07-05T12:43:40.2342Z\", \"created_time_dt\": \"2022-07-05T12:43:40.2342Z\", \"duration\": \"1:13:56\", \"iteration\": \"5\", \"goal\": null, \"run_name\": \"Canceled\", \"run_properties\": null}, {\"run_id\": \"AutoML_c94e38b8-3c3a-4db6-a8f3-be5362cb1758_8\", \"run_number\": 1657025021, \"metric\": null, \"status\": \"Canceled\", \"run_type\": null, \"training_percent\": \"100\", \"start_time\": \"2022-07-05T12:43:41.302472Z\", \"end_time\": \"2022-07-05T13:57:36.844247Z\", \"created_time\": \"2022-07-05T12:43:41.302472Z\", \"created_time_dt\": \"2022-07-05T12:43:41.302472Z\", \"duration\": \"1:13:55\", \"iteration\": \"8\", \"goal\": null, \"run_name\": \"Canceled\", \"run_properties\": null}, {\"run_id\": \"AutoML_c94e38b8-3c3a-4db6-a8f3-be5362cb1758_10\", \"run_number\": 1657025022, \"metric\": null, \"status\": \"Canceled\", \"run_type\": null, \"training_percent\": \"100\", \"start_time\": \"2022-07-05T12:43:42.036798Z\", \"end_time\": \"2022-07-05T13:57:36.568132Z\", \"created_time\": \"2022-07-05T12:43:42.036798Z\", \"created_time_dt\": \"2022-07-05T12:43:42.036798Z\", \"duration\": \"1:13:54\", \"iteration\": \"10\", \"goal\": null, \"run_name\": \"Canceled\", \"run_properties\": null}, {\"run_id\": \"AutoML_c94e38b8-3c3a-4db6-a8f3-be5362cb1758_13\", \"run_number\": 1657025023, \"metric\": null, \"status\": \"Canceled\", \"run_type\": null, \"training_percent\": \"100\", \"start_time\": \"2022-07-05T12:43:43.106407Z\", \"end_time\": \"2022-07-05T13:57:36.506858Z\", \"created_time\": \"2022-07-05T12:43:43.106407Z\", \"created_time_dt\": \"2022-07-05T12:43:43.106407Z\", \"duration\": \"1:13:53\", \"iteration\": \"13\", \"goal\": null, \"run_name\": \"Canceled\", \"run_properties\": null}, {\"run_id\": \"AutoML_c94e38b8-3c3a-4db6-a8f3-be5362cb1758_16\", \"run_number\": 1657025024, \"metric\": null, \"status\": \"Canceled\", \"run_type\": null, \"training_percent\": \"100\", \"start_time\": \"2022-07-05T12:43:44.16303Z\", \"end_time\": \"2022-07-05T13:57:36.95622Z\", \"created_time\": \"2022-07-05T12:43:44.16303Z\", \"created_time_dt\": \"2022-07-05T12:43:44.16303Z\", \"duration\": \"1:13:52\", \"iteration\": \"16\", \"goal\": null, \"run_name\": \"Canceled\", \"run_properties\": null}, {\"run_id\": \"AutoML_c94e38b8-3c3a-4db6-a8f3-be5362cb1758_19\", \"run_number\": 1657025025, \"metric\": null, \"status\": \"Canceled\", \"run_type\": null, \"training_percent\": \"100\", \"start_time\": \"2022-07-05T12:43:45.259945Z\", \"end_time\": \"2022-07-05T13:57:37.017651Z\", \"created_time\": \"2022-07-05T12:43:45.259945Z\", \"created_time_dt\": \"2022-07-05T12:43:45.259945Z\", \"duration\": \"1:13:51\", \"iteration\": \"19\", \"goal\": null, \"run_name\": \"Canceled\", \"run_properties\": null}, {\"run_id\": \"AutoML_c94e38b8-3c3a-4db6-a8f3-be5362cb1758_20\", \"run_number\": 1657029458, \"metric\": null, \"status\": \"Completed\", \"run_type\": \"azureml.scriptrun\", \"training_percent\": \"100\", \"start_time\": \"2022-07-05T13:59:44.216123Z\", \"end_time\": \"2022-07-05T14:00:32.776726Z\", \"created_time\": \"2022-07-05T13:57:38.804674Z\", \"created_time_dt\": \"2022-07-05T13:57:38.804674Z\", \"duration\": \"0:02:53\", \"iteration\": \"20\", \"goal\": \"normalized_mean_absolute_error_min\", \"run_name\": \"VotingEnsemble\", \"run_properties\": \"estimators=[('2', Pipeline(memory=None, steps=[('average', Average(timeseries_param_dict={'time_column_name': 'week_start', 'grain_column_names': ['store', 'brand'], 'drop_column_names': [], 'overwrite_columns': True, 'dropna': False, 'transform_dictionary': {'min': '_automl_target_col', 'max': '_automl_target_col', 'mean': '_automl_target_col'}, 'max_horizon': 3, 'origin_time_colname': 'origin', 'country_or_region': None, 'n_cross_validations': 3, 'short_series_handling': True, 'max_cores_per_iteration': 1, 'feature_lags': None, 'target_aggregation_function': None, 'cv_step_size': 1, 'seasonality': 4, 'use_stl': None, 'freq': 'W-THU', 'short_series_handling_configuration': 'auto', 'target_lags': [0], 'target_rolling_window_size': 0, 'arimax_raw_columns': ['brand', 'feat', 'price8', 'price2', 'price3', 'week', 'price7', 'week_start', 'profit', 'price1', 'price4', 'price9', 'deal', 'price11', 'constant', 'price6', 'price10', 'price5', 'store']}\", \"primary_metric\": 0.10960287, \"best_metric\": 0.10960287}], \"children_metrics\": {\"categories\": [0], \"series\": {\"normalized_mean_absolute_error\": [{\"categories\": [\"0\", \"2\", \"20\"], \"mode\": \"markers\", \"name\": \"normalized_mean_absolute_error\", \"stepped\": false, \"type\": \"scatter\", \"data\": [0.12678030771739876, 0.1156558151044425, 0.10960286633862626]}, {\"categories\": [\"0\", \"2\", \"20\"], \"mode\": \"lines\", \"name\": \"normalized_mean_absolute_error_min\", \"stepped\": true, \"type\": \"scatter\", \"data\": [0.12678030771739876, 0.1156558151044425, 0.10960286633862626]}], \"mean_absolute_error\": [{\"categories\": [\"0\", \"2\", \"20\"], \"mode\": \"markers\", \"name\": \"mean_absolute_error\", \"stepped\": false, \"type\": \"scatter\", \"data\": [11524.74767103605, 9811.18891647997, 9682.832564720467]}, {\"categories\": [\"0\", \"2\", \"20\"], \"mode\": \"lines\", \"name\": \"mean_absolute_error_min\", \"stepped\": true, \"type\": \"scatter\", \"data\": [11524.74767103605, 9811.18891647997, 9682.832564720467]}], \"r2_score\": [{\"categories\": [\"0\", \"2\", \"20\"], \"mode\": \"markers\", \"name\": \"r2_score\", \"stepped\": false, \"type\": \"scatter\", \"data\": [-0.1333877713137345, 0.09843796656412347, 0.07548594845059264]}, {\"categories\": [\"0\", \"2\", \"20\"], \"mode\": \"lines\", \"name\": \"r2_score_max\", \"stepped\": true, \"type\": \"scatter\", \"data\": [-0.1333877713137345, 0.09843796656412347, 0.09843796656412347]}], \"normalized_median_absolute_error\": [{\"categories\": [\"0\", \"2\", \"20\"], \"mode\": \"markers\", \"name\": \"normalized_median_absolute_error\", \"stepped\": false, \"type\": \"scatter\", \"data\": [0.09606394036351414, 0.08009969572644288, 0.07499737912954695]}, {\"categories\": [\"0\", \"2\", \"20\"], \"mode\": \"lines\", \"name\": \"normalized_median_absolute_error_min\", \"stepped\": true, \"type\": \"scatter\", \"data\": [0.09606394036351414, 0.08009969572644288, 0.07499737912954695]}], \"normalized_root_mean_squared_error\": [{\"categories\": [\"0\", \"2\", \"20\"], \"mode\": \"markers\", \"name\": \"normalized_root_mean_squared_error\", \"stepped\": false, \"type\": \"scatter\", \"data\": [0.1586979484542713, 0.14710415810660735, 0.14071916098297987]}, {\"categories\": [\"0\", \"2\", \"20\"], \"mode\": \"lines\", \"name\": \"normalized_root_mean_squared_error_min\", \"stepped\": true, \"type\": \"scatter\", \"data\": [0.1586979484542713, 0.14710415810660735, 0.14071916098297987]}], \"normalized_root_mean_squared_log_error\": [{\"categories\": [\"0\", \"2\", \"20\"], \"mode\": \"markers\", \"name\": \"normalized_root_mean_squared_log_error\", \"stepped\": false, \"type\": \"scatter\", \"data\": [0.2050139381438381, 0.20596881070198747, 0.1945550504526623]}, {\"categories\": [\"0\", \"2\", \"20\"], \"mode\": \"lines\", \"name\": \"normalized_root_mean_squared_log_error_min\", \"stepped\": true, \"type\": \"scatter\", \"data\": [0.2050139381438381, 0.2050139381438381, 0.1945550504526623]}], \"root_mean_squared_error\": [{\"categories\": [\"0\", \"2\", \"20\"], \"mode\": \"markers\", \"name\": \"root_mean_squared_error\", \"stepped\": false, \"type\": \"scatter\", \"data\": [35345.486958250964, 31528.23393702837, 31927.000301509164]}, {\"categories\": [\"0\", \"2\", \"20\"], \"mode\": \"lines\", \"name\": \"root_mean_squared_error_min\", \"stepped\": true, \"type\": \"scatter\", \"data\": [35345.486958250964, 31528.23393702837, 31528.23393702837]}], \"root_mean_squared_log_error\": [{\"categories\": [\"0\", \"2\", \"20\"], \"mode\": \"markers\", \"name\": \"root_mean_squared_log_error\", \"stepped\": false, \"type\": \"scatter\", \"data\": [1.0171135861949183, 0.8970355998276146, 0.8695950502106419]}, {\"categories\": [\"0\", \"2\", \"20\"], \"mode\": \"lines\", \"name\": \"root_mean_squared_log_error_min\", \"stepped\": true, \"type\": \"scatter\", \"data\": [1.0171135861949183, 0.8970355998276146, 0.8695950502106419]}], \"spearman_correlation\": [{\"categories\": [\"0\", \"2\", \"20\"], \"mode\": \"markers\", \"name\": \"spearman_correlation\", \"stepped\": false, \"type\": \"scatter\", \"data\": [0.7416909849474553, 0.7226541786350636, 0.7565418928644784]}, {\"categories\": [\"0\", \"2\", \"20\"], \"mode\": \"lines\", \"name\": \"spearman_correlation_max\", \"stepped\": true, \"type\": \"scatter\", \"data\": [0.7416909849474553, 0.7416909849474553, 0.7565418928644784]}], \"median_absolute_error\": [{\"categories\": [\"0\", \"2\", \"20\"], \"mode\": \"markers\", \"name\": \"median_absolute_error\", \"stepped\": false, \"type\": \"scatter\", \"data\": [1802.6666666666667, 2499.5546787636554, 2263.019157560532]}, {\"categories\": [\"0\", \"2\", \"20\"], \"mode\": \"lines\", \"name\": \"median_absolute_error_min\", \"stepped\": true, \"type\": \"scatter\", \"data\": [1802.6666666666667, 1802.6666666666667, 1802.6666666666667]}], \"explained_variance\": [{\"categories\": [\"0\", \"2\", \"20\"], \"mode\": \"markers\", \"name\": \"explained_variance\", \"stepped\": false, \"type\": \"scatter\", \"data\": [-0.12550929272463596, 0.11232248999688173, 0.08800651717195869]}, {\"categories\": [\"0\", \"2\", \"20\"], \"mode\": \"lines\", \"name\": \"explained_variance_max\", \"stepped\": true, \"type\": \"scatter\", \"data\": [-0.12550929272463596, 0.11232248999688173, 0.11232248999688173]}], \"mean_absolute_percentage_error\": [{\"categories\": [\"0\", \"2\", \"20\"], \"mode\": \"markers\", \"name\": \"mean_absolute_percentage_error\", \"stepped\": false, \"type\": \"scatter\", \"data\": [80.52533250076628, 105.31754689885781, 95.58172663345624]}, {\"categories\": [\"0\", \"2\", \"20\"], \"mode\": \"lines\", \"name\": \"mean_absolute_percentage_error_min\", \"stepped\": true, \"type\": \"scatter\", \"data\": [80.52533250076628, 80.52533250076628, 80.52533250076628]}]}, \"metricName\": null, \"primaryMetricName\": \"normalized_mean_absolute_error\", \"showLegend\": false}, \"run_metrics\": [{\"name\": \"experiment_status\", \"run_id\": \"AutoML_c94e38b8-3c3a-4db6-a8f3-be5362cb1758\", \"categories\": [0, 1, 2, 3, 4, 5, 6, 7, 8, 9, 10, 11, 12, 13, 14, 15, 16, 17], \"series\": [{\"data\": [\"DatasetFeaturization\", \"DatasetFeaturizationCompleted\", \"DatasetCrossValidationSplit\", \"DatasetFeaturization\", \"DatasetFeaturizationCompleted\", \"DatasetFeaturization\", \"DatasetFeaturizationCompleted\", \"DatasetFeaturization\", \"DatasetFeaturizationCompleted\", \"ModelSelection\", \"BestRunExplainModel\", \"ModelExplanationDataSetSetup\", \"PickSurrogateModel\", \"EngineeredFeatureExplanations\", \"EngineeredFeatureExplanations\", \"RawFeaturesExplanations\", \"RawFeaturesExplanations\", \"BestRunExplainModel\"]}]}, {\"name\": \"experiment_status_description\", \"run_id\": \"AutoML_c94e38b8-3c3a-4db6-a8f3-be5362cb1758\", \"categories\": [0, 1, 2, 3, 4, 5, 6, 7, 8, 9, 10, 11, 12, 13, 14, 15, 16, 17], \"series\": [{\"data\": [\"Beginning to featurize the dataset.\", \"Completed featurizing the dataset.\", \"Generating individually featurized CV splits.\", \"Beginning to featurize the CV split.\", \"Completed featurizing the CV split.\", \"Beginning to featurize the CV split.\", \"Completed featurizing the CV split.\", \"Beginning to featurize the CV split.\", \"Completed featurizing the CV split.\", \"Beginning model selection.\", \"Best run model explanations started\", \"Model explanations data setup completed\", \"Choosing LightGBM as the surrogate model for explanations\", \"Computation of engineered features started\", \"Computation of engineered features completed\", \"Computation of raw features started\", \"Computation of raw features completed\", \"Best run model explanations completed\"]}]}, {\"name\": \"normalized_mean_absolute_error\", \"run_id\": \"AutoML_c94e38b8-3c3a-4db6-a8f3-be5362cb1758\", \"categories\": [0], \"series\": [{\"data\": [0.10960286633862626]}]}, {\"name\": \"root_mean_squared_log_error\", \"run_id\": \"AutoML_c94e38b8-3c3a-4db6-a8f3-be5362cb1758\", \"categories\": [0], \"series\": [{\"data\": [0.8695950502106419]}]}, {\"name\": \"normalized_root_mean_squared_error\", \"run_id\": \"AutoML_c94e38b8-3c3a-4db6-a8f3-be5362cb1758\", \"categories\": [0], \"series\": [{\"data\": [0.14071916098297987]}]}, {\"name\": \"spearman_correlation\", \"run_id\": \"AutoML_c94e38b8-3c3a-4db6-a8f3-be5362cb1758\", \"categories\": [0], \"series\": [{\"data\": [0.7565418928644784]}]}, {\"name\": \"root_mean_squared_error\", \"run_id\": \"AutoML_c94e38b8-3c3a-4db6-a8f3-be5362cb1758\", \"categories\": [0], \"series\": [{\"data\": [31927.000301509164]}]}, {\"name\": \"normalized_median_absolute_error\", \"run_id\": \"AutoML_c94e38b8-3c3a-4db6-a8f3-be5362cb1758\", \"categories\": [0], \"series\": [{\"data\": [0.07499737912954695]}]}, {\"name\": \"mean_absolute_error\", \"run_id\": \"AutoML_c94e38b8-3c3a-4db6-a8f3-be5362cb1758\", \"categories\": [0], \"series\": [{\"data\": [9682.832564720467]}]}, {\"name\": \"median_absolute_error\", \"run_id\": \"AutoML_c94e38b8-3c3a-4db6-a8f3-be5362cb1758\", \"categories\": [0], \"series\": [{\"data\": [2263.019157560532]}]}, {\"name\": \"mean_absolute_percentage_error\", \"run_id\": \"AutoML_c94e38b8-3c3a-4db6-a8f3-be5362cb1758\", \"categories\": [0], \"series\": [{\"data\": [95.58172663345624]}]}, {\"name\": \"normalized_root_mean_squared_log_error\", \"run_id\": \"AutoML_c94e38b8-3c3a-4db6-a8f3-be5362cb1758\", \"categories\": [0], \"series\": [{\"data\": [0.1945550504526623]}]}, {\"name\": \"explained_variance\", \"run_id\": \"AutoML_c94e38b8-3c3a-4db6-a8f3-be5362cb1758\", \"categories\": [0], \"series\": [{\"data\": [0.08800651717195869]}]}, {\"name\": \"r2_score\", \"run_id\": \"AutoML_c94e38b8-3c3a-4db6-a8f3-be5362cb1758\", \"categories\": [0], \"series\": [{\"data\": [0.07548594845059264]}]}], \"run_logs\": \"\\nRun is completed.\", \"graph\": {}, \"widget_settings\": {\"childWidgetDisplay\": \"popup\", \"send_telemetry\": false, \"log_level\": \"INFO\", \"sdk_version\": \"1.42.0\"}, \"loading\": false}"
     },
     "metadata": {},
     "output_type": "display_data"
    }
   ],
   "source": [
    "RunDetails(remote_run).show()"
   ]
  },
  {
   "cell_type": "code",
   "execution_count": 13,
   "metadata": {},
   "outputs": [
    {
     "data": {
      "text/plain": [
       "{'runId': 'AutoML_c94e38b8-3c3a-4db6-a8f3-be5362cb1758',\n",
       " 'target': 'canina-cluster',\n",
       " 'status': 'Completed',\n",
       " 'startTimeUtc': '2022-07-05T12:27:45.291362Z',\n",
       " 'endTimeUtc': '2022-07-05T14:00:34.005152Z',\n",
       " 'services': {},\n",
       " 'warnings': [{'source': 'JasmineService',\n",
       "   'message': 'Experiment timeout reached, hence experiment stopped. Current experiment timeout: 1 hour(s) 12 minute(s)'}],\n",
       " 'properties': {'num_iterations': '1000',\n",
       "  'training_type': 'TrainFull',\n",
       "  'acquisition_function': 'EI',\n",
       "  'primary_metric': 'normalized_mean_absolute_error',\n",
       "  'train_split': '0',\n",
       "  'acquisition_parameter': '0',\n",
       "  'num_cross_validation': '3',\n",
       "  'target': 'canina-cluster',\n",
       "  'AMLSettingsJsonString': '{\"path\":null,\"name\":\"automl-forecast\",\"subscription_id\":\"9a7511b8-150f-4a58-8528-3e7d50216c31\",\"resource_group\":\"aml-quickstarts-200268\",\"workspace_name\":\"quick-starts-ws-200268\",\"region\":\"southcentralus\",\"compute_target\":\"canina-cluster\",\"spark_service\":null,\"azure_service\":\"remote\",\"many_models\":false,\"pipeline_fetch_max_batch_size\":1,\"enable_batch_run\":true,\"enable_run_restructure\":false,\"start_auxiliary_runs_before_parent_complete\":false,\"enable_code_generation\":true,\"iterations\":1000,\"primary_metric\":\"normalized_mean_absolute_error\",\"task_type\":\"regression\",\"positive_label\":null,\"data_script\":null,\"test_size\":0.0,\"test_include_predictions_only\":false,\"validation_size\":0.0,\"n_cross_validations\":3,\"y_min\":null,\"y_max\":null,\"num_classes\":null,\"featurization\":\"auto\",\"_ignore_package_version_incompatibilities\":false,\"is_timeseries\":true,\"max_cores_per_iteration\":1,\"max_concurrent_iterations\":1,\"iteration_timeout_minutes\":null,\"mem_in_mb\":null,\"enforce_time_on_windows\":false,\"experiment_timeout_minutes\":72,\"experiment_exit_score\":null,\"partition_column_names\":null,\"whitelist_models\":null,\"blacklist_algos\":[\"TensorFlowDNN\",\"TensorFlowLinearRegressor\"],\"supported_models\":[\"GradientBoosting\",\"ExtremeRandomTrees\",\"TCNForecaster\",\"XGBoostRegressor\",\"Prophet\",\"DecisionTree\",\"AutoArima\",\"KNN\",\"LightGBM\",\"RandomForest\",\"TensorFlowLinearRegressor\",\"Arimax\",\"TabnetRegressor\",\"ExponentialSmoothing\",\"Naive\",\"SeasonalNaive\",\"LassoLars\",\"Average\",\"SeasonalAverage\",\"TensorFlowDNN\",\"SGD\",\"ElasticNet\"],\"private_models\":[],\"auto_blacklist\":true,\"blacklist_samples_reached\":false,\"exclude_nan_labels\":true,\"verbosity\":20,\"_debug_log\":\"azureml_automl.log\",\"show_warnings\":false,\"model_explainability\":true,\"service_url\":null,\"sdk_url\":null,\"sdk_packages\":null,\"enable_onnx_compatible_models\":false,\"enable_split_onnx_featurizer_estimator_models\":false,\"vm_type\":\"STANDARD_D2_V2\",\"telemetry_verbosity\":20,\"send_telemetry\":true,\"enable_dnn\":false,\"scenario\":\"SDK-1.13.0\",\"environment_label\":null,\"save_mlflow\":false,\"enable_categorical_indicators\":false,\"force_text_dnn\":false,\"enable_feature_sweeping\":false,\"time_column_name\":\"week_start\",\"grain_column_names\":[\"store\",\"brand\"],\"drop_column_names\":[],\"max_horizon\":3,\"dropna\":false,\"overwrite_columns\":true,\"transform_dictionary\":{\"min\":\"_automl_target_col\",\"max\":\"_automl_target_col\",\"mean\":\"_automl_target_col\"},\"window_size\":null,\"country_or_region\":null,\"lags\":null,\"feature_lags\":null,\"seasonality\":\"auto\",\"use_stl\":null,\"short_series_handling\":true,\"freq\":null,\"short_series_handling_configuration\":\"auto\",\"target_aggregation_function\":null,\"cv_step_size\":1,\"has_multiple_series\":true,\"enable_early_stopping\":true,\"early_stopping_n_iters\":10,\"arguments\":null,\"dataset_id\":\"3f3cde31-32a6-4bd8-b6ef-34c603703553\",\"hyperdrive_config\":null,\"validation_dataset_id\":null,\"run_source\":null,\"metrics\":null,\"enable_metric_confidence\":false,\"enable_ensembling\":true,\"enable_stack_ensembling\":false,\"ensemble_iterations\":15,\"enable_tf\":false,\"enable_subsampling\":false,\"subsample_seed\":null,\"enable_nimbusml\":false,\"enable_streaming\":false,\"force_streaming\":false,\"track_child_runs\":true,\"allowed_private_models\":[],\"label_column_name\":\"move\",\"weight_column_name\":null,\"cv_split_column_names\":null,\"enable_local_managed\":false,\"_local_managed_run_id\":null,\"cost_mode\":1,\"lag_length\":0,\"metric_operation\":\"minimize\",\"preprocess\":true}',\n",
       "  'DataPrepJsonString': '{\\\\\"training_data\\\\\": {\\\\\"datasetId\\\\\": \\\\\"3f3cde31-32a6-4bd8-b6ef-34c603703553\\\\\"}, \\\\\"datasets\\\\\": 0}',\n",
       "  'EnableSubsampling': 'False',\n",
       "  'runTemplate': 'AutoML',\n",
       "  'azureml.runsource': 'automl',\n",
       "  'display_task_type': 'forecasting',\n",
       "  'dependencies_versions': '{\"azureml-widgets\": \"1.42.0\", \"azureml-training-tabular\": \"1.42.0\", \"azureml-train\": \"1.42.0\", \"azureml-train-restclients-hyperdrive\": \"1.42.0\", \"azureml-train-core\": \"1.42.0\", \"azureml-train-automl\": \"1.42.0\", \"azureml-train-automl-runtime\": \"1.42.0\", \"azureml-train-automl-client\": \"1.42.0\", \"azureml-tensorboard\": \"1.42.0\", \"azureml-telemetry\": \"1.42.0\", \"azureml-sdk\": \"1.42.0\", \"azureml-samples\": \"0+unknown\", \"azureml-responsibleai\": \"1.42.0\", \"azureml-pipeline\": \"1.42.0\", \"azureml-pipeline-steps\": \"1.42.0\", \"azureml-pipeline-core\": \"1.42.0\", \"azureml-opendatasets\": \"1.42.0\", \"azureml-mlflow\": \"1.42.0\", \"azureml-interpret\": \"1.42.0\", \"azureml-inference-server-http\": \"0.4.13\", \"azureml-explain-model\": \"1.42.0\", \"azureml-defaults\": \"1.42.0\", \"azureml-dataset-runtime\": \"1.42.0\", \"azureml-dataprep\": \"4.0.1\", \"azureml-dataprep-rslex\": \"2.6.1\", \"azureml-dataprep-native\": \"38.0.0\", \"azureml-datadrift\": \"1.42.0\", \"azureml-core\": \"1.42.0\", \"azureml-contrib-services\": \"1.42.0\", \"azureml-contrib-server\": \"1.42.0\", \"azureml-contrib-reinforcementlearning\": \"1.42.0\", \"azureml-contrib-pipeline-steps\": \"1.42.0\", \"azureml-contrib-notebook\": \"1.42.0\", \"azureml-contrib-fairness\": \"1.42.0\", \"azureml-contrib-dataset\": \"1.42.0\", \"azureml-contrib-automl-pipeline-steps\": \"1.42.0\", \"azureml-cli-common\": \"1.42.0\", \"azureml-automl-runtime\": \"1.42.0\", \"azureml-automl-dnn-nlp\": \"1.42.0\", \"azureml-automl-core\": \"1.42.0\", \"azureml-accel-models\": \"1.42.0\"}',\n",
       "  '_aml_system_scenario_identification': 'Remote.Parent',\n",
       "  'ClientType': 'SDK',\n",
       "  'environment_cpu_name': 'AzureML-AutoML',\n",
       "  'environment_cpu_label': 'prod',\n",
       "  'environment_gpu_name': 'AzureML-AutoML-GPU',\n",
       "  'environment_gpu_label': 'prod',\n",
       "  'root_attribution': 'automl',\n",
       "  'attribution': 'AutoML',\n",
       "  'Orchestrator': 'AutoML',\n",
       "  'CancelUri': 'https://southcentralus.api.azureml.ms/jasmine/v1.0/subscriptions/9a7511b8-150f-4a58-8528-3e7d50216c31/resourceGroups/aml-quickstarts-200268/providers/Microsoft.MachineLearningServices/workspaces/quick-starts-ws-200268/experimentids/3560655b-dfde-45a7-bfce-1cab8e7ce2df/cancel/AutoML_c94e38b8-3c3a-4db6-a8f3-be5362cb1758',\n",
       "  'ClientSdkVersion': '1.42.0.post1',\n",
       "  'snapshotId': '00000000-0000-0000-0000-000000000000',\n",
       "  'SetupRunId': 'AutoML_c94e38b8-3c3a-4db6-a8f3-be5362cb1758_setup',\n",
       "  'SetupRunContainerId': 'dcid.AutoML_c94e38b8-3c3a-4db6-a8f3-be5362cb1758_setup',\n",
       "  'forecasting_target_lags': '[0]',\n",
       "  'forecasting_target_rolling_window_size': '0',\n",
       "  'forecasting_max_horizon': '3',\n",
       "  'forecasting_freq': 'W-THU',\n",
       "  'ProblemInfoJsonString': '{\"dataset_num_categorical\": 0, \"is_sparse\": false, \"subsampling\": false, \"has_extra_col\": true, \"dataset_classes\": 2253, \"dataset_features\": 41, \"dataset_samples\": 86966, \"single_frequency_class_detected\": false, \"series_column_count\": 2, \"series_count\": 913, \"series_len_min\": 62, \"series_len_max\": 96, \"series_len_avg\": 92.19277108433735, \"series_len_perc_25\": 91.0, \"series_len_perc_50\": 93.0, \"series_len_perc_75\": 95.0}',\n",
       "  'ModelExplainRunId': 'AutoML_c94e38b8-3c3a-4db6-a8f3-be5362cb1758_ModelExplain'},\n",
       " 'inputDatasets': [{'dataset': {'id': '3f3cde31-32a6-4bd8-b6ef-34c603703553'}, 'consumptionDetails': {'type': 'RunInput', 'inputName': 'training_data', 'mechanism': 'Direct'}}],\n",
       " 'outputDatasets': [],\n",
       " 'logFiles': {},\n",
       " 'submittedBy': 'ODL_User 200268'}"
      ]
     },
     "execution_count": 13,
     "metadata": {},
     "output_type": "execute_result"
    }
   ],
   "source": [
    "remote_run.wait_for_completion(show_output=False)"
   ]
  },
  {
   "cell_type": "markdown",
   "metadata": {},
   "source": [
    "## Best Model\n",
    "\n",
    "TODO: In the cell below, get the best model from the automl experiments and display all the properties of the model.\n",
    "\n"
   ]
  },
  {
   "cell_type": "code",
   "execution_count": 14,
   "metadata": {
    "gather": {
     "logged": 1598431426111
    },
    "jupyter": {
     "outputs_hidden": false,
     "source_hidden": false
    },
    "nteract": {
     "transient": {
      "deleting": false
     }
    }
   },
   "outputs": [],
   "source": [
    "# Get the best model\n",
    "best_run_automl, best_automl_model = remote_run.get_output()"
   ]
  },
  {
   "cell_type": "code",
   "execution_count": 15,
   "metadata": {},
   "outputs": [
    {
     "data": {
      "text/plain": [
       "['automl_driver.py',\n",
       " 'explanation/84baa966/eval_data_viz.interpret.json',\n",
       " 'explanation/84baa966/expected_values.interpret.json',\n",
       " 'explanation/84baa966/features.interpret.json',\n",
       " 'explanation/84baa966/global_names/0.interpret.json',\n",
       " 'explanation/84baa966/global_rank/0.interpret.json',\n",
       " 'explanation/84baa966/global_values/0.interpret.json',\n",
       " 'explanation/84baa966/local_importance_values.interpret.json',\n",
       " 'explanation/84baa966/rich_metadata.interpret.json',\n",
       " 'explanation/84baa966/visualization_dict.interpret.json',\n",
       " 'explanation/84baa966/ys_pred_viz.interpret.json',\n",
       " 'explanation/a40fea6f/expected_values.interpret.json',\n",
       " 'explanation/a40fea6f/features.interpret.json',\n",
       " 'explanation/a40fea6f/global_names/0.interpret.json',\n",
       " 'explanation/a40fea6f/global_rank/0.interpret.json',\n",
       " 'explanation/a40fea6f/global_values/0.interpret.json',\n",
       " 'explanation/a40fea6f/local_importance_values.interpret.json',\n",
       " 'explanation/a40fea6f/rich_metadata.interpret.json',\n",
       " 'explanation/a40fea6f/visualization_dict.interpret.json',\n",
       " 'explanation/a40fea6f/ys_pred_viz.interpret.json',\n",
       " 'forecast_table',\n",
       " 'logs/azureml/azureml_automl.log',\n",
       " 'outputs/conda_env_v_1_0_0.yml',\n",
       " 'outputs/engineered_feature_names.json',\n",
       " 'outputs/env_dependencies.json',\n",
       " 'outputs/featurization_summary.json',\n",
       " 'outputs/generated_code/conda_environment.yaml',\n",
       " 'outputs/generated_code/script.py',\n",
       " 'outputs/generated_code/script_run_notebook.ipynb',\n",
       " 'outputs/internal_cross_validated_models.pkl',\n",
       " 'outputs/model.pkl',\n",
       " 'outputs/pipeline_graph.json',\n",
       " 'outputs/run_id.txt',\n",
       " 'outputs/scoring_file_v_1_0_0.py',\n",
       " 'outputs/scoring_file_v_2_0_0.py',\n",
       " 'predicted_true',\n",
       " 'residuals',\n",
       " 'system_logs/cs_capability/cs-capability.log',\n",
       " 'system_logs/hosttools_capability/hosttools-capability.log',\n",
       " 'system_logs/lifecycler/execution-wrapper.log',\n",
       " 'system_logs/lifecycler/lifecycler.log',\n",
       " 'system_logs/lifecycler/vm-bootstrapper.log',\n",
       " 'system_logs/metrics_capability/metrics-capability.log',\n",
       " 'user_logs/std_log.txt']"
      ]
     },
     "execution_count": 15,
     "metadata": {},
     "output_type": "execute_result"
    }
   ],
   "source": [
    "# List all files of the best run\n",
    "# We will use it to download the model, the environment file and the scoring file\n",
    "\n",
    "best_run_automl.get_file_names()"
   ]
  },
  {
   "cell_type": "code",
   "execution_count": 16,
   "metadata": {},
   "outputs": [],
   "source": [
    "if \"outputs\" not in os.listdir():\n",
    "    os.mkdir(\"./outputs\")"
   ]
  },
  {
   "cell_type": "code",
   "execution_count": 17,
   "metadata": {},
   "outputs": [
    {
     "data": {
      "text/plain": [
       "['model.pkl']"
      ]
     },
     "execution_count": 17,
     "metadata": {},
     "output_type": "execute_result"
    }
   ],
   "source": [
    "# Download the best AutoML model\n",
    "joblib.dump(value = best_automl_model,\n",
    "           filename = 'model.pkl')"
   ]
  },
  {
   "cell_type": "code",
   "execution_count": 161,
   "metadata": {},
   "outputs": [
    {
     "data": {
      "text/plain": [
       "ForecastingPipelineWrapper(pipeline=Pipeline(memory=None,\n",
       "                                             steps=[('timeseriestransformer',\n",
       "                                                     TimeSeriesTransformer(country_or_region=None, drop_column_names=[], featurization_config=FeaturizationConfig(blocked_transformers=None, column_purposes=None, dataset_language=None, prediction_transform_type=None, transformer_params=None), force_time_index_features=Non...\n",
       "                                                     PreFittedSoftVotingRegressor(estimators=[('2', Pipeline(memory=None, steps=[('average', Average(timeseries_param_dict={'time_column_name': 'week_start', 'grain_column_names': ['store', 'brand'], 'drop_column_names': [], 'overwrite_columns': True, 'dropna': False, 'transform_dictionary': {'min': '_automl_target_col', 'max': '_automl_target_col', 'mean': '_automl_target_col'}, 'max_horizon': 3, 'origin_time_colname': 'origin', 'country_or_region': None, 'n_cross_validations': 3, 'short_series_handling': True, 'max_cores_per_iteration': 1, 'feature_lags': None, 'target_aggregation_function': None, 'cv_step_size': 1, 'seasonality': 4, 'use_stl': None, 'freq': 'W-THU', 'short_series_handling_configuration': 'auto', 'target_lags': [0], 'target_rolling_window_size': 0, 'arimax_raw_columns': ['brand', 'feat', 'price8', 'price2', 'price3', 'week', 'price7', 'week_start', 'profit', 'price1', 'price4', 'price9', 'deal', 'price11', 'constant', 'price6', 'price10', 'price5', 'store']}))], verbose=False)), ('0', Pipeline(memory=None, steps=[('naive', Naive(timeseries_param_dict={'time_column_name': 'week_start', 'grain_column_names': ['store', 'brand'], 'drop_column_names': [], 'overwrite_columns': True, 'dropna': False, 'transform_dictionary': {'min': '_automl_target_col', 'max': '_automl_target_col', 'mean': '_automl_target_col'}, 'max_horizon': 3, 'origin_time_colname': 'origin', 'country_or_region': None, 'n_cross_validations': 3, 'short_series_handling': True, 'max_cores_per_iteration': 1, 'feature_lags': None, 'target_aggregation_function': None, 'cv_step_size': 1, 'seasonality': 4, 'use_stl': None, 'freq': 'W-THU', 'short_series_handling_configuration': 'auto', 'target_lags': [0], 'target_rolling_window_size': 0, 'arimax_raw_columns': ['brand', 'feat', 'price8', 'price2', 'price3', 'week', 'price7', 'week_start', 'profit', 'price1', 'price4', 'price9', 'deal', 'price11', 'constant', 'price6', 'price10', 'price5', 'store']}))], verbose=False))], weights=[0.8, 0.2]))],\n",
       "                                             verbose=False),\n",
       "                           stddev=[31712.189081269706])"
      ]
     },
     "execution_count": 161,
     "metadata": {},
     "output_type": "execute_result"
    }
   ],
   "source": [
    "joblib.load('model.pkl')"
   ]
  },
  {
   "cell_type": "code",
   "execution_count": 18,
   "metadata": {},
   "outputs": [
    {
     "name": "stdout",
     "output_type": "stream",
     "text": [
      "mean_absolute_percentage_error: 95.58172663345624\n",
      "r2_score: 0.07548594845059264\n",
      "normalized_mean_absolute_error: 0.10960286633862626\n",
      "explained_variance: 0.08800651717195869\n",
      "median_absolute_error: 2263.019157560532\n",
      "root_mean_squared_error: 31927.000301509164\n",
      "normalized_root_mean_squared_error: 0.14071916098297987\n",
      "normalized_median_absolute_error: 0.07499737912954695\n",
      "mean_absolute_error: 9682.832564720467\n",
      "normalized_root_mean_squared_log_error: 0.1945550504526623\n",
      "spearman_correlation: 0.7565418928644784\n",
      "root_mean_squared_log_error: 0.8695950502106419\n",
      "predicted_true: aml://artifactId/ExperimentRun/dcid.AutoML_c94e38b8-3c3a-4db6-a8f3-be5362cb1758_20/predicted_true\n",
      "residuals: aml://artifactId/ExperimentRun/dcid.AutoML_c94e38b8-3c3a-4db6-a8f3-be5362cb1758_20/residuals\n",
      "forecast_table: aml://artifactId/ExperimentRun/dcid.AutoML_c94e38b8-3c3a-4db6-a8f3-be5362cb1758_20/forecast_table\n"
     ]
    }
   ],
   "source": [
    "run_metrics = best_run_automl.get_metrics()\n",
    "for m, val in run_metrics.items():\n",
    "    print(f\"{m}: {val}\")"
   ]
  },
  {
   "cell_type": "code",
   "execution_count": 19,
   "metadata": {},
   "outputs": [
    {
     "data": {
      "text/plain": [
       "{'_aml_system_azureml.automlComponent': 'AutoML',\n",
       " '_aml_system_ComputeTargetStatus': '{\"AllocationState\":\"steady\",\"PreparingNodeCount\":0,\"RunningNodeCount\":1,\"CurrentNodeCount\":1}',\n",
       " 'mlflow.source.type': 'JOB',\n",
       " 'mlflow.source.name': 'automl_driver.py',\n",
       " '_aml_system_codegen': 'completed',\n",
       " '_aml_system_automl_is_child_run_end_telemetry_event_logged': 'True',\n",
       " 'model_explain_run_id': 'AutoML_c94e38b8-3c3a-4db6-a8f3-be5362cb1758_ModelExplain',\n",
       " 'model_explanation': 'True'}"
      ]
     },
     "execution_count": 19,
     "metadata": {},
     "output_type": "execute_result"
    }
   ],
   "source": [
    "best_run_automl.get_tags()"
   ]
  },
  {
   "cell_type": "code",
   "execution_count": 20,
   "metadata": {},
   "outputs": [
    {
     "name": "stdout",
     "output_type": "stream",
     "text": [
      "[('timeseriestransformer', TimeSeriesTransformer(country_or_region=None, drop_column_names=[], featurization_config=FeaturizationConfig(blocked_transformers=None, column_purposes=None, dataset_language=None, prediction_transform_type=None, transformer_params=None), force_time_index_features=None, freq='W-THU', grain_column_names=['store', 'brand'], group=None, lookback_features_removed=False, max_horizon=3, origin_time_colname='origin', pipeline=Pipeline(memory=None, steps=[('make_numeric_na_dummies', MissingDummiesTransformer(numerical_columns=['week', 'constant', 'price1', 'price2', 'price3', 'price4', 'price5', 'price6', 'price7', 'price8', 'price9', 'price10', 'price11', 'deal', 'feat', 'profit'])), ('impute_na_numeric_datetime', TimeSeriesImputer(end=None, freq='W-THU', impute_by_horizon=False, input_column=['week', 'constant', 'price1', 'price2', 'price3', 'price4', 'price5', 'price6', 'price7', 'price8', 'price9', 'price10', 'price11', 'deal', 'feat', 'profit'], limit=None, limit_direction='forward', method=OrderedDict([('ffill', [])]), option='fillna', order=None, origin=None, value={'week': 88.0, 'constant': 1.0, 'price1': 0.04671875, 'price2': 0.0494791667, 'price3': 0.045631886299999994, 'price4': 0.03578125, 'price5': 0.03265625, 'price6': 0.0403125, 'price7': 0.03578125, 'price8': 0.03421875, 'price9': 0.03109375, 'price10': 0.02484375, 'price11': 0.028828125, 'deal': 0.0, 'feat': 0.0, 'profit': 28.94})), ('grain_dropper', ShortGrainDropper(cv_step_size=1, max_horizon=3, n_cross_validations=3, target_lags=[0], target_rolling_window_size=0)), ('restore_dtypes_transform', RestoreDtypesTransformer(dtypes={'feat': dtype('float64'), 'price8': dtype('float64'), 'price3': dtype('float64'), 'price2': dtype('float64'), 'week': dtype('int64'), 'price7': dtype('float64'), 'profit': dtype('float64'), 'price1': dtype('float64'), 'price4': dtype('float64'), '_automl_target_col': dtype('int64'), 'price9': dtype('float64'), 'deal': dtype('int64'), 'constant': dtype('int64'), 'price6': dtype('float64'), 'price10': dtype('float64'), 'price5': dtype('float64'), 'price11': dtype('float64')}, target_column='_automl_target_col')), ('make_grain_features', GrainIndexFeaturizer(categories_by_grain_cols=None, grain_feature_prefix='grain', overwrite_columns=True, prefix_sep='_', ts_frequency='W-THU')), ('make_categoricals_numeric', NumericalizeTransformer(categories_by_col={'grain_store': Int64Index([  2,   5,   8,   9,  12,  14,  18,  21,  28,  32,  33,  40,  44,  45,  47,  48,  49,  50,  51,  52,  53,\n",
      "             54,  56,  59,  62,  64,  67,  68,  70,  71,  72,  73,  74,  75,  76,  77,  78,  80,  81,  83,  84,  86,\n",
      "             88,  89,  90,  91,  92,  93,  94,  95,  97,  98, 100, 101, 102, 103, 104, 105, 106, 107, 109, 110, 111,\n",
      "            112, 113, 114, 115, 116, 117, 118, 119, 121, 122, 123, 124, 126, 128, 129, 130, 131, 132, 134, 137],\n",
      "           dtype='int64'), 'grain_brand': Int64Index([1, 2, 3, 4, 5, 6, 7, 8, 9, 10, 11], dtype='int64')}, exclude_columns=set(), include_columns=set())), ('make_time_index_featuers', TimeIndexFeaturizer(correlation_cutoff=0.99, country_or_region=None, datetime_columns=None, force_feature_list=None, freq='W-THU', holiday_end_time=None, holiday_start_time=None, overwrite_columns=True, prune_features=True)), ('make_categoricals_onehot', CategoryBinarizer(columns=[], drop_first=False, dummy_na=False, encode_all_categoricals=False, prefix=None, prefix_sep='_'))], verbose=False), pipeline_type=TimeSeriesPipelineType.FULL, seasonality=4, time_column_name='week_start', time_index_non_holiday_features=['_automl_year', '_automl_half', '_automl_quarter', '_automl_month', '_automl_day', '_automl_qday'], use_stl=None)), ('prefittedsoftvotingregressor', PreFittedSoftVotingRegressor(estimators=[('2', Pipeline(memory=None, steps=[('average', Average(timeseries_param_dict={'time_column_name': 'week_start', 'grain_column_names': ['store', 'brand'], 'drop_column_names': [], 'overwrite_columns': True, 'dropna': False, 'transform_dictionary': {'min': '_automl_target_col', 'max': '_automl_target_col', 'mean': '_automl_target_col'}, 'max_horizon': 3, 'origin_time_colname': 'origin', 'country_or_region': None, 'n_cross_validations': 3, 'short_series_handling': True, 'max_cores_per_iteration': 1, 'feature_lags': None, 'target_aggregation_function': None, 'cv_step_size': 1, 'seasonality': 4, 'use_stl': None, 'freq': 'W-THU', 'short_series_handling_configuration': 'auto', 'target_lags': [0], 'target_rolling_window_size': 0, 'arimax_raw_columns': ['brand', 'feat', 'price8', 'price2', 'price3', 'week', 'price7', 'week_start', 'profit', 'price1', 'price4', 'price9', 'deal', 'price11', 'constant', 'price6', 'price10', 'price5', 'store']}))], verbose=False)), ('0', Pipeline(memory=None, steps=[('naive', Naive(timeseries_param_dict={'time_column_name': 'week_start', 'grain_column_names': ['store', 'brand'], 'drop_column_names': [], 'overwrite_columns': True, 'dropna': False, 'transform_dictionary': {'min': '_automl_target_col', 'max': '_automl_target_col', 'mean': '_automl_target_col'}, 'max_horizon': 3, 'origin_time_colname': 'origin', 'country_or_region': None, 'n_cross_validations': 3, 'short_series_handling': True, 'max_cores_per_iteration': 1, 'feature_lags': None, 'target_aggregation_function': None, 'cv_step_size': 1, 'seasonality': 4, 'use_stl': None, 'freq': 'W-THU', 'short_series_handling_configuration': 'auto', 'target_lags': [0], 'target_rolling_window_size': 0, 'arimax_raw_columns': ['brand', 'feat', 'price8', 'price2', 'price3', 'week', 'price7', 'week_start', 'profit', 'price1', 'price4', 'price9', 'deal', 'price11', 'constant', 'price6', 'price10', 'price5', 'store']}))], verbose=False))], weights=[0.8, 0.2]))]\n"
     ]
    }
   ],
   "source": [
    "print(best_automl_model.steps)"
   ]
  },
  {
   "cell_type": "code",
   "execution_count": 21,
   "metadata": {},
   "outputs": [],
   "source": [
    "best_run_automl.download_file('outputs/featurization_summary.json', 'outputs/featurization_summary.json')"
   ]
  },
  {
   "cell_type": "code",
   "execution_count": 22,
   "metadata": {},
   "outputs": [],
   "source": [
    "with open('outputs/featurization_summary.json', 'r') as features:\n",
    "    features_summary = json.load(features)\n",
    "    \n",
    "df_features = pd.DataFrame.from_records(features_summary)"
   ]
  },
  {
   "cell_type": "code",
   "execution_count": 28,
   "metadata": {},
   "outputs": [
    {
     "data": {
      "text/html": [
       "<div>\n",
       "<style scoped>\n",
       "    .dataframe tbody tr th:only-of-type {\n",
       "        vertical-align: middle;\n",
       "    }\n",
       "\n",
       "    .dataframe tbody tr th {\n",
       "        vertical-align: top;\n",
       "    }\n",
       "\n",
       "    .dataframe thead th {\n",
       "        text-align: right;\n",
       "    }\n",
       "</style>\n",
       "<table border=\"1\" class=\"dataframe\">\n",
       "  <thead>\n",
       "    <tr style=\"text-align: right;\">\n",
       "      <th></th>\n",
       "      <th>RawFeatureName</th>\n",
       "      <th>TypeDetected</th>\n",
       "      <th>Dropped</th>\n",
       "      <th>EngineeredFeatureCount</th>\n",
       "      <th>Transformations</th>\n",
       "      <th>TransformationParams</th>\n",
       "    </tr>\n",
       "  </thead>\n",
       "  <tbody>\n",
       "    <tr>\n",
       "      <th>0</th>\n",
       "      <td>week</td>\n",
       "      <td>Numeric</td>\n",
       "      <td>No</td>\n",
       "      <td>2</td>\n",
       "      <td>[MedianImputer, ImputationMarker]</td>\n",
       "      <td>{'Transformer1': {'Input': ['week'], 'Transfor...</td>\n",
       "    </tr>\n",
       "    <tr>\n",
       "      <th>1</th>\n",
       "      <td>constant</td>\n",
       "      <td>Numeric</td>\n",
       "      <td>No</td>\n",
       "      <td>2</td>\n",
       "      <td>[MedianImputer, ImputationMarker]</td>\n",
       "      <td>{'Transformer1': {'Input': ['constant'], 'Tran...</td>\n",
       "    </tr>\n",
       "    <tr>\n",
       "      <th>2</th>\n",
       "      <td>price1</td>\n",
       "      <td>Numeric</td>\n",
       "      <td>No</td>\n",
       "      <td>2</td>\n",
       "      <td>[MedianImputer, ImputationMarker]</td>\n",
       "      <td>{'Transformer1': {'Input': ['price1'], 'Transf...</td>\n",
       "    </tr>\n",
       "    <tr>\n",
       "      <th>3</th>\n",
       "      <td>price2</td>\n",
       "      <td>Numeric</td>\n",
       "      <td>No</td>\n",
       "      <td>2</td>\n",
       "      <td>[MedianImputer, ImputationMarker]</td>\n",
       "      <td>{'Transformer1': {'Input': ['price2'], 'Transf...</td>\n",
       "    </tr>\n",
       "    <tr>\n",
       "      <th>4</th>\n",
       "      <td>price3</td>\n",
       "      <td>Numeric</td>\n",
       "      <td>No</td>\n",
       "      <td>2</td>\n",
       "      <td>[MedianImputer, ImputationMarker]</td>\n",
       "      <td>{'Transformer1': {'Input': ['price3'], 'Transf...</td>\n",
       "    </tr>\n",
       "    <tr>\n",
       "      <th>5</th>\n",
       "      <td>price4</td>\n",
       "      <td>Numeric</td>\n",
       "      <td>No</td>\n",
       "      <td>2</td>\n",
       "      <td>[MedianImputer, ImputationMarker]</td>\n",
       "      <td>{'Transformer1': {'Input': ['price4'], 'Transf...</td>\n",
       "    </tr>\n",
       "    <tr>\n",
       "      <th>6</th>\n",
       "      <td>price5</td>\n",
       "      <td>Numeric</td>\n",
       "      <td>No</td>\n",
       "      <td>2</td>\n",
       "      <td>[MedianImputer, ImputationMarker]</td>\n",
       "      <td>{'Transformer1': {'Input': ['price5'], 'Transf...</td>\n",
       "    </tr>\n",
       "    <tr>\n",
       "      <th>7</th>\n",
       "      <td>price6</td>\n",
       "      <td>Numeric</td>\n",
       "      <td>No</td>\n",
       "      <td>2</td>\n",
       "      <td>[MedianImputer, ImputationMarker]</td>\n",
       "      <td>{'Transformer1': {'Input': ['price6'], 'Transf...</td>\n",
       "    </tr>\n",
       "    <tr>\n",
       "      <th>8</th>\n",
       "      <td>price7</td>\n",
       "      <td>Numeric</td>\n",
       "      <td>No</td>\n",
       "      <td>2</td>\n",
       "      <td>[MedianImputer, ImputationMarker]</td>\n",
       "      <td>{'Transformer1': {'Input': ['price7'], 'Transf...</td>\n",
       "    </tr>\n",
       "    <tr>\n",
       "      <th>9</th>\n",
       "      <td>price8</td>\n",
       "      <td>Numeric</td>\n",
       "      <td>No</td>\n",
       "      <td>2</td>\n",
       "      <td>[MedianImputer, ImputationMarker]</td>\n",
       "      <td>{'Transformer1': {'Input': ['price8'], 'Transf...</td>\n",
       "    </tr>\n",
       "    <tr>\n",
       "      <th>10</th>\n",
       "      <td>price9</td>\n",
       "      <td>Numeric</td>\n",
       "      <td>No</td>\n",
       "      <td>2</td>\n",
       "      <td>[MedianImputer, ImputationMarker]</td>\n",
       "      <td>{'Transformer1': {'Input': ['price9'], 'Transf...</td>\n",
       "    </tr>\n",
       "    <tr>\n",
       "      <th>11</th>\n",
       "      <td>price10</td>\n",
       "      <td>Numeric</td>\n",
       "      <td>No</td>\n",
       "      <td>2</td>\n",
       "      <td>[MedianImputer, ImputationMarker]</td>\n",
       "      <td>{'Transformer1': {'Input': ['price10'], 'Trans...</td>\n",
       "    </tr>\n",
       "    <tr>\n",
       "      <th>12</th>\n",
       "      <td>price11</td>\n",
       "      <td>Numeric</td>\n",
       "      <td>No</td>\n",
       "      <td>2</td>\n",
       "      <td>[MedianImputer, ImputationMarker]</td>\n",
       "      <td>{'Transformer1': {'Input': ['price11'], 'Trans...</td>\n",
       "    </tr>\n",
       "    <tr>\n",
       "      <th>13</th>\n",
       "      <td>deal</td>\n",
       "      <td>Numeric</td>\n",
       "      <td>No</td>\n",
       "      <td>2</td>\n",
       "      <td>[MedianImputer, ImputationMarker]</td>\n",
       "      <td>{'Transformer1': {'Input': ['deal'], 'Transfor...</td>\n",
       "    </tr>\n",
       "    <tr>\n",
       "      <th>14</th>\n",
       "      <td>feat</td>\n",
       "      <td>Numeric</td>\n",
       "      <td>No</td>\n",
       "      <td>2</td>\n",
       "      <td>[MedianImputer, ImputationMarker]</td>\n",
       "      <td>{'Transformer1': {'Input': ['feat'], 'Transfor...</td>\n",
       "    </tr>\n",
       "    <tr>\n",
       "      <th>15</th>\n",
       "      <td>profit</td>\n",
       "      <td>Numeric</td>\n",
       "      <td>No</td>\n",
       "      <td>2</td>\n",
       "      <td>[MedianImputer, ImputationMarker]</td>\n",
       "      <td>{'Transformer1': {'Input': ['profit'], 'Transf...</td>\n",
       "    </tr>\n",
       "    <tr>\n",
       "      <th>16</th>\n",
       "      <td>_automl_target_col</td>\n",
       "      <td>Numeric</td>\n",
       "      <td>No</td>\n",
       "      <td>1</td>\n",
       "      <td>[ImputationMarker]</td>\n",
       "      <td>{'Transformer1': {'Input': ['_automl_target_co...</td>\n",
       "    </tr>\n",
       "    <tr>\n",
       "      <th>17</th>\n",
       "      <td>store</td>\n",
       "      <td>Ignore</td>\n",
       "      <td>Yes</td>\n",
       "      <td>1</td>\n",
       "      <td>[GrainMarker-LabelEncoder]</td>\n",
       "      <td>{'Transformer1': {'Input': ['store'], 'Transfo...</td>\n",
       "    </tr>\n",
       "    <tr>\n",
       "      <th>18</th>\n",
       "      <td>brand</td>\n",
       "      <td>Ignore</td>\n",
       "      <td>Yes</td>\n",
       "      <td>1</td>\n",
       "      <td>[GrainMarker-LabelEncoder]</td>\n",
       "      <td>{'Transformer1': {'Input': ['brand'], 'Transfo...</td>\n",
       "    </tr>\n",
       "    <tr>\n",
       "      <th>19</th>\n",
       "      <td>week_start</td>\n",
       "      <td>DateTime</td>\n",
       "      <td>No</td>\n",
       "      <td>6</td>\n",
       "      <td>[DateTimeTransformer]</td>\n",
       "      <td>{'Transformer1': {'Input': ['week_start'], 'Tr...</td>\n",
       "    </tr>\n",
       "  </tbody>\n",
       "</table>\n",
       "</div>"
      ],
      "text/plain": [
       "        RawFeatureName TypeDetected Dropped  EngineeredFeatureCount  \\\n",
       "0                 week      Numeric      No                       2   \n",
       "1             constant      Numeric      No                       2   \n",
       "2               price1      Numeric      No                       2   \n",
       "3               price2      Numeric      No                       2   \n",
       "4               price3      Numeric      No                       2   \n",
       "5               price4      Numeric      No                       2   \n",
       "6               price5      Numeric      No                       2   \n",
       "7               price6      Numeric      No                       2   \n",
       "8               price7      Numeric      No                       2   \n",
       "9               price8      Numeric      No                       2   \n",
       "10              price9      Numeric      No                       2   \n",
       "11             price10      Numeric      No                       2   \n",
       "12             price11      Numeric      No                       2   \n",
       "13                deal      Numeric      No                       2   \n",
       "14                feat      Numeric      No                       2   \n",
       "15              profit      Numeric      No                       2   \n",
       "16  _automl_target_col      Numeric      No                       1   \n",
       "17               store       Ignore     Yes                       1   \n",
       "18               brand       Ignore     Yes                       1   \n",
       "19          week_start     DateTime      No                       6   \n",
       "\n",
       "                      Transformations  \\\n",
       "0   [MedianImputer, ImputationMarker]   \n",
       "1   [MedianImputer, ImputationMarker]   \n",
       "2   [MedianImputer, ImputationMarker]   \n",
       "3   [MedianImputer, ImputationMarker]   \n",
       "4   [MedianImputer, ImputationMarker]   \n",
       "5   [MedianImputer, ImputationMarker]   \n",
       "6   [MedianImputer, ImputationMarker]   \n",
       "7   [MedianImputer, ImputationMarker]   \n",
       "8   [MedianImputer, ImputationMarker]   \n",
       "9   [MedianImputer, ImputationMarker]   \n",
       "10  [MedianImputer, ImputationMarker]   \n",
       "11  [MedianImputer, ImputationMarker]   \n",
       "12  [MedianImputer, ImputationMarker]   \n",
       "13  [MedianImputer, ImputationMarker]   \n",
       "14  [MedianImputer, ImputationMarker]   \n",
       "15  [MedianImputer, ImputationMarker]   \n",
       "16                 [ImputationMarker]   \n",
       "17         [GrainMarker-LabelEncoder]   \n",
       "18         [GrainMarker-LabelEncoder]   \n",
       "19              [DateTimeTransformer]   \n",
       "\n",
       "                                 TransformationParams  \n",
       "0   {'Transformer1': {'Input': ['week'], 'Transfor...  \n",
       "1   {'Transformer1': {'Input': ['constant'], 'Tran...  \n",
       "2   {'Transformer1': {'Input': ['price1'], 'Transf...  \n",
       "3   {'Transformer1': {'Input': ['price2'], 'Transf...  \n",
       "4   {'Transformer1': {'Input': ['price3'], 'Transf...  \n",
       "5   {'Transformer1': {'Input': ['price4'], 'Transf...  \n",
       "6   {'Transformer1': {'Input': ['price5'], 'Transf...  \n",
       "7   {'Transformer1': {'Input': ['price6'], 'Transf...  \n",
       "8   {'Transformer1': {'Input': ['price7'], 'Transf...  \n",
       "9   {'Transformer1': {'Input': ['price8'], 'Transf...  \n",
       "10  {'Transformer1': {'Input': ['price9'], 'Transf...  \n",
       "11  {'Transformer1': {'Input': ['price10'], 'Trans...  \n",
       "12  {'Transformer1': {'Input': ['price11'], 'Trans...  \n",
       "13  {'Transformer1': {'Input': ['deal'], 'Transfor...  \n",
       "14  {'Transformer1': {'Input': ['feat'], 'Transfor...  \n",
       "15  {'Transformer1': {'Input': ['profit'], 'Transf...  \n",
       "16  {'Transformer1': {'Input': ['_automl_target_co...  \n",
       "17  {'Transformer1': {'Input': ['store'], 'Transfo...  \n",
       "18  {'Transformer1': {'Input': ['brand'], 'Transfo...  \n",
       "19  {'Transformer1': {'Input': ['week_start'], 'Tr...  "
      ]
     },
     "execution_count": 28,
     "metadata": {},
     "output_type": "execute_result"
    }
   ],
   "source": [
    "df_features"
   ]
  },
  {
   "cell_type": "markdown",
   "metadata": {},
   "source": [
    "## Model Deployment\n",
    "\n",
    "Remember you have to deploy only one of the two models you trained but you still need to register both the models. Perform the steps in the rest of this notebook only if you wish to deploy this model.\n",
    "\n",
    "TODO: In the cell below, register the model, create an inference config and deploy the model as a web service."
   ]
  },
  {
   "cell_type": "code",
   "execution_count": 31,
   "metadata": {},
   "outputs": [],
   "source": [
    "# Register the best AutoML model\n",
    "automl_model_name = best_run_automl.properties[\"model_name\"]\n",
    "model_reg = remote_run.register_model(model_name = automl_model_name,\n",
    "                                      description = \"AutoML model for forecasting.\",\n",
    "                                      tags = None)"
   ]
  },
  {
   "cell_type": "code",
   "execution_count": 32,
   "metadata": {},
   "outputs": [
    {
     "data": {
      "text/plain": [
       "Model(workspace=Workspace.create(name='quick-starts-ws-200268', subscription_id='9a7511b8-150f-4a58-8528-3e7d50216c31', resource_group='aml-quickstarts-200268'), name=AutoMLc94e38b8320, id=AutoMLc94e38b8320:1, version=1, tags={}, properties={})"
      ]
     },
     "execution_count": 32,
     "metadata": {},
     "output_type": "execute_result"
    }
   ],
   "source": [
    "model_reg"
   ]
  },
  {
   "cell_type": "code",
   "execution_count": 33,
   "metadata": {},
   "outputs": [
    {
     "data": {
      "text/plain": [
       "'outputs/model.pkl'"
      ]
     },
     "execution_count": 33,
     "metadata": {},
     "output_type": "execute_result"
    }
   ],
   "source": [
    "model_reg.download(target_dir='outputs', exist_ok=True)"
   ]
  },
  {
   "cell_type": "code",
   "execution_count": 34,
   "metadata": {},
   "outputs": [
    {
     "name": "stdout",
     "output_type": "stream",
     "text": [
      "Model ID AutoMLc94e38b8320\n"
     ]
    }
   ],
   "source": [
    "print(\"Model ID\", remote_run.model_id)"
   ]
  },
  {
   "cell_type": "code",
   "execution_count": 36,
   "metadata": {},
   "outputs": [],
   "source": [
    "# Downoad the file containing the environment details \n",
    "best_run_automl.download_file('outputs/conda_env_v_1_0_0.yml', 'runenv.yml')\n",
    "\n",
    "# Download the scoring file\n",
    "best_run_automl.download_file('outputs/scoring_file_v_1_0_0.py', 'score.py')"
   ]
  },
  {
   "cell_type": "code",
   "execution_count": 37,
   "metadata": {},
   "outputs": [],
   "source": [
    "myenv = Environment.from_conda_specification(name = 'myenv',\n",
    "                                             file_path = 'runenv.yml')"
   ]
  },
  {
   "cell_type": "code",
   "execution_count": 40,
   "metadata": {},
   "outputs": [],
   "source": [
    "inference_config = InferenceConfig(entry_script = 'score.py',\n",
    "                                   environment = myenv)"
   ]
  },
  {
   "cell_type": "code",
   "execution_count": 41,
   "metadata": {},
   "outputs": [],
   "source": [
    "aciconfig = AciWebservice.deploy_configuration(\n",
    "    cpu_cores=2,\n",
    "    memory_gb=4,\n",
    "    description=\"AutoML model to forecast Orange Juice data\"\n",
    ")"
   ]
  },
  {
   "cell_type": "code",
   "execution_count": 42,
   "metadata": {},
   "outputs": [],
   "source": [
    "service = Model.deploy(\n",
    "    workspace=ws,\n",
    "    name=\"automl-forecast-oj\",\n",
    "    models=[model_reg],\n",
    "    inference_config=inference_config,\n",
    "    deployment_config=aciconfig\n",
    ")"
   ]
  },
  {
   "cell_type": "code",
   "execution_count": 43,
   "metadata": {},
   "outputs": [
    {
     "name": "stdout",
     "output_type": "stream",
     "text": [
      "Tips: You can try get_logs(): https://aka.ms/debugimage#dockerlog or local deployment: https://aka.ms/debugimage#debug-locally to debug if deployment takes longer than 10 minutes.\n",
      "Running\n",
      "2022-07-05 14:30:42+00:00 Creating Container Registry if not exists..\n",
      "2022-07-05 14:40:43+00:00 Registering the environment.\n",
      "2022-07-05 14:40:44+00:00 Building image..\n",
      "2022-07-05 15:01:01+00:00 Generating deployment configuration.\n",
      "2022-07-05 15:01:02+00:00 Submitting deployment to compute..\n",
      "2022-07-05 15:01:38+00:00 Checking the status of deployment automl-forecast-oj..\n",
      "2022-07-05 15:05:47+00:00 Checking the status of inference endpoint automl-forecast-oj.\n",
      "Succeeded\n",
      "ACI service creation operation finished, operation \"Succeeded\"\n"
     ]
    }
   ],
   "source": [
    "service.wait_for_deployment(True)"
   ]
  },
  {
   "cell_type": "code",
   "execution_count": 44,
   "metadata": {},
   "outputs": [
    {
     "name": "stdout",
     "output_type": "stream",
     "text": [
      "Healthy\n"
     ]
    }
   ],
   "source": [
    "print(service.state)"
   ]
  },
  {
   "cell_type": "markdown",
   "metadata": {
    "collapsed": true,
    "gather": {
     "logged": 1598431657736
    },
    "jupyter": {
     "outputs_hidden": false,
     "source_hidden": false
    },
    "nteract": {
     "transient": {
      "deleting": false
     }
    }
   },
   "source": [
    "TODO: In the cell below, send a request to the web service you deployed to test it."
   ]
  },
  {
   "cell_type": "code",
   "execution_count": 142,
   "metadata": {},
   "outputs": [],
   "source": [
    "test_df = pd.read_csv(\"ojdata/test_automl.csv\")"
   ]
  },
  {
   "cell_type": "code",
   "execution_count": 143,
   "metadata": {},
   "outputs": [],
   "source": [
    "# We will skip the week \"136\" to leave time for planning inventory as in real life.\n",
    "# We do our forecast on the two wekks \"137\" and \"138\"\n",
    "\n",
    "test_df.drop(test_df[test_df[\"week\"] <= 136].index, inplace=True)"
   ]
  },
  {
   "cell_type": "code",
   "execution_count": 144,
   "metadata": {},
   "outputs": [],
   "source": [
    "# Prepare data to test it on the web service\n",
    "X = test_df\n",
    "ground_truth = test_df.pop(target).values"
   ]
  },
  {
   "cell_type": "code",
   "execution_count": 145,
   "metadata": {},
   "outputs": [],
   "source": [
    "# Convert DateTime to String, because Object of type Timestamp is not JSON serializable\n",
    "X[time_column_name] = X[time_column_name].astype(str)"
   ]
  },
  {
   "cell_type": "code",
   "execution_count": 146,
   "metadata": {},
   "outputs": [
    {
     "data": {
      "text/plain": [
       "(1826, 19)"
      ]
     },
     "execution_count": 146,
     "metadata": {},
     "output_type": "execute_result"
    }
   ],
   "source": [
    "X.shape"
   ]
  },
  {
   "cell_type": "code",
   "execution_count": 147,
   "metadata": {},
   "outputs": [
    {
     "data": {
      "text/html": [
       "<div>\n",
       "<style scoped>\n",
       "    .dataframe tbody tr th:only-of-type {\n",
       "        vertical-align: middle;\n",
       "    }\n",
       "\n",
       "    .dataframe tbody tr th {\n",
       "        vertical-align: top;\n",
       "    }\n",
       "\n",
       "    .dataframe thead th {\n",
       "        text-align: right;\n",
       "    }\n",
       "</style>\n",
       "<table border=\"1\" class=\"dataframe\">\n",
       "  <thead>\n",
       "    <tr style=\"text-align: right;\">\n",
       "      <th></th>\n",
       "      <th>store</th>\n",
       "      <th>brand</th>\n",
       "      <th>week</th>\n",
       "      <th>constant</th>\n",
       "      <th>price1</th>\n",
       "      <th>price2</th>\n",
       "      <th>price3</th>\n",
       "      <th>price4</th>\n",
       "      <th>price5</th>\n",
       "      <th>price6</th>\n",
       "      <th>price7</th>\n",
       "      <th>price8</th>\n",
       "      <th>price9</th>\n",
       "      <th>price10</th>\n",
       "      <th>price11</th>\n",
       "      <th>deal</th>\n",
       "      <th>feat</th>\n",
       "      <th>profit</th>\n",
       "      <th>week_start</th>\n",
       "    </tr>\n",
       "  </thead>\n",
       "  <tbody>\n",
       "    <tr>\n",
       "      <th>1</th>\n",
       "      <td>2</td>\n",
       "      <td>1</td>\n",
       "      <td>137</td>\n",
       "      <td>1</td>\n",
       "      <td>0.04</td>\n",
       "      <td>0.05</td>\n",
       "      <td>0.05</td>\n",
       "      <td>0.04</td>\n",
       "      <td>0.03</td>\n",
       "      <td>0.04</td>\n",
       "      <td>0.03</td>\n",
       "      <td>0.04</td>\n",
       "      <td>0.04</td>\n",
       "      <td>0.02</td>\n",
       "      <td>0.03</td>\n",
       "      <td>0</td>\n",
       "      <td>0.00</td>\n",
       "      <td>20.43</td>\n",
       "      <td>1992-04-23</td>\n",
       "    </tr>\n",
       "    <tr>\n",
       "      <th>2</th>\n",
       "      <td>2</td>\n",
       "      <td>1</td>\n",
       "      <td>138</td>\n",
       "      <td>1</td>\n",
       "      <td>0.04</td>\n",
       "      <td>0.04</td>\n",
       "      <td>0.05</td>\n",
       "      <td>0.04</td>\n",
       "      <td>0.04</td>\n",
       "      <td>0.05</td>\n",
       "      <td>0.04</td>\n",
       "      <td>0.04</td>\n",
       "      <td>0.04</td>\n",
       "      <td>0.03</td>\n",
       "      <td>0.03</td>\n",
       "      <td>1</td>\n",
       "      <td>1.00</td>\n",
       "      <td>11.29</td>\n",
       "      <td>1992-04-30</td>\n",
       "    </tr>\n",
       "    <tr>\n",
       "      <th>4</th>\n",
       "      <td>2</td>\n",
       "      <td>2</td>\n",
       "      <td>137</td>\n",
       "      <td>1</td>\n",
       "      <td>0.04</td>\n",
       "      <td>0.05</td>\n",
       "      <td>0.05</td>\n",
       "      <td>0.04</td>\n",
       "      <td>0.03</td>\n",
       "      <td>0.04</td>\n",
       "      <td>0.03</td>\n",
       "      <td>0.04</td>\n",
       "      <td>0.04</td>\n",
       "      <td>0.02</td>\n",
       "      <td>0.03</td>\n",
       "      <td>0</td>\n",
       "      <td>0.00</td>\n",
       "      <td>33.30</td>\n",
       "      <td>1992-04-23</td>\n",
       "    </tr>\n",
       "    <tr>\n",
       "      <th>5</th>\n",
       "      <td>2</td>\n",
       "      <td>2</td>\n",
       "      <td>138</td>\n",
       "      <td>1</td>\n",
       "      <td>0.04</td>\n",
       "      <td>0.04</td>\n",
       "      <td>0.05</td>\n",
       "      <td>0.04</td>\n",
       "      <td>0.04</td>\n",
       "      <td>0.05</td>\n",
       "      <td>0.04</td>\n",
       "      <td>0.04</td>\n",
       "      <td>0.04</td>\n",
       "      <td>0.03</td>\n",
       "      <td>0.03</td>\n",
       "      <td>1</td>\n",
       "      <td>1.00</td>\n",
       "      <td>9.43</td>\n",
       "      <td>1992-04-30</td>\n",
       "    </tr>\n",
       "    <tr>\n",
       "      <th>7</th>\n",
       "      <td>2</td>\n",
       "      <td>3</td>\n",
       "      <td>137</td>\n",
       "      <td>1</td>\n",
       "      <td>0.04</td>\n",
       "      <td>0.05</td>\n",
       "      <td>0.05</td>\n",
       "      <td>0.04</td>\n",
       "      <td>0.03</td>\n",
       "      <td>0.04</td>\n",
       "      <td>0.03</td>\n",
       "      <td>0.04</td>\n",
       "      <td>0.04</td>\n",
       "      <td>0.02</td>\n",
       "      <td>0.03</td>\n",
       "      <td>0</td>\n",
       "      <td>0.00</td>\n",
       "      <td>30.51</td>\n",
       "      <td>1992-04-23</td>\n",
       "    </tr>\n",
       "  </tbody>\n",
       "</table>\n",
       "</div>"
      ],
      "text/plain": [
       "   store  brand  week  constant  price1  price2  price3  price4  price5  \\\n",
       "1      2      1   137         1    0.04    0.05    0.05    0.04    0.03   \n",
       "2      2      1   138         1    0.04    0.04    0.05    0.04    0.04   \n",
       "4      2      2   137         1    0.04    0.05    0.05    0.04    0.03   \n",
       "5      2      2   138         1    0.04    0.04    0.05    0.04    0.04   \n",
       "7      2      3   137         1    0.04    0.05    0.05    0.04    0.03   \n",
       "\n",
       "   price6  price7  price8  price9  price10  price11  deal  feat  profit  \\\n",
       "1    0.04    0.03    0.04    0.04     0.02     0.03     0  0.00   20.43   \n",
       "2    0.05    0.04    0.04    0.04     0.03     0.03     1  1.00   11.29   \n",
       "4    0.04    0.03    0.04    0.04     0.02     0.03     0  0.00   33.30   \n",
       "5    0.05    0.04    0.04    0.04     0.03     0.03     1  1.00    9.43   \n",
       "7    0.04    0.03    0.04    0.04     0.02     0.03     0  0.00   30.51   \n",
       "\n",
       "   week_start  \n",
       "1  1992-04-23  \n",
       "2  1992-04-30  \n",
       "4  1992-04-23  \n",
       "5  1992-04-30  \n",
       "7  1992-04-23  "
      ]
     },
     "execution_count": 147,
     "metadata": {},
     "output_type": "execute_result"
    }
   ],
   "source": [
    "X.head()"
   ]
  },
  {
   "cell_type": "code",
   "execution_count": 150,
   "metadata": {},
   "outputs": [],
   "source": [
    "# Take NB_SAMPLES samples from all the test dataset\n",
    "START_SAMPLES = 0\n",
    "END_SAMPLES = 10\n",
    "test_X = X.iloc[START_SAMPLES:END_SAMPLES,:]"
   ]
  },
  {
   "cell_type": "code",
   "execution_count": 151,
   "metadata": {},
   "outputs": [
    {
     "data": {
      "text/plain": [
       "(10, 19)"
      ]
     },
     "execution_count": 151,
     "metadata": {},
     "output_type": "execute_result"
    }
   ],
   "source": [
    "test_X.shape"
   ]
  },
  {
   "cell_type": "code",
   "execution_count": 152,
   "metadata": {},
   "outputs": [],
   "source": [
    "req_data = json.dumps({\"data\": test_X.to_dict(orient='records')})"
   ]
  },
  {
   "cell_type": "code",
   "execution_count": 153,
   "metadata": {},
   "outputs": [],
   "source": [
    "headers = {'Content-Type':'application/json'}"
   ]
  },
  {
   "cell_type": "code",
   "execution_count": 154,
   "metadata": {},
   "outputs": [],
   "source": [
    "response = requests.post(service.scoring_uri, req_data, headers=headers)"
   ]
  },
  {
   "cell_type": "code",
   "execution_count": 155,
   "metadata": {},
   "outputs": [
    {
     "name": "stdout",
     "output_type": "stream",
     "text": [
      "\"{\\\"forecast\\\": [12808.533333333335, 12808.533333333335, 8671.2, 8671.2, 2987.7333333333336, 2987.7333333333336, 13870.933333333336, 13870.933333333336, 12825.600000000002, 12825.600000000002], \\\"prediction_interval\\\": [\\\"[-75091.55491913024, 100708.62158579691]\\\", \\\"[-94846.64894873949, 120463.71561540614]\\\", \\\"[-79228.88825246358, 96571.28825246356]\\\", \\\"[-98983.98228207283, 116326.3822820728]\\\", \\\"[-84912.35491913024, 90887.8215857969]\\\", \\\"[-104667.44894873949, 110642.91561540613]\\\", \\\"[-74029.15491913025, 101771.0215857969]\\\", \\\"[-93784.24894873949, 121526.11561540613]\\\", \\\"[-75074.48825246358, 100725.68825246357]\\\", \\\"[-94829.58228207282, 120480.7822820728]\\\"], \\\"index\\\": [{\\\"week_start\\\": 703987200000, \\\"store\\\": 2, \\\"brand\\\": 1}, {\\\"week_start\\\": 704592000000, \\\"store\\\": 2, \\\"brand\\\": 1}, {\\\"week_start\\\": 703987200000, \\\"store\\\": 2, \\\"brand\\\": 2}, {\\\"week_start\\\": 704592000000, \\\"store\\\": 2, \\\"brand\\\": 2}, {\\\"week_start\\\": 703987200000, \\\"store\\\": 2, \\\"brand\\\": 3}, {\\\"week_start\\\": 704592000000, \\\"store\\\": 2, \\\"brand\\\": 3}, {\\\"week_start\\\": 703987200000, \\\"store\\\": 2, \\\"brand\\\": 4}, {\\\"week_start\\\": 704592000000, \\\"store\\\": 2, \\\"brand\\\": 4}, {\\\"week_start\\\": 703987200000, \\\"store\\\": 2, \\\"brand\\\": 5}, {\\\"week_start\\\": 704592000000, \\\"store\\\": 2, \\\"brand\\\": 5}]}\"\n"
     ]
    }
   ],
   "source": [
    "print(response.text)"
   ]
  },
  {
   "cell_type": "code",
   "execution_count": 156,
   "metadata": {},
   "outputs": [],
   "source": [
    "result = json.loads(json.loads(response.text))"
   ]
  },
  {
   "cell_type": "code",
   "execution_count": 157,
   "metadata": {},
   "outputs": [
    {
     "data": {
      "text/plain": [
       "{'forecast': [12808.533333333335,\n",
       "  12808.533333333335,\n",
       "  8671.2,\n",
       "  8671.2,\n",
       "  2987.7333333333336,\n",
       "  2987.7333333333336,\n",
       "  13870.933333333336,\n",
       "  13870.933333333336,\n",
       "  12825.600000000002,\n",
       "  12825.600000000002],\n",
       " 'prediction_interval': ['[-75091.55491913024, 100708.62158579691]',\n",
       "  '[-94846.64894873949, 120463.71561540614]',\n",
       "  '[-79228.88825246358, 96571.28825246356]',\n",
       "  '[-98983.98228207283, 116326.3822820728]',\n",
       "  '[-84912.35491913024, 90887.8215857969]',\n",
       "  '[-104667.44894873949, 110642.91561540613]',\n",
       "  '[-74029.15491913025, 101771.0215857969]',\n",
       "  '[-93784.24894873949, 121526.11561540613]',\n",
       "  '[-75074.48825246358, 100725.68825246357]',\n",
       "  '[-94829.58228207282, 120480.7822820728]'],\n",
       " 'index': [{'week_start': 703987200000, 'store': 2, 'brand': 1},\n",
       "  {'week_start': 704592000000, 'store': 2, 'brand': 1},\n",
       "  {'week_start': 703987200000, 'store': 2, 'brand': 2},\n",
       "  {'week_start': 704592000000, 'store': 2, 'brand': 2},\n",
       "  {'week_start': 703987200000, 'store': 2, 'brand': 3},\n",
       "  {'week_start': 704592000000, 'store': 2, 'brand': 3},\n",
       "  {'week_start': 703987200000, 'store': 2, 'brand': 4},\n",
       "  {'week_start': 704592000000, 'store': 2, 'brand': 4},\n",
       "  {'week_start': 703987200000, 'store': 2, 'brand': 5},\n",
       "  {'week_start': 704592000000, 'store': 2, 'brand': 5}]}"
      ]
     },
     "execution_count": 157,
     "metadata": {},
     "output_type": "execute_result"
    }
   ],
   "source": [
    "result"
   ]
  },
  {
   "cell_type": "code",
   "execution_count": 158,
   "metadata": {},
   "outputs": [
    {
     "data": {
      "text/plain": [
       "[{'week_start': 703987200000, 'store': 2, 'brand': 1},\n",
       " {'week_start': 704592000000, 'store': 2, 'brand': 1},\n",
       " {'week_start': 703987200000, 'store': 2, 'brand': 2},\n",
       " {'week_start': 704592000000, 'store': 2, 'brand': 2},\n",
       " {'week_start': 703987200000, 'store': 2, 'brand': 3},\n",
       " {'week_start': 704592000000, 'store': 2, 'brand': 3},\n",
       " {'week_start': 703987200000, 'store': 2, 'brand': 4},\n",
       " {'week_start': 704592000000, 'store': 2, 'brand': 4},\n",
       " {'week_start': 703987200000, 'store': 2, 'brand': 5},\n",
       " {'week_start': 704592000000, 'store': 2, 'brand': 5}]"
      ]
     },
     "execution_count": 158,
     "metadata": {},
     "output_type": "execute_result"
    }
   ],
   "source": [
    "result[\"index\"]"
   ]
  },
  {
   "cell_type": "code",
   "execution_count": 159,
   "metadata": {},
   "outputs": [],
   "source": [
    "df_result = pd.DataFrame(result[\"index\"])\n",
    "df_result[time_column_name] = pd.to_datetime(df_result[time_column_name], unit=\"ms\")\n",
    "df_result[\"ground_truth\"] = ground_truth[START_SAMPLES:END_SAMPLES]\n",
    "df_result[\"forecast\"] = result[\"forecast\"]\n",
    "df_result[\"prediction_interval\"] = result[\"prediction_interval\"]"
   ]
  },
  {
   "cell_type": "code",
   "execution_count": 160,
   "metadata": {},
   "outputs": [
    {
     "data": {
      "text/html": [
       "<div>\n",
       "<style scoped>\n",
       "    .dataframe tbody tr th:only-of-type {\n",
       "        vertical-align: middle;\n",
       "    }\n",
       "\n",
       "    .dataframe tbody tr th {\n",
       "        vertical-align: top;\n",
       "    }\n",
       "\n",
       "    .dataframe thead th {\n",
       "        text-align: right;\n",
       "    }\n",
       "</style>\n",
       "<table border=\"1\" class=\"dataframe\">\n",
       "  <thead>\n",
       "    <tr style=\"text-align: right;\">\n",
       "      <th></th>\n",
       "      <th>week_start</th>\n",
       "      <th>store</th>\n",
       "      <th>brand</th>\n",
       "      <th>ground_truth</th>\n",
       "      <th>forecast</th>\n",
       "      <th>prediction_interval</th>\n",
       "    </tr>\n",
       "  </thead>\n",
       "  <tbody>\n",
       "    <tr>\n",
       "      <th>0</th>\n",
       "      <td>1992-04-23</td>\n",
       "      <td>2</td>\n",
       "      <td>1</td>\n",
       "      <td>9792</td>\n",
       "      <td>12808.53</td>\n",
       "      <td>[-75091.55491913024, 100708.62158579691]</td>\n",
       "    </tr>\n",
       "    <tr>\n",
       "      <th>1</th>\n",
       "      <td>1992-04-30</td>\n",
       "      <td>2</td>\n",
       "      <td>1</td>\n",
       "      <td>16960</td>\n",
       "      <td>12808.53</td>\n",
       "      <td>[-94846.64894873949, 120463.71561540614]</td>\n",
       "    </tr>\n",
       "    <tr>\n",
       "      <th>2</th>\n",
       "      <td>1992-04-23</td>\n",
       "      <td>2</td>\n",
       "      <td>2</td>\n",
       "      <td>6240</td>\n",
       "      <td>8671.20</td>\n",
       "      <td>[-79228.88825246358, 96571.28825246356]</td>\n",
       "    </tr>\n",
       "    <tr>\n",
       "      <th>3</th>\n",
       "      <td>1992-04-30</td>\n",
       "      <td>2</td>\n",
       "      <td>2</td>\n",
       "      <td>14784</td>\n",
       "      <td>8671.20</td>\n",
       "      <td>[-98983.98228207283, 116326.3822820728]</td>\n",
       "    </tr>\n",
       "    <tr>\n",
       "      <th>4</th>\n",
       "      <td>1992-04-23</td>\n",
       "      <td>2</td>\n",
       "      <td>3</td>\n",
       "      <td>1920</td>\n",
       "      <td>2987.73</td>\n",
       "      <td>[-84912.35491913024, 90887.8215857969]</td>\n",
       "    </tr>\n",
       "    <tr>\n",
       "      <th>5</th>\n",
       "      <td>1992-04-30</td>\n",
       "      <td>2</td>\n",
       "      <td>3</td>\n",
       "      <td>1408</td>\n",
       "      <td>2987.73</td>\n",
       "      <td>[-104667.44894873949, 110642.91561540613]</td>\n",
       "    </tr>\n",
       "    <tr>\n",
       "      <th>6</th>\n",
       "      <td>1992-04-23</td>\n",
       "      <td>2</td>\n",
       "      <td>4</td>\n",
       "      <td>1984</td>\n",
       "      <td>13870.93</td>\n",
       "      <td>[-74029.15491913025, 101771.0215857969]</td>\n",
       "    </tr>\n",
       "    <tr>\n",
       "      <th>7</th>\n",
       "      <td>1992-04-30</td>\n",
       "      <td>2</td>\n",
       "      <td>4</td>\n",
       "      <td>10944</td>\n",
       "      <td>13870.93</td>\n",
       "      <td>[-93784.24894873949, 121526.11561540613]</td>\n",
       "    </tr>\n",
       "    <tr>\n",
       "      <th>8</th>\n",
       "      <td>1992-04-23</td>\n",
       "      <td>2</td>\n",
       "      <td>5</td>\n",
       "      <td>19008</td>\n",
       "      <td>12825.60</td>\n",
       "      <td>[-75074.48825246358, 100725.68825246357]</td>\n",
       "    </tr>\n",
       "    <tr>\n",
       "      <th>9</th>\n",
       "      <td>1992-04-30</td>\n",
       "      <td>2</td>\n",
       "      <td>5</td>\n",
       "      <td>3904</td>\n",
       "      <td>12825.60</td>\n",
       "      <td>[-94829.58228207282, 120480.7822820728]</td>\n",
       "    </tr>\n",
       "  </tbody>\n",
       "</table>\n",
       "</div>"
      ],
      "text/plain": [
       "  week_start  store  brand  ground_truth  forecast  \\\n",
       "0 1992-04-23      2      1          9792  12808.53   \n",
       "1 1992-04-30      2      1         16960  12808.53   \n",
       "2 1992-04-23      2      2          6240   8671.20   \n",
       "3 1992-04-30      2      2         14784   8671.20   \n",
       "4 1992-04-23      2      3          1920   2987.73   \n",
       "5 1992-04-30      2      3          1408   2987.73   \n",
       "6 1992-04-23      2      4          1984  13870.93   \n",
       "7 1992-04-30      2      4         10944  13870.93   \n",
       "8 1992-04-23      2      5         19008  12825.60   \n",
       "9 1992-04-30      2      5          3904  12825.60   \n",
       "\n",
       "                         prediction_interval  \n",
       "0   [-75091.55491913024, 100708.62158579691]  \n",
       "1   [-94846.64894873949, 120463.71561540614]  \n",
       "2    [-79228.88825246358, 96571.28825246356]  \n",
       "3    [-98983.98228207283, 116326.3822820728]  \n",
       "4     [-84912.35491913024, 90887.8215857969]  \n",
       "5  [-104667.44894873949, 110642.91561540613]  \n",
       "6    [-74029.15491913025, 101771.0215857969]  \n",
       "7   [-93784.24894873949, 121526.11561540613]  \n",
       "8   [-75074.48825246358, 100725.68825246357]  \n",
       "9    [-94829.58228207282, 120480.7822820728]  "
      ]
     },
     "execution_count": 160,
     "metadata": {},
     "output_type": "execute_result"
    }
   ],
   "source": [
    "df_result.head(len(test_X))"
   ]
  },
  {
   "cell_type": "markdown",
   "metadata": {
    "collapsed": true,
    "gather": {
     "logged": 1598432765711
    },
    "jupyter": {
     "outputs_hidden": false,
     "source_hidden": false
    },
    "nteract": {
     "transient": {
      "deleting": false
     }
    }
   },
   "source": [
    "TODO: In the cell below, print the logs of the web service and delete the service"
   ]
  },
  {
   "cell_type": "code",
   "execution_count": 104,
   "metadata": {},
   "outputs": [],
   "source": [
    "# Enable application insights\n",
    "service.update(enable_app_insights=True)"
   ]
  },
  {
   "cell_type": "code",
   "execution_count": 106,
   "metadata": {
    "jupyter": {
     "outputs_hidden": false,
     "source_hidden": false
    },
    "nteract": {
     "transient": {
      "deleting": false
     }
    }
   },
   "outputs": [
    {
     "name": "stdout",
     "output_type": "stream",
     "text": [
      "/bin/bash: /azureml-envs/azureml_7becf92bd9d8786204e7278bb441885c/lib/libtinfo.so.6: no version information available (required by /bin/bash)\n",
      "/bin/bash: /azureml-envs/azureml_7becf92bd9d8786204e7278bb441885c/lib/libtinfo.so.6: no version information available (required by /bin/bash)\n",
      "/bin/bash: /azureml-envs/azureml_7becf92bd9d8786204e7278bb441885c/lib/libtinfo.so.6: no version information available (required by /bin/bash)\n",
      "/bin/bash: /azureml-envs/azureml_7becf92bd9d8786204e7278bb441885c/lib/libtinfo.so.6: no version information available (required by /bin/bash)\n",
      "2022-07-05T15:05:24,497631432+00:00 - iot-server/run \n",
      "2022-07-05T15:05:24,498786984+00:00 - rsyslog/run \n",
      "2022-07-05T15:05:24,510118496+00:00 - gunicorn/run \n",
      "bash: /azureml-envs/azureml_7becf92bd9d8786204e7278bb441885c/lib/libtinfo.so.6: no version information available (required by bash)\n",
      "2022-07-05T15:05:24,518031654+00:00 - nginx/run \n",
      "2022-07-05T15:05:24,524422242+00:00 | gunicorn/run | \n",
      "2022-07-05T15:05:24,533352346+00:00 | gunicorn/run | ###############################################\n",
      "2022-07-05T15:05:24,549043455+00:00 | gunicorn/run | AzureML Container Runtime Information\n",
      "2022-07-05T15:05:24,559614133+00:00 | gunicorn/run | ###############################################\n",
      "2022-07-05T15:05:24,564034633+00:00 | gunicorn/run | \n",
      "2022-07-05T15:05:24,581749533+00:00 | gunicorn/run | \n",
      "2022-07-05T15:05:24,595326747+00:00 | gunicorn/run | PATH environment variable: /azureml-envs/azureml_7becf92bd9d8786204e7278bb441885c/bin:/opt/miniconda/bin:/usr/local/sbin:/usr/local/bin:/usr/sbin:/usr/bin:/sbin:/bin\n",
      "2022-07-05T15:05:24,597553347+00:00 | gunicorn/run | PYTHONPATH environment variable: \n",
      "2022-07-05T15:05:24,602047451+00:00 | gunicorn/run | \n",
      "2022-07-05T15:05:24,603626022+00:00 | gunicorn/run | Pip Dependencies (before dynamic installation)\n",
      "\n",
      "EdgeHubConnectionString and IOTEDGE_IOTHUBHOSTNAME are not set. Exiting...\n",
      "/bin/bash: /azureml-envs/azureml_7becf92bd9d8786204e7278bb441885c/lib/libtinfo.so.6: no version information available (required by /bin/bash)\n",
      "2022-07-05T15:05:24,910663898+00:00 - iot-server/finish 1 0\n",
      "2022-07-05T15:05:24,925343662+00:00 - Exit code 1 is normal. Not restarting iot-server.\n",
      "adal==1.2.7\n",
      "aiofiles==0.8.0\n",
      "aiohttp==3.7.4.post0\n",
      "aiotask-context==0.6.1\n",
      "applicationinsights==0.11.10\n",
      "argcomplete==2.0.0\n",
      "arviz @ file:///tmp/build/80754af9/arviz_1614019183254/work\n",
      "async-timeout==3.0.1\n",
      "attrs==21.4.0\n",
      "azure-common==1.1.28\n",
      "azure-core==1.22.1\n",
      "azure-graphrbac==0.61.1\n",
      "azure-identity==1.7.0\n",
      "azure-mgmt-authorization==2.0.0\n",
      "azure-mgmt-containerregistry==9.1.0\n",
      "azure-mgmt-core==1.3.0\n",
      "azure-mgmt-keyvault==9.3.0\n",
      "azure-mgmt-resource==21.0.0\n",
      "azure-mgmt-storage==20.0.0\n",
      "azure-storage-queue==12.2.0\n",
      "azureml-automl-core==1.42.0.post1\n",
      "azureml-automl-runtime==1.42.0.post1\n",
      "azureml-core==1.42.0.post1\n",
      "azureml-dataprep==4.0.4\n",
      "azureml-dataprep-native==38.0.0\n",
      "azureml-dataprep-rslex==2.6.3\n",
      "azureml-dataset-runtime==1.42.0\n",
      "azureml-defaults==1.42.0\n",
      "azureml-inference-server-http==0.4.9\n",
      "azureml-interpret==1.42.0\n",
      "azureml-mlflow==1.42.0\n",
      "azureml-telemetry==1.42.0\n",
      "azureml-train-automl-client==1.42.0.post1\n",
      "azureml-train-automl-runtime==1.42.0.post1\n",
      "azureml-train-core==1.42.0\n",
      "azureml-train-restclients-hyperdrive==1.42.0\n",
      "azureml-training-tabular==1.42.0.post1\n",
      "backports.tempfile==1.0\n",
      "backports.weakref==1.0.post1\n",
      "bcrypt==3.2.2\n",
      "bokeh==2.4.3\n",
      "boto==2.49.0\n",
      "boto3==1.20.19\n",
      "botocore==1.23.19\n",
      "Brotli==1.0.9\n",
      "cachetools==5.2.0\n",
      "certifi @ file:///opt/conda/conda-bld/certifi_1655968806487/work/certifi\n",
      "cffi==1.15.1\n",
      "cftime @ file:///tmp/build/80754af9/cftime_1638345281172/work\n",
      "chardet==4.0.0\n",
      "charset-normalizer==2.1.0\n",
      "click==8.1.3\n",
      "cloudpickle==2.1.0\n",
      "configparser==3.7.4\n",
      "contextlib2==21.6.0\n",
      "convertdate @ file:///tmp/build/80754af9/convertdate_1634070773133/work\n",
      "cryptography==36.0.2\n",
      "cycler @ file:///tmp/build/80754af9/cycler_1637851556182/work\n",
      "Cython==0.29.17\n",
      "dask==2.30.0\n",
      "databricks-cli==0.17.0\n",
      "dataclasses==0.6\n",
      "dill==0.3.5.1\n",
      "distributed==2.30.1\n",
      "distro==1.7.0\n",
      "docker==5.0.3\n",
      "dotnetcore2==3.1.23\n",
      "entrypoints==0.4\n",
      "ephem @ file:///tmp/build/80754af9/ephem_1638960312619/work\n",
      "fbprophet @ file:///home/conda/feedstock_root/build_artifacts/fbprophet_1599365534439/work\n",
      "fire==0.4.0\n",
      "Flask==1.0.3\n",
      "flatbuffers==2.0\n",
      "fonttools==4.25.0\n",
      "fsspec==2022.5.0\n",
      "fusepy==3.0.1\n",
      "gensim==3.8.3\n",
      "gevent==21.12.0\n",
      "geventhttpclient==1.5.5\n",
      "gitdb==4.0.9\n",
      "GitPython==3.1.27\n",
      "google-api-core==2.8.2\n",
      "google-auth==2.9.0\n",
      "googleapis-common-protos==1.56.3\n",
      "greenlet==1.1.2\n",
      "grpcio==1.47.0\n",
      "grpcio-tools==1.38.1\n",
      "gunicorn==20.1.0\n",
      "HeapDict==1.0.1\n",
      "holidays @ file:///home/conda/feedstock_root/build_artifacts/holidays_1595448845196/work\n",
      "httptools==0.4.0\n",
      "humanfriendly==10.0\n",
      "idna==3.3\n",
      "importlib-metadata==4.12.0\n",
      "importlib-resources==5.8.0\n",
      "inference-schema==1.3.2\n",
      "interpret-community==0.25.0\n",
      "interpret-core==0.2.7\n",
      "isodate==0.6.1\n",
      "itsdangerous==1.1.0\n",
      "jeepney==0.8.0\n",
      "Jinja2==2.11.2\n",
      "jmespath==0.10.0\n",
      "joblib==0.14.1\n",
      "json-logging-py==0.2\n",
      "jsonpickle==2.2.0\n",
      "jsonschema==4.6.1\n",
      "keras2onnx==1.6.0\n",
      "kiwisolver @ file:///opt/conda/conda-bld/kiwisolver_1653292039266/work\n",
      "knack==0.9.0\n",
      "korean-lunar-calendar @ file:///tmp/build/80754af9/korean_lunar_calendar_1634063020401/work\n",
      "lightgbm==3.2.1\n",
      "llvmlite==0.36.0\n",
      "locket==1.0.0\n",
      "LunarCalendar @ file:///tmp/build/80754af9/lunarcalendar_1646383991234/work\n",
      "MarkupSafe==2.0.1\n",
      "matplotlib @ file:///tmp/build/80754af9/matplotlib-suite_1634667019719/work\n",
      "mkl-fft==1.3.0\n",
      "mkl-random==1.1.0\n",
      "mkl-service==2.3.0\n",
      "ml-wrappers==0.1.0\n",
      "mlflow-skinny==1.27.0\n",
      "msal==1.18.0\n",
      "msal-extensions==0.3.1\n",
      "msgpack==1.0.4\n",
      "msrest==0.6.21\n",
      "msrestazure==0.6.4\n",
      "multidict==5.2.0\n",
      "munkres==1.1.4\n",
      "ndg-httpsclient==0.5.1\n",
      "netCDF4==1.5.7\n",
      "nimbusml==1.8.0\n",
      "numba==0.53.1\n",
      "numpy==1.19.5\n",
      "oauthlib==3.2.0\n",
      "onnx==1.7.0\n",
      "onnxconverter-common==1.6.0\n",
      "onnxmltools==1.4.1\n",
      "onnxruntime==1.8.1\n",
      "opencensus==0.9.0\n",
      "opencensus-context==0.1.2\n",
      "opencensus-ext-azure==1.1.4\n",
      "packaging @ file:///tmp/build/80754af9/packaging_1637314298585/work\n",
      "pandas==1.1.5\n",
      "paramiko==2.11.0\n",
      "partd==1.2.0\n",
      "pathspec==0.9.0\n",
      "patsy==0.5.2\n",
      "Pillow==9.0.1\n",
      "pkginfo==1.8.3\n",
      "pmdarima==1.7.1\n",
      "portalocker==2.4.0\n",
      "protobuf==3.17.3\n",
      "psutil @ file:///tmp/build/80754af9/psutil_1612298016854/work\n",
      "pyarrow==3.0.0\n",
      "pyasn1==0.4.8\n",
      "pyasn1-modules==0.2.8\n",
      "pycparser==2.21\n",
      "Pygments==2.12.0\n",
      "PyJWT==2.4.0\n",
      "PyMeeus @ file:///tmp/build/80754af9/pymeeus_1634069098549/work\n",
      "PyNaCl==1.5.0\n",
      "pyOpenSSL==22.0.0\n",
      "pyparsing @ file:///tmp/build/80754af9/pyparsing_1635766073266/work\n",
      "pyrsistent==0.18.1\n",
      "PySocks==1.7.1\n",
      "pystan @ file:///tmp/build/80754af9/pystan_1613565226242/work\n",
      "python-dateutil @ file:///tmp/build/80754af9/python-dateutil_1626374649649/work\n",
      "python-rapidjson==1.6\n",
      "pytz @ file:///opt/conda/conda-bld/pytz_1654762638606/work\n",
      "PyYAML==6.0\n",
      "requests==2.28.1\n",
      "requests-oauthlib==1.3.1\n",
      "rsa==4.8\n",
      "s3transfer==0.5.2\n",
      "sanic==21.6.2\n",
      "Sanic-Cors==1.0.1\n",
      "sanic-plugin-toolkit==1.2.1\n",
      "sanic-routing==0.7.2\n",
      "scikit-learn==0.22.1\n",
      "scipy==1.5.2\n",
      "SecretStorage==3.3.2\n",
      "shap==0.39.0\n",
      "six @ file:///tmp/build/80754af9/six_1644875935023/work\n",
      "skl2onnx==1.4.9\n",
      "sklearn-pandas==1.7.0\n",
      "slicer==0.0.7\n",
      "smart-open==1.9.0\n",
      "smmap==5.0.0\n",
      "sortedcontainers==2.4.0\n",
      "statsmodels==0.11.1\n",
      "tabulate==0.8.10\n",
      "tblib==1.7.0\n",
      "termcolor==1.1.0\n",
      "toolz==0.11.2\n",
      "tornado @ file:///tmp/build/80754af9/tornado_1606942283357/work\n",
      "tqdm @ file:///opt/conda/conda-bld/tqdm_1650891076910/work\n",
      "tritonclient==2.11.0\n",
      "typing_extensions @ file:///opt/conda/conda-bld/typing_extensions_1647553014482/work\n",
      "ujson==5.4.0\n",
      "urllib3==1.26.9\n",
      "uvloop==0.16.0\n",
      "websocket-client==1.3.3\n",
      "websockets==10.3\n",
      "Werkzeug==2.1.2\n",
      "wrapt==1.12.1\n",
      "xarray @ file:///opt/conda/conda-bld/xarray_1639166117697/work\n",
      "xgboost==1.3.3\n",
      "yarl==1.7.2\n",
      "zict==2.2.0\n",
      "zipp==3.8.0\n",
      "zope.event==4.5.0\n",
      "zope.interface==5.4.0\n",
      "\n",
      "2022-07-05T15:05:27,051507067+00:00 | gunicorn/run | \n",
      "2022-07-05T15:05:27,054322865+00:00 | gunicorn/run | ###############################################\n",
      "2022-07-05T15:05:27,058043866+00:00 | gunicorn/run | AzureML Inference Server\n",
      "2022-07-05T15:05:27,065486068+00:00 | gunicorn/run | ###############################################\n",
      "2022-07-05T15:05:27,067872812+00:00 | gunicorn/run | \n",
      "2022-07-05T15:05:27,072650099+00:00 | gunicorn/run | \n",
      "2022-07-05T15:05:27,077249606+00:00 | gunicorn/run | Starting HTTP server\n",
      "2022-07-05T15:05:27,082289965+00:00 | gunicorn/run | \n",
      "Starting gunicorn 20.1.0\n",
      "Listening at: http://127.0.0.1:31311 (76)\n",
      "Using worker: sync\n",
      "worker timeout is set to 300\n",
      "Booting worker with pid: 126\n",
      "SPARK_HOME not set. Skipping PySpark Initialization.\n",
      "Initializing logger\n",
      "2022-07-05 15:05:30,569 | root | INFO | Starting up app insights client\n",
      "logging socket was found. logging is available.\n",
      "logging socket was found. logging is available.\n",
      "2022-07-05 15:05:30,570 | root | INFO | Starting up request id generator\n",
      "2022-07-05 15:05:30,571 | root | INFO | Starting up app insight hooks\n",
      "2022-07-05 15:05:30,571 | root | INFO | Invoking user's init function\n",
      "generated new fontManager\n",
      "Importing plotly failed. Interactive plots will not work.\n",
      "2022-07-05 15:05:39,508 | root | INFO | Users's init has completed successfully\n",
      "2022-07-05 15:05:39,525 | root | INFO | Skipping middleware: dbg_model_info as it's not enabled.\n",
      "2022-07-05 15:05:39,525 | root | INFO | Skipping middleware: dbg_resource_usage as it's not enabled.\n",
      "Generating swagger file: /tmp/tmp22azgpoh\n",
      "2022-07-05 15:05:39,534 | root | INFO | Scoring timeout is found from os.environ: 60000 ms\n",
      "2022-07-05 15:05:47,123 | root | INFO | 200\n",
      "127.0.0.1 - - [05/Jul/2022:15:05:47 +0000] \"GET /swagger.json HTTP/1.0\" 200 3511 \"-\" \"Go-http-client/1.1\"\n",
      "2022-07-05 15:05:52,802 | root | INFO | 200\n",
      "127.0.0.1 - - [05/Jul/2022:15:05:52 +0000] \"GET /swagger.json HTTP/1.0\" 200 3511 \"-\" \"Go-http-client/1.1\"\n",
      "2022-07-05 15:08:56,269 | root | INFO | 200\n",
      "127.0.0.1 - - [05/Jul/2022:15:08:56 +0000] \"GET /swagger.json HTTP/1.0\" 200 3511 \"-\" \"Go-http-client/1.1\"\n",
      "2022-07-05 15:14:21,657 | root | INFO | Validation Request Content-Type\n",
      "2022-07-05 15:14:21,699 | root | INFO | Scoring Timer is set to 60.0 seconds\n",
      "2022-07-05 15:15:21,704 | root | INFO | 200\n",
      "2022-07-05 15:19:16,053 | root | INFO | Validation Request Content-Type\n",
      "2022-07-05 15:19:16,054 | root | INFO | Scoring Timer is set to 60.0 seconds\n",
      "2022-07-05 15:19:16,953 | root | INFO | 200\n",
      "127.0.0.1 - - [05/Jul/2022:15:19:16 +0000] \"POST /score HTTP/1.0\" 200 1277 \"-\" \"python-requests/2.27.1\"\n",
      "2022-07-05 15:46:28,308 | root | INFO | Validation Request Content-Type\n",
      "2022-07-05 15:46:28,313 | root | INFO | Scoring Timer is set to 60.0 seconds\n",
      "2022-07-05 15:46:29,317 | root | INFO | 200\n",
      "127.0.0.1 - - [05/Jul/2022:15:46:29 +0000] \"POST /score HTTP/1.0\" 200 1471 \"-\" \"python-requests/2.27.1\"\n",
      "2022-07-05 15:47:48,244 | root | INFO | 200\n",
      "127.0.0.1 - - [05/Jul/2022:15:47:48 +0000] \"GET /swagger.json HTTP/1.0\" 200 3511 \"-\" \"Go-http-client/1.1\"\n",
      "\n"
     ]
    }
   ],
   "source": [
    "# Print the logs of the Web service\n",
    "logs = service.get_logs()\n",
    "for line in logs.split('\\n'):\n",
    "    print(line)"
   ]
  },
  {
   "cell_type": "markdown",
   "metadata": {},
   "source": [
    " # DELETE"
   ]
  },
  {
   "cell_type": "code",
   "execution_count": null,
   "metadata": {},
   "outputs": [],
   "source": [
    "# Remove the web service\n",
    "service.delete()\n",
    "\n",
    "# Remove the compute cluster\n",
    "compute_target.delete()"
   ]
  },
  {
   "cell_type": "markdown",
   "metadata": {},
   "source": [
    "**Submission Checklist**\n",
    "- I have registered the model.\n",
    "- I have deployed the model with the best accuracy as a webservice.\n",
    "- I have tested the webservice by sending a request to the model endpoint.\n",
    "- I have deleted the webservice and shutdown all the computes that I have used.\n",
    "- I have taken a screenshot showing the model endpoint as active.\n",
    "- The project includes a file containing the environment details.\n"
   ]
  },
  {
   "cell_type": "markdown",
   "metadata": {},
   "source": []
  }
 ],
 "metadata": {
  "kernel_info": {
   "name": "python3"
  },
  "kernelspec": {
   "display_name": "Python 3 (ipykernel)",
   "language": "python",
   "name": "python3"
  },
  "language_info": {
   "codemirror_mode": {
    "name": "ipython",
    "version": 3
   },
   "file_extension": ".py",
   "mimetype": "text/x-python",
   "name": "python",
   "nbconvert_exporter": "python",
   "pygments_lexer": "ipython3",
   "version": "3.8.5"
  },
  "nteract": {
   "version": "nteract-front-end@1.0.0"
  }
 },
 "nbformat": 4,
 "nbformat_minor": 2
}
