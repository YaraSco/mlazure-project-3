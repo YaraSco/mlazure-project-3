{
 "cells": [
  {
   "cell_type": "markdown",
   "metadata": {},
   "source": [
    "# Automated ML\n",
    "\n",
    "TODO: Import Dependencies. In the cell below, import all the dependencies that you will need to complete the project."
   ]
  },
  {
   "cell_type": "code",
   "execution_count": 63,
   "metadata": {
    "gather": {
     "logged": 1598423888013
    },
    "jupyter": {
     "outputs_hidden": false,
     "source_hidden": false
    },
    "nteract": {
     "transient": {
      "deleting": false
     }
    }
   },
   "outputs": [
    {
     "name": "stdout",
     "output_type": "stream",
     "text": [
      "SDK version: 1.42.0\n"
     ]
    }
   ],
   "source": [
    "import logging\n",
    "import os\n",
    "import io\n",
    "import joblib\n",
    "import json\n",
    "import math\n",
    "import requests\n",
    "import numpy as np\n",
    "import pandas as pd\n",
    "import datetime\n",
    "import azureml.core\n",
    "import azureml.automl\n",
    "\n",
    "from azureml.core.experiment import Experiment\n",
    "from azureml.core.workspace import Workspace\n",
    "from azureml.train.automl import AutoMLConfig\n",
    "from azureml.core.dataset import Dataset\n",
    "\n",
    "from azureml.core.compute import ComputeTarget, AmlCompute\n",
    "from azureml.core.compute_target import ComputeTargetException\n",
    "\n",
    "from azureml.widgets import RunDetails\n",
    "\n",
    "from azureml.core.environment import Environment\n",
    "from azureml.automl.core.shared import constants\n",
    "\n",
    "from azureml.core.model import InferenceConfig\n",
    "from azureml.core.webservice import AciWebservice\n",
    "from azureml.core.model import Model\n",
    "\n",
    "# Check core SDK version number\n",
    "print(\"SDK version:\", azureml.core.VERSION)"
   ]
  },
  {
   "cell_type": "markdown",
   "metadata": {},
   "source": [
    "## Dataset\n",
    "\n",
    "### Overview\n",
    "TODO: In this markdown cell, give an overview of the dataset you are using. Also mention the task you will be performing.\n",
    "\n",
    "\n",
    "TODO: Get data. In the cell below, write code to access the data you will be using in this project. Remember that the dataset needs to be external."
   ]
  },
  {
   "cell_type": "code",
   "execution_count": 2,
   "metadata": {
    "gather": {
     "logged": 1598423890461
    },
    "jupyter": {
     "outputs_hidden": false,
     "source_hidden": false
    },
    "nteract": {
     "transient": {
      "deleting": false
     }
    }
   },
   "outputs": [
    {
     "name": "stdout",
     "output_type": "stream",
     "text": [
      "quick-starts-ws-200358\n",
      "aml-quickstarts-200358\n",
      "southcentralus\n",
      "81cefad3-d2c9-4f77-a466-99a7f541c7bb\n"
     ]
    }
   ],
   "source": [
    "ws = Workspace.from_config()\n",
    "print(ws.name, ws.resource_group, ws.location, ws.subscription_id, sep = '\\n')\n",
    "\n",
    "# choose a name for experiment\n",
    "experiment_name = 'automl-forecast'\n",
    "\n",
    "experiment=Experiment(ws, experiment_name)"
   ]
  },
  {
   "cell_type": "code",
   "execution_count": 3,
   "metadata": {},
   "outputs": [
    {
     "name": "stdout",
     "output_type": "stream",
     "text": [
      "A new compute target has been created.\n",
      "InProgress.\n",
      "SucceededProvisioning operation finished, operation \"Succeeded\"\n",
      "Succeeded\n",
      "AmlCompute wait for completion finished\n",
      "\n",
      "Minimum number of nodes requested have been provisioned\n"
     ]
    }
   ],
   "source": [
    "# Create or attach a compute cluster\n",
    "cluster_name = \"canina-cluster\"\n",
    "\n",
    "try:\n",
    "    compute_target = ComputeTarget(workspace=ws, name=cluster_name)\n",
    "    print('This compute target already exists.')\n",
    "except ComputeTargetException:\n",
    "    compute_config = AmlCompute.provisioning_configuration(vm_size=\"Standard_D2_V2\",\n",
    "                                                          max_nodes=4)\n",
    "    compute_target = ComputeTarget.create(ws, cluster_name, compute_config)\n",
    "    print('A new compute target has been created.')\n",
    "    \n",
    "compute_target.wait_for_completion(show_output=True, min_node_count=0, timeout_in_minutes=10)"
   ]
  },
  {
   "cell_type": "code",
   "execution_count": 4,
   "metadata": {},
   "outputs": [],
   "source": [
    "DATA_DIR = os.path.join(os.path.abspath(os.getcwd()), \"ojdata\")\n",
    "LAST_WEEK = 138\n",
    "NUM_WEEK_TEST = 3\n",
    "time_column_name = \"week_start\"\n",
    "grain_column_names = [\"store\", \"brand\"]\n",
    "target = \"move\"\n",
    "\n",
    "# The start datetime of the first week in the record\n",
    "FIRST_WEEK_START = pd.to_datetime(\"1989-09-14 00:00:00\")\n",
    "\n",
    "df = pd.read_csv(os.path.join(DATA_DIR, \"yx.csv\"))\n",
    "df = df.loc[df.week <= LAST_WEEK]"
   ]
  },
  {
   "cell_type": "code",
   "execution_count": 5,
   "metadata": {},
   "outputs": [],
   "source": [
    "# Convert logarithm of the unit sales to unit sales\n",
    "df[\"move\"] = df[\"logmove\"].apply(lambda x: round(math.exp(x)))\n",
    "\n",
    "# Add timestamp column\n",
    "df[\"week_start\"] = df[\"week\"].apply(lambda x: FIRST_WEEK_START + datetime.timedelta(days=(x - 1) * 7))"
   ]
  },
  {
   "cell_type": "code",
   "execution_count": 6,
   "metadata": {},
   "outputs": [],
   "source": [
    "# Split data into training and test sets\n",
    "\n",
    "def split_last_n_by_grain(df, n):\n",
    "    \"\"\"Group df by grain and split on last n rows for each group.\"\"\"\n",
    "    df_grouped = df.sort_values(time_column_name).groupby(\n",
    "        grain_column_names, group_keys=False\n",
    "    )\n",
    "    df_head = df_grouped.apply(lambda dfg: dfg.iloc[:-n])\n",
    "    df_tail = df_grouped.apply(lambda dfg: dfg.iloc[-n:])\n",
    "    return df_head, df_tail\n",
    "\n",
    "# Drop \"logmove\", because it is a leaky feature\n",
    "df.drop(\"logmove\", axis=1, inplace=True)\n",
    "\n",
    "train_df, test_df = split_last_n_by_grain(df, NUM_WEEK_TEST)\n",
    "\n",
    "train_df.reset_index(drop=True)\n",
    "test_df.reset_index(drop=True)\n",
    "\n",
    "local_data_paths = [\n",
    "    os.path.join(DATA_DIR, \"train_automl.csv\"),\n",
    "    os.path.join(DATA_DIR, \"test_automl.csv\")\n",
    "]\n",
    "\n",
    "train_df.to_csv(local_data_paths[0], index=None, header=True)\n",
    "test_df.to_csv(local_data_paths[1], index=None, header=True)"
   ]
  },
  {
   "cell_type": "code",
   "execution_count": 7,
   "metadata": {},
   "outputs": [
    {
     "name": "stderr",
     "output_type": "stream",
     "text": [
      "\"datastore.upload_files\" is deprecated after version 1.0.69. Please use \"FileDatasetFactory.upload_directory\" instead. See Dataset API change notice at https://aka.ms/dataset-deprecation.\n"
     ]
    },
    {
     "data": {
      "text/plain": [
       "$AZUREML_DATAREFERENCE_70c27ba3602842e19838892db7dd042e"
      ]
     },
     "execution_count": 7,
     "metadata": {},
     "output_type": "execute_result"
    }
   ],
   "source": [
    "# Upload data to datastore\n",
    "\n",
    "ds = ws.get_default_datastore()\n",
    "ds.upload_files(\n",
    "    files=local_data_paths, \n",
    "    target_path=\"dataset/\", \n",
    "    overwrite=True, \n",
    "    show_progress=False)"
   ]
  },
  {
   "cell_type": "code",
   "execution_count": 8,
   "metadata": {},
   "outputs": [],
   "source": [
    "train_dataset = Dataset.Tabular.from_delimited_files(path=ds.path(\"dataset/train_automl.csv\"))"
   ]
  },
  {
   "cell_type": "code",
   "execution_count": 9,
   "metadata": {},
   "outputs": [
    {
     "data": {
      "text/html": [
       "<div>\n",
       "<style scoped>\n",
       "    .dataframe tbody tr th:only-of-type {\n",
       "        vertical-align: middle;\n",
       "    }\n",
       "\n",
       "    .dataframe tbody tr th {\n",
       "        vertical-align: top;\n",
       "    }\n",
       "\n",
       "    .dataframe thead th {\n",
       "        text-align: right;\n",
       "    }\n",
       "</style>\n",
       "<table border=\"1\" class=\"dataframe\">\n",
       "  <thead>\n",
       "    <tr style=\"text-align: right;\">\n",
       "      <th></th>\n",
       "      <th>store</th>\n",
       "      <th>brand</th>\n",
       "      <th>week</th>\n",
       "      <th>constant</th>\n",
       "      <th>price1</th>\n",
       "      <th>price2</th>\n",
       "      <th>price3</th>\n",
       "      <th>price4</th>\n",
       "      <th>price5</th>\n",
       "      <th>price6</th>\n",
       "      <th>price7</th>\n",
       "      <th>price8</th>\n",
       "      <th>price9</th>\n",
       "      <th>price10</th>\n",
       "      <th>price11</th>\n",
       "      <th>deal</th>\n",
       "      <th>feat</th>\n",
       "      <th>profit</th>\n",
       "      <th>move</th>\n",
       "      <th>week_start</th>\n",
       "    </tr>\n",
       "  </thead>\n",
       "  <tbody>\n",
       "    <tr>\n",
       "      <th>0</th>\n",
       "      <td>2</td>\n",
       "      <td>1</td>\n",
       "      <td>40</td>\n",
       "      <td>1</td>\n",
       "      <td>0.060469</td>\n",
       "      <td>0.060497</td>\n",
       "      <td>0.042031</td>\n",
       "      <td>0.029531</td>\n",
       "      <td>0.049531</td>\n",
       "      <td>0.053021</td>\n",
       "      <td>0.038906</td>\n",
       "      <td>0.041406</td>\n",
       "      <td>0.028906</td>\n",
       "      <td>0.024844</td>\n",
       "      <td>0.038984</td>\n",
       "      <td>1</td>\n",
       "      <td>0.0</td>\n",
       "      <td>37.992326</td>\n",
       "      <td>8256</td>\n",
       "      <td>1990-06-14</td>\n",
       "    </tr>\n",
       "    <tr>\n",
       "      <th>1</th>\n",
       "      <td>2</td>\n",
       "      <td>1</td>\n",
       "      <td>46</td>\n",
       "      <td>1</td>\n",
       "      <td>0.060469</td>\n",
       "      <td>0.060312</td>\n",
       "      <td>0.045156</td>\n",
       "      <td>0.046719</td>\n",
       "      <td>0.049531</td>\n",
       "      <td>0.047813</td>\n",
       "      <td>0.045781</td>\n",
       "      <td>0.027969</td>\n",
       "      <td>0.042969</td>\n",
       "      <td>0.042031</td>\n",
       "      <td>0.038984</td>\n",
       "      <td>0</td>\n",
       "      <td>0.0</td>\n",
       "      <td>30.126667</td>\n",
       "      <td>6144</td>\n",
       "      <td>1990-07-26</td>\n",
       "    </tr>\n",
       "    <tr>\n",
       "      <th>2</th>\n",
       "      <td>2</td>\n",
       "      <td>1</td>\n",
       "      <td>47</td>\n",
       "      <td>1</td>\n",
       "      <td>0.060469</td>\n",
       "      <td>0.060312</td>\n",
       "      <td>0.045156</td>\n",
       "      <td>0.046719</td>\n",
       "      <td>0.037344</td>\n",
       "      <td>0.053021</td>\n",
       "      <td>0.045781</td>\n",
       "      <td>0.041406</td>\n",
       "      <td>0.048125</td>\n",
       "      <td>0.032656</td>\n",
       "      <td>0.038984</td>\n",
       "      <td>0</td>\n",
       "      <td>0.0</td>\n",
       "      <td>30.000000</td>\n",
       "      <td>3840</td>\n",
       "      <td>1990-08-02</td>\n",
       "    </tr>\n",
       "    <tr>\n",
       "      <th>3</th>\n",
       "      <td>2</td>\n",
       "      <td>1</td>\n",
       "      <td>48</td>\n",
       "      <td>1</td>\n",
       "      <td>0.060469</td>\n",
       "      <td>0.060312</td>\n",
       "      <td>0.049844</td>\n",
       "      <td>0.037344</td>\n",
       "      <td>0.049531</td>\n",
       "      <td>0.053021</td>\n",
       "      <td>0.045781</td>\n",
       "      <td>0.041406</td>\n",
       "      <td>0.042344</td>\n",
       "      <td>0.032656</td>\n",
       "      <td>0.038984</td>\n",
       "      <td>0</td>\n",
       "      <td>0.0</td>\n",
       "      <td>29.950000</td>\n",
       "      <td>8000</td>\n",
       "      <td>1990-08-09</td>\n",
       "    </tr>\n",
       "    <tr>\n",
       "      <th>4</th>\n",
       "      <td>2</td>\n",
       "      <td>1</td>\n",
       "      <td>50</td>\n",
       "      <td>1</td>\n",
       "      <td>0.060469</td>\n",
       "      <td>0.060312</td>\n",
       "      <td>0.043594</td>\n",
       "      <td>0.031094</td>\n",
       "      <td>0.049531</td>\n",
       "      <td>0.053021</td>\n",
       "      <td>0.046648</td>\n",
       "      <td>0.041406</td>\n",
       "      <td>0.042344</td>\n",
       "      <td>0.032656</td>\n",
       "      <td>0.038203</td>\n",
       "      <td>0</td>\n",
       "      <td>0.0</td>\n",
       "      <td>29.920000</td>\n",
       "      <td>8896</td>\n",
       "      <td>1990-08-23</td>\n",
       "    </tr>\n",
       "  </tbody>\n",
       "</table>\n",
       "</div>"
      ],
      "text/plain": [
       "   store  brand  week  constant    price1    price2    price3    price4  \\\n",
       "0      2      1    40         1  0.060469  0.060497  0.042031  0.029531   \n",
       "1      2      1    46         1  0.060469  0.060312  0.045156  0.046719   \n",
       "2      2      1    47         1  0.060469  0.060312  0.045156  0.046719   \n",
       "3      2      1    48         1  0.060469  0.060312  0.049844  0.037344   \n",
       "4      2      1    50         1  0.060469  0.060312  0.043594  0.031094   \n",
       "\n",
       "     price5    price6    price7    price8    price9   price10   price11  deal  \\\n",
       "0  0.049531  0.053021  0.038906  0.041406  0.028906  0.024844  0.038984     1   \n",
       "1  0.049531  0.047813  0.045781  0.027969  0.042969  0.042031  0.038984     0   \n",
       "2  0.037344  0.053021  0.045781  0.041406  0.048125  0.032656  0.038984     0   \n",
       "3  0.049531  0.053021  0.045781  0.041406  0.042344  0.032656  0.038984     0   \n",
       "4  0.049531  0.053021  0.046648  0.041406  0.042344  0.032656  0.038203     0   \n",
       "\n",
       "   feat     profit  move week_start  \n",
       "0   0.0  37.992326  8256 1990-06-14  \n",
       "1   0.0  30.126667  6144 1990-07-26  \n",
       "2   0.0  30.000000  3840 1990-08-02  \n",
       "3   0.0  29.950000  8000 1990-08-09  \n",
       "4   0.0  29.920000  8896 1990-08-23  "
      ]
     },
     "execution_count": 9,
     "metadata": {},
     "output_type": "execute_result"
    }
   ],
   "source": [
    "# Visualize the first five lines of the training dataset\n",
    "\n",
    "train_dataset.to_pandas_dataframe().head(5)"
   ]
  },
  {
   "cell_type": "markdown",
   "metadata": {},
   "source": [
    "## AutoML Configuration\n",
    "\n",
    "TODO: Explain why you chose the automl settings and cofiguration you used below."
   ]
  },
  {
   "cell_type": "code",
   "execution_count": 10,
   "metadata": {
    "gather": {
     "logged": 1598429217746
    },
    "jupyter": {
     "outputs_hidden": false,
     "source_hidden": false
    },
    "nteract": {
     "transient": {
      "deleting": false
     }
    }
   },
   "outputs": [],
   "source": [
    "# Forecast settings\n",
    "forecast_settings = {\n",
    "    \"time_column_name\": time_column_name,\n",
    "    \"grain_column_names\": grain_column_names,\n",
    "    \"max_horizon\": NUM_WEEK_TEST\n",
    "}\n",
    "# Automl settings \n",
    "automl_settings = {\n",
    "    \"experiment_timeout_hours\" : 1.2,\n",
    "    \"primary_metric\" : \"mean_absolute_percentage_error\",\n",
    "    \"n_cross_validations\" : 3\n",
    "}\n",
    "\n",
    "# Automl config \n",
    "automl_config = AutoMLConfig(\n",
    "    task=\"forecasting\",\n",
    "    debug_log=\"automl_errors.log\",\n",
    "    training_data=train_dataset,\n",
    "    label_column_name=target,\n",
    "    compute_target=compute_target,\n",
    "    enable_early_stopping=True,\n",
    "    verbosity=logging.INFO,\n",
    "    **automl_settings,\n",
    "    **forecast_settings\n",
    ")"
   ]
  },
  {
   "cell_type": "code",
   "execution_count": 11,
   "metadata": {
    "gather": {
     "logged": 1598431107951
    },
    "jupyter": {
     "outputs_hidden": false,
     "source_hidden": false
    },
    "nteract": {
     "transient": {
      "deleting": false
     }
    }
   },
   "outputs": [
    {
     "name": "stdout",
     "output_type": "stream",
     "text": [
      "Submitting remote run.\n"
     ]
    },
    {
     "data": {
      "text/html": [
       "<table style=\"width:100%\"><tr><th>Experiment</th><th>Id</th><th>Type</th><th>Status</th><th>Details Page</th><th>Docs Page</th></tr><tr><td>automl-forecast</td><td>AutoML_c2e81835-efbf-42ad-9fe5-6daf5e505a99</td><td>automl</td><td>NotStarted</td><td><a href=\"https://ml.azure.com/runs/AutoML_c2e81835-efbf-42ad-9fe5-6daf5e505a99?wsid=/subscriptions/81cefad3-d2c9-4f77-a466-99a7f541c7bb/resourcegroups/aml-quickstarts-200358/workspaces/quick-starts-ws-200358&amp;tid=660b3398-b80e-49d2-bc5b-ac1dc93b5254\" target=\"_blank\" rel=\"noopener\">Link to Azure Machine Learning studio</a></td><td><a href=\"https://docs.microsoft.com/en-us/python/api/overview/azure/ml/intro?view=azure-ml-py\" target=\"_blank\" rel=\"noopener\">Link to Documentation</a></td></tr></table>"
      ],
      "text/plain": [
       "<IPython.core.display.HTML object>"
      ]
     },
     "metadata": {},
     "output_type": "display_data"
    }
   ],
   "source": [
    "# Submit the experiment\n",
    "remote_run = experiment.submit(automl_config)"
   ]
  },
  {
   "cell_type": "markdown",
   "metadata": {},
   "source": [
    "## Run Details\n",
    "\n",
    "OPTIONAL: Write about the different models trained and their performance. Why do you think some models did better than others?\n",
    "\n",
    "TODO: In the cell below, use the `RunDetails` widget to show the different experiments."
   ]
  },
  {
   "cell_type": "code",
   "execution_count": 12,
   "metadata": {
    "gather": {
     "logged": 1598431121770
    },
    "jupyter": {
     "outputs_hidden": false,
     "source_hidden": false
    },
    "nteract": {
     "transient": {
      "deleting": false
     }
    },
    "scrolled": false
   },
   "outputs": [
    {
     "data": {
      "application/vnd.jupyter.widget-view+json": {
       "model_id": "a31647a4d6544401a1367c2c82bc2316",
       "version_major": 2,
       "version_minor": 0
      },
      "text/plain": [
       "_AutoMLWidget(widget_settings={'childWidgetDisplay': 'popup', 'send_telemetry': False, 'log_level': 'INFO', 's…"
      ]
     },
     "metadata": {},
     "output_type": "display_data"
    },
    {
     "data": {
      "application/aml.mini.widget.v1": "{\"status\": \"Completed\", \"workbench_run_details_uri\": \"https://ml.azure.com/runs/AutoML_c2e81835-efbf-42ad-9fe5-6daf5e505a99?wsid=/subscriptions/81cefad3-d2c9-4f77-a466-99a7f541c7bb/resourcegroups/aml-quickstarts-200358/workspaces/quick-starts-ws-200358&tid=660b3398-b80e-49d2-bc5b-ac1dc93b5254\", \"run_id\": \"AutoML_c2e81835-efbf-42ad-9fe5-6daf5e505a99\", \"run_properties\": {\"run_id\": \"AutoML_c2e81835-efbf-42ad-9fe5-6daf5e505a99\", \"created_utc\": \"2022-07-06T06:52:22.834867Z\", \"properties\": {\"num_iterations\": \"1000\", \"training_type\": \"TrainFull\", \"acquisition_function\": \"EI\", \"primary_metric\": \"normalized_mean_absolute_error\", \"train_split\": \"0\", \"acquisition_parameter\": \"0\", \"num_cross_validation\": \"3\", \"target\": \"canina-cluster\", \"AMLSettingsJsonString\": \"{\\\"path\\\":null,\\\"name\\\":\\\"automl-forecast\\\",\\\"subscription_id\\\":\\\"81cefad3-d2c9-4f77-a466-99a7f541c7bb\\\",\\\"resource_group\\\":\\\"aml-quickstarts-200358\\\",\\\"workspace_name\\\":\\\"quick-starts-ws-200358\\\",\\\"region\\\":\\\"southcentralus\\\",\\\"compute_target\\\":\\\"canina-cluster\\\",\\\"spark_service\\\":null,\\\"azure_service\\\":\\\"remote\\\",\\\"many_models\\\":false,\\\"pipeline_fetch_max_batch_size\\\":1,\\\"enable_batch_run\\\":true,\\\"enable_run_restructure\\\":false,\\\"start_auxiliary_runs_before_parent_complete\\\":false,\\\"enable_code_generation\\\":true,\\\"iterations\\\":1000,\\\"primary_metric\\\":\\\"normalized_mean_absolute_error\\\",\\\"task_type\\\":\\\"regression\\\",\\\"positive_label\\\":null,\\\"data_script\\\":null,\\\"test_size\\\":0.0,\\\"test_include_predictions_only\\\":false,\\\"validation_size\\\":0.0,\\\"n_cross_validations\\\":3,\\\"y_min\\\":null,\\\"y_max\\\":null,\\\"num_classes\\\":null,\\\"featurization\\\":\\\"auto\\\",\\\"_ignore_package_version_incompatibilities\\\":false,\\\"is_timeseries\\\":true,\\\"max_cores_per_iteration\\\":1,\\\"max_concurrent_iterations\\\":1,\\\"iteration_timeout_minutes\\\":null,\\\"mem_in_mb\\\":null,\\\"enforce_time_on_windows\\\":false,\\\"experiment_timeout_minutes\\\":72,\\\"experiment_exit_score\\\":null,\\\"partition_column_names\\\":null,\\\"whitelist_models\\\":null,\\\"blacklist_algos\\\":[\\\"TensorFlowDNN\\\",\\\"TensorFlowLinearRegressor\\\"],\\\"supported_models\\\":[\\\"ElasticNet\\\",\\\"ExponentialSmoothing\\\",\\\"TensorFlowLinearRegressor\\\",\\\"Naive\\\",\\\"DecisionTree\\\",\\\"AutoArima\\\",\\\"TCNForecaster\\\",\\\"Average\\\",\\\"TensorFlowDNN\\\",\\\"GradientBoosting\\\",\\\"TabnetRegressor\\\",\\\"SGD\\\",\\\"XGBoostRegressor\\\",\\\"SeasonalAverage\\\",\\\"ExtremeRandomTrees\\\",\\\"Prophet\\\",\\\"SeasonalNaive\\\",\\\"LightGBM\\\",\\\"RandomForest\\\",\\\"Arimax\\\",\\\"LassoLars\\\",\\\"KNN\\\"],\\\"private_models\\\":[],\\\"auto_blacklist\\\":true,\\\"blacklist_samples_reached\\\":false,\\\"exclude_nan_labels\\\":true,\\\"verbosity\\\":20,\\\"_debug_log\\\":\\\"azureml_automl.log\\\",\\\"show_warnings\\\":false,\\\"model_explainability\\\":true,\\\"service_url\\\":null,\\\"sdk_url\\\":null,\\\"sdk_packages\\\":null,\\\"enable_onnx_compatible_models\\\":false,\\\"enable_split_onnx_featurizer_estimator_models\\\":false,\\\"vm_type\\\":\\\"STANDARD_D2_V2\\\",\\\"telemetry_verbosity\\\":20,\\\"send_telemetry\\\":true,\\\"enable_dnn\\\":false,\\\"scenario\\\":\\\"SDK-1.13.0\\\",\\\"environment_label\\\":null,\\\"save_mlflow\\\":false,\\\"enable_categorical_indicators\\\":false,\\\"force_text_dnn\\\":false,\\\"enable_feature_sweeping\\\":false,\\\"time_column_name\\\":\\\"week_start\\\",\\\"grain_column_names\\\":[\\\"store\\\",\\\"brand\\\"],\\\"drop_column_names\\\":[],\\\"max_horizon\\\":3,\\\"dropna\\\":false,\\\"overwrite_columns\\\":true,\\\"transform_dictionary\\\":{\\\"min\\\":\\\"_automl_target_col\\\",\\\"max\\\":\\\"_automl_target_col\\\",\\\"mean\\\":\\\"_automl_target_col\\\"},\\\"window_size\\\":null,\\\"country_or_region\\\":null,\\\"lags\\\":null,\\\"feature_lags\\\":null,\\\"seasonality\\\":\\\"auto\\\",\\\"use_stl\\\":null,\\\"short_series_handling\\\":true,\\\"freq\\\":null,\\\"short_series_handling_configuration\\\":\\\"auto\\\",\\\"target_aggregation_function\\\":null,\\\"cv_step_size\\\":1,\\\"has_multiple_series\\\":true,\\\"enable_early_stopping\\\":true,\\\"early_stopping_n_iters\\\":10,\\\"arguments\\\":null,\\\"dataset_id\\\":\\\"5588b41a-9ddc-4de6-b337-d2e62d86f3b3\\\",\\\"hyperdrive_config\\\":null,\\\"validation_dataset_id\\\":null,\\\"run_source\\\":null,\\\"metrics\\\":null,\\\"enable_metric_confidence\\\":false,\\\"enable_ensembling\\\":true,\\\"enable_stack_ensembling\\\":false,\\\"ensemble_iterations\\\":15,\\\"enable_tf\\\":false,\\\"enable_subsampling\\\":false,\\\"subsample_seed\\\":null,\\\"enable_nimbusml\\\":false,\\\"enable_streaming\\\":false,\\\"force_streaming\\\":false,\\\"track_child_runs\\\":true,\\\"allowed_private_models\\\":[],\\\"label_column_name\\\":\\\"move\\\",\\\"weight_column_name\\\":null,\\\"cv_split_column_names\\\":null,\\\"enable_local_managed\\\":false,\\\"_local_managed_run_id\\\":null,\\\"cost_mode\\\":1,\\\"lag_length\\\":0,\\\"metric_operation\\\":\\\"minimize\\\",\\\"preprocess\\\":true}\", \"DataPrepJsonString\": \"{\\\\\\\"training_data\\\\\\\": {\\\\\\\"datasetId\\\\\\\": \\\\\\\"5588b41a-9ddc-4de6-b337-d2e62d86f3b3\\\\\\\"}, \\\\\\\"datasets\\\\\\\": 0}\", \"EnableSubsampling\": \"False\", \"runTemplate\": \"AutoML\", \"azureml.runsource\": \"automl\", \"display_task_type\": \"forecasting\", \"dependencies_versions\": \"{\\\"azureml-widgets\\\": \\\"1.42.0\\\", \\\"azureml-training-tabular\\\": \\\"1.42.0\\\", \\\"azureml-train\\\": \\\"1.42.0\\\", \\\"azureml-train-restclients-hyperdrive\\\": \\\"1.42.0\\\", \\\"azureml-train-core\\\": \\\"1.42.0\\\", \\\"azureml-train-automl\\\": \\\"1.42.0\\\", \\\"azureml-train-automl-runtime\\\": \\\"1.42.0\\\", \\\"azureml-train-automl-client\\\": \\\"1.42.0\\\", \\\"azureml-tensorboard\\\": \\\"1.42.0\\\", \\\"azureml-telemetry\\\": \\\"1.42.0\\\", \\\"azureml-sdk\\\": \\\"1.42.0\\\", \\\"azureml-samples\\\": \\\"0+unknown\\\", \\\"azureml-responsibleai\\\": \\\"1.42.0\\\", \\\"azureml-pipeline\\\": \\\"1.42.0\\\", \\\"azureml-pipeline-steps\\\": \\\"1.42.0\\\", \\\"azureml-pipeline-core\\\": \\\"1.42.0\\\", \\\"azureml-opendatasets\\\": \\\"1.42.0\\\", \\\"azureml-mlflow\\\": \\\"1.42.0\\\", \\\"azureml-interpret\\\": \\\"1.42.0\\\", \\\"azureml-inference-server-http\\\": \\\"0.4.13\\\", \\\"azureml-explain-model\\\": \\\"1.42.0\\\", \\\"azureml-defaults\\\": \\\"1.42.0\\\", \\\"azureml-dataset-runtime\\\": \\\"1.42.0\\\", \\\"azureml-dataprep\\\": \\\"4.0.1\\\", \\\"azureml-dataprep-rslex\\\": \\\"2.6.1\\\", \\\"azureml-dataprep-native\\\": \\\"38.0.0\\\", \\\"azureml-datadrift\\\": \\\"1.42.0\\\", \\\"azureml-core\\\": \\\"1.42.0\\\", \\\"azureml-contrib-services\\\": \\\"1.42.0\\\", \\\"azureml-contrib-server\\\": \\\"1.42.0\\\", \\\"azureml-contrib-reinforcementlearning\\\": \\\"1.42.0\\\", \\\"azureml-contrib-pipeline-steps\\\": \\\"1.42.0\\\", \\\"azureml-contrib-notebook\\\": \\\"1.42.0\\\", \\\"azureml-contrib-fairness\\\": \\\"1.42.0\\\", \\\"azureml-contrib-dataset\\\": \\\"1.42.0\\\", \\\"azureml-contrib-automl-pipeline-steps\\\": \\\"1.42.0\\\", \\\"azureml-cli-common\\\": \\\"1.42.0\\\", \\\"azureml-automl-runtime\\\": \\\"1.42.0\\\", \\\"azureml-automl-dnn-nlp\\\": \\\"1.42.0\\\", \\\"azureml-automl-core\\\": \\\"1.42.0\\\", \\\"azureml-accel-models\\\": \\\"1.42.0\\\"}\", \"_aml_system_scenario_identification\": \"Remote.Parent\", \"ClientType\": \"SDK\", \"environment_cpu_name\": \"AzureML-AutoML\", \"environment_cpu_label\": \"prod\", \"environment_gpu_name\": \"AzureML-AutoML-GPU\", \"environment_gpu_label\": \"prod\", \"root_attribution\": \"automl\", \"attribution\": \"AutoML\", \"Orchestrator\": \"AutoML\", \"CancelUri\": \"https://southcentralus.api.azureml.ms/jasmine/v1.0/subscriptions/81cefad3-d2c9-4f77-a466-99a7f541c7bb/resourceGroups/aml-quickstarts-200358/providers/Microsoft.MachineLearningServices/workspaces/quick-starts-ws-200358/experimentids/c3450aba-2109-4cb2-8590-6580a5aee56f/cancel/AutoML_c2e81835-efbf-42ad-9fe5-6daf5e505a99\", \"ClientSdkVersion\": \"1.42.0.post1\", \"snapshotId\": \"00000000-0000-0000-0000-000000000000\", \"SetupRunId\": \"AutoML_c2e81835-efbf-42ad-9fe5-6daf5e505a99_setup\", \"SetupRunContainerId\": \"dcid.AutoML_c2e81835-efbf-42ad-9fe5-6daf5e505a99_setup\", \"forecasting_target_lags\": \"[0]\", \"forecasting_target_rolling_window_size\": \"0\", \"forecasting_max_horizon\": \"3\", \"forecasting_freq\": \"W-THU\", \"ProblemInfoJsonString\": \"{\\\"dataset_num_categorical\\\": 0, \\\"is_sparse\\\": false, \\\"subsampling\\\": false, \\\"has_extra_col\\\": true, \\\"dataset_classes\\\": 2253, \\\"dataset_features\\\": 41, \\\"dataset_samples\\\": 86966, \\\"single_frequency_class_detected\\\": false, \\\"series_column_count\\\": 2, \\\"series_count\\\": 913, \\\"series_len_min\\\": 62, \\\"series_len_max\\\": 96, \\\"series_len_avg\\\": 92.19277108433735, \\\"series_len_perc_25\\\": 91.0, \\\"series_len_perc_50\\\": 93.0, \\\"series_len_perc_75\\\": 95.0}\", \"ModelExplainRunId\": \"AutoML_c2e81835-efbf-42ad-9fe5-6daf5e505a99_ModelExplain\"}, \"tags\": {\"model_explain_run\": \"best_run\", \"_aml_system_automl_run_workspace_id\": \"c396e29c-7962-4c82-af10-684b913d6dcd\", \"_aml_system_azureml.automlComponent\": \"AutoML\", \"pipeline_id\": \"\", \"score\": \"\", \"predicted_cost\": \"\", \"fit_time\": \"\", \"training_percent\": \"\", \"iteration\": \"\", \"run_preprocessor\": \"\", \"run_algorithm\": \"\", \"_aml_system_azureml.automl_early_exit_message\": \"Experiment timeout reached, hence experiment stopped. Current experiment timeout: 1 hour(s) 12 minute(s)\", \"automl_best_child_run_id\": \"AutoML_c2e81835-efbf-42ad-9fe5-6daf5e505a99_20\", \"model_explain_best_run_child_id\": \"AutoML_c2e81835-efbf-42ad-9fe5-6daf5e505a99_20\"}, \"end_time_utc\": \"2022-07-06T08:25:18.246592Z\", \"status\": \"Completed\", \"log_files\": {}, \"log_groups\": [], \"run_duration\": \"1:32:55\", \"run_number\": \"1657090342\", \"run_queued_details\": {\"status\": \"Completed\", \"details\": null}}, \"child_runs\": [{\"run_id\": \"AutoML_c2e81835-efbf-42ad-9fe5-6daf5e505a99_setup\", \"run_number\": 1657090355, \"metric\": null, \"status\": \"Completed\", \"run_type\": \"azureml.scriptrun\", \"training_percent\": null, \"start_time\": \"2022-07-06T06:56:40.250208Z\", \"end_time\": \"2022-07-06T07:06:48.974732Z\", \"created_time\": \"2022-07-06T06:52:35.539939Z\", \"created_time_dt\": \"2022-07-06T06:52:35.539939Z\", \"duration\": \"0:14:13\", \"iteration\": null, \"goal\": null, \"run_name\": \"Completed\", \"run_properties\": null}, {\"run_id\": \"AutoML_c2e81835-efbf-42ad-9fe5-6daf5e505a99_0\", \"run_number\": 1657091212, \"metric\": null, \"status\": \"Completed\", \"run_type\": null, \"training_percent\": \"100\", \"start_time\": \"2022-07-06T07:07:22.207646Z\", \"end_time\": \"2022-07-06T07:08:22.334416Z\", \"created_time\": \"2022-07-06T07:06:52.097035Z\", \"created_time_dt\": \"2022-07-06T07:06:52.097035Z\", \"duration\": \"0:01:30\", \"iteration\": \"0\", \"goal\": \"normalized_mean_absolute_error_min\", \"run_name\": \"Naive\", \"run_properties\": \"timeseries_param_dict={'time_column_name': 'week_start', 'grain_column_names': ['store', 'brand'], 'drop_column_names': [], 'overwrite_columns': True, 'dropna': False, 'transform_dictionary': {'min': '_automl_target_col', 'max': '_automl_target_col', 'mean': '_automl_target_col'}, 'max_horizon': 3, 'origin_time_colname': 'origin', 'country_or_region': None, 'n_cross_validations': 3, 'short_series_handling': True, 'max_cores_per_iteration': 1, 'feature_lags': None, 'target_aggregation_function': None, 'cv_step_size': 1, 'seasonality': 4, 'use_stl': None, 'freq': 'W-THU', 'short_series_handling_configuration': 'auto', 'target_lags': [0], 'target_rolling_window_size': 0, 'arimax_raw_columns': ['constant', 'price9', 'feat', 'price2', 'price7', 'price1', 'price4', 'price8', 'profit', 'week_start', 'price6', 'price11', 'price3', 'brand', 'week', 'price10', 'deal', 'store', 'price5']}\", \"primary_metric\": 0.12678031, \"best_metric\": 0.12678031}, {\"run_id\": \"AutoML_c2e81835-efbf-42ad-9fe5-6daf5e505a99_3\", \"run_number\": 1657091213, \"metric\": null, \"status\": \"Completed\", \"run_type\": null, \"training_percent\": \"100\", \"start_time\": \"2022-07-06T07:10:27.522097Z\", \"end_time\": \"2022-07-06T07:11:27.621472Z\", \"created_time\": \"2022-07-06T07:06:53.368345Z\", \"created_time_dt\": \"2022-07-06T07:06:53.368345Z\", \"duration\": \"0:04:34\", \"iteration\": \"3\", \"goal\": \"normalized_mean_absolute_error_min\", \"run_name\": \"SeasonalAverage\", \"run_properties\": \"timeseries_param_dict={'time_column_name': 'week_start', 'grain_column_names': ['store', 'brand'], 'drop_column_names': [], 'overwrite_columns': True, 'dropna': False, 'transform_dictionary': {'min': '_automl_target_col', 'max': '_automl_target_col', 'mean': '_automl_target_col'}, 'max_horizon': 3, 'origin_time_colname': 'origin', 'country_or_region': None, 'n_cross_validations': 3, 'short_series_handling': True, 'max_cores_per_iteration': 1, 'feature_lags': None, 'target_aggregation_function': None, 'cv_step_size': 1, 'seasonality': 4, 'use_stl': None, 'freq': 'W-THU', 'short_series_handling_configuration': 'auto', 'target_lags': [0], 'target_rolling_window_size': 0, 'arimax_raw_columns': ['constant', 'price9', 'feat', 'price2', 'price7', 'price1', 'price4', 'price8', 'profit', 'week_start', 'price6', 'price11', 'price3', 'brand', 'week', 'price10', 'deal', 'store', 'price5']}\", \"primary_metric\": 0.13018739, \"best_metric\": 0.12678031}, {\"run_id\": \"AutoML_c2e81835-efbf-42ad-9fe5-6daf5e505a99_5\", \"run_number\": 1657091214, \"metric\": null, \"status\": \"Canceled\", \"run_type\": null, \"training_percent\": \"100\", \"start_time\": \"2022-07-06T07:06:54.17386Z\", \"end_time\": \"2022-07-06T08:22:28.485152Z\", \"created_time\": \"2022-07-06T07:06:54.17386Z\", \"created_time_dt\": \"2022-07-06T07:06:54.17386Z\", \"duration\": \"1:15:34\", \"iteration\": \"5\", \"goal\": null, \"run_name\": \"Canceled\", \"run_properties\": null}, {\"run_id\": \"AutoML_c2e81835-efbf-42ad-9fe5-6daf5e505a99_8\", \"run_number\": 1657091215, \"metric\": null, \"status\": \"Canceled\", \"run_type\": null, \"training_percent\": \"100\", \"start_time\": \"2022-07-06T07:06:55.312361Z\", \"end_time\": \"2022-07-06T08:22:28.191212Z\", \"created_time\": \"2022-07-06T07:06:55.312361Z\", \"created_time_dt\": \"2022-07-06T07:06:55.312361Z\", \"duration\": \"1:15:32\", \"iteration\": \"8\", \"goal\": null, \"run_name\": \"Canceled\", \"run_properties\": null}, {\"run_id\": \"AutoML_c2e81835-efbf-42ad-9fe5-6daf5e505a99_10\", \"run_number\": 1657091216, \"metric\": null, \"status\": \"Canceled\", \"run_type\": null, \"training_percent\": \"100\", \"start_time\": \"2022-07-06T07:06:56.094945Z\", \"end_time\": \"2022-07-06T08:22:28.848979Z\", \"created_time\": \"2022-07-06T07:06:56.094945Z\", \"created_time_dt\": \"2022-07-06T07:06:56.094945Z\", \"duration\": \"1:15:32\", \"iteration\": \"10\", \"goal\": null, \"run_name\": \"Canceled\", \"run_properties\": null}, {\"run_id\": \"AutoML_c2e81835-efbf-42ad-9fe5-6daf5e505a99_13\", \"run_number\": 1657091217, \"metric\": null, \"status\": \"Canceled\", \"run_type\": null, \"training_percent\": \"100\", \"start_time\": \"2022-07-06T07:06:57.308923Z\", \"end_time\": \"2022-07-06T08:22:29.227436Z\", \"created_time\": \"2022-07-06T07:06:57.308923Z\", \"created_time_dt\": \"2022-07-06T07:06:57.308923Z\", \"duration\": \"1:15:31\", \"iteration\": \"13\", \"goal\": null, \"run_name\": \"Canceled\", \"run_properties\": null}, {\"run_id\": \"AutoML_c2e81835-efbf-42ad-9fe5-6daf5e505a99_15\", \"run_number\": 1657091218, \"metric\": null, \"status\": \"Canceled\", \"run_type\": null, \"training_percent\": \"100\", \"start_time\": \"2022-07-06T07:06:58.151641Z\", \"end_time\": \"2022-07-06T08:22:28.990514Z\", \"created_time\": \"2022-07-06T07:06:58.151641Z\", \"created_time_dt\": \"2022-07-06T07:06:58.151641Z\", \"duration\": \"1:15:30\", \"iteration\": \"15\", \"goal\": null, \"run_name\": \"Canceled\", \"run_properties\": null}, {\"run_id\": \"AutoML_c2e81835-efbf-42ad-9fe5-6daf5e505a99_18\", \"run_number\": 1657091219, \"metric\": null, \"status\": \"Canceled\", \"run_type\": null, \"training_percent\": \"100\", \"start_time\": \"2022-07-06T07:06:59.315505Z\", \"end_time\": \"2022-07-06T08:22:29.170747Z\", \"created_time\": \"2022-07-06T07:06:59.315505Z\", \"created_time_dt\": \"2022-07-06T07:06:59.315505Z\", \"duration\": \"1:15:29\", \"iteration\": \"18\", \"goal\": null, \"run_name\": \"Canceled\", \"run_properties\": null}, {\"run_id\": \"AutoML_c2e81835-efbf-42ad-9fe5-6daf5e505a99_20\", \"run_number\": 1657095752, \"metric\": null, \"status\": \"Completed\", \"run_type\": \"azureml.scriptrun\", \"training_percent\": \"100\", \"start_time\": \"2022-07-06T08:24:37.895146Z\", \"end_time\": \"2022-07-06T08:25:16.804225Z\", \"created_time\": \"2022-07-06T08:22:32.171806Z\", \"created_time_dt\": \"2022-07-06T08:22:32.171806Z\", \"duration\": \"0:02:44\", \"iteration\": \"20\", \"goal\": \"normalized_mean_absolute_error_min\", \"run_name\": \"VotingEnsemble\", \"run_properties\": \"estimators=[('2', Pipeline(memory=None, steps=[('average', Average(timeseries_param_dict={'time_column_name': 'week_start', 'grain_column_names': ['store', 'brand'], 'drop_column_names': [], 'overwrite_columns': True, 'dropna': False, 'transform_dictionary': {'min': '_automl_target_col', 'max': '_automl_target_col', 'mean': '_automl_target_col'}, 'max_horizon': 3, 'origin_time_colname': 'origin', 'country_or_region': None, 'n_cross_validations': 3, 'short_series_handling': True, 'max_cores_per_iteration': 1, 'feature_lags': None, 'target_aggregation_function': None, 'cv_step_size': 1, 'seasonality': 4, 'use_stl': None, 'freq': 'W-THU', 'short_series_handling_configuration': 'auto', 'target_lags': [0], 'target_rolling_window_size': 0, 'arimax_raw_columns': ['constant', 'price9', 'feat', 'price2', 'price7', 'price1', 'price4', 'price8', 'profit', 'week_start', 'price6', 'price11', 'price3', 'brand', 'week', 'price10', 'deal', 'store', 'price5']}\", \"primary_metric\": 0.10960287, \"best_metric\": 0.10960287}], \"children_metrics\": {\"categories\": [0], \"series\": {\"spearman_correlation\": [{\"categories\": [\"0\", \"3\", \"20\"], \"mode\": \"markers\", \"name\": \"spearman_correlation\", \"stepped\": false, \"type\": \"scatter\", \"data\": [0.7416909849474553, 0.7181835606915863, 0.7565418928644784]}, {\"categories\": [\"0\", \"3\", \"20\"], \"mode\": \"lines\", \"name\": \"spearman_correlation_max\", \"stepped\": true, \"type\": \"scatter\", \"data\": [0.7416909849474553, 0.7416909849474553, 0.7565418928644784]}], \"normalized_median_absolute_error\": [{\"categories\": [\"0\", \"3\", \"20\"], \"mode\": \"markers\", \"name\": \"normalized_median_absolute_error\", \"stepped\": false, \"type\": \"scatter\", \"data\": [0.09606394036351414, 0.09901261961199992, 0.07499737912954695]}, {\"categories\": [\"0\", \"3\", \"20\"], \"mode\": \"lines\", \"name\": \"normalized_median_absolute_error_min\", \"stepped\": true, \"type\": \"scatter\", \"data\": [0.09606394036351414, 0.09606394036351414, 0.07499737912954695]}], \"r2_score\": [{\"categories\": [\"0\", \"3\", \"20\"], \"mode\": \"markers\", \"name\": \"r2_score\", \"stepped\": false, \"type\": \"scatter\", \"data\": [-0.1333877713137345, -0.14588137856384834, 0.07548594845059264]}, {\"categories\": [\"0\", \"3\", \"20\"], \"mode\": \"lines\", \"name\": \"r2_score_max\", \"stepped\": true, \"type\": \"scatter\", \"data\": [-0.1333877713137345, -0.1333877713137345, 0.07548594845059264]}], \"normalized_mean_absolute_error\": [{\"categories\": [\"0\", \"3\", \"20\"], \"mode\": \"markers\", \"name\": \"normalized_mean_absolute_error\", \"stepped\": false, \"type\": \"scatter\", \"data\": [0.12678030771739876, 0.13018738550928097, 0.10960286633862626]}, {\"categories\": [\"0\", \"3\", \"20\"], \"mode\": \"lines\", \"name\": \"normalized_mean_absolute_error_min\", \"stepped\": true, \"type\": \"scatter\", \"data\": [0.12678030771739876, 0.12678030771739876, 0.10960286633862626]}], \"median_absolute_error\": [{\"categories\": [\"0\", \"3\", \"20\"], \"mode\": \"markers\", \"name\": \"median_absolute_error\", \"stepped\": false, \"type\": \"scatter\", \"data\": [1802.6666666666667, 2333.3333333333335, 2263.019157560532]}, {\"categories\": [\"0\", \"3\", \"20\"], \"mode\": \"lines\", \"name\": \"median_absolute_error_min\", \"stepped\": true, \"type\": \"scatter\", \"data\": [1802.6666666666667, 1802.6666666666667, 1802.6666666666667]}], \"normalized_root_mean_squared_error\": [{\"categories\": [\"0\", \"3\", \"20\"], \"mode\": \"markers\", \"name\": \"normalized_root_mean_squared_error\", \"stepped\": false, \"type\": \"scatter\", \"data\": [0.1586979484542713, 0.16181106654931765, 0.14071916098297987]}, {\"categories\": [\"0\", \"3\", \"20\"], \"mode\": \"lines\", \"name\": \"normalized_root_mean_squared_error_min\", \"stepped\": true, \"type\": \"scatter\", \"data\": [0.1586979484542713, 0.1586979484542713, 0.14071916098297987]}], \"mean_absolute_error\": [{\"categories\": [\"0\", \"3\", \"20\"], \"mode\": \"markers\", \"name\": \"mean_absolute_error\", \"stepped\": false, \"type\": \"scatter\", \"data\": [11524.74767103605, 12271.88453520828, 9682.832564720467]}, {\"categories\": [\"0\", \"3\", \"20\"], \"mode\": \"lines\", \"name\": \"mean_absolute_error_min\", \"stepped\": true, \"type\": \"scatter\", \"data\": [11524.74767103605, 11524.74767103605, 9682.832564720467]}], \"root_mean_squared_error\": [{\"categories\": [\"0\", \"3\", \"20\"], \"mode\": \"markers\", \"name\": \"root_mean_squared_error\", \"stepped\": false, \"type\": \"scatter\", \"data\": [35345.486958250964, 35543.96671687347, 31927.000301509164]}, {\"categories\": [\"0\", \"3\", \"20\"], \"mode\": \"lines\", \"name\": \"root_mean_squared_error_min\", \"stepped\": true, \"type\": \"scatter\", \"data\": [35345.486958250964, 35345.486958250964, 31927.000301509164]}], \"root_mean_squared_log_error\": [{\"categories\": [\"0\", \"3\", \"20\"], \"mode\": \"markers\", \"name\": \"root_mean_squared_log_error\", \"stepped\": false, \"type\": \"scatter\", \"data\": [1.0171135861949183, 1.0485104430985779, 0.8695950502106419]}, {\"categories\": [\"0\", \"3\", \"20\"], \"mode\": \"lines\", \"name\": \"root_mean_squared_log_error_min\", \"stepped\": true, \"type\": \"scatter\", \"data\": [1.0171135861949183, 1.0171135861949183, 0.8695950502106419]}], \"normalized_root_mean_squared_log_error\": [{\"categories\": [\"0\", \"3\", \"20\"], \"mode\": \"markers\", \"name\": \"normalized_root_mean_squared_log_error\", \"stepped\": false, \"type\": \"scatter\", \"data\": [0.2050139381438381, 0.21198601351711724, 0.1945550504526623]}, {\"categories\": [\"0\", \"3\", \"20\"], \"mode\": \"lines\", \"name\": \"normalized_root_mean_squared_log_error_min\", \"stepped\": true, \"type\": \"scatter\", \"data\": [0.2050139381438381, 0.2050139381438381, 0.1945550504526623]}], \"explained_variance\": [{\"categories\": [\"0\", \"3\", \"20\"], \"mode\": \"markers\", \"name\": \"explained_variance\", \"stepped\": false, \"type\": \"scatter\", \"data\": [-0.12550929272463596, -0.14354058970394368, 0.08800651717195869]}, {\"categories\": [\"0\", \"3\", \"20\"], \"mode\": \"lines\", \"name\": \"explained_variance_max\", \"stepped\": true, \"type\": \"scatter\", \"data\": [-0.12550929272463596, -0.12550929272463596, 0.08800651717195869]}], \"mean_absolute_percentage_error\": [{\"categories\": [\"0\", \"3\", \"20\"], \"mode\": \"markers\", \"name\": \"mean_absolute_percentage_error\", \"stepped\": false, \"type\": \"scatter\", \"data\": [80.52533250076628, 113.52316010202067, 95.58172663345624]}, {\"categories\": [\"0\", \"3\", \"20\"], \"mode\": \"lines\", \"name\": \"mean_absolute_percentage_error_min\", \"stepped\": true, \"type\": \"scatter\", \"data\": [80.52533250076628, 80.52533250076628, 80.52533250076628]}]}, \"metricName\": null, \"primaryMetricName\": \"normalized_mean_absolute_error\", \"showLegend\": false}, \"run_metrics\": [{\"name\": \"experiment_status\", \"run_id\": \"AutoML_c2e81835-efbf-42ad-9fe5-6daf5e505a99\", \"categories\": [0, 1, 2, 3, 4, 5, 6, 7, 8, 9, 10, 11, 12, 13, 14, 15, 16, 17], \"series\": [{\"data\": [\"DatasetFeaturization\", \"DatasetFeaturizationCompleted\", \"DatasetCrossValidationSplit\", \"DatasetFeaturization\", \"DatasetFeaturizationCompleted\", \"DatasetFeaturization\", \"DatasetFeaturizationCompleted\", \"DatasetFeaturization\", \"DatasetFeaturizationCompleted\", \"ModelSelection\", \"BestRunExplainModel\", \"ModelExplanationDataSetSetup\", \"PickSurrogateModel\", \"EngineeredFeatureExplanations\", \"EngineeredFeatureExplanations\", \"RawFeaturesExplanations\", \"RawFeaturesExplanations\", \"BestRunExplainModel\"]}]}, {\"name\": \"experiment_status_description\", \"run_id\": \"AutoML_c2e81835-efbf-42ad-9fe5-6daf5e505a99\", \"categories\": [0, 1, 2, 3, 4, 5, 6, 7, 8, 9, 10, 11, 12, 13, 14, 15, 16, 17], \"series\": [{\"data\": [\"Beginning to featurize the dataset.\", \"Completed featurizing the dataset.\", \"Generating individually featurized CV splits.\", \"Beginning to featurize the CV split.\", \"Completed featurizing the CV split.\", \"Beginning to featurize the CV split.\", \"Completed featurizing the CV split.\", \"Beginning to featurize the CV split.\", \"Completed featurizing the CV split.\", \"Beginning model selection.\", \"Best run model explanations started\", \"Model explanations data setup completed\", \"Choosing LightGBM as the surrogate model for explanations\", \"Computation of engineered features started\", \"Computation of engineered features completed\", \"Computation of raw features started\", \"Computation of raw features completed\", \"Best run model explanations completed\"]}]}, {\"name\": \"mean_absolute_percentage_error\", \"run_id\": \"AutoML_c2e81835-efbf-42ad-9fe5-6daf5e505a99\", \"categories\": [0], \"series\": [{\"data\": [95.58172663345624]}]}, {\"name\": \"mean_absolute_error\", \"run_id\": \"AutoML_c2e81835-efbf-42ad-9fe5-6daf5e505a99\", \"categories\": [0], \"series\": [{\"data\": [9682.832564720467]}]}, {\"name\": \"spearman_correlation\", \"run_id\": \"AutoML_c2e81835-efbf-42ad-9fe5-6daf5e505a99\", \"categories\": [0], \"series\": [{\"data\": [0.7565418928644784]}]}, {\"name\": \"normalized_mean_absolute_error\", \"run_id\": \"AutoML_c2e81835-efbf-42ad-9fe5-6daf5e505a99\", \"categories\": [0], \"series\": [{\"data\": [0.10960286633862626]}]}, {\"name\": \"r2_score\", \"run_id\": \"AutoML_c2e81835-efbf-42ad-9fe5-6daf5e505a99\", \"categories\": [0], \"series\": [{\"data\": [0.07548594845059264]}]}, {\"name\": \"root_mean_squared_log_error\", \"run_id\": \"AutoML_c2e81835-efbf-42ad-9fe5-6daf5e505a99\", \"categories\": [0], \"series\": [{\"data\": [0.8695950502106419]}]}, {\"name\": \"normalized_root_mean_squared_error\", \"run_id\": \"AutoML_c2e81835-efbf-42ad-9fe5-6daf5e505a99\", \"categories\": [0], \"series\": [{\"data\": [0.14071916098297987]}]}, {\"name\": \"normalized_root_mean_squared_log_error\", \"run_id\": \"AutoML_c2e81835-efbf-42ad-9fe5-6daf5e505a99\", \"categories\": [0], \"series\": [{\"data\": [0.1945550504526623]}]}, {\"name\": \"root_mean_squared_error\", \"run_id\": \"AutoML_c2e81835-efbf-42ad-9fe5-6daf5e505a99\", \"categories\": [0], \"series\": [{\"data\": [31927.000301509164]}]}, {\"name\": \"explained_variance\", \"run_id\": \"AutoML_c2e81835-efbf-42ad-9fe5-6daf5e505a99\", \"categories\": [0], \"series\": [{\"data\": [0.08800651717195869]}]}, {\"name\": \"median_absolute_error\", \"run_id\": \"AutoML_c2e81835-efbf-42ad-9fe5-6daf5e505a99\", \"categories\": [0], \"series\": [{\"data\": [2263.019157560532]}]}, {\"name\": \"normalized_median_absolute_error\", \"run_id\": \"AutoML_c2e81835-efbf-42ad-9fe5-6daf5e505a99\", \"categories\": [0], \"series\": [{\"data\": [0.07499737912954695]}]}], \"run_logs\": \"\\nRun is completed.\", \"graph\": {}, \"widget_settings\": {\"childWidgetDisplay\": \"popup\", \"send_telemetry\": false, \"log_level\": \"INFO\", \"sdk_version\": \"1.42.0\"}, \"loading\": false}"
     },
     "metadata": {},
     "output_type": "display_data"
    }
   ],
   "source": [
    "RunDetails(remote_run).show()"
   ]
  },
  {
   "cell_type": "code",
   "execution_count": 41,
   "metadata": {
    "scrolled": false
   },
   "outputs": [
    {
     "data": {
      "text/html": [
       "<table style=\"width:100%\"><tr><th>Experiment</th><th>Id</th><th>Type</th><th>Status</th><th>Details Page</th><th>Docs Page</th></tr><tr><td>automl-forecast</td><td>AutoML_c2e81835-efbf-42ad-9fe5-6daf5e505a99</td><td>automl</td><td>Completed</td><td><a href=\"https://ml.azure.com/runs/AutoML_c2e81835-efbf-42ad-9fe5-6daf5e505a99?wsid=/subscriptions/81cefad3-d2c9-4f77-a466-99a7f541c7bb/resourcegroups/aml-quickstarts-200358/workspaces/quick-starts-ws-200358&amp;tid=660b3398-b80e-49d2-bc5b-ac1dc93b5254\" target=\"_blank\" rel=\"noopener\">Link to Azure Machine Learning studio</a></td><td><a href=\"https://docs.microsoft.com/en-us/python/api/overview/azure/ml/intro?view=azure-ml-py\" target=\"_blank\" rel=\"noopener\">Link to Documentation</a></td></tr></table>"
      ],
      "text/plain": [
       "<IPython.core.display.HTML object>"
      ]
     },
     "metadata": {},
     "output_type": "display_data"
    },
    {
     "name": "stdout",
     "output_type": "stream",
     "text": [
      "\n",
      "\n",
      "********************************************************************************************\n",
      "DATA GUARDRAILS: \n",
      "\n",
      "TYPE:         Time Series ID detection\n",
      "STATUS:       PASSED\n",
      "DESCRIPTION:  The data set was analyzed, and no duplicate time index were detected.\n",
      "              Learn more about time-series forecasting configurations: https://aka.ms/AutomatedMLForecastingConfiguration\n",
      "\n",
      "********************************************************************************************\n",
      "\n",
      "TYPE:         Frequency detection\n",
      "STATUS:       PASSED\n",
      "DESCRIPTION:  The time series was analyzed, all data points are aligned with detected frequency.\n",
      "              \n",
      "\n",
      "********************************************************************************************\n",
      "\n",
      "TYPE:         Missing feature values imputation\n",
      "STATUS:       PASSED\n",
      "DESCRIPTION:  No feature missing values were detected in the training data.\n",
      "              Learn more about missing value imputation: https://aka.ms/AutomatedMLFeaturization\n",
      "\n",
      "********************************************************************************************\n",
      "\n",
      "TYPE:         Short series handling\n",
      "STATUS:       PASSED\n",
      "DESCRIPTION:  Automated ML detected enough data points for each series in the input data to continue with training.\n",
      "              \n",
      "\n",
      "********************************************************************************************\n",
      "\n",
      "********************************************************************************************\n",
      "ITER: The iteration being evaluated.\n",
      "PIPELINE: A summary description of the pipeline being evaluated.\n",
      "DURATION: Time taken for the current iteration.\n",
      "METRIC: The result of computing score on the fitted pipeline.\n",
      "BEST: The best observed score thus far.\n",
      "********************************************************************************************\n",
      "\n",
      " ITER   PIPELINE                                       DURATION            METRIC      BEST\n",
      "    0    Naive                                         0:01:00             0.1268    0.1268\n",
      "    1    SeasonalNaive                                 0:01:05             0.1650    0.1268\n",
      "    2    Average                                       0:00:59             0.1157    0.1157\n",
      "    3    SeasonalAverage                               0:01:00             0.1302    0.1157\n",
      "    4    ExponentialSmoothing                          1:11:00                nan    0.1157\n",
      "    5                                                  1:15:34                nan    0.1157\n",
      "    6                                                  1:15:34                nan    0.1157\n",
      "    7                                                  1:15:34                nan    0.1157\n",
      "    8                                                  1:15:33                nan    0.1157\n",
      "    9                                                  1:15:33                nan    0.1157\n",
      "   10                                                  1:15:33                nan    0.1157\n",
      "   11                                                  1:15:32                nan    0.1157\n",
      "   12                                                  1:15:32                nan    0.1157\n",
      "   13                                                  1:15:32                nan    0.1157\n",
      "   14                                                  1:15:31                nan    0.1157\n",
      "   15                                                  1:15:31                nan    0.1157\n",
      "   16                                                  1:15:30                nan    0.1157\n",
      "   17                                                  1:15:30                nan    0.1157\n",
      "   18                                                  1:15:30                nan    0.1157\n",
      "   19                                                  1:15:29                nan    0.1157\n",
      "   20    VotingEnsemble                                0:00:39             0.1096    0.1096\n"
     ]
    },
    {
     "data": {
      "text/plain": [
       "{'runId': 'AutoML_c2e81835-efbf-42ad-9fe5-6daf5e505a99',\n",
       " 'target': 'canina-cluster',\n",
       " 'status': 'Completed',\n",
       " 'startTimeUtc': '2022-07-06T06:52:36.799958Z',\n",
       " 'endTimeUtc': '2022-07-06T08:25:18.246592Z',\n",
       " 'services': {},\n",
       " 'warnings': [{'source': 'JasmineService',\n",
       "   'message': 'Experiment timeout reached, hence experiment stopped. Current experiment timeout: 1 hour(s) 12 minute(s)'}],\n",
       " 'properties': {'num_iterations': '1000',\n",
       "  'training_type': 'TrainFull',\n",
       "  'acquisition_function': 'EI',\n",
       "  'primary_metric': 'normalized_mean_absolute_error',\n",
       "  'train_split': '0',\n",
       "  'acquisition_parameter': '0',\n",
       "  'num_cross_validation': '3',\n",
       "  'target': 'canina-cluster',\n",
       "  'AMLSettingsJsonString': '{\"path\":null,\"name\":\"automl-forecast\",\"subscription_id\":\"81cefad3-d2c9-4f77-a466-99a7f541c7bb\",\"resource_group\":\"aml-quickstarts-200358\",\"workspace_name\":\"quick-starts-ws-200358\",\"region\":\"southcentralus\",\"compute_target\":\"canina-cluster\",\"spark_service\":null,\"azure_service\":\"remote\",\"many_models\":false,\"pipeline_fetch_max_batch_size\":1,\"enable_batch_run\":true,\"enable_run_restructure\":false,\"start_auxiliary_runs_before_parent_complete\":false,\"enable_code_generation\":true,\"iterations\":1000,\"primary_metric\":\"normalized_mean_absolute_error\",\"task_type\":\"regression\",\"positive_label\":null,\"data_script\":null,\"test_size\":0.0,\"test_include_predictions_only\":false,\"validation_size\":0.0,\"n_cross_validations\":3,\"y_min\":null,\"y_max\":null,\"num_classes\":null,\"featurization\":\"auto\",\"_ignore_package_version_incompatibilities\":false,\"is_timeseries\":true,\"max_cores_per_iteration\":1,\"max_concurrent_iterations\":1,\"iteration_timeout_minutes\":null,\"mem_in_mb\":null,\"enforce_time_on_windows\":false,\"experiment_timeout_minutes\":72,\"experiment_exit_score\":null,\"partition_column_names\":null,\"whitelist_models\":null,\"blacklist_algos\":[\"TensorFlowDNN\",\"TensorFlowLinearRegressor\"],\"supported_models\":[\"ElasticNet\",\"ExponentialSmoothing\",\"TensorFlowLinearRegressor\",\"Naive\",\"DecisionTree\",\"AutoArima\",\"TCNForecaster\",\"Average\",\"TensorFlowDNN\",\"GradientBoosting\",\"TabnetRegressor\",\"SGD\",\"XGBoostRegressor\",\"SeasonalAverage\",\"ExtremeRandomTrees\",\"Prophet\",\"SeasonalNaive\",\"LightGBM\",\"RandomForest\",\"Arimax\",\"LassoLars\",\"KNN\"],\"private_models\":[],\"auto_blacklist\":true,\"blacklist_samples_reached\":false,\"exclude_nan_labels\":true,\"verbosity\":20,\"_debug_log\":\"azureml_automl.log\",\"show_warnings\":false,\"model_explainability\":true,\"service_url\":null,\"sdk_url\":null,\"sdk_packages\":null,\"enable_onnx_compatible_models\":false,\"enable_split_onnx_featurizer_estimator_models\":false,\"vm_type\":\"STANDARD_D2_V2\",\"telemetry_verbosity\":20,\"send_telemetry\":true,\"enable_dnn\":false,\"scenario\":\"SDK-1.13.0\",\"environment_label\":null,\"save_mlflow\":false,\"enable_categorical_indicators\":false,\"force_text_dnn\":false,\"enable_feature_sweeping\":false,\"time_column_name\":\"week_start\",\"grain_column_names\":[\"store\",\"brand\"],\"drop_column_names\":[],\"max_horizon\":3,\"dropna\":false,\"overwrite_columns\":true,\"transform_dictionary\":{\"min\":\"_automl_target_col\",\"max\":\"_automl_target_col\",\"mean\":\"_automl_target_col\"},\"window_size\":null,\"country_or_region\":null,\"lags\":null,\"feature_lags\":null,\"seasonality\":\"auto\",\"use_stl\":null,\"short_series_handling\":true,\"freq\":null,\"short_series_handling_configuration\":\"auto\",\"target_aggregation_function\":null,\"cv_step_size\":1,\"has_multiple_series\":true,\"enable_early_stopping\":true,\"early_stopping_n_iters\":10,\"arguments\":null,\"dataset_id\":\"5588b41a-9ddc-4de6-b337-d2e62d86f3b3\",\"hyperdrive_config\":null,\"validation_dataset_id\":null,\"run_source\":null,\"metrics\":null,\"enable_metric_confidence\":false,\"enable_ensembling\":true,\"enable_stack_ensembling\":false,\"ensemble_iterations\":15,\"enable_tf\":false,\"enable_subsampling\":false,\"subsample_seed\":null,\"enable_nimbusml\":false,\"enable_streaming\":false,\"force_streaming\":false,\"track_child_runs\":true,\"allowed_private_models\":[],\"label_column_name\":\"move\",\"weight_column_name\":null,\"cv_split_column_names\":null,\"enable_local_managed\":false,\"_local_managed_run_id\":null,\"cost_mode\":1,\"lag_length\":0,\"metric_operation\":\"minimize\",\"preprocess\":true}',\n",
       "  'DataPrepJsonString': '{\\\\\"training_data\\\\\": {\\\\\"datasetId\\\\\": \\\\\"5588b41a-9ddc-4de6-b337-d2e62d86f3b3\\\\\"}, \\\\\"datasets\\\\\": 0}',\n",
       "  'EnableSubsampling': 'False',\n",
       "  'runTemplate': 'AutoML',\n",
       "  'azureml.runsource': 'automl',\n",
       "  'display_task_type': 'forecasting',\n",
       "  'dependencies_versions': '{\"azureml-widgets\": \"1.42.0\", \"azureml-training-tabular\": \"1.42.0\", \"azureml-train\": \"1.42.0\", \"azureml-train-restclients-hyperdrive\": \"1.42.0\", \"azureml-train-core\": \"1.42.0\", \"azureml-train-automl\": \"1.42.0\", \"azureml-train-automl-runtime\": \"1.42.0\", \"azureml-train-automl-client\": \"1.42.0\", \"azureml-tensorboard\": \"1.42.0\", \"azureml-telemetry\": \"1.42.0\", \"azureml-sdk\": \"1.42.0\", \"azureml-samples\": \"0+unknown\", \"azureml-responsibleai\": \"1.42.0\", \"azureml-pipeline\": \"1.42.0\", \"azureml-pipeline-steps\": \"1.42.0\", \"azureml-pipeline-core\": \"1.42.0\", \"azureml-opendatasets\": \"1.42.0\", \"azureml-mlflow\": \"1.42.0\", \"azureml-interpret\": \"1.42.0\", \"azureml-inference-server-http\": \"0.4.13\", \"azureml-explain-model\": \"1.42.0\", \"azureml-defaults\": \"1.42.0\", \"azureml-dataset-runtime\": \"1.42.0\", \"azureml-dataprep\": \"4.0.1\", \"azureml-dataprep-rslex\": \"2.6.1\", \"azureml-dataprep-native\": \"38.0.0\", \"azureml-datadrift\": \"1.42.0\", \"azureml-core\": \"1.42.0\", \"azureml-contrib-services\": \"1.42.0\", \"azureml-contrib-server\": \"1.42.0\", \"azureml-contrib-reinforcementlearning\": \"1.42.0\", \"azureml-contrib-pipeline-steps\": \"1.42.0\", \"azureml-contrib-notebook\": \"1.42.0\", \"azureml-contrib-fairness\": \"1.42.0\", \"azureml-contrib-dataset\": \"1.42.0\", \"azureml-contrib-automl-pipeline-steps\": \"1.42.0\", \"azureml-cli-common\": \"1.42.0\", \"azureml-automl-runtime\": \"1.42.0\", \"azureml-automl-dnn-nlp\": \"1.42.0\", \"azureml-automl-core\": \"1.42.0\", \"azureml-accel-models\": \"1.42.0\"}',\n",
       "  '_aml_system_scenario_identification': 'Remote.Parent',\n",
       "  'ClientType': 'SDK',\n",
       "  'environment_cpu_name': 'AzureML-AutoML',\n",
       "  'environment_cpu_label': 'prod',\n",
       "  'environment_gpu_name': 'AzureML-AutoML-GPU',\n",
       "  'environment_gpu_label': 'prod',\n",
       "  'root_attribution': 'automl',\n",
       "  'attribution': 'AutoML',\n",
       "  'Orchestrator': 'AutoML',\n",
       "  'CancelUri': 'https://southcentralus.api.azureml.ms/jasmine/v1.0/subscriptions/81cefad3-d2c9-4f77-a466-99a7f541c7bb/resourceGroups/aml-quickstarts-200358/providers/Microsoft.MachineLearningServices/workspaces/quick-starts-ws-200358/experimentids/c3450aba-2109-4cb2-8590-6580a5aee56f/cancel/AutoML_c2e81835-efbf-42ad-9fe5-6daf5e505a99',\n",
       "  'ClientSdkVersion': '1.42.0.post1',\n",
       "  'snapshotId': '00000000-0000-0000-0000-000000000000',\n",
       "  'SetupRunId': 'AutoML_c2e81835-efbf-42ad-9fe5-6daf5e505a99_setup',\n",
       "  'SetupRunContainerId': 'dcid.AutoML_c2e81835-efbf-42ad-9fe5-6daf5e505a99_setup',\n",
       "  'forecasting_target_lags': '[0]',\n",
       "  'forecasting_target_rolling_window_size': '0',\n",
       "  'forecasting_max_horizon': '3',\n",
       "  'forecasting_freq': 'W-THU',\n",
       "  'ProblemInfoJsonString': '{\"dataset_num_categorical\": 0, \"is_sparse\": false, \"subsampling\": false, \"has_extra_col\": true, \"dataset_classes\": 2253, \"dataset_features\": 41, \"dataset_samples\": 86966, \"single_frequency_class_detected\": false, \"series_column_count\": 2, \"series_count\": 913, \"series_len_min\": 62, \"series_len_max\": 96, \"series_len_avg\": 92.19277108433735, \"series_len_perc_25\": 91.0, \"series_len_perc_50\": 93.0, \"series_len_perc_75\": 95.0}',\n",
       "  'ModelExplainRunId': 'AutoML_c2e81835-efbf-42ad-9fe5-6daf5e505a99_ModelExplain'},\n",
       " 'inputDatasets': [{'dataset': {'id': '5588b41a-9ddc-4de6-b337-d2e62d86f3b3'}, 'consumptionDetails': {'type': 'RunInput', 'inputName': 'training_data', 'mechanism': 'Direct'}}],\n",
       " 'outputDatasets': [],\n",
       " 'logFiles': {},\n",
       " 'submittedBy': 'ODL_User 200358'}"
      ]
     },
     "execution_count": 41,
     "metadata": {},
     "output_type": "execute_result"
    }
   ],
   "source": [
    "# Provide details about the performance of the different models on the primary metric \"normalized mean absolute error\"\n",
    "remote_run.wait_for_completion(show_output=True)"
   ]
  },
  {
   "cell_type": "markdown",
   "metadata": {},
   "source": [
    "## Best Model\n",
    "\n",
    "TODO: In the cell below, get the best model from the automl experiments and display all the properties of the model.\n",
    "\n"
   ]
  },
  {
   "cell_type": "code",
   "execution_count": 14,
   "metadata": {
    "gather": {
     "logged": 1598431426111
    },
    "jupyter": {
     "outputs_hidden": false,
     "source_hidden": false
    },
    "nteract": {
     "transient": {
      "deleting": false
     }
    }
   },
   "outputs": [],
   "source": [
    "# Get the best model\n",
    "best_run_automl, best_automl_model = remote_run.get_output()"
   ]
  },
  {
   "cell_type": "code",
   "execution_count": 15,
   "metadata": {},
   "outputs": [
    {
     "data": {
      "text/plain": [
       "['automl_driver.py',\n",
       " 'explanation/18ac9f8c/eval_data_viz.interpret.json',\n",
       " 'explanation/18ac9f8c/expected_values.interpret.json',\n",
       " 'explanation/18ac9f8c/features.interpret.json',\n",
       " 'explanation/18ac9f8c/global_names/0.interpret.json',\n",
       " 'explanation/18ac9f8c/global_rank/0.interpret.json',\n",
       " 'explanation/18ac9f8c/global_values/0.interpret.json',\n",
       " 'explanation/18ac9f8c/local_importance_values.interpret.json',\n",
       " 'explanation/18ac9f8c/rich_metadata.interpret.json',\n",
       " 'explanation/18ac9f8c/visualization_dict.interpret.json',\n",
       " 'explanation/18ac9f8c/ys_pred_viz.interpret.json',\n",
       " 'explanation/281a9c20/expected_values.interpret.json',\n",
       " 'explanation/281a9c20/features.interpret.json',\n",
       " 'explanation/281a9c20/global_names/0.interpret.json',\n",
       " 'explanation/281a9c20/global_rank/0.interpret.json',\n",
       " 'explanation/281a9c20/global_values/0.interpret.json',\n",
       " 'explanation/281a9c20/local_importance_values.interpret.json',\n",
       " 'explanation/281a9c20/rich_metadata.interpret.json',\n",
       " 'explanation/281a9c20/visualization_dict.interpret.json',\n",
       " 'explanation/281a9c20/ys_pred_viz.interpret.json',\n",
       " 'forecast_table',\n",
       " 'logs/azureml/azureml_automl.log',\n",
       " 'outputs/conda_env_v_1_0_0.yml',\n",
       " 'outputs/engineered_feature_names.json',\n",
       " 'outputs/env_dependencies.json',\n",
       " 'outputs/featurization_summary.json',\n",
       " 'outputs/generated_code/conda_environment.yaml',\n",
       " 'outputs/generated_code/script.py',\n",
       " 'outputs/generated_code/script_run_notebook.ipynb',\n",
       " 'outputs/internal_cross_validated_models.pkl',\n",
       " 'outputs/model.pkl',\n",
       " 'outputs/pipeline_graph.json',\n",
       " 'outputs/run_id.txt',\n",
       " 'outputs/scoring_file_v_1_0_0.py',\n",
       " 'outputs/scoring_file_v_2_0_0.py',\n",
       " 'predicted_true',\n",
       " 'residuals',\n",
       " 'system_logs/cs_capability/cs-capability.log',\n",
       " 'system_logs/hosttools_capability/hosttools-capability.log',\n",
       " 'system_logs/lifecycler/execution-wrapper.log',\n",
       " 'system_logs/lifecycler/lifecycler.log',\n",
       " 'system_logs/lifecycler/vm-bootstrapper.log',\n",
       " 'system_logs/metrics_capability/metrics-capability.log',\n",
       " 'user_logs/std_log.txt']"
      ]
     },
     "execution_count": 15,
     "metadata": {},
     "output_type": "execute_result"
    }
   ],
   "source": [
    "# List all files of the best run\n",
    "# We will use it to download the model, the environment file and the scoring file\n",
    "\n",
    "best_run_automl.get_file_names()"
   ]
  },
  {
   "cell_type": "code",
   "execution_count": 17,
   "metadata": {},
   "outputs": [],
   "source": [
    "if \"outputs\" not in os.listdir():\n",
    "    os.mkdir(\"./outputs\")"
   ]
  },
  {
   "cell_type": "code",
   "execution_count": 18,
   "metadata": {},
   "outputs": [
    {
     "data": {
      "text/plain": [
       "['model.pkl']"
      ]
     },
     "execution_count": 18,
     "metadata": {},
     "output_type": "execute_result"
    }
   ],
   "source": [
    "# Download the best AutoML model\n",
    "joblib.dump(value = best_automl_model,\n",
    "           filename = 'model.pkl')"
   ]
  },
  {
   "cell_type": "code",
   "execution_count": 19,
   "metadata": {},
   "outputs": [
    {
     "data": {
      "text/plain": [
       "ForecastingPipelineWrapper(pipeline=Pipeline(memory=None,\n",
       "                                             steps=[('timeseriestransformer',\n",
       "                                                     TimeSeriesTransformer(country_or_region=None, drop_column_names=[], featurization_config=FeaturizationConfig(blocked_transformers=None, column_purposes=None, dataset_language=None, prediction_transform_type=None, transformer_params=None), force_time_index_features=Non...\n",
       "                                                     PreFittedSoftVotingRegressor(estimators=[('2', Pipeline(memory=None, steps=[('average', Average(timeseries_param_dict={'time_column_name': 'week_start', 'grain_column_names': ['store', 'brand'], 'drop_column_names': [], 'overwrite_columns': True, 'dropna': False, 'transform_dictionary': {'min': '_automl_target_col', 'max': '_automl_target_col', 'mean': '_automl_target_col'}, 'max_horizon': 3, 'origin_time_colname': 'origin', 'country_or_region': None, 'n_cross_validations': 3, 'short_series_handling': True, 'max_cores_per_iteration': 1, 'feature_lags': None, 'target_aggregation_function': None, 'cv_step_size': 1, 'seasonality': 4, 'use_stl': None, 'freq': 'W-THU', 'short_series_handling_configuration': 'auto', 'target_lags': [0], 'target_rolling_window_size': 0, 'arimax_raw_columns': ['constant', 'price9', 'feat', 'price2', 'price7', 'price1', 'price4', 'price8', 'profit', 'week_start', 'price6', 'price11', 'price3', 'brand', 'week', 'price10', 'deal', 'store', 'price5']}))], verbose=False)), ('0', Pipeline(memory=None, steps=[('naive', Naive(timeseries_param_dict={'time_column_name': 'week_start', 'grain_column_names': ['store', 'brand'], 'drop_column_names': [], 'overwrite_columns': True, 'dropna': False, 'transform_dictionary': {'min': '_automl_target_col', 'max': '_automl_target_col', 'mean': '_automl_target_col'}, 'max_horizon': 3, 'origin_time_colname': 'origin', 'country_or_region': None, 'n_cross_validations': 3, 'short_series_handling': True, 'max_cores_per_iteration': 1, 'feature_lags': None, 'target_aggregation_function': None, 'cv_step_size': 1, 'seasonality': 4, 'use_stl': None, 'freq': 'W-THU', 'short_series_handling_configuration': 'auto', 'target_lags': [0], 'target_rolling_window_size': 0, 'arimax_raw_columns': ['constant', 'price9', 'feat', 'price2', 'price7', 'price1', 'price4', 'price8', 'profit', 'week_start', 'price6', 'price11', 'price3', 'brand', 'week', 'price10', 'deal', 'store', 'price5']}))], verbose=False))], weights=[0.8, 0.2]))],\n",
       "                                             verbose=False),\n",
       "                           stddev=[31712.189081269706])"
      ]
     },
     "execution_count": 19,
     "metadata": {},
     "output_type": "execute_result"
    }
   ],
   "source": [
    "joblib.load('model.pkl')"
   ]
  },
  {
   "cell_type": "code",
   "execution_count": 21,
   "metadata": {},
   "outputs": [
    {
     "name": "stdout",
     "output_type": "stream",
     "text": [
      "median_absolute_error: 2263.019157560532\n",
      "normalized_median_absolute_error: 0.07499737912954695\n",
      "root_mean_squared_error: 31927.000301509164\n",
      "r2_score: 0.07548594845059264\n",
      "root_mean_squared_log_error: 0.8695950502106419\n",
      "normalized_root_mean_squared_error: 0.14071916098297987\n",
      "explained_variance: 0.08800651717195869\n",
      "mean_absolute_percentage_error: 95.58172663345624\n",
      "spearman_correlation: 0.7565418928644784\n",
      "mean_absolute_error: 9682.832564720467\n",
      "normalized_root_mean_squared_log_error: 0.1945550504526623\n",
      "normalized_mean_absolute_error: 0.10960286633862626\n",
      "residuals: aml://artifactId/ExperimentRun/dcid.AutoML_c2e81835-efbf-42ad-9fe5-6daf5e505a99_20/residuals\n",
      "predicted_true: aml://artifactId/ExperimentRun/dcid.AutoML_c2e81835-efbf-42ad-9fe5-6daf5e505a99_20/predicted_true\n",
      "forecast_table: aml://artifactId/ExperimentRun/dcid.AutoML_c2e81835-efbf-42ad-9fe5-6daf5e505a99_20/forecast_table\n"
     ]
    }
   ],
   "source": [
    "run_metrics = best_run_automl.get_metrics()\n",
    "for m, val in run_metrics.items():\n",
    "    print(f\"{m}: {val}\")"
   ]
  },
  {
   "cell_type": "code",
   "execution_count": 22,
   "metadata": {},
   "outputs": [
    {
     "data": {
      "text/plain": [
       "{'_aml_system_azureml.automlComponent': 'AutoML',\n",
       " '_aml_system_ComputeTargetStatus': '{\"AllocationState\":\"steady\",\"PreparingNodeCount\":0,\"RunningNodeCount\":1,\"CurrentNodeCount\":1}',\n",
       " 'mlflow.source.type': 'JOB',\n",
       " 'mlflow.source.name': 'automl_driver.py',\n",
       " '_aml_system_codegen': 'completed',\n",
       " '_aml_system_automl_is_child_run_end_telemetry_event_logged': 'True',\n",
       " 'model_explain_run_id': 'AutoML_c2e81835-efbf-42ad-9fe5-6daf5e505a99_ModelExplain',\n",
       " 'model_explanation': 'True'}"
      ]
     },
     "execution_count": 22,
     "metadata": {},
     "output_type": "execute_result"
    }
   ],
   "source": [
    "best_run_automl.get_tags()"
   ]
  },
  {
   "cell_type": "code",
   "execution_count": 23,
   "metadata": {},
   "outputs": [
    {
     "name": "stdout",
     "output_type": "stream",
     "text": [
      "[('timeseriestransformer', TimeSeriesTransformer(country_or_region=None, drop_column_names=[], featurization_config=FeaturizationConfig(blocked_transformers=None, column_purposes=None, dataset_language=None, prediction_transform_type=None, transformer_params=None), force_time_index_features=None, freq='W-THU', grain_column_names=['store', 'brand'], group=None, lookback_features_removed=False, max_horizon=3, origin_time_colname='origin', pipeline=Pipeline(memory=None, steps=[('make_numeric_na_dummies', MissingDummiesTransformer(numerical_columns=['week', 'constant', 'price1', 'price2', 'price3', 'price4', 'price5', 'price6', 'price7', 'price8', 'price9', 'price10', 'price11', 'deal', 'feat', 'profit'])), ('impute_na_numeric_datetime', TimeSeriesImputer(end=None, freq='W-THU', impute_by_horizon=False, input_column=['week', 'constant', 'price1', 'price2', 'price3', 'price4', 'price5', 'price6', 'price7', 'price8', 'price9', 'price10', 'price11', 'deal', 'feat', 'profit'], limit=None, limit_direction='forward', method=OrderedDict([('ffill', [])]), option='fillna', order=None, origin=None, value={'week': 88.0, 'constant': 1.0, 'price1': 0.04671875, 'price2': 0.0494791667, 'price3': 0.045631886299999994, 'price4': 0.03578125, 'price5': 0.03265625, 'price6': 0.0403125, 'price7': 0.03578125, 'price8': 0.03421875, 'price9': 0.03109375, 'price10': 0.02484375, 'price11': 0.028828125, 'deal': 0.0, 'feat': 0.0, 'profit': 28.94})), ('grain_dropper', ShortGrainDropper(cv_step_size=1, max_horizon=3, n_cross_validations=3, target_lags=[0], target_rolling_window_size=0)), ('restore_dtypes_transform', RestoreDtypesTransformer(dtypes={'constant': dtype('int64'), 'price9': dtype('float64'), '_automl_target_col': dtype('int64'), 'feat': dtype('float64'), 'price2': dtype('float64'), 'price7': dtype('float64'), 'price1': dtype('float64'), 'price4': dtype('float64'), 'price8': dtype('float64'), 'profit': dtype('float64'), 'price6': dtype('float64'), 'price11': dtype('float64'), 'price3': dtype('float64'), 'week': dtype('int64'), 'price10': dtype('float64'), 'deal': dtype('int64'), 'price5': dtype('float64')}, target_column='_automl_target_col')), ('make_grain_features', GrainIndexFeaturizer(categories_by_grain_cols=None, grain_feature_prefix='grain', overwrite_columns=True, prefix_sep='_', ts_frequency='W-THU')), ('make_categoricals_numeric', NumericalizeTransformer(categories_by_col={'grain_store': Int64Index([  2,   5,   8,   9,  12,  14,  18,  21,  28,  32,  33,  40,  44,  45,  47,  48,  49,  50,  51,  52,  53,\n",
      "             54,  56,  59,  62,  64,  67,  68,  70,  71,  72,  73,  74,  75,  76,  77,  78,  80,  81,  83,  84,  86,\n",
      "             88,  89,  90,  91,  92,  93,  94,  95,  97,  98, 100, 101, 102, 103, 104, 105, 106, 107, 109, 110, 111,\n",
      "            112, 113, 114, 115, 116, 117, 118, 119, 121, 122, 123, 124, 126, 128, 129, 130, 131, 132, 134, 137],\n",
      "           dtype='int64'), 'grain_brand': Int64Index([1, 2, 3, 4, 5, 6, 7, 8, 9, 10, 11], dtype='int64')}, exclude_columns=set(), include_columns=set())), ('make_time_index_featuers', TimeIndexFeaturizer(correlation_cutoff=0.99, country_or_region=None, datetime_columns=None, force_feature_list=None, freq='W-THU', holiday_end_time=None, holiday_start_time=None, overwrite_columns=True, prune_features=True)), ('make_categoricals_onehot', CategoryBinarizer(columns=[], drop_first=False, dummy_na=False, encode_all_categoricals=False, prefix=None, prefix_sep='_'))], verbose=False), pipeline_type=TimeSeriesPipelineType.FULL, seasonality=4, time_column_name='week_start', time_index_non_holiday_features=['_automl_year', '_automl_half', '_automl_quarter', '_automl_month', '_automl_day', '_automl_qday'], use_stl=None)), ('prefittedsoftvotingregressor', PreFittedSoftVotingRegressor(estimators=[('2', Pipeline(memory=None, steps=[('average', Average(timeseries_param_dict={'time_column_name': 'week_start', 'grain_column_names': ['store', 'brand'], 'drop_column_names': [], 'overwrite_columns': True, 'dropna': False, 'transform_dictionary': {'min': '_automl_target_col', 'max': '_automl_target_col', 'mean': '_automl_target_col'}, 'max_horizon': 3, 'origin_time_colname': 'origin', 'country_or_region': None, 'n_cross_validations': 3, 'short_series_handling': True, 'max_cores_per_iteration': 1, 'feature_lags': None, 'target_aggregation_function': None, 'cv_step_size': 1, 'seasonality': 4, 'use_stl': None, 'freq': 'W-THU', 'short_series_handling_configuration': 'auto', 'target_lags': [0], 'target_rolling_window_size': 0, 'arimax_raw_columns': ['constant', 'price9', 'feat', 'price2', 'price7', 'price1', 'price4', 'price8', 'profit', 'week_start', 'price6', 'price11', 'price3', 'brand', 'week', 'price10', 'deal', 'store', 'price5']}))], verbose=False)), ('0', Pipeline(memory=None, steps=[('naive', Naive(timeseries_param_dict={'time_column_name': 'week_start', 'grain_column_names': ['store', 'brand'], 'drop_column_names': [], 'overwrite_columns': True, 'dropna': False, 'transform_dictionary': {'min': '_automl_target_col', 'max': '_automl_target_col', 'mean': '_automl_target_col'}, 'max_horizon': 3, 'origin_time_colname': 'origin', 'country_or_region': None, 'n_cross_validations': 3, 'short_series_handling': True, 'max_cores_per_iteration': 1, 'feature_lags': None, 'target_aggregation_function': None, 'cv_step_size': 1, 'seasonality': 4, 'use_stl': None, 'freq': 'W-THU', 'short_series_handling_configuration': 'auto', 'target_lags': [0], 'target_rolling_window_size': 0, 'arimax_raw_columns': ['constant', 'price9', 'feat', 'price2', 'price7', 'price1', 'price4', 'price8', 'profit', 'week_start', 'price6', 'price11', 'price3', 'brand', 'week', 'price10', 'deal', 'store', 'price5']}))], verbose=False))], weights=[0.8, 0.2]))]\n"
     ]
    }
   ],
   "source": [
    "print(best_automl_model.steps)"
   ]
  },
  {
   "cell_type": "code",
   "execution_count": 24,
   "metadata": {},
   "outputs": [],
   "source": [
    "best_run_automl.download_file('outputs/featurization_summary.json', 'outputs/featurization_summary.json')"
   ]
  },
  {
   "cell_type": "code",
   "execution_count": 25,
   "metadata": {},
   "outputs": [],
   "source": [
    "with open('outputs/featurization_summary.json', 'r') as features:\n",
    "    features_summary = json.load(features)\n",
    "    \n",
    "df_features = pd.DataFrame.from_records(features_summary)"
   ]
  },
  {
   "cell_type": "code",
   "execution_count": 26,
   "metadata": {
    "scrolled": false
   },
   "outputs": [
    {
     "data": {
      "text/html": [
       "<div>\n",
       "<style scoped>\n",
       "    .dataframe tbody tr th:only-of-type {\n",
       "        vertical-align: middle;\n",
       "    }\n",
       "\n",
       "    .dataframe tbody tr th {\n",
       "        vertical-align: top;\n",
       "    }\n",
       "\n",
       "    .dataframe thead th {\n",
       "        text-align: right;\n",
       "    }\n",
       "</style>\n",
       "<table border=\"1\" class=\"dataframe\">\n",
       "  <thead>\n",
       "    <tr style=\"text-align: right;\">\n",
       "      <th></th>\n",
       "      <th>RawFeatureName</th>\n",
       "      <th>TypeDetected</th>\n",
       "      <th>Dropped</th>\n",
       "      <th>EngineeredFeatureCount</th>\n",
       "      <th>Transformations</th>\n",
       "      <th>TransformationParams</th>\n",
       "    </tr>\n",
       "  </thead>\n",
       "  <tbody>\n",
       "    <tr>\n",
       "      <th>0</th>\n",
       "      <td>week</td>\n",
       "      <td>Numeric</td>\n",
       "      <td>No</td>\n",
       "      <td>2</td>\n",
       "      <td>[MedianImputer, ImputationMarker]</td>\n",
       "      <td>{'Transformer1': {'Input': ['week'], 'Transfor...</td>\n",
       "    </tr>\n",
       "    <tr>\n",
       "      <th>1</th>\n",
       "      <td>constant</td>\n",
       "      <td>Numeric</td>\n",
       "      <td>No</td>\n",
       "      <td>2</td>\n",
       "      <td>[MedianImputer, ImputationMarker]</td>\n",
       "      <td>{'Transformer1': {'Input': ['constant'], 'Tran...</td>\n",
       "    </tr>\n",
       "    <tr>\n",
       "      <th>2</th>\n",
       "      <td>price1</td>\n",
       "      <td>Numeric</td>\n",
       "      <td>No</td>\n",
       "      <td>2</td>\n",
       "      <td>[MedianImputer, ImputationMarker]</td>\n",
       "      <td>{'Transformer1': {'Input': ['price1'], 'Transf...</td>\n",
       "    </tr>\n",
       "    <tr>\n",
       "      <th>3</th>\n",
       "      <td>price2</td>\n",
       "      <td>Numeric</td>\n",
       "      <td>No</td>\n",
       "      <td>2</td>\n",
       "      <td>[MedianImputer, ImputationMarker]</td>\n",
       "      <td>{'Transformer1': {'Input': ['price2'], 'Transf...</td>\n",
       "    </tr>\n",
       "    <tr>\n",
       "      <th>4</th>\n",
       "      <td>price3</td>\n",
       "      <td>Numeric</td>\n",
       "      <td>No</td>\n",
       "      <td>2</td>\n",
       "      <td>[MedianImputer, ImputationMarker]</td>\n",
       "      <td>{'Transformer1': {'Input': ['price3'], 'Transf...</td>\n",
       "    </tr>\n",
       "    <tr>\n",
       "      <th>5</th>\n",
       "      <td>price4</td>\n",
       "      <td>Numeric</td>\n",
       "      <td>No</td>\n",
       "      <td>2</td>\n",
       "      <td>[MedianImputer, ImputationMarker]</td>\n",
       "      <td>{'Transformer1': {'Input': ['price4'], 'Transf...</td>\n",
       "    </tr>\n",
       "    <tr>\n",
       "      <th>6</th>\n",
       "      <td>price5</td>\n",
       "      <td>Numeric</td>\n",
       "      <td>No</td>\n",
       "      <td>2</td>\n",
       "      <td>[MedianImputer, ImputationMarker]</td>\n",
       "      <td>{'Transformer1': {'Input': ['price5'], 'Transf...</td>\n",
       "    </tr>\n",
       "    <tr>\n",
       "      <th>7</th>\n",
       "      <td>price6</td>\n",
       "      <td>Numeric</td>\n",
       "      <td>No</td>\n",
       "      <td>2</td>\n",
       "      <td>[MedianImputer, ImputationMarker]</td>\n",
       "      <td>{'Transformer1': {'Input': ['price6'], 'Transf...</td>\n",
       "    </tr>\n",
       "    <tr>\n",
       "      <th>8</th>\n",
       "      <td>price7</td>\n",
       "      <td>Numeric</td>\n",
       "      <td>No</td>\n",
       "      <td>2</td>\n",
       "      <td>[MedianImputer, ImputationMarker]</td>\n",
       "      <td>{'Transformer1': {'Input': ['price7'], 'Transf...</td>\n",
       "    </tr>\n",
       "    <tr>\n",
       "      <th>9</th>\n",
       "      <td>price8</td>\n",
       "      <td>Numeric</td>\n",
       "      <td>No</td>\n",
       "      <td>2</td>\n",
       "      <td>[MedianImputer, ImputationMarker]</td>\n",
       "      <td>{'Transformer1': {'Input': ['price8'], 'Transf...</td>\n",
       "    </tr>\n",
       "    <tr>\n",
       "      <th>10</th>\n",
       "      <td>price9</td>\n",
       "      <td>Numeric</td>\n",
       "      <td>No</td>\n",
       "      <td>2</td>\n",
       "      <td>[MedianImputer, ImputationMarker]</td>\n",
       "      <td>{'Transformer1': {'Input': ['price9'], 'Transf...</td>\n",
       "    </tr>\n",
       "    <tr>\n",
       "      <th>11</th>\n",
       "      <td>price10</td>\n",
       "      <td>Numeric</td>\n",
       "      <td>No</td>\n",
       "      <td>2</td>\n",
       "      <td>[MedianImputer, ImputationMarker]</td>\n",
       "      <td>{'Transformer1': {'Input': ['price10'], 'Trans...</td>\n",
       "    </tr>\n",
       "    <tr>\n",
       "      <th>12</th>\n",
       "      <td>price11</td>\n",
       "      <td>Numeric</td>\n",
       "      <td>No</td>\n",
       "      <td>2</td>\n",
       "      <td>[MedianImputer, ImputationMarker]</td>\n",
       "      <td>{'Transformer1': {'Input': ['price11'], 'Trans...</td>\n",
       "    </tr>\n",
       "    <tr>\n",
       "      <th>13</th>\n",
       "      <td>deal</td>\n",
       "      <td>Numeric</td>\n",
       "      <td>No</td>\n",
       "      <td>2</td>\n",
       "      <td>[MedianImputer, ImputationMarker]</td>\n",
       "      <td>{'Transformer1': {'Input': ['deal'], 'Transfor...</td>\n",
       "    </tr>\n",
       "    <tr>\n",
       "      <th>14</th>\n",
       "      <td>feat</td>\n",
       "      <td>Numeric</td>\n",
       "      <td>No</td>\n",
       "      <td>2</td>\n",
       "      <td>[MedianImputer, ImputationMarker]</td>\n",
       "      <td>{'Transformer1': {'Input': ['feat'], 'Transfor...</td>\n",
       "    </tr>\n",
       "    <tr>\n",
       "      <th>15</th>\n",
       "      <td>profit</td>\n",
       "      <td>Numeric</td>\n",
       "      <td>No</td>\n",
       "      <td>2</td>\n",
       "      <td>[MedianImputer, ImputationMarker]</td>\n",
       "      <td>{'Transformer1': {'Input': ['profit'], 'Transf...</td>\n",
       "    </tr>\n",
       "    <tr>\n",
       "      <th>16</th>\n",
       "      <td>_automl_target_col</td>\n",
       "      <td>Numeric</td>\n",
       "      <td>No</td>\n",
       "      <td>1</td>\n",
       "      <td>[ImputationMarker]</td>\n",
       "      <td>{'Transformer1': {'Input': ['_automl_target_co...</td>\n",
       "    </tr>\n",
       "    <tr>\n",
       "      <th>17</th>\n",
       "      <td>store</td>\n",
       "      <td>Ignore</td>\n",
       "      <td>Yes</td>\n",
       "      <td>1</td>\n",
       "      <td>[GrainMarker-LabelEncoder]</td>\n",
       "      <td>{'Transformer1': {'Input': ['store'], 'Transfo...</td>\n",
       "    </tr>\n",
       "    <tr>\n",
       "      <th>18</th>\n",
       "      <td>brand</td>\n",
       "      <td>Ignore</td>\n",
       "      <td>Yes</td>\n",
       "      <td>1</td>\n",
       "      <td>[GrainMarker-LabelEncoder]</td>\n",
       "      <td>{'Transformer1': {'Input': ['brand'], 'Transfo...</td>\n",
       "    </tr>\n",
       "    <tr>\n",
       "      <th>19</th>\n",
       "      <td>week_start</td>\n",
       "      <td>DateTime</td>\n",
       "      <td>No</td>\n",
       "      <td>6</td>\n",
       "      <td>[DateTimeTransformer]</td>\n",
       "      <td>{'Transformer1': {'Input': ['week_start'], 'Tr...</td>\n",
       "    </tr>\n",
       "  </tbody>\n",
       "</table>\n",
       "</div>"
      ],
      "text/plain": [
       "        RawFeatureName TypeDetected Dropped  EngineeredFeatureCount  \\\n",
       "0                 week      Numeric      No                       2   \n",
       "1             constant      Numeric      No                       2   \n",
       "2               price1      Numeric      No                       2   \n",
       "3               price2      Numeric      No                       2   \n",
       "4               price3      Numeric      No                       2   \n",
       "5               price4      Numeric      No                       2   \n",
       "6               price5      Numeric      No                       2   \n",
       "7               price6      Numeric      No                       2   \n",
       "8               price7      Numeric      No                       2   \n",
       "9               price8      Numeric      No                       2   \n",
       "10              price9      Numeric      No                       2   \n",
       "11             price10      Numeric      No                       2   \n",
       "12             price11      Numeric      No                       2   \n",
       "13                deal      Numeric      No                       2   \n",
       "14                feat      Numeric      No                       2   \n",
       "15              profit      Numeric      No                       2   \n",
       "16  _automl_target_col      Numeric      No                       1   \n",
       "17               store       Ignore     Yes                       1   \n",
       "18               brand       Ignore     Yes                       1   \n",
       "19          week_start     DateTime      No                       6   \n",
       "\n",
       "                      Transformations  \\\n",
       "0   [MedianImputer, ImputationMarker]   \n",
       "1   [MedianImputer, ImputationMarker]   \n",
       "2   [MedianImputer, ImputationMarker]   \n",
       "3   [MedianImputer, ImputationMarker]   \n",
       "4   [MedianImputer, ImputationMarker]   \n",
       "5   [MedianImputer, ImputationMarker]   \n",
       "6   [MedianImputer, ImputationMarker]   \n",
       "7   [MedianImputer, ImputationMarker]   \n",
       "8   [MedianImputer, ImputationMarker]   \n",
       "9   [MedianImputer, ImputationMarker]   \n",
       "10  [MedianImputer, ImputationMarker]   \n",
       "11  [MedianImputer, ImputationMarker]   \n",
       "12  [MedianImputer, ImputationMarker]   \n",
       "13  [MedianImputer, ImputationMarker]   \n",
       "14  [MedianImputer, ImputationMarker]   \n",
       "15  [MedianImputer, ImputationMarker]   \n",
       "16                 [ImputationMarker]   \n",
       "17         [GrainMarker-LabelEncoder]   \n",
       "18         [GrainMarker-LabelEncoder]   \n",
       "19              [DateTimeTransformer]   \n",
       "\n",
       "                                 TransformationParams  \n",
       "0   {'Transformer1': {'Input': ['week'], 'Transfor...  \n",
       "1   {'Transformer1': {'Input': ['constant'], 'Tran...  \n",
       "2   {'Transformer1': {'Input': ['price1'], 'Transf...  \n",
       "3   {'Transformer1': {'Input': ['price2'], 'Transf...  \n",
       "4   {'Transformer1': {'Input': ['price3'], 'Transf...  \n",
       "5   {'Transformer1': {'Input': ['price4'], 'Transf...  \n",
       "6   {'Transformer1': {'Input': ['price5'], 'Transf...  \n",
       "7   {'Transformer1': {'Input': ['price6'], 'Transf...  \n",
       "8   {'Transformer1': {'Input': ['price7'], 'Transf...  \n",
       "9   {'Transformer1': {'Input': ['price8'], 'Transf...  \n",
       "10  {'Transformer1': {'Input': ['price9'], 'Transf...  \n",
       "11  {'Transformer1': {'Input': ['price10'], 'Trans...  \n",
       "12  {'Transformer1': {'Input': ['price11'], 'Trans...  \n",
       "13  {'Transformer1': {'Input': ['deal'], 'Transfor...  \n",
       "14  {'Transformer1': {'Input': ['feat'], 'Transfor...  \n",
       "15  {'Transformer1': {'Input': ['profit'], 'Transf...  \n",
       "16  {'Transformer1': {'Input': ['_automl_target_co...  \n",
       "17  {'Transformer1': {'Input': ['store'], 'Transfo...  \n",
       "18  {'Transformer1': {'Input': ['brand'], 'Transfo...  \n",
       "19  {'Transformer1': {'Input': ['week_start'], 'Tr...  "
      ]
     },
     "execution_count": 26,
     "metadata": {},
     "output_type": "execute_result"
    }
   ],
   "source": [
    "df_features"
   ]
  },
  {
   "cell_type": "markdown",
   "metadata": {},
   "source": [
    "## Model Deployment\n",
    "\n",
    "Remember you have to deploy only one of the two models you trained but you still need to register both the models. Perform the steps in the rest of this notebook only if you wish to deploy this model.\n",
    "\n",
    "TODO: In the cell below, register the model, create an inference config and deploy the model as a web service."
   ]
  },
  {
   "cell_type": "code",
   "execution_count": 27,
   "metadata": {},
   "outputs": [],
   "source": [
    "# Register the best AutoML model\n",
    "automl_model_name = best_run_automl.properties[\"model_name\"]\n",
    "model_reg = remote_run.register_model(model_name = automl_model_name,\n",
    "                                      description = \"AutoML model for forecasting.\",\n",
    "                                      tags = None)"
   ]
  },
  {
   "cell_type": "code",
   "execution_count": 28,
   "metadata": {},
   "outputs": [
    {
     "data": {
      "text/plain": [
       "Model(workspace=Workspace.create(name='quick-starts-ws-200358', subscription_id='81cefad3-d2c9-4f77-a466-99a7f541c7bb', resource_group='aml-quickstarts-200358'), name=AutoMLc2e81835e20, id=AutoMLc2e81835e20:1, version=1, tags={}, properties={})"
      ]
     },
     "execution_count": 28,
     "metadata": {},
     "output_type": "execute_result"
    }
   ],
   "source": [
    "model_reg"
   ]
  },
  {
   "cell_type": "code",
   "execution_count": 29,
   "metadata": {},
   "outputs": [
    {
     "data": {
      "text/plain": [
       "'outputs/model.pkl'"
      ]
     },
     "execution_count": 29,
     "metadata": {},
     "output_type": "execute_result"
    }
   ],
   "source": [
    "model_reg.download(target_dir='outputs', exist_ok=True)"
   ]
  },
  {
   "cell_type": "code",
   "execution_count": 30,
   "metadata": {},
   "outputs": [
    {
     "name": "stdout",
     "output_type": "stream",
     "text": [
      "Model ID AutoMLc2e81835e20\n"
     ]
    }
   ],
   "source": [
    "print(\"Model ID\", remote_run.model_id)"
   ]
  },
  {
   "cell_type": "code",
   "execution_count": 31,
   "metadata": {},
   "outputs": [],
   "source": [
    "# Downoad the file containing the environment details \n",
    "best_run_automl.download_file('outputs/conda_env_v_1_0_0.yml', 'runenv.yml')\n",
    "\n",
    "# Download the scoring file\n",
    "best_run_automl.download_file('outputs/scoring_file_v_1_0_0.py', 'score.py')"
   ]
  },
  {
   "cell_type": "code",
   "execution_count": 32,
   "metadata": {},
   "outputs": [],
   "source": [
    "myenv = Environment.from_conda_specification(name = 'myenv',\n",
    "                                             file_path = 'runenv.yml')"
   ]
  },
  {
   "cell_type": "code",
   "execution_count": 33,
   "metadata": {},
   "outputs": [],
   "source": [
    "inference_config = InferenceConfig(entry_script = 'score_automl.py',\n",
    "                                   environment = myenv)"
   ]
  },
  {
   "cell_type": "code",
   "execution_count": 34,
   "metadata": {},
   "outputs": [],
   "source": [
    "aciconfig = AciWebservice.deploy_configuration(\n",
    "    cpu_cores=2,\n",
    "    memory_gb=4,\n",
    "    description=\"AutoML model to forecast Orange Juice data\"\n",
    ")"
   ]
  },
  {
   "cell_type": "code",
   "execution_count": 42,
   "metadata": {},
   "outputs": [],
   "source": [
    "service = Model.deploy(\n",
    "    workspace=ws,\n",
    "    name=\"automl-forecast-oj\",\n",
    "    models=[model_reg],\n",
    "    inference_config=inference_config,\n",
    "    deployment_config=aciconfig\n",
    ")"
   ]
  },
  {
   "cell_type": "code",
   "execution_count": 43,
   "metadata": {},
   "outputs": [
    {
     "name": "stdout",
     "output_type": "stream",
     "text": [
      "Tips: You can try get_logs(): https://aka.ms/debugimage#dockerlog or local deployment: https://aka.ms/debugimage#debug-locally to debug if deployment takes longer than 10 minutes.\n",
      "Running\n",
      "2022-07-06 09:51:00+00:00 Creating Container Registry if not exists..\n",
      "2022-07-06 10:01:01+00:00 Registering the environment.\n",
      "2022-07-06 10:01:02+00:00 Building image..\n",
      "2022-07-06 10:21:19+00:00 Generating deployment configuration.\n",
      "2022-07-06 10:21:20+00:00 Submitting deployment to compute.\n",
      "2022-07-06 10:21:23+00:00 Checking the status of deployment automl-forecast-oj..\n",
      "2022-07-06 10:23:56+00:00 Checking the status of inference endpoint automl-forecast-oj.\n",
      "Succeeded\n",
      "ACI service creation operation finished, operation \"Succeeded\"\n"
     ]
    }
   ],
   "source": [
    "service.wait_for_deployment(True)"
   ]
  },
  {
   "cell_type": "code",
   "execution_count": 44,
   "metadata": {},
   "outputs": [
    {
     "name": "stdout",
     "output_type": "stream",
     "text": [
      "Healthy\n"
     ]
    }
   ],
   "source": [
    "print(service.state)"
   ]
  },
  {
   "cell_type": "markdown",
   "metadata": {
    "collapsed": true,
    "gather": {
     "logged": 1598431657736
    },
    "jupyter": {
     "outputs_hidden": false,
     "source_hidden": false
    },
    "nteract": {
     "transient": {
      "deleting": false
     }
    }
   },
   "source": [
    "TODO: In the cell below, send a request to the web service you deployed to test it."
   ]
  },
  {
   "cell_type": "code",
   "execution_count": 45,
   "metadata": {},
   "outputs": [],
   "source": [
    "test_df = pd.read_csv(\"ojdata/test_automl.csv\")"
   ]
  },
  {
   "cell_type": "code",
   "execution_count": 46,
   "metadata": {},
   "outputs": [],
   "source": [
    "# We will skip the week \"136\" to leave time for planning inventory as in real life.\n",
    "# We do our forecast on the two weeks \"137\" and \"138\"\n",
    "\n",
    "test_df.drop(test_df[test_df[\"week\"] <= 136].index, inplace=True)"
   ]
  },
  {
   "cell_type": "code",
   "execution_count": 47,
   "metadata": {},
   "outputs": [],
   "source": [
    "# Prepare data to test it on the web service\n",
    "X = test_df\n",
    "ground_truth = test_df.pop(target).values"
   ]
  },
  {
   "cell_type": "code",
   "execution_count": 48,
   "metadata": {},
   "outputs": [],
   "source": [
    "# Convert DateTime to String, because Object of type Timestamp is not JSON serializable\n",
    "X[time_column_name] = X[time_column_name].astype(str)"
   ]
  },
  {
   "cell_type": "code",
   "execution_count": 49,
   "metadata": {},
   "outputs": [
    {
     "data": {
      "text/plain": [
       "(1826, 19)"
      ]
     },
     "execution_count": 49,
     "metadata": {},
     "output_type": "execute_result"
    }
   ],
   "source": [
    "X.shape"
   ]
  },
  {
   "cell_type": "code",
   "execution_count": 50,
   "metadata": {},
   "outputs": [
    {
     "data": {
      "text/html": [
       "<div>\n",
       "<style scoped>\n",
       "    .dataframe tbody tr th:only-of-type {\n",
       "        vertical-align: middle;\n",
       "    }\n",
       "\n",
       "    .dataframe tbody tr th {\n",
       "        vertical-align: top;\n",
       "    }\n",
       "\n",
       "    .dataframe thead th {\n",
       "        text-align: right;\n",
       "    }\n",
       "</style>\n",
       "<table border=\"1\" class=\"dataframe\">\n",
       "  <thead>\n",
       "    <tr style=\"text-align: right;\">\n",
       "      <th></th>\n",
       "      <th>store</th>\n",
       "      <th>brand</th>\n",
       "      <th>week</th>\n",
       "      <th>constant</th>\n",
       "      <th>price1</th>\n",
       "      <th>price2</th>\n",
       "      <th>price3</th>\n",
       "      <th>price4</th>\n",
       "      <th>price5</th>\n",
       "      <th>price6</th>\n",
       "      <th>price7</th>\n",
       "      <th>price8</th>\n",
       "      <th>price9</th>\n",
       "      <th>price10</th>\n",
       "      <th>price11</th>\n",
       "      <th>deal</th>\n",
       "      <th>feat</th>\n",
       "      <th>profit</th>\n",
       "      <th>week_start</th>\n",
       "    </tr>\n",
       "  </thead>\n",
       "  <tbody>\n",
       "    <tr>\n",
       "      <th>1</th>\n",
       "      <td>2</td>\n",
       "      <td>1</td>\n",
       "      <td>137</td>\n",
       "      <td>1</td>\n",
       "      <td>0.04</td>\n",
       "      <td>0.05</td>\n",
       "      <td>0.05</td>\n",
       "      <td>0.04</td>\n",
       "      <td>0.03</td>\n",
       "      <td>0.04</td>\n",
       "      <td>0.03</td>\n",
       "      <td>0.04</td>\n",
       "      <td>0.04</td>\n",
       "      <td>0.02</td>\n",
       "      <td>0.03</td>\n",
       "      <td>0</td>\n",
       "      <td>0.00</td>\n",
       "      <td>20.43</td>\n",
       "      <td>1992-04-23</td>\n",
       "    </tr>\n",
       "    <tr>\n",
       "      <th>2</th>\n",
       "      <td>2</td>\n",
       "      <td>1</td>\n",
       "      <td>138</td>\n",
       "      <td>1</td>\n",
       "      <td>0.04</td>\n",
       "      <td>0.04</td>\n",
       "      <td>0.05</td>\n",
       "      <td>0.04</td>\n",
       "      <td>0.04</td>\n",
       "      <td>0.05</td>\n",
       "      <td>0.04</td>\n",
       "      <td>0.04</td>\n",
       "      <td>0.04</td>\n",
       "      <td>0.03</td>\n",
       "      <td>0.03</td>\n",
       "      <td>1</td>\n",
       "      <td>1.00</td>\n",
       "      <td>11.29</td>\n",
       "      <td>1992-04-30</td>\n",
       "    </tr>\n",
       "    <tr>\n",
       "      <th>4</th>\n",
       "      <td>2</td>\n",
       "      <td>2</td>\n",
       "      <td>137</td>\n",
       "      <td>1</td>\n",
       "      <td>0.04</td>\n",
       "      <td>0.05</td>\n",
       "      <td>0.05</td>\n",
       "      <td>0.04</td>\n",
       "      <td>0.03</td>\n",
       "      <td>0.04</td>\n",
       "      <td>0.03</td>\n",
       "      <td>0.04</td>\n",
       "      <td>0.04</td>\n",
       "      <td>0.02</td>\n",
       "      <td>0.03</td>\n",
       "      <td>0</td>\n",
       "      <td>0.00</td>\n",
       "      <td>33.30</td>\n",
       "      <td>1992-04-23</td>\n",
       "    </tr>\n",
       "    <tr>\n",
       "      <th>5</th>\n",
       "      <td>2</td>\n",
       "      <td>2</td>\n",
       "      <td>138</td>\n",
       "      <td>1</td>\n",
       "      <td>0.04</td>\n",
       "      <td>0.04</td>\n",
       "      <td>0.05</td>\n",
       "      <td>0.04</td>\n",
       "      <td>0.04</td>\n",
       "      <td>0.05</td>\n",
       "      <td>0.04</td>\n",
       "      <td>0.04</td>\n",
       "      <td>0.04</td>\n",
       "      <td>0.03</td>\n",
       "      <td>0.03</td>\n",
       "      <td>1</td>\n",
       "      <td>1.00</td>\n",
       "      <td>9.43</td>\n",
       "      <td>1992-04-30</td>\n",
       "    </tr>\n",
       "    <tr>\n",
       "      <th>7</th>\n",
       "      <td>2</td>\n",
       "      <td>3</td>\n",
       "      <td>137</td>\n",
       "      <td>1</td>\n",
       "      <td>0.04</td>\n",
       "      <td>0.05</td>\n",
       "      <td>0.05</td>\n",
       "      <td>0.04</td>\n",
       "      <td>0.03</td>\n",
       "      <td>0.04</td>\n",
       "      <td>0.03</td>\n",
       "      <td>0.04</td>\n",
       "      <td>0.04</td>\n",
       "      <td>0.02</td>\n",
       "      <td>0.03</td>\n",
       "      <td>0</td>\n",
       "      <td>0.00</td>\n",
       "      <td>30.51</td>\n",
       "      <td>1992-04-23</td>\n",
       "    </tr>\n",
       "  </tbody>\n",
       "</table>\n",
       "</div>"
      ],
      "text/plain": [
       "   store  brand  week  constant  price1  price2  price3  price4  price5  \\\n",
       "1      2      1   137         1    0.04    0.05    0.05    0.04    0.03   \n",
       "2      2      1   138         1    0.04    0.04    0.05    0.04    0.04   \n",
       "4      2      2   137         1    0.04    0.05    0.05    0.04    0.03   \n",
       "5      2      2   138         1    0.04    0.04    0.05    0.04    0.04   \n",
       "7      2      3   137         1    0.04    0.05    0.05    0.04    0.03   \n",
       "\n",
       "   price6  price7  price8  price9  price10  price11  deal  feat  profit  \\\n",
       "1    0.04    0.03    0.04    0.04     0.02     0.03     0  0.00   20.43   \n",
       "2    0.05    0.04    0.04    0.04     0.03     0.03     1  1.00   11.29   \n",
       "4    0.04    0.03    0.04    0.04     0.02     0.03     0  0.00   33.30   \n",
       "5    0.05    0.04    0.04    0.04     0.03     0.03     1  1.00    9.43   \n",
       "7    0.04    0.03    0.04    0.04     0.02     0.03     0  0.00   30.51   \n",
       "\n",
       "   week_start  \n",
       "1  1992-04-23  \n",
       "2  1992-04-30  \n",
       "4  1992-04-23  \n",
       "5  1992-04-30  \n",
       "7  1992-04-23  "
      ]
     },
     "execution_count": 50,
     "metadata": {},
     "output_type": "execute_result"
    }
   ],
   "source": [
    "X.head()"
   ]
  },
  {
   "cell_type": "code",
   "execution_count": 71,
   "metadata": {},
   "outputs": [],
   "source": [
    "# Take NB_SAMPLES samples from all the test dataset\n",
    "START_SAMPLES = 0\n",
    "END_SAMPLES = 1000\n",
    "test_X = X.iloc[START_SAMPLES:END_SAMPLES,:]"
   ]
  },
  {
   "cell_type": "code",
   "execution_count": 72,
   "metadata": {},
   "outputs": [
    {
     "data": {
      "text/plain": [
       "(1000, 19)"
      ]
     },
     "execution_count": 72,
     "metadata": {},
     "output_type": "execute_result"
    }
   ],
   "source": [
    "test_X.shape"
   ]
  },
  {
   "cell_type": "code",
   "execution_count": 73,
   "metadata": {},
   "outputs": [],
   "source": [
    "req_data = json.dumps({\"data\": test_X.to_dict(orient='records')})"
   ]
  },
  {
   "cell_type": "code",
   "execution_count": 74,
   "metadata": {},
   "outputs": [],
   "source": [
    "headers = {'Content-Type':'application/json'}"
   ]
  },
  {
   "cell_type": "code",
   "execution_count": 75,
   "metadata": {},
   "outputs": [],
   "source": [
    "response = requests.post(service.scoring_uri, req_data, headers=headers)"
   ]
  },
  {
   "cell_type": "code",
   "execution_count": 76,
   "metadata": {},
   "outputs": [
    {
     "name": "stdout",
     "output_type": "stream",
     "text": [
      "\"{\\\"forecast\\\": [12808.533333333335, 12808.533333333335, 8671.2, 8671.2, 2987.7333333333336, 2987.7333333333336, 13870.933333333336, 13870.933333333336, 12825.600000000002, 12825.600000000002, 2832.8, 2832.8, 3776.5333333333338, 3776.5333333333338, 1855.4666666666667, 1855.4666666666667, 3322.666666666667, 3322.666666666667, 13689.066666666668, 13689.066666666668, 6816.0, 6816.0, 13347.2, 13347.2, 9028.0, 9028.0, 4757.333333333334, 4757.333333333334, 12884.266666666666, 12884.266666666666, 16314.666666666666, 16314.666666666666, 4947.200000000001, 4947.200000000001, 5155.2, 5155.2, 2697.6, 2697.6, 3768.5333333333338, 3768.5333333333338, 14614.933333333334, 14614.933333333334, 11715.2, 11715.2, 15621.333333333334, 15621.333333333334, 7233.6, 7233.6, 2829.3333333333335, 2829.3333333333335, 24461.866666666665, 24461.866666666665, 26051.2, 26051.2, 5484.8, 5484.8, 6115.7333333333345, 6115.7333333333345, 6449.6, 6449.6, 5848.533333333335, 5848.533333333335, 28658.13333333334, 28658.13333333334, 16955.733333333334, 16955.733333333334, 17540.266666666666, 17540.266666666666, 6772.000000000001, 6772.000000000001, 3826.133333333334, 3826.133333333334, 16163.2, 16163.2, 17468.266666666666, 17468.266666666666, 2701.6000000000004, 2701.6000000000004, 6473.6, 6473.6, 1538.6666666666667, 1538.6666666666667, 5292.266666666666, 5292.266666666666, 18754.666666666668, 18754.666666666668, 5594.666666666666, 5594.666666666666, 21708.530526315793, 21708.530526315793, 5314.357894736842, 5314.357894736842, 3583.3263157894735, 3583.3263157894735, 24454.063157894736, 24454.063157894736, 28584.016842105266, 28584.016842105266, 3621.726315789474, 3621.726315789474, 6892.867368421053, 6892.867368421053, 3610.677894736842, 3610.677894736842, 13945.128421052632, 13945.128421052632, 26432.404210526318, 26432.404210526318, 11116.867368421053, 11116.867368421053, 16570.133333333335, 16570.133333333335, 10310.400000000001, 10310.400000000001, 3840.5333333333333, 3840.5333333333333, 10673.066666666668, 10673.066666666668, 14910.933333333334, 14910.933333333334, 3228.8, 3228.8, 4457.6, 4457.6, 1702.9333333333336, 1702.9333333333336, 3134.4, 3134.4, 9873.6, 9873.6, 6381.866666666667, 6381.866666666667, 16004.800000000001, 16004.800000000001, 8028.0, 8028.0, 3603.2000000000003, 3603.2000000000003, 24735.466666666667, 24735.466666666667, 23468.266666666666, 23468.266666666666, 4544.8, 4544.8, 5104.533333333334, 5104.533333333334, 4105.0666666666675, 4105.0666666666675, 3008.5333333333338, 3008.5333333333338, 23193.600000000002, 23193.600000000002, 9166.933333333334, 9166.933333333334, 6942.933333333333, 6942.933333333333, 4639.200000000001, 4639.200000000001, 1952.0, 1952.0, 10058.133333333333, 10058.133333333333, 12686.400000000001, 12686.400000000001, 4940.0, 4940.0, 3752.5333333333338, 3752.5333333333338, 3035.7333333333336, 3035.7333333333336, 3914.666666666667, 3914.666666666667, 16933.86666666667, 16933.86666666667, 10374.4, 10374.4, 7213.333333333334, 7213.333333333334, 3892.8, 3892.8, 2386.666666666667, 2386.666666666667, 7992.533333333333, 7992.533333333333, 8807.466666666667, 8807.466666666667, 2778.4, 2778.4, 3154.666666666667, 3154.666666666667, 1520.0, 1520.0, 1543.4666666666667, 1543.4666666666667, 7227.7333333333345, 7227.7333333333345, 4771.200000000001, 4771.200000000001, 23604.800000000003, 23604.800000000003, 10696.800000000001, 10696.800000000001, 5816.000000000001, 5816.000000000001, 21350.933333333338, 21350.933333333338, 22646.4, 22646.4, 4478.4, 4478.4, 6352.000000000001, 6352.000000000001, 3317.333333333333, 3317.333333333333, 7019.733333333334, 7019.733333333334, 24010.666666666664, 24010.666666666664, 9812.266666666666, 9812.266666666666, 18233.066666666666, 18233.066666666666, 7030.400000000001, 7030.400000000001, 4704.533333333334, 4704.533333333334, 12157.333333333334, 12157.333333333334, 15172.800000000001, 15172.800000000001, 3032.0000000000005, 3032.0000000000005, 4755.2, 4755.2, 2344.5333333333333, 2344.5333333333333, 3555.2000000000003, 3555.2000000000003, 12056.0, 12056.0, 5644.8, 5644.8, 11260.266666666666, 11260.266666666666, 5142.400000000001, 5142.400000000001, 1933.3333333333335, 1933.3333333333335, 19329.600000000002, 19329.600000000002, 14998.933333333334, 14998.933333333334, 5108.8, 5108.8, 5809.6, 5809.6, 3632.5333333333338, 3632.5333333333338, 3554.666666666667, 3554.666666666667, 19281.066666666666, 19281.066666666666, 13838.933333333334, 13838.933333333334, 16346.666666666668, 16346.666666666668, 12447.2, 12447.2, 4659.733333333334, 4659.733333333334, 13803.2, 13803.2, 15950.400000000001, 15950.400000000001, 5378.4, 5378.4, 5405.333333333334, 5405.333333333334, 2445.866666666667, 2445.866666666667, 5077.866666666667, 5077.866666666667, 12653.866666666669, 12653.866666666669, 11556.266666666666, 11556.266666666666, 9121.6, 9121.6, 5262.4, 5262.4, 1701.3333333333335, 1701.3333333333335, 8877.333333333334, 8877.333333333334, 8981.333333333332, 8981.333333333332, 3391.2, 3391.2, 3729.6000000000004, 3729.6000000000004, 2107.7333333333336, 2107.7333333333336, 1957.3333333333335, 1957.3333333333335, 8980.8, 8980.8, 10774.400000000001, 10774.400000000001, 6811.200000000001, 6811.200000000001, 4732.0, 4732.0, 1813.8666666666668, 1813.8666666666668, 9371.2, 9371.2, 13402.666666666668, 13402.666666666668, 4200.0, 4200.0, 3660.8, 3660.8, 1946.6666666666667, 1946.6666666666667, 2583.466666666667, 2583.466666666667, 13148.800000000001, 13148.800000000001, 8611.2, 8611.2, 8068.800000000001, 8068.800000000001, 6772.0, 6772.0, 2288.0, 2288.0, 8778.133333333333, 8778.133333333333, 11377.066666666668, 11377.066666666668, 4568.0, 4568.0, 3044.2666666666673, 3044.2666666666673, 1585.0666666666668, 1585.0666666666668, 1682.6666666666667, 1682.6666666666667, 7593.0666666666675, 7593.0666666666675, 8293.333333333334, 8293.333333333334, 6909.333333333334, 6909.333333333334, 4208.8, 4208.8, 1678.9333333333334, 1678.9333333333334, 7317.333333333334, 7317.333333333334, 9495.466666666667, 9495.466666666667, 1854.4, 1854.4, 2605.3333333333335, 2605.3333333333335, 1010.6666666666666, 1010.6666666666666, 2275.7333333333336, 2275.7333333333336, 9217.066666666668, 9217.066666666668, 6788.266666666666, 6788.266666666666, 6049.6, 6049.6, 3644.8, 3644.8, 1513.0666666666668, 1513.0666666666668, 8437.866666666669, 8437.866666666669, 9350.933333333334, 9350.933333333334, 2306.4, 2306.4, 3139.2000000000003, 3139.2000000000003, 1590.4, 1590.4, 1761.6000000000001, 1761.6000000000001, 9414.933333333332, 9414.933333333332, 7267.200000000001, 7267.200000000001, 9836.800000000001, 9836.800000000001, 6462.4, 6462.4, 2552.5333333333338, 2552.5333333333338, 13157.866666666669, 13157.866666666669, 11610.133333333335, 11610.133333333335, 3325.6, 3325.6, 3711.4666666666662, 3711.4666666666662, 1589.3333333333335, 1589.3333333333335, 4104.533333333333, 4104.533333333333, 12386.666666666668, 12386.666666666668, 6983.466666666667, 6983.466666666667, 21170.666666666668, 21170.666666666668, 21211.2, 21211.2, 5514.666666666667, 5514.666666666667, 11790.400000000001, 11790.400000000001, 20179.733333333337, 20179.733333333337, 6310.400000000001, 6310.400000000001, 6333.333333333334, 6333.333333333334, 2489.0666666666666, 2489.0666666666666, 4322.133333333333, 4322.133333333333, 10683.2, 10683.2, 8045.866666666667, 8045.866666666667, 21788.8, 21788.8, 9944.800000000001, 9944.800000000001, 5516.8, 5516.8, 21055.466666666667, 21055.466666666667, 25057.06666666667, 25057.06666666667, 2701.6000000000004, 2701.6000000000004, 9019.2, 9019.2, 2686.9333333333334, 2686.9333333333334, 6282.133333333334, 6282.133333333334, 24083.733333333337, 24083.733333333337, 5982.933333333333, 5982.933333333333, 8813.866666666667, 8813.866666666667, 6656.800000000001, 6656.800000000001, 2149.866666666667, 2149.866666666667, 8172.8, 8172.8, 10606.933333333334, 10606.933333333334, 3894.4, 3894.4, 3758.9333333333334, 3758.9333333333334, 2029.3333333333333, 2029.3333333333333, 2226.133333333333, 2226.133333333333, 11172.266666666668, 11172.266666666668, 11464.533333333335, 11464.533333333335, 9653.333333333334, 9653.333333333334, 8384.8, 8384.8, 2582.4, 2582.4, 8670.933333333334, 8670.933333333334, 10859.733333333334, 10859.733333333334, 3965.6000000000004, 3965.6000000000004, 3867.7333333333336, 3867.7333333333336, 1578.6666666666665, 1578.6666666666665, 4161.6, 4161.6, 11351.466666666667, 11351.466666666667, 8147.200000000001, 8147.200000000001, 9165.866666666667, 9165.866666666667, 6808.0, 6808.0, 2947.2, 2947.2, 13531.2, 13531.2, 13246.400000000001, 13246.400000000001, 3830.4, 3830.4, 5942.933333333334, 5942.933333333334, 1888.0, 1888.0, 2349.333333333333, 2349.333333333333, 15946.133333333335, 15946.133333333335, 10014.933333333334, 10014.933333333334, 21124.266666666666, 21124.266666666666, 11661.600000000002, 11661.600000000002, 4658.133333333333, 4658.133333333333, 8680.0, 8680.0, 14696.000000000002, 14696.000000000002, 4357.6, 4357.6, 4265.066666666667, 4265.066666666667, 1154.1333333333334, 1154.1333333333334, 3061.333333333334, 3061.333333333334, 6602.133333333333, 6602.133333333333, 4896.0, 4896.0, 5646.933333333333, 5646.933333333333, 2858.4, 2858.4, 1453.3333333333335, 1453.3333333333335, 6897.6, 6897.6, 8636.266666666668, 8636.266666666668, 2593.6000000000004, 2593.6000000000004, 2880.0, 2880.0, 1848.5333333333333, 1848.5333333333333, 1776.0, 1776.0, 11249.6, 11249.6, 6232.533333333334, 6232.533333333334, 9408.0, 9408.0, 5985.6, 5985.6, 2224.0, 2224.0, 10722.666666666668, 10722.666666666668, 15634.666666666666, 15634.666666666666, 3337.6000000000004, 3337.6000000000004, 3985.0666666666666, 3985.0666666666666, 2212.8, 2212.8, 2979.7333333333336, 2979.7333333333336, 15005.866666666669, 15005.866666666669, 8413.866666666667, 8413.866666666667, 14812.266666666668, 14812.266666666668, 5172.8, 5172.8, 3238.4, 3238.4, 15977.6, 15977.6, 20029.86666666667, 20029.86666666667, 4204.8, 4204.8, 4633.6, 4633.6, 3667.7333333333336, 3667.7333333333336, 4244.8, 4244.8, 15628.8, 15628.8, 11370.666666666668, 11370.666666666668, 11907.733333333334, 11907.733333333334, 8504.800000000001, 8504.800000000001, 3318.9333333333334, 3318.9333333333334, 13960.0, 13960.0, 18962.133333333335, 18962.133333333335, 9238.4, 9238.4, 6658.133333333334, 6658.133333333334, 4103.466666666667, 4103.466666666667, 3742.4, 3742.4, 20059.733333333337, 20059.733333333337, 14297.6, 14297.6, 16110.400000000001, 16110.400000000001, 5084.8, 5084.8, 2537.0666666666666, 2537.0666666666666, 18973.333333333336, 18973.333333333336, 24189.866666666665, 24189.866666666665, 2821.6000000000004, 2821.6000000000004, 8392.0, 8392.0, 2066.133333333333, 2066.133333333333, 13372.266666666668, 13372.266666666668, 24402.666666666668, 24402.666666666668, 16116.266666666668, 16116.266666666668, 18225.600000000002, 18225.600000000002, 9283.2, 9283.2, 4708.8, 4708.8, 17012.8, 17012.8, 18883.733333333334, 18883.733333333334, 3630.4000000000005, 3630.4000000000005, 6502.400000000001, 6502.400000000001, 2367.4666666666667, 2367.4666666666667, 3506.666666666667, 3506.666666666667, 13898.133333333335, 13898.133333333335, 6231.466666666667, 6231.466666666667, 21034.133333333335, 21034.133333333335, 7551.200000000001, 7551.200000000001, 3317.3333333333335, 3317.3333333333335, 27165.86666666667, 27165.86666666667, 30781.86666666667, 30781.86666666667, 5556.8, 5556.8, 8450.666666666668, 8450.666666666668, 5728.0, 5728.0, 6544.533333333335, 6544.533333333335, 43126.933333333334, 43126.933333333334, 18904.533333333333, 18904.533333333333, 15884.26105263158, 15884.26105263158, 6913.8189473684215, 6913.8189473684215, 3424.067368421053, 3424.067368421053, 22417.920000000002, 22417.920000000002, 19647.19157894737, 19647.19157894737, 4264.218947368421, 4264.218947368421, 5397.692631578948, 5397.692631578948, 4105.970526315789, 4105.970526315789, 7569.92, 7569.92, 36897.0105263158, 36897.0105263158, 8455.275789473684, 8455.275789473684, 14044.266666666666, 14044.266666666666, 3897.6000000000004, 3897.6000000000004, 3928.0, 3928.0, 14769.066666666668, 14769.066666666668, 18566.4, 18566.4, 2819.2000000000003, 2819.2000000000003, 4021.866666666667, 4021.866666666667, 3895.4666666666667, 3895.4666666666667, 4120.0, 4120.0, 15091.733333333335, 15091.733333333335, 7460.266666666667, 7460.266666666667, 13053.333333333332, 13053.333333333332, 4765.6, 4765.6, 2857.066666666667, 2857.066666666667, 20744.533333333336, 20744.533333333336, 19582.4, 19582.4, 2822.4, 2822.4, 6787.2, 6787.2, 3829.333333333334, 3829.333333333334, 6027.200000000001, 6027.200000000001, 22723.733333333337, 22723.733333333337, 18910.933333333334, 18910.933333333334, 11468.8, 11468.8, 11484.8, 11484.8, 3453.8666666666672, 3453.8666666666672, 9418.133333333333, 9418.133333333333, 13058.133333333333, 13058.133333333333, 5949.6, 5949.6, 4556.266666666666, 4556.266666666666, 1864.5333333333335, 1864.5333333333335, 2172.266666666667, 2172.266666666667, 12830.933333333334, 12830.933333333334, 9765.333333333334, 9765.333333333334, 14707.733333333334, 14707.733333333334, 8661.6, 8661.6, 3000.0, 3000.0, 15915.2, 15915.2, 18636.800000000003, 18636.800000000003, 4544.8, 4544.8, 6195.733333333334, 6195.733333333334, 2362.666666666667, 2362.666666666667, 3254.9333333333334, 3254.9333333333334, 18864.0, 18864.0, 11685.333333333332, 11685.333333333332, 16707.733333333334, 16707.733333333334, 13851.2, 13851.2, 4739.200000000001, 4739.200000000001, 14150.933333333334, 14150.933333333334, 18332.266666666666, 18332.266666666666, 7226.400000000001, 7226.400000000001, 7139.733333333334, 7139.733333333334, 3302.4, 3302.4, 3693.866666666667, 3693.866666666667, 15059.733333333335, 15059.733333333335, 10478.933333333334, 10478.933333333334, 13270.933333333334, 13270.933333333334, 7384.8, 7384.8, 3733.333333333333, 3733.333333333333, 17015.466666666667, 17015.466666666667, 18668.800000000003, 18668.800000000003, 4004.0000000000005, 4004.0000000000005, 5672.533333333334, 5672.533333333334, 3066.666666666667, 3066.666666666667, 2722.133333333333, 2722.133333333333, 16527.466666666667, 16527.466666666667, 10661.333333333336, 10661.333333333336, 11721.066666666668, 11721.066666666668, 8213.6, 8213.6, 2597.3333333333335, 2597.3333333333335, 22358.4, 22358.4, 19860.8, 19860.8, 5011.2, 5011.2, 8378.666666666668, 8378.666666666668, 4160.533333333334, 4160.533333333334, 5093.866666666667, 5093.866666666667, 37132.26666666667, 37132.26666666667, 14125.866666666669, 14125.866666666669, 9129.066666666668, 9129.066666666668, 6296.000000000001, 6296.000000000001, 2331.2000000000003, 2331.2000000000003, 12350.400000000001, 12350.400000000001, 15464.533333333335, 15464.533333333335, 4658.400000000001, 4658.400000000001, 4116.8, 4116.8, 1531.7333333333336, 1531.7333333333336, 2353.066666666667, 2353.066666666667, 18092.266666666666, 18092.266666666666, 7910.400000000001, 7910.400000000001, 13988.266666666668, 13988.266666666668, 6676.0, 6676.0, 3381.3333333333335, 3381.3333333333335, 17020.266666666666, 17020.266666666666, 15635.2, 15635.2, 3419.2000000000003, 3419.2000000000003, 5865.066666666667, 5865.066666666667, 2278.9333333333334, 2278.9333333333334, 3362.1333333333337, 3362.1333333333337, 20530.13333333334, 20530.13333333334, 8535.466666666667, 8535.466666666667, 7637.866666666667, 7637.866666666667, 3732.8, 3732.8, 1680.5333333333335, 1680.5333333333335, 10882.133333333333, 10882.133333333333, 12457.600000000002, 12457.600000000002, 3161.6000000000004, 3161.6000000000004, 3427.2000000000003, 3427.2000000000003, 1463.4666666666667, 1463.4666666666667, 1502.9333333333336, 1502.9333333333336, 14034.133333333333, 14034.133333333333, 8289.066666666666, 8289.066666666666, 9269.333333333334, 9269.333333333334, 3081.6000000000004, 3081.6000000000004, 2742.9333333333334, 2742.9333333333334, 17962.133333333335, 17962.133333333335, 18297.066666666666, 18297.066666666666, 3390.4000000000005, 3390.4000000000005, 5843.2, 5843.2, 3305.066666666667, 3305.066666666667, 5398.400000000001, 5398.400000000001, 30209.600000000002, 30209.600000000002, 13372.8, 13372.8, 8826.745263157894, 8826.745263157894, 2487.9157894736845, 2487.9157894736845, 1561.1957894736845, 1561.1957894736845, 14376.960000000001, 14376.960000000001, 16720.707368421055, 16720.707368421055, 2663.9494736842107, 2663.9494736842107, 4295.41052631579, 4295.41052631579, 2303.461052631579, 2303.461052631579, 3412.48, 3412.48, 17984.673684210524, 17984.673684210524, 7253.4231578947365, 7253.4231578947365, 8334.933333333334, 8334.933333333334, 5000.8, 5000.8, 2105.6, 2105.6, 13400.533333333335, 13400.533333333335, 13946.133333333335, 13946.133333333335], \\\"prediction_interval\\\": [\\\"[-75091.55491913024, 100708.62158579691]\\\", \\\"[-94846.64894873949, 120463.71561540614]\\\", \\\"[-79228.88825246358, 96571.28825246356]\\\", \\\"[-98983.98228207283, 116326.3822820728]\\\", \\\"[-84912.35491913024, 90887.8215857969]\\\", \\\"[-104667.44894873949, 110642.91561540613]\\\", \\\"[-74029.15491913025, 101771.0215857969]\\\", \\\"[-93784.24894873949, 121526.11561540613]\\\", \\\"[-75074.48825246358, 100725.68825246357]\\\", \\\"[-94829.58228207282, 120480.7822820728]\\\", \\\"[-85067.28825246358, 90732.88825246357]\\\", \\\"[-104822.38228207282, 110487.9822820728]\\\", \\\"[-84123.55491913024, 91676.62158579691]\\\", \\\"[-103878.64894873949, 111431.71561540614]\\\", \\\"[-86044.62158579692, 89755.55491913023]\\\", \\\"[-105799.71561540617, 109510.64894873946]\\\", \\\"[-84577.42158579691, 91222.75491913024]\\\", \\\"[-104332.51561540616, 110977.84894873947]\\\", \\\"[-74211.02158579692, 101589.15491913023]\\\", \\\"[-93966.11561540616, 121344.24894873946]\\\", \\\"[-81084.08825246358, 94716.08825246357]\\\", \\\"[-100839.18228207283, 114471.1822820728]\\\", \\\"[-74552.88825246358, 101247.28825246356]\\\", \\\"[-94307.98228207283, 121002.3822820728]\\\", \\\"[-78872.08825246358, 96928.08825246357]\\\", \\\"[-98627.18228207283, 116683.1822820728]\\\", \\\"[-83142.75491913025, 92657.4215857969]\\\", \\\"[-102897.8489487395, 112412.51561540613]\\\", \\\"[-75015.82158579692, 100784.35491913023]\\\", \\\"[-94770.91561540616, 120539.44894873946]\\\", \\\"[-71585.42158579691, 104214.75491913024]\\\", \\\"[-91340.51561540616, 123969.84894873947]\\\", \\\"[-82952.88825246358, 92847.28825246356]\\\", \\\"[-102707.98228207283, 112602.3822820728]\\\", \\\"[-82744.88825246358, 93055.28825246356]\\\", \\\"[-102499.98228207283, 112810.3822820728]\\\", \\\"[-85202.48825246358, 90597.68825246357]\\\", \\\"[-104957.58228207282, 110352.7822820728]\\\", \\\"[-84131.55491913024, 91668.62158579691]\\\", \\\"[-103886.64894873949, 111423.71561540614]\\\", \\\"[-73285.15491913025, 102515.0215857969]\\\", \\\"[-93040.24894873949, 122270.11561540613]\\\", \\\"[-76184.88825246358, 99615.28825246356]\\\", \\\"[-95939.98228207283, 119370.3822820728]\\\", \\\"[-72278.75491913025, 103521.4215857969]\\\", \\\"[-92033.8489487395, 123276.51561540613]\\\", \\\"[-80666.48825246358, 95133.68825246357]\\\", \\\"[-100421.58228207282, 114888.7822820728]\\\", \\\"[-85070.75491913025, 90729.4215857969]\\\", \\\"[-104825.8489487395, 110484.51561540613]\\\", \\\"[-63438.22158579691, 112361.95491913024]\\\", \\\"[-83193.31561540616, 132117.04894873945]\\\", \\\"[-61848.888252463585, 113951.28825246356]\\\", \\\"[-81603.98228207283, 133706.3822820728]\\\", \\\"[-82415.28825246358, 93384.88825246357]\\\", \\\"[-102170.38228207282, 113139.9822820728]\\\", \\\"[-81784.35491913024, 94015.8215857969]\\\", \\\"[-101539.44894873949, 113770.91561540613]\\\", \\\"[-81450.48825246358, 94349.68825246357]\\\", \\\"[-101205.58228207282, 114104.7822820728]\\\", \\\"[-82051.55491913024, 93748.62158579691]\\\", \\\"[-101806.64894873949, 113503.71561540614]\\\", \\\"[-59241.95491913024, 116558.22158579691]\\\", \\\"[-78997.04894873948, 136313.31561540614]\\\", \\\"[-70944.35491913024, 104855.8215857969]\\\", \\\"[-90699.44894873949, 124610.91561540613]\\\", \\\"[-70359.82158579692, 105440.35491913023]\\\", \\\"[-90114.91561540616, 125195.44894873946]\\\", \\\"[-81128.08825246358, 94672.08825246357]\\\", \\\"[-100883.18228207283, 114427.1822820728]\\\", \\\"[-84073.95491913025, 91726.2215857969]\\\", \\\"[-103829.0489487395, 111481.31561540613]\\\", \\\"[-71736.88825246358, 104063.28825246356]\\\", \\\"[-91491.98228207283, 123818.3822820728]\\\", \\\"[-70431.82158579692, 105368.35491913023]\\\", \\\"[-90186.91561540616, 125123.44894873946]\\\", \\\"[-85198.48825246358, 90601.68825246357]\\\", \\\"[-104953.58228207282, 110356.7822820728]\\\", \\\"[-81426.48825246358, 94373.68825246357]\\\", \\\"[-101181.58228207282, 114128.7822820728]\\\", \\\"[-86361.42158579691, 89438.75491913024]\\\", \\\"[-106116.51561540616, 109193.84894873947]\\\", \\\"[-82607.82158579692, 93192.35491913023]\\\", \\\"[-102362.91561540616, 112947.44894873946]\\\", \\\"[-69145.42158579691, 106654.75491913024]\\\", \\\"[-88900.51561540616, 126409.84894873947]\\\", \\\"[-82305.42158579691, 93494.75491913024]\\\", \\\"[-102060.51561540616, 113249.84894873947]\\\", \\\"[-66191.55772614779, 109608.61877877936]\\\", \\\"[-85946.65175575703, 129363.71280838859]\\\", \\\"[-82585.73035772674, 93214.4461472004]\\\", \\\"[-102340.82438733599, 112969.54017680963]\\\", \\\"[-84316.76193667411, 91483.41456825304]\\\", \\\"[-104071.85596628336, 111238.50859786227]\\\", \\\"[-63446.025094568846, 112354.1514103583]\\\", \\\"[-83201.11912417809, 132109.24543996755]\\\", \\\"[-59316.071410358316, 116484.10509456883]\\\", \\\"[-79071.16543996756, 136239.19912417806]\\\", \\\"[-84278.3619366741, 91521.81456825304]\\\", \\\"[-104033.45596628335, 111276.90859786228]\\\", \\\"[-81007.22088404253, 94792.95562088462]\\\", \\\"[-100762.31491365177, 114548.04965049385]\\\", \\\"[-84289.41035772674, 91510.76614720041]\\\", \\\"[-104044.50438733598, 111265.86017680964]\\\", \\\"[-73954.95983141095, 101845.2166735162]\\\", \\\"[-93710.05386102019, 121600.31070312543]\\\", \\\"[-61467.68404193726, 114332.49246298989]\\\", \\\"[-81222.7780715465, 134087.5864925991]\\\", \\\"[-76783.22088404253, 99016.95562088462]\\\", \\\"[-96538.31491365177, 118772.04965049385]\\\", \\\"[-71329.95491913025, 104470.2215857969]\\\", \\\"[-91085.0489487395, 124225.31561540613]\\\", \\\"[-77589.68825246359, 98210.48825246358]\\\", \\\"[-97344.78228207282, 117965.5822820728]\\\", \\\"[-84059.55491913024, 91740.62158579691]\\\", \\\"[-103814.64894873949, 111495.71561540614]\\\", \\\"[-77227.02158579692, 98573.15491913023]\\\", \\\"[-96982.11561540616, 118328.24894873946]\\\", \\\"[-72989.15491913025, 102811.0215857969]\\\", \\\"[-92744.24894873949, 122566.11561540613]\\\", \\\"[-84671.28825246358, 91128.88825246357]\\\", \\\"[-104426.38228207282, 110883.9822820728]\\\", \\\"[-83442.48825246358, 92357.68825246357]\\\", \\\"[-103197.58228207282, 112112.7822820728]\\\", \\\"[-86197.15491913025, 89603.0215857969]\\\", \\\"[-105952.24894873949, 109358.11561540613]\\\", \\\"[-84765.68825246359, 91034.48825246356]\\\", \\\"[-104520.78228207283, 110789.58228207279]\\\", \\\"[-78026.48825246358, 97773.68825246357]\\\", \\\"[-97781.58228207282, 117528.7822820728]\\\", \\\"[-81518.22158579691, 94281.95491913024]\\\", \\\"[-101273.31561540616, 114037.04894873947]\\\", \\\"[-71895.28825246358, 103904.88825246357]\\\", \\\"[-91650.38228207282, 123659.9822820728]\\\", \\\"[-79872.08825246358, 95928.08825246357]\\\", \\\"[-99627.18228207283, 115683.1822820728]\\\", \\\"[-84296.88825246358, 91503.28825246356]\\\", \\\"[-104051.98228207283, 111258.3822820728]\\\", \\\"[-63164.621585796915, 112635.55491913023]\\\", \\\"[-82919.71561540617, 132390.64894873946]\\\", \\\"[-64431.82158579692, 111368.35491913023]\\\", \\\"[-84186.91561540616, 131123.44894873947]\\\", \\\"[-83355.28825246358, 92444.88825246357]\\\", \\\"[-103110.38228207282, 112199.9822820728]\\\", \\\"[-82795.55491913024, 93004.62158579691]\\\", \\\"[-102550.64894873949, 112759.71561540614]\\\", \\\"[-83795.02158579692, 92005.15491913023]\\\", \\\"[-103550.11561540616, 111760.24894873946]\\\", \\\"[-84891.55491913024, 90908.62158579691]\\\", \\\"[-104646.64894873949, 110663.71561540614]\\\", \\\"[-64706.488252463576, 111093.68825246357]\\\", \\\"[-84461.58228207282, 130848.7822820728]\\\", \\\"[-78733.15491913025, 97067.0215857969]\\\", \\\"[-98488.24894873949, 116822.11561540613]\\\", \\\"[-80957.15491913025, 94843.0215857969]\\\", \\\"[-100712.24894873949, 114598.11561540613]\\\", \\\"[-83260.88825246358, 92539.28825246356]\\\", \\\"[-103015.98228207283, 112294.3822820728]\\\", \\\"[-85948.08825246358, 89852.08825246357]\\\", \\\"[-105703.18228207283, 109607.1822820728]\\\", \\\"[-77841.95491913025, 97958.2215857969]\\\", \\\"[-97597.0489487395, 117713.31561540613]\\\", \\\"[-75213.68825246359, 100586.48825246358]\\\", \\\"[-94968.78228207282, 120341.5822820728]\\\", \\\"[-82960.08825246358, 92840.08825246357]\\\", \\\"[-102715.18228207283, 112595.1822820728]\\\", \\\"[-84147.55491913024, 91652.62158579691]\\\", \\\"[-103902.64894873949, 111407.71561540614]\\\", \\\"[-84864.35491913024, 90935.8215857969]\\\", \\\"[-104619.44894873949, 110690.91561540613]\\\", \\\"[-83985.42158579691, 91814.75491913024]\\\", \\\"[-103740.51561540616, 111569.84894873947]\\\", \\\"[-70966.22158579691, 104833.95491913024]\\\", \\\"[-90721.31561540616, 124589.04894873947]\\\", \\\"[-77525.68825246359, 98274.48825246356]\\\", \\\"[-97280.78228207283, 118029.58228207279]\\\", \\\"[-80686.75491913025, 95113.4215857969]\\\", \\\"[-100441.8489487395, 114868.51561540613]\\\", \\\"[-84007.28825246358, 91792.88825246357]\\\", \\\"[-103762.38228207282, 111547.9822820728]\\\", \\\"[-85513.42158579691, 90286.75491913024]\\\", \\\"[-105268.51561540616, 110041.84894873947]\\\", \\\"[-79907.55491913026, 95892.62158579691]\\\", \\\"[-99662.64894873949, 115647.71561540614]\\\", \\\"[-79092.62158579691, 96707.55491913023]\\\", \\\"[-98847.71561540617, 116462.64894873946]\\\", \\\"[-85121.68825246359, 90678.48825246356]\\\", \\\"[-104876.78228207283, 110433.58228207279]\\\", \\\"[-84745.42158579691, 91054.75491913024]\\\", \\\"[-104500.51561540616, 110809.84894873947]\\\", \\\"[-86380.08825246358, 89420.08825246357]\\\", \\\"[-106135.18228207283, 109175.1822820728]\\\", \\\"[-86356.62158579692, 89443.55491913023]\\\", \\\"[-106111.71561540617, 109198.64894873946]\\\", \\\"[-80672.35491913024, 95127.8215857969]\\\", \\\"[-100427.44894873949, 114882.91561540613]\\\", \\\"[-83128.88825246358, 92671.28825246356]\\\", \\\"[-102883.98228207283, 112426.3822820728]\\\", \\\"[-64295.28825246358, 111504.88825246357]\\\", \\\"[-84050.38228207282, 131259.9822820728]\\\", \\\"[-77203.28825246358, 98596.88825246357]\\\", \\\"[-96958.38228207282, 118351.9822820728]\\\", \\\"[-82084.08825246358, 93716.08825246357]\\\", \\\"[-101839.18228207283, 113471.1822820728]\\\", \\\"[-66549.15491913025, 109251.0215857969]\\\", \\\"[-86304.24894873949, 129006.11561540613]\\\", \\\"[-65253.68825246358, 110546.48825246358]\\\", \\\"[-85008.78228207282, 130301.5822820728]\\\", \\\"[-83421.68825246359, 92378.48825246356]\\\", \\\"[-103176.78228207283, 112133.58228207279]\\\", \\\"[-81548.08825246358, 94252.08825246357]\\\", \\\"[-101303.18228207283, 114007.1822820728]\\\", \\\"[-84582.75491913025, 91217.4215857969]\\\", \\\"[-104337.8489487395, 110972.51561540613]\\\", \\\"[-80880.35491913024, 94919.8215857969]\\\", \\\"[-100635.44894873949, 114674.91561540613]\\\", \\\"[-63889.42158579692, 111910.75491913024]\\\", \\\"[-83644.51561540616, 131665.84894873947]\\\", \\\"[-78087.82158579692, 97712.35491913023]\\\", \\\"[-97842.91561540616, 117467.44894873946]\\\", \\\"[-69667.02158579692, 106133.15491913023]\\\", \\\"[-89422.11561540616, 125888.24894873946]\\\", \\\"[-80869.68825246359, 94930.48825246356]\\\", \\\"[-100624.78228207283, 114685.58228207279]\\\", \\\"[-83195.55491913024, 92604.62158579691]\\\", \\\"[-102950.64894873949, 112359.71561540614]\\\", \\\"[-75742.75491913025, 100057.4215857969]\\\", \\\"[-95497.8489487395, 119812.51561540613]\\\", \\\"[-72727.28825246358, 103072.88825246357]\\\", \\\"[-92482.38228207282, 122827.9822820728]\\\", \\\"[-84868.08825246358, 90932.08825246357]\\\", \\\"[-104623.18228207283, 110687.1822820728]\\\", \\\"[-83144.88825246358, 92655.28825246356]\\\", \\\"[-102899.98228207283, 112410.3822820728]\\\", \\\"[-85555.55491913024, 90244.62158579691]\\\", \\\"[-105310.64894873949, 109999.71561540614]\\\", \\\"[-84344.88825246358, 91455.28825246356]\\\", \\\"[-104099.98228207283, 111210.3822820728]\\\", \\\"[-75844.08825246358, 99956.08825246357]\\\", \\\"[-95599.18228207283, 119711.1822820728]\\\", \\\"[-82255.28825246358, 93544.88825246357]\\\", \\\"[-102010.38228207282, 113299.9822820728]\\\", \\\"[-76639.82158579692, 99160.35491913023]\\\", \\\"[-96394.91561540616, 118915.44894873946]\\\", \\\"[-82757.68825246359, 93042.48825246356]\\\", \\\"[-102512.78228207283, 112797.58228207279]\\\", \\\"[-85966.75491913025, 89833.4215857969]\\\", \\\"[-105721.8489487395, 109588.51561540613]\\\", \\\"[-68570.48825246358, 107229.68825246357]\\\", \\\"[-88325.58228207282, 126984.7822820728]\\\", \\\"[-72901.15491913025, 102899.0215857969]\\\", \\\"[-92656.24894873949, 122654.11561540613]\\\", \\\"[-82791.28825246358, 93008.88825246357]\\\", \\\"[-102546.38228207282, 112763.9822820728]\\\", \\\"[-82090.48825246358, 93709.68825246357]\\\", \\\"[-101845.58228207282, 113464.7822820728]\\\", \\\"[-84267.55491913024, 91532.62158579691]\\\", \\\"[-104022.64894873949, 111287.71561540614]\\\", \\\"[-84345.42158579691, 91454.75491913024]\\\", \\\"[-104100.51561540616, 111209.84894873947]\\\", \\\"[-68619.02158579692, 107181.15491913023]\\\", \\\"[-88374.11561540616, 126936.24894873946]\\\", \\\"[-74061.15491913025, 101739.0215857969]\\\", \\\"[-93816.24894873949, 121494.11561540613]\\\", \\\"[-71553.42158579691, 104246.75491913024]\\\", \\\"[-91308.51561540616, 124001.84894873947]\\\", \\\"[-75452.88825246358, 100347.28825246356]\\\", \\\"[-95207.98228207283, 120102.3822820728]\\\", \\\"[-83240.35491913024, 92559.8215857969]\\\", \\\"[-102995.44894873949, 112314.91561540613]\\\", \\\"[-74096.88825246358, 101703.28825246356]\\\", \\\"[-93851.98228207283, 121458.3822820728]\\\", \\\"[-71949.68825246359, 103850.48825246358]\\\", \\\"[-91704.78228207282, 123605.5822820728]\\\", \\\"[-82521.68825246359, 93278.48825246356]\\\", \\\"[-102276.78228207283, 113033.58228207279]\\\", \\\"[-82494.75491913025, 93305.4215857969]\\\", \\\"[-102249.8489487395, 113060.51561540613]\\\", \\\"[-85454.22158579691, 90345.95491913024]\\\", \\\"[-105209.31561540616, 110101.04894873947]\\\", \\\"[-82822.22158579691, 92977.95491913024]\\\", \\\"[-102577.31561540616, 112733.04894873947]\\\", \\\"[-75246.22158579691, 100553.95491913024]\\\", \\\"[-95001.31561540616, 120309.04894873947]\\\", \\\"[-76343.82158579692, 99456.35491913023]\\\", \\\"[-96098.91561540616, 119211.44894873946]\\\", \\\"[-78778.48825246358, 97021.68825246357]\\\", \\\"[-98533.58228207282, 116776.7822820728]\\\", \\\"[-82637.68825246359, 93162.48825246356]\\\", \\\"[-102392.78228207283, 112917.58228207279]\\\", \\\"[-86198.75491913025, 89601.4215857969]\\\", \\\"[-105953.8489487395, 109356.51561540613]\\\", \\\"[-79022.75491913025, 96777.4215857969]\\\", \\\"[-98777.8489487395, 116532.51561540613]\\\", \\\"[-78918.75491913025, 96881.4215857969]\\\", \\\"[-98673.8489487395, 116636.51561540613]\\\", \\\"[-84508.88825246358, 91291.28825246356]\\\", \\\"[-104263.98228207283, 111046.3822820728]\\\", \\\"[-84170.48825246358, 91629.68825246357]\\\", \\\"[-103925.58228207282, 111384.7822820728]\\\", \\\"[-85792.35491913024, 90007.8215857969]\\\", \\\"[-105547.44894873949, 109762.91561540613]\\\", \\\"[-85942.75491913025, 89857.4215857969]\\\", \\\"[-105697.8489487395, 109612.51561540613]\\\", \\\"[-78919.28825246358, 96880.88825246357]\\\", \\\"[-98674.38228207282, 116635.9822820728]\\\", \\\"[-77125.68825246359, 98674.48825246358]\\\", \\\"[-96880.78228207282, 118429.5822820728]\\\", \\\"[-81088.88825246358, 94711.28825246356]\\\", \\\"[-100843.98228207283, 114466.3822820728]\\\", \\\"[-83168.08825246358, 92632.08825246357]\\\", \\\"[-102923.18228207283, 112387.1822820728]\\\", \\\"[-86086.22158579691, 89713.95491913024]\\\", \\\"[-105841.31561540616, 109469.04894873947]\\\", \\\"[-78528.88825246358, 97271.28825246356]\\\", \\\"[-98283.98228207283, 117026.3822820728]\\\", \\\"[-74497.42158579691, 101302.75491913024]\\\", \\\"[-94252.51561540616, 121057.84894873947]\\\", \\\"[-83700.08825246358, 92100.08825246357]\\\", \\\"[-103455.18228207283, 111855.1822820728]\\\", \\\"[-84239.28825246358, 91560.88825246357]\\\", \\\"[-103994.38228207282, 111315.9822820728]\\\", \\\"[-85953.42158579691, 89846.75491913024]\\\", \\\"[-105708.51561540616, 109601.84894873947]\\\", \\\"[-85316.62158579691, 90483.55491913023]\\\", \\\"[-105071.71561540617, 110238.64894873946]\\\", \\\"[-74751.28825246358, 101048.88825246357]\\\", \\\"[-94506.38228207282, 120803.9822820728]\\\", \\\"[-79288.88825246358, 96511.28825246356]\\\", \\\"[-99043.98228207283, 116266.3822820728]\\\", \\\"[-79831.28825246358, 95968.88825246357]\\\", \\\"[-99586.38228207282, 115723.9822820728]\\\", \\\"[-81128.08825246358, 94672.08825246357]\\\", \\\"[-100883.18228207283, 114427.1822820728]\\\", \\\"[-85612.08825246358, 90188.08825246357]\\\", \\\"[-105367.18228207283, 109943.1822820728]\\\", \\\"[-79121.95491913025, 96678.2215857969]\\\", \\\"[-98877.0489487395, 116433.31561540613]\\\", \\\"[-76523.02158579692, 99277.15491913023]\\\", \\\"[-96278.11561540616, 119032.24894873946]\\\", \\\"[-83332.08825246358, 92468.08825246357]\\\", \\\"[-103087.18228207283, 112223.1822820728]\\\", \\\"[-84855.82158579692, 90944.35491913023]\\\", \\\"[-104610.91561540616, 110699.44894873946]\\\", \\\"[-86315.02158579692, 89485.15491913023]\\\", \\\"[-106070.11561540616, 109240.24894873946]\\\", \\\"[-86217.42158579691, 89582.75491913024]\\\", \\\"[-105972.51561540616, 109337.84894873947]\\\", \\\"[-80307.02158579692, 95493.15491913023]\\\", \\\"[-100062.11561540616, 115248.24894873946]\\\", \\\"[-79606.75491913025, 96193.4215857969]\\\", \\\"[-99361.8489487395, 115948.51561540613]\\\", \\\"[-80990.75491913025, 94809.4215857969]\\\", \\\"[-100745.8489487395, 114564.51561540613]\\\", \\\"[-83691.28825246358, 92108.88825246357]\\\", \\\"[-103446.38228207282, 111863.9822820728]\\\", \\\"[-86221.15491913025, 89579.0215857969]\\\", \\\"[-105976.24894873949, 109334.11561540613]\\\", \\\"[-80582.75491913025, 95217.4215857969]\\\", \\\"[-100337.8489487395, 114972.51561540613]\\\", \\\"[-78404.62158579691, 97395.55491913023]\\\", \\\"[-98159.71561540617, 117150.64894873946]\\\", \\\"[-86045.68825246359, 89754.48825246356]\\\", \\\"[-105800.78228207283, 109509.58228207279]\\\", \\\"[-85294.75491913025, 90505.4215857969]\\\", \\\"[-105049.8489487395, 110260.51561540613]\\\", \\\"[-86889.42158579691, 88910.75491913024]\\\", \\\"[-106644.51561540616, 108665.84894873947]\\\", \\\"[-85624.35491913024, 90175.8215857969]\\\", \\\"[-105379.44894873949, 109930.91561540613]\\\", \\\"[-78683.02158579692, 97117.15491913023]\\\", \\\"[-98438.11561540616, 116872.24894873946]\\\", \\\"[-81111.82158579692, 94688.35491913023]\\\", \\\"[-100866.91561540616, 114443.44894873946]\\\", \\\"[-81850.48825246358, 93949.68825246357]\\\", \\\"[-101605.58228207282, 113704.7822820728]\\\", \\\"[-84255.28825246358, 91544.88825246357]\\\", \\\"[-104010.38228207282, 111299.9822820728]\\\", \\\"[-86387.02158579692, 89413.15491913023]\\\", \\\"[-106142.11561540616, 109168.24894873946]\\\", \\\"[-79462.22158579691, 96337.95491913024]\\\", \\\"[-99217.31561540616, 116093.04894873947]\\\", \\\"[-78549.15491913025, 97251.0215857969]\\\", \\\"[-98304.24894873949, 117006.11561540613]\\\", \\\"[-85593.68825246359, 90206.48825246356]\\\", \\\"[-105348.78228207283, 109961.58228207279]\\\", \\\"[-84760.88825246358, 91039.28825246356]\\\", \\\"[-104515.98228207283, 110794.3822820728]\\\", \\\"[-86309.68825246359, 89490.48825246356]\\\", \\\"[-106064.78228207283, 109245.58228207279]\\\", \\\"[-86138.48825246358, 89661.68825246357]\\\", \\\"[-105893.58228207282, 109416.7822820728]\\\", \\\"[-78485.15491913025, 97315.0215857969]\\\", \\\"[-98240.24894873949, 117070.11561540613]\\\", \\\"[-80632.88825246358, 95167.28825246356]\\\", \\\"[-100387.98228207283, 114922.3822820728]\\\", \\\"[-78063.28825246358, 97736.88825246357]\\\", \\\"[-97818.38228207282, 117491.9822820728]\\\", \\\"[-81437.68825246359, 94362.48825246356]\\\", \\\"[-101192.78228207283, 114117.58228207279]\\\", \\\"[-85347.55491913024, 90452.62158579691]\\\", \\\"[-105102.64894873949, 110207.71561540614]\\\", \\\"[-74742.22158579691, 101057.95491913024]\\\", \\\"[-94497.31561540616, 120813.04894873947]\\\", \\\"[-76289.95491913025, 99510.2215857969]\\\", \\\"[-96045.0489487395, 119265.31561540613]\\\", \\\"[-84574.48825246358, 91225.68825246357]\\\", \\\"[-104329.58228207282, 110980.7822820728]\\\", \\\"[-84188.62158579692, 91611.55491913023]\\\", \\\"[-103943.71561540617, 111366.64894873946]\\\", \\\"[-86310.75491913025, 89489.4215857969]\\\", \\\"[-106065.8489487395, 109244.51561540613]\\\", \\\"[-83795.55491913026, 92004.62158579691]\\\", \\\"[-103550.64894873949, 111759.71561540614]\\\", \\\"[-75513.42158579691, 100286.75491913024]\\\", \\\"[-95268.51561540616, 120041.84894873947]\\\", \\\"[-80916.62158579691, 94883.55491913023]\\\", \\\"[-100671.71561540617, 114638.64894873946]\\\", \\\"[-66729.42158579691, 109070.75491913024]\\\", \\\"[-86484.51561540616, 128825.84894873947]\\\", \\\"[-66688.88825246358, 109111.28825246356]\\\", \\\"[-86443.98228207283, 128866.3822820728]\\\", \\\"[-82385.42158579691, 93414.75491913024]\\\", \\\"[-102140.51561540616, 113169.84894873947]\\\", \\\"[-76109.68825246359, 99690.48825246358]\\\", \\\"[-95864.78228207282, 119445.5822820728]\\\", \\\"[-67720.35491913024, 108079.8215857969]\\\", \\\"[-87475.44894873949, 127834.91561540613]\\\", \\\"[-81589.68825246359, 94210.48825246356]\\\", \\\"[-101344.78228207283, 113965.58228207279]\\\", \\\"[-81566.75491913025, 94233.4215857969]\\\", \\\"[-101321.8489487395, 113988.51561540613]\\\", \\\"[-85411.02158579692, 90389.15491913023]\\\", \\\"[-105166.11561540616, 110144.24894873946]\\\", \\\"[-83577.95491913025, 92222.2215857969]\\\", \\\"[-103333.0489487395, 111977.31561540613]\\\", \\\"[-77216.88825246358, 98583.28825246356]\\\", \\\"[-96971.98228207283, 118338.3822820728]\\\", \\\"[-79854.22158579691, 95945.95491913024]\\\", \\\"[-99609.31561540616, 115701.04894873947]\\\", \\\"[-66111.28825246358, 109688.88825246357]\\\", \\\"[-85866.38228207282, 129443.9822820728]\\\", \\\"[-77955.28825246358, 97844.88825246357]\\\", \\\"[-97710.38228207282, 117599.9822820728]\\\", \\\"[-82383.28825246358, 93416.88825246357]\\\", \\\"[-102138.38228207282, 113171.9822820728]\\\", \\\"[-66844.62158579691, 108955.55491913023]\\\", \\\"[-86599.71561540617, 128710.64894873946]\\\", \\\"[-62843.021585796916, 112957.15491913023]\\\", \\\"[-82598.11561540616, 132712.24894873946]\\\", \\\"[-85198.48825246358, 90601.68825246357]\\\", \\\"[-104953.58228207282, 110356.7822820728]\\\", \\\"[-78880.88825246358, 96919.28825246356]\\\", \\\"[-98635.98228207283, 116674.3822820728]\\\", \\\"[-85213.15491913025, 90587.0215857969]\\\", \\\"[-104968.24894873949, 110342.11561540613]\\\", \\\"[-81617.95491913025, 94182.2215857969]\\\", \\\"[-101373.0489487395, 113937.31561540613]\\\", \\\"[-63816.354919130245, 111983.8215857969]\\\", \\\"[-83571.44894873949, 131738.91561540612]\\\", \\\"[-81917.15491913025, 93883.0215857969]\\\", \\\"[-101672.24894873949, 113638.11561540613]\\\", \\\"[-79086.22158579691, 96713.95491913024]\\\", \\\"[-98841.31561540616, 116469.04894873947]\\\", \\\"[-81243.28825246358, 94556.88825246357]\\\", \\\"[-100998.38228207282, 114311.9822820728]\\\", \\\"[-85750.22158579691, 90049.95491913024]\\\", \\\"[-105505.31561540616, 109805.04894873947]\\\", \\\"[-79727.28825246358, 96072.88825246357]\\\", \\\"[-99482.38228207282, 115827.9822820728]\\\", \\\"[-77293.15491913025, 98507.0215857969]\\\", \\\"[-97048.24894873949, 118262.11561540613]\\\", \\\"[-84005.68825246359, 91794.48825246356]\\\", \\\"[-103760.78228207283, 111549.58228207279]\\\", \\\"[-84141.15491913025, 91659.0215857969]\\\", \\\"[-103896.24894873949, 111414.11561540613]\\\", \\\"[-85870.75491913025, 89929.4215857969]\\\", \\\"[-105625.8489487395, 109684.51561540613]\\\", \\\"[-85673.95491913025, 90126.2215857969]\\\", \\\"[-105429.0489487395, 109881.31561540613]\\\", \\\"[-76727.82158579692, 99072.35491913023]\\\", \\\"[-96482.91561540616, 118827.44894873946]\\\", \\\"[-76435.55491913024, 99364.62158579691]\\\", \\\"[-96190.64894873949, 119119.71561540614]\\\", \\\"[-78246.75491913025, 97553.4215857969]\\\", \\\"[-98001.8489487395, 117308.51561540613]\\\", \\\"[-79515.28825246358, 96284.88825246357]\\\", \\\"[-99270.38228207282, 116039.9822820728]\\\", \\\"[-85317.68825246359, 90482.48825246356]\\\", \\\"[-105072.78228207283, 110237.58228207279]\\\", \\\"[-79229.15491913025, 96571.0215857969]\\\", \\\"[-98984.24894873949, 116326.11561540613]\\\", \\\"[-77040.35491913024, 98759.8215857969]\\\", \\\"[-96795.44894873949, 118514.91561540613]\\\", \\\"[-83934.48825246358, 91865.68825246357]\\\", \\\"[-103689.58228207282, 111620.7822820728]\\\", \\\"[-84032.35491913024, 91767.8215857969]\\\", \\\"[-103787.44894873949, 111522.91561540613]\\\", \\\"[-86321.42158579691, 89478.75491913024]\\\", \\\"[-106076.51561540616, 109233.84894873947]\\\", \\\"[-83738.48825246358, 92061.68825246357]\\\", \\\"[-103493.58228207282, 111816.7822820728]\\\", \\\"[-76548.62158579691, 99251.55491913023]\\\", \\\"[-96303.71561540617, 119006.64894873946]\\\", \\\"[-79752.88825246358, 96047.28825246356]\\\", \\\"[-99507.98228207283, 115802.3822820728]\\\", \\\"[-78734.22158579691, 97065.95491913024]\\\", \\\"[-98489.31561540616, 116821.04894873947]\\\", \\\"[-81092.08825246358, 94708.08825246357]\\\", \\\"[-100847.18228207283, 114463.1822820728]\\\", \\\"[-84952.88825246358, 90847.28825246356]\\\", \\\"[-104707.98228207283, 110602.3822820728]\\\", \\\"[-74368.88825246358, 101431.28825246356]\\\", \\\"[-94123.98228207283, 121186.3822820728]\\\", \\\"[-74653.68825246359, 101146.48825246358]\\\", \\\"[-94408.78228207282, 120901.5822820728]\\\", \\\"[-84069.68825246359, 91730.48825246356]\\\", \\\"[-103824.78228207283, 111485.58228207279]\\\", \\\"[-81957.15491913025, 93843.0215857969]\\\", \\\"[-101712.24894873949, 113598.11561540613]\\\", \\\"[-86012.08825246358, 89788.08825246357]\\\", \\\"[-105767.18228207283, 109543.1822820728]\\\", \\\"[-85550.75491913025, 90249.4215857969]\\\", \\\"[-105305.8489487395, 110004.51561540613]\\\", \\\"[-71953.95491913025, 103846.2215857969]\\\", \\\"[-91709.0489487395, 123601.31561540613]\\\", \\\"[-77885.15491913025, 97915.0215857969]\\\", \\\"[-97640.24894873949, 117670.11561540613]\\\", \\\"[-66775.82158579692, 109024.35491913023]\\\", \\\"[-86530.91561540616, 128779.44894873946]\\\", \\\"[-76238.48825246358, 99561.68825246357]\\\", \\\"[-95993.58228207282, 119316.7822820728]\\\", \\\"[-83241.95491913025, 92558.2215857969]\\\", \\\"[-102997.0489487395, 112313.31561540613]\\\", \\\"[-79220.08825246358, 96580.08825246357]\\\", \\\"[-98975.18228207283, 116335.1822820728]\\\", \\\"[-73204.08825246358, 102596.08825246357]\\\", \\\"[-92959.18228207283, 122351.1822820728]\\\", \\\"[-83542.48825246358, 92257.68825246357]\\\", \\\"[-103297.58228207282, 112012.7822820728]\\\", \\\"[-83635.02158579692, 92165.15491913023]\\\", \\\"[-103390.11561540616, 111920.24894873946]\\\", \\\"[-86745.95491913025, 89054.2215857969]\\\", \\\"[-106501.0489487395, 108809.31561540613]\\\", \\\"[-84838.75491913025, 90961.4215857969]\\\", \\\"[-104593.8489487395, 110716.51561540613]\\\", \\\"[-81297.95491913025, 94502.2215857969]\\\", \\\"[-101053.0489487395, 114257.31561540613]\\\", \\\"[-83004.08825246358, 92796.08825246357]\\\", \\\"[-102759.18228207283, 112551.1822820728]\\\", \\\"[-82253.15491913025, 93547.0215857969]\\\", \\\"[-102008.24894873949, 113302.11561540613]\\\", \\\"[-85041.68825246359, 90758.48825246356]\\\", \\\"[-104796.78228207283, 110513.58228207279]\\\", \\\"[-86446.75491913025, 89353.4215857969]\\\", \\\"[-106201.8489487395, 109108.51561540613]\\\", \\\"[-81002.48825246358, 94797.68825246357]\\\", \\\"[-100757.58228207282, 114552.7822820728]\\\", \\\"[-79263.82158579692, 96536.35491913023]\\\", \\\"[-99018.91561540616, 116291.44894873946]\\\", \\\"[-85306.48825246358, 90493.68825246357]\\\", \\\"[-105061.58228207282, 110248.7822820728]\\\", \\\"[-85020.08825246358, 90780.08825246357]\\\", \\\"[-104775.18228207283, 110535.1822820728]\\\", \\\"[-86051.55491913024, 89748.62158579691]\\\", \\\"[-105806.64894873949, 109503.71561540614]\\\", \\\"[-86124.08825246358, 89676.08825246357]\\\", \\\"[-105879.18228207283, 109431.1822820728]\\\", \\\"[-76650.48825246358, 99149.68825246357]\\\", \\\"[-96405.58228207282, 118904.7822820728]\\\", \\\"[-81667.55491913024, 94132.62158579691]\\\", \\\"[-101422.64894873949, 113887.71561540614]\\\", \\\"[-78492.08825246358, 97308.08825246357]\\\", \\\"[-98247.18228207283, 117063.1822820728]\\\", \\\"[-81914.48825246358, 93885.68825246357]\\\", \\\"[-101669.58228207282, 113640.7822820728]\\\", \\\"[-85676.08825246358, 90124.08825246357]\\\", \\\"[-105431.18228207283, 109879.1822820728]\\\", \\\"[-77177.42158579691, 98622.75491913024]\\\", \\\"[-96932.51561540616, 118377.84894873947]\\\", \\\"[-72265.42158579691, 103534.75491913024]\\\", \\\"[-92020.51561540616, 123289.84894873947]\\\", \\\"[-84562.48825246358, 91237.68825246357]\\\", \\\"[-104317.58228207282, 110992.7822820728]\\\", \\\"[-83915.02158579692, 91885.15491913023]\\\", \\\"[-103670.11561540616, 111640.24894873946]\\\", \\\"[-85687.28825246358, 90112.88825246357]\\\", \\\"[-105442.38228207282, 109867.9822820728]\\\", \\\"[-84920.35491913024, 90879.8215857969]\\\", \\\"[-104675.44894873949, 110634.91561540613]\\\", \\\"[-72894.22158579691, 102905.95491913024]\\\", \\\"[-92649.31561540616, 122661.04894873947]\\\", \\\"[-79486.22158579691, 96313.95491913024]\\\", \\\"[-99241.31561540616, 116069.04894873947]\\\", \\\"[-73087.82158579692, 102712.35491913023]\\\", \\\"[-92842.91561540616, 122467.44894873946]\\\", \\\"[-82727.28825246358, 93072.88825246357]\\\", \\\"[-102482.38228207282, 112827.9822820728]\\\", \\\"[-84661.68825246359, 91138.48825246356]\\\", \\\"[-104416.78228207283, 110893.58228207279]\\\", \\\"[-71922.48825246358, 103877.68825246357]\\\", \\\"[-91677.58228207282, 123632.7822820728]\\\", \\\"[-67870.22158579691, 107929.95491913024]\\\", \\\"[-87625.31561540616, 127685.04894873947]\\\", \\\"[-83695.28825246358, 92104.88825246357]\\\", \\\"[-103450.38228207282, 111859.9822820728]\\\", \\\"[-83266.48825246358, 92533.68825246357]\\\", \\\"[-103021.58228207282, 112288.7822820728]\\\", \\\"[-84232.35491913024, 91567.8215857969]\\\", \\\"[-103987.44894873949, 111322.91561540613]\\\", \\\"[-83655.28825246358, 92144.88825246357]\\\", \\\"[-103410.38228207282, 111899.9822820728]\\\", \\\"[-72271.28825246358, 103528.88825246357]\\\", \\\"[-92026.38228207282, 123283.9822820728]\\\", \\\"[-76529.42158579691, 99270.75491913024]\\\", \\\"[-96284.51561540616, 119025.84894873947]\\\", \\\"[-75992.35491913024, 99807.8215857969]\\\", \\\"[-95747.44894873949, 119562.91561540613]\\\", \\\"[-79395.28825246358, 96404.88825246357]\\\", \\\"[-99150.38228207282, 116159.9822820728]\\\", \\\"[-84581.15491913025, 91219.0215857969]\\\", \\\"[-104336.24894873949, 110974.11561540613]\\\", \\\"[-73940.08825246358, 101860.08825246357]\\\", \\\"[-93695.18228207283, 121615.1822820728]\\\", \\\"[-68937.95491913025, 106862.2215857969]\\\", \\\"[-88693.0489487395, 126617.31561540613]\\\", \\\"[-78661.68825246359, 97138.48825246356]\\\", \\\"[-98416.78228207283, 116893.58228207279]\\\", \\\"[-81241.95491913025, 94558.2215857969]\\\", \\\"[-100997.0489487395, 114313.31561540613]\\\", \\\"[-83796.62158579691, 92003.55491913023]\\\", \\\"[-103551.71561540617, 111758.64894873946]\\\", \\\"[-84157.68825246359, 91642.48825246356]\\\", \\\"[-103912.78228207283, 111397.58228207279]\\\", \\\"[-67840.35491913024, 107959.8215857969]\\\", \\\"[-87595.44894873949, 127714.91561540613]\\\", \\\"[-73602.48825246358, 102197.68825246357]\\\", \\\"[-93357.58228207282, 121952.7822820728]\\\", \\\"[-71789.68825246359, 104010.48825246358]\\\", \\\"[-91544.78228207282, 123765.5822820728]\\\", \\\"[-82815.28825246358, 92984.88825246357]\\\", \\\"[-102570.38228207282, 112739.9822820728]\\\", \\\"[-85363.02158579692, 90437.15491913023]\\\", \\\"[-105118.11561540616, 110192.24894873946]\\\", \\\"[-68926.75491913024, 106873.4215857969]\\\", \\\"[-88681.8489487395, 126628.51561540613]\\\", \\\"[-63710.22158579691, 112089.95491913024]\\\", \\\"[-83465.31561540616, 131845.04894873945]\\\", \\\"[-85078.48825246358, 90721.68825246357]\\\", \\\"[-104833.58228207282, 110476.7822820728]\\\", \\\"[-79508.08825246358, 96292.08825246357]\\\", \\\"[-99263.18228207283, 116047.1822820728]\\\", \\\"[-85833.95491913025, 89966.2215857969]\\\", \\\"[-105589.0489487395, 109721.31561540613]\\\", \\\"[-74527.82158579692, 101272.35491913023]\\\", \\\"[-94282.91561540616, 121027.44894873946]\\\", \\\"[-63497.42158579691, 112302.75491913024]\\\", \\\"[-83252.51561540616, 132057.84894873947]\\\", \\\"[-71783.82158579692, 104016.35491913023]\\\", \\\"[-91538.91561540616, 123771.44894873946]\\\", \\\"[-69674.48825246358, 106125.68825246357]\\\", \\\"[-89429.58228207282, 125880.7822820728]\\\", \\\"[-78616.88825246358, 97183.28825246356]\\\", \\\"[-98371.98228207283, 116938.3822820728]\\\", \\\"[-83191.28825246358, 92608.88825246357]\\\", \\\"[-102946.38228207282, 112363.9822820728]\\\", \\\"[-70887.28825246358, 104912.88825246357]\\\", \\\"[-90642.38228207282, 124667.9822820728]\\\", \\\"[-69016.35491913024, 106783.8215857969]\\\", \\\"[-88771.44894873949, 126538.91561540613]\\\", \\\"[-84269.68825246359, 91530.48825246356]\\\", \\\"[-104024.78228207283, 111285.58228207279]\\\", \\\"[-81397.68825246359, 94402.48825246356]\\\", \\\"[-101152.78228207283, 114157.58228207279]\\\", \\\"[-85532.62158579692, 90267.55491913023]\\\", \\\"[-105287.71561540617, 110022.64894873946]\\\", \\\"[-84393.42158579691, 91406.75491913024]\\\", \\\"[-104148.51561540616, 111161.84894873947]\\\", \\\"[-74001.95491913025, 101798.2215857969]\\\", \\\"[-93757.0489487395, 121553.31561540613]\\\", \\\"[-81668.62158579691, 94131.55491913023]\\\", \\\"[-101423.71561540617, 113886.64894873946]\\\", \\\"[-66865.95491913025, 108934.2215857969]\\\", \\\"[-86621.0489487395, 128689.31561540613]\\\", \\\"[-80348.88825246358, 95451.28825246356]\\\", \\\"[-100103.98228207283, 115206.3822820728]\\\", \\\"[-84582.75491913025, 91217.4215857969]\\\", \\\"[-104337.8489487395, 110972.51561540613]\\\", \\\"[-60734.22158579691, 115065.95491913024]\\\", \\\"[-80489.31561540616, 134821.04894873948]\\\", \\\"[-57118.22158579691, 118681.95491913024]\\\", \\\"[-76873.31561540616, 138437.04894873948]\\\", \\\"[-82343.28825246358, 93456.88825246357]\\\", \\\"[-102098.38228207282, 113211.9822820728]\\\", \\\"[-79449.42158579691, 96350.75491913024]\\\", \\\"[-99204.51561540616, 116105.84894873947]\\\", \\\"[-82172.08825246358, 93628.08825246357]\\\", \\\"[-101927.18228207283, 113383.1822820728]\\\", \\\"[-81355.55491913024, 94444.62158579691]\\\", \\\"[-101110.64894873949, 114199.71561540614]\\\", \\\"[-44773.15491913025, 131027.0215857969]\\\", \\\"[-64528.24894873949, 150782.11561540613]\\\", \\\"[-68995.55491913026, 106804.62158579691]\\\", \\\"[-88750.64894873949, 126559.71561540614]\\\", \\\"[-72015.827199832, 103784.34930509515]\\\", \\\"[-91770.92122944124, 123539.44333470438]\\\", \\\"[-80986.26930509516, 94813.90719983199]\\\", \\\"[-100741.36333470441, 114569.00122944122]\\\", \\\"[-84476.02088404253, 91324.15562088462]\\\", \\\"[-104231.11491365178, 111079.24965049385]\\\", \\\"[-65482.16825246358, 110318.00825246357]\\\", \\\"[-85237.26228207283, 130073.1022820728]\\\", \\\"[-68252.89667351621, 107547.27983141094]\\\", \\\"[-88007.99070312546, 127302.37386102017]\\\", \\\"[-83635.86930509516, 92164.307199832]\\\", \\\"[-103390.9633347044, 111919.40122944122]\\\", \\\"[-82502.39562088464, 93297.78088404251]\\\", \\\"[-102257.48965049388, 113052.87491365174]\\\", \\\"[-83794.11772614779, 92006.05877877936]\\\", \\\"[-103549.21175575703, 111761.1528083886]\\\", \\\"[-80330.16825246358, 95470.00825246357]\\\", \\\"[-100085.26228207283, 115225.1022820728]\\\", \\\"[-51003.077726147785, 124797.09877877936]\\\", \\\"[-70758.17175575704, 144552.1928083886]\\\", \\\"[-79444.8124629899, 96355.36404193725]\\\", \\\"[-99199.90649259914, 116110.45807154648]\\\", \\\"[-73855.82158579692, 101944.35491913023]\\\", \\\"[-93610.91561540616, 121699.44894873946]\\\", \\\"[-84002.48825246358, 91797.68825246357]\\\", \\\"[-103757.58228207282, 111552.7822820728]\\\", \\\"[-83972.08825246358, 91828.08825246357]\\\", \\\"[-103727.18228207283, 111583.1822820728]\\\", \\\"[-73131.02158579692, 102669.15491913023]\\\", \\\"[-92886.11561540616, 122424.24894873946]\\\", \\\"[-69333.68825246359, 106466.48825246358]\\\", \\\"[-89088.78228207282, 126221.5822820728]\\\", \\\"[-85080.88825246358, 90719.28825246356]\\\", \\\"[-104835.98228207283, 110474.3822820728]\\\", \\\"[-83878.22158579691, 91921.95491913024]\\\", \\\"[-103633.31561540616, 111677.04894873947]\\\", \\\"[-84004.62158579692, 91795.55491913023]\\\", \\\"[-103759.71561540617, 111550.64894873946]\\\", \\\"[-83780.08825246358, 92020.08825246357]\\\", \\\"[-103535.18228207283, 111775.1822820728]\\\", \\\"[-72808.35491913024, 102991.8215857969]\\\", \\\"[-92563.44894873949, 122746.91561540613]\\\", \\\"[-80439.82158579692, 95360.35491913023]\\\", \\\"[-100194.91561540616, 115115.44894873946]\\\", \\\"[-74846.75491913025, 100953.4215857969]\\\", \\\"[-94601.8489487395, 120708.51561540613]\\\", \\\"[-83134.48825246358, 92665.68825246357]\\\", \\\"[-102889.58228207282, 112420.7822820728]\\\", \\\"[-85043.02158579692, 90757.15491913023]\\\", \\\"[-104798.11561540616, 110512.24894873946]\\\", \\\"[-67155.55491913024, 108644.62158579691]\\\", \\\"[-86910.64894873949, 128399.71561540614]\\\", \\\"[-68317.68825246359, 107482.48825246358]\\\", \\\"[-88072.78228207282, 127237.5822820728]\\\", \\\"[-85077.68825246359, 90722.48825246356]\\\", \\\"[-104832.78228207283, 110477.58228207279]\\\", \\\"[-81112.88825246358, 94687.28825246356]\\\", \\\"[-100867.98228207283, 114442.3822820728]\\\", \\\"[-84070.75491913025, 91729.4215857969]\\\", \\\"[-103825.8489487395, 111484.51561540613]\\\", \\\"[-81872.88825246358, 93927.28825246356]\\\", \\\"[-101627.98228207283, 113682.3822820728]\\\", \\\"[-65176.354919130245, 110623.8215857969]\\\", \\\"[-84931.44894873949, 130378.91561540613]\\\", \\\"[-68989.15491913025, 106811.0215857969]\\\", \\\"[-88744.24894873949, 126566.11561540613]\\\", \\\"[-76431.28825246358, 99368.88825246357]\\\", \\\"[-96186.38228207282, 119123.9822820728]\\\", \\\"[-76415.28825246358, 99384.88825246357]\\\", \\\"[-96170.38228207282, 119139.9822820728]\\\", \\\"[-84446.22158579691, 91353.95491913024]\\\", \\\"[-104201.31561540616, 111109.04894873947]\\\", \\\"[-78481.95491913025, 97318.2215857969]\\\", \\\"[-98237.0489487395, 117073.31561540613]\\\", \\\"[-74841.95491913025, 100958.2215857969]\\\", \\\"[-94597.0489487395, 120713.31561540613]\\\", \\\"[-81950.48825246358, 93849.68825246357]\\\", \\\"[-101705.58228207282, 113604.7822820728]\\\", \\\"[-83343.82158579692, 92456.35491913023]\\\", \\\"[-103098.91561540616, 112211.44894873946]\\\", \\\"[-86035.55491913024, 89764.62158579691]\\\", \\\"[-105790.64894873949, 109519.71561540614]\\\", \\\"[-85727.82158579692, 90072.35491913023]\\\", \\\"[-105482.91561540616, 109827.44894873946]\\\", \\\"[-75069.15491913025, 100731.0215857969]\\\", \\\"[-94824.24894873949, 120486.11561540613]\\\", \\\"[-78134.75491913025, 97665.4215857969]\\\", \\\"[-97889.8489487395, 117420.51561540613]\\\", \\\"[-73192.35491913024, 102607.8215857969]\\\", \\\"[-92947.44894873949, 122362.91561540613]\\\", \\\"[-79238.48825246358, 96561.68825246357]\\\", \\\"[-98993.58228207282, 116316.7822820728]\\\", \\\"[-84900.08825246358, 90900.08825246357]\\\", \\\"[-104655.18228207283, 110655.1822820728]\\\", \\\"[-71984.88825246358, 103815.28825246356]\\\", \\\"[-91739.98228207283, 123570.3822820728]\\\", \\\"[-69263.28825246358, 106536.88825246357]\\\", \\\"[-89018.38228207282, 126291.9822820728]\\\", \\\"[-83355.28825246358, 92444.88825246357]\\\", \\\"[-103110.38228207282, 112199.9822820728]\\\", \\\"[-81704.35491913024, 94095.8215857969]\\\", \\\"[-101459.44894873949, 113850.91561540613]\\\", \\\"[-85537.42158579691, 90262.75491913024]\\\", \\\"[-105292.51561540616, 110017.84894873947]\\\", \\\"[-84645.15491913025, 91155.0215857969]\\\", \\\"[-104400.24894873949, 110910.11561540613]\\\", \\\"[-69036.08825246358, 106764.08825246357]\\\", \\\"[-88791.18228207283, 126519.1822820728]\\\", \\\"[-76214.75491913025, 99585.4215857969]\\\", \\\"[-95969.8489487395, 119340.51561540613]\\\", \\\"[-71192.35491913024, 104607.8215857969]\\\", \\\"[-90947.44894873949, 124362.91561540613]\\\", \\\"[-74048.88825246358, 101751.28825246356]\\\", \\\"[-93803.98228207283, 121506.3822820728]\\\", \\\"[-83160.88825246358, 92639.28825246356]\\\", \\\"[-102915.98228207283, 112394.3822820728]\\\", \\\"[-73749.15491913025, 102051.0215857969]\\\", \\\"[-93504.24894873949, 121806.11561540613]\\\", \\\"[-69567.82158579692, 106232.35491913023]\\\", \\\"[-89322.91561540616, 125987.44894873946]\\\", \\\"[-80673.68825246359, 95126.48825246356]\\\", \\\"[-100428.78228207283, 114881.58228207279]\\\", \\\"[-80760.35491913024, 95039.8215857969]\\\", \\\"[-100515.44894873949, 114794.91561540613]\\\", \\\"[-84597.68825246359, 91202.48825246356]\\\", \\\"[-104352.78228207283, 110957.58228207279]\\\", \\\"[-84206.22158579691, 91593.95491913024]\\\", \\\"[-103961.31561540616, 111349.04894873947]\\\", \\\"[-72840.35491913024, 102959.8215857969]\\\", \\\"[-92595.44894873949, 122714.91561540613]\\\", \\\"[-77421.15491913025, 98379.0215857969]\\\", \\\"[-97176.24894873949, 118134.11561540613]\\\", \\\"[-74629.15491913025, 101171.0215857969]\\\", \\\"[-94384.24894873949, 120926.11561540613]\\\", \\\"[-80515.28825246358, 95284.88825246357]\\\", \\\"[-100270.38228207282, 115039.9822820728]\\\", \\\"[-84166.75491913025, 91633.4215857969]\\\", \\\"[-103921.8489487395, 111388.51561540613]\\\", \\\"[-70884.62158579691, 104915.55491913023]\\\", \\\"[-90639.71561540617, 124670.64894873946]\\\", \\\"[-69231.28825246358, 106568.88825246357]\\\", \\\"[-88986.38228207282, 126323.9822820728]\\\", \\\"[-83896.08825246358, 91904.08825246357]\\\", \\\"[-103651.18228207283, 111659.1822820728]\\\", \\\"[-82227.55491913024, 93572.62158579691]\\\", \\\"[-101982.64894873949, 113327.71561540614]\\\", \\\"[-84833.42158579691, 90966.75491913024]\\\", \\\"[-104588.51561540616, 110721.84894873947]\\\", \\\"[-85177.95491913025, 90622.2215857969]\\\", \\\"[-104933.0489487395, 110377.31561540613]\\\", \\\"[-71372.62158579691, 104427.55491913023]\\\", \\\"[-91127.71561540617, 124182.64894873946]\\\", \\\"[-77238.75491913024, 98561.4215857969]\\\", \\\"[-96993.8489487395, 118316.51561540613]\\\", \\\"[-76179.02158579692, 99621.15491913023]\\\", \\\"[-95934.11561540616, 119376.24894873946]\\\", \\\"[-79686.48825246358, 96113.68825246357]\\\", \\\"[-99441.58228207282, 115868.7822820728]\\\", \\\"[-85302.75491913025, 90497.4215857969]\\\", \\\"[-105057.8489487395, 110252.51561540613]\\\", \\\"[-65541.68825246359, 110258.48825246358]\\\", \\\"[-85296.78228207282, 130013.5822820728]\\\", \\\"[-68039.28825246358, 107760.88825246357]\\\", \\\"[-87794.38228207282, 127515.9822820728]\\\", \\\"[-82888.88825246358, 92911.28825246356]\\\", \\\"[-102643.98228207283, 112666.3822820728]\\\", \\\"[-79521.42158579691, 96278.75491913024]\\\", \\\"[-99276.51561540616, 116033.84894873947]\\\", \\\"[-83739.55491913024, 92060.62158579691]\\\", \\\"[-103494.64894873949, 111815.71561540614]\\\", \\\"[-82806.22158579691, 92993.95491913024]\\\", \\\"[-102561.31561540616, 112749.04894873947]\\\", \\\"[-50767.82158579691, 125032.35491913024]\\\", \\\"[-70522.91561540615, 144787.44894873947]\\\", \\\"[-73774.22158579691, 102025.95491913024]\\\", \\\"[-93529.31561540616, 121781.04894873947]\\\", \\\"[-78771.02158579692, 97029.15491913023]\\\", \\\"[-98526.11561540616, 116784.24894873946]\\\", \\\"[-81604.08825246358, 94196.08825246357]\\\", \\\"[-101359.18228207283, 113951.1822820728]\\\", \\\"[-85568.88825246358, 90231.28825246356]\\\", \\\"[-105323.98228207283, 109986.3822820728]\\\", \\\"[-75549.68825246359, 100250.48825246358]\\\", \\\"[-95304.78228207282, 120005.5822820728]\\\", \\\"[-72435.55491913024, 103364.62158579691]\\\", \\\"[-92190.64894873949, 123119.71561540614]\\\", \\\"[-83241.68825246359, 92558.48825246356]\\\", \\\"[-102996.78228207283, 112313.58228207279]\\\", \\\"[-83783.28825246358, 92016.88825246357]\\\", \\\"[-103538.38228207282, 111771.9822820728]\\\", \\\"[-86368.35491913024, 89431.8215857969]\\\", \\\"[-106123.44894873949, 109186.91561540613]\\\", \\\"[-85547.02158579692, 90253.15491913023]\\\", \\\"[-105302.11561540616, 110008.24894873946]\\\", \\\"[-69807.82158579692, 105992.35491913023]\\\", \\\"[-89562.91561540616, 125747.44894873946]\\\", \\\"[-79989.68825246359, 95810.48825246356]\\\", \\\"[-99744.78228207283, 115565.58228207279]\\\", \\\"[-73911.82158579692, 101888.35491913023]\\\", \\\"[-93666.91561540616, 121643.44894873946]\\\", \\\"[-81224.08825246358, 94576.08825246357]\\\", \\\"[-100979.18228207283, 114331.1822820728]\\\", \\\"[-84518.75491913025, 91281.4215857969]\\\", \\\"[-104273.8489487395, 111036.51561540613]\\\", \\\"[-70879.82158579692, 104920.35491913023]\\\", \\\"[-90634.91561540616, 124675.44894873946]\\\", \\\"[-72264.88825246358, 103535.28825246356]\\\", \\\"[-92019.98228207283, 123290.3822820728]\\\", \\\"[-84480.88825246358, 91319.28825246356]\\\", \\\"[-104235.98228207283, 111074.3822820728]\\\", \\\"[-82035.02158579692, 93765.15491913023]\\\", \\\"[-101790.11561540616, 113520.24894873946]\\\", \\\"[-85621.15491913025, 90179.0215857969]\\\", \\\"[-105376.24894873949, 109934.11561540613]\\\", \\\"[-84537.95491913025, 91262.2215857969]\\\", \\\"[-104293.0489487395, 111017.31561540613]\\\", \\\"[-67369.95491913025, 108430.22158579691]\\\", \\\"[-87125.04894873948, 128185.31561540614]\\\", \\\"[-79364.62158579691, 96435.55491913023]\\\", \\\"[-99119.71561540617, 116190.64894873946]\\\", \\\"[-80262.22158579691, 95537.95491913024]\\\", \\\"[-100017.31561540616, 115293.04894873947]\\\", \\\"[-84167.28825246358, 91632.88825246357]\\\", \\\"[-103922.38228207282, 111387.9822820728]\\\", \\\"[-86219.55491913024, 89580.62158579691]\\\", \\\"[-105974.64894873949, 109335.71561540614]\\\", \\\"[-77017.95491913025, 98782.2215857969]\\\", \\\"[-96773.0489487395, 118537.31561540613]\\\", \\\"[-75442.48825246358, 100357.68825246357]\\\", \\\"[-95197.58228207282, 120112.7822820728]\\\", \\\"[-84738.48825246358, 91061.68825246357]\\\", \\\"[-104493.58228207282, 110816.7822820728]\\\", \\\"[-84472.88825246358, 91327.28825246356]\\\", \\\"[-104227.98228207283, 111082.3822820728]\\\", \\\"[-86436.62158579692, 89363.55491913023]\\\", \\\"[-106191.71561540617, 109118.64894873946]\\\", \\\"[-86397.15491913025, 89403.0215857969]\\\", \\\"[-106152.24894873949, 109158.11561540613]\\\", \\\"[-73865.95491913025, 101934.2215857969]\\\", \\\"[-93621.0489487395, 121689.31561540613]\\\", \\\"[-79611.02158579692, 96189.15491913023]\\\", \\\"[-99366.11561540616, 115944.24894873946]\\\", \\\"[-78630.75491913025, 97169.4215857969]\\\", \\\"[-98385.8489487395, 116924.51561540613]\\\", \\\"[-84818.48825246358, 90981.68825246357]\\\", \\\"[-104573.58228207282, 110736.7822820728]\\\", \\\"[-85157.15491913025, 90643.0215857969]\\\", \\\"[-104912.24894873949, 110398.11561540613]\\\", \\\"[-69937.95491913025, 105862.2215857969]\\\", \\\"[-89693.0489487395, 125617.31561540613]\\\", \\\"[-69603.02158579692, 106197.15491913023]\\\", \\\"[-89358.11561540616, 125952.24894873946]\\\", \\\"[-84509.68825246359, 91290.48825246356]\\\", \\\"[-104264.78228207283, 111045.58228207279]\\\", \\\"[-82056.88825246358, 93743.28825246356]\\\", \\\"[-101811.98228207283, 113498.3822820728]\\\", \\\"[-84595.02158579692, 91205.15491913023]\\\", \\\"[-104350.11561540616, 110960.24894873946]\\\", \\\"[-82501.68825246359, 93298.48825246356]\\\", \\\"[-102256.78228207283, 113053.58228207279]\\\", \\\"[-57690.488252463576, 118109.68825246357]\\\", \\\"[-77445.58228207282, 137864.7822820728]\\\", \\\"[-74527.28825246358, 101272.88825246357]\\\", \\\"[-94282.38228207282, 121027.9822820728]\\\", \\\"[-98828.43701891493, 116481.92754523069]\\\", \\\"[-115482.75167726807, 133136.24220358382]\\\", \\\"[-105167.26649259914, 110143.09807154648]\\\", \\\"[-121821.58115095228, 126797.41272989962]\\\", \\\"[-106093.98649259914, 109216.37807154648]\\\", \\\"[-122748.30115095228, 125870.69272989962]\\\", \\\"[-93278.22228207282, 122032.1422820728]\\\", \\\"[-109932.53694042595, 138686.45694042594]\\\", \\\"[-90934.47491365176, 124375.88965049386]\\\", \\\"[-107588.7895720049, 141030.204308847]\\\", \\\"[-104991.23280838861, 110319.13175575701]\\\", \\\"[-121645.54746674174, 126973.44641411015]\\\", \\\"[-103359.77175575704, 111950.59280838858]\\\", \\\"[-120014.08641411018, 128604.90746674172]\\\", \\\"[-105351.72122944125, 109958.64333470438]\\\", \\\"[-122006.03588779438, 126612.95799305751]\\\", \\\"[-104242.70228207283, 111067.6622820728]\\\", \\\"[-120897.01694042597, 127721.97694042593]\\\", \\\"[-89670.5085978623, 125639.85596628333]\\\", \\\"[-106324.82325621543, 142294.17062463646]\\\", \\\"[-100401.75912417809, 114908.60543996753]\\\", \\\"[-117056.07378253122, 131562.92009832067]\\\", \\\"[-79565.15491913025, 96235.0215857969]\\\", \\\"[-99320.24894873949, 115990.11561540613]\\\", \\\"[-82899.28825246358, 92900.88825246357]\\\", \\\"[-102654.38228207282, 112655.9822820728]\\\", \\\"[-85794.48825246358, 90005.68825246357]\\\", \\\"[-105549.58228207282, 109760.7822820728]\\\", \\\"[-74499.55491913024, 101300.62158579691]\\\", \\\"[-94254.64894873949, 121055.71561540614]\\\", \\\"[-73953.95491913025, 101846.2215857969]\\\", \\\"[-93709.0489487395, 121601.31561540613]\\\"], \\\"index\\\": [{\\\"week_start\\\": 703987200000, \\\"store\\\": 2, \\\"brand\\\": 1}, {\\\"week_start\\\": 704592000000, \\\"store\\\": 2, \\\"brand\\\": 1}, {\\\"week_start\\\": 703987200000, \\\"store\\\": 2, \\\"brand\\\": 2}, {\\\"week_start\\\": 704592000000, \\\"store\\\": 2, \\\"brand\\\": 2}, {\\\"week_start\\\": 703987200000, \\\"store\\\": 2, \\\"brand\\\": 3}, {\\\"week_start\\\": 704592000000, \\\"store\\\": 2, \\\"brand\\\": 3}, {\\\"week_start\\\": 703987200000, \\\"store\\\": 2, \\\"brand\\\": 4}, {\\\"week_start\\\": 704592000000, \\\"store\\\": 2, \\\"brand\\\": 4}, {\\\"week_start\\\": 703987200000, \\\"store\\\": 2, \\\"brand\\\": 5}, {\\\"week_start\\\": 704592000000, \\\"store\\\": 2, \\\"brand\\\": 5}, {\\\"week_start\\\": 703987200000, \\\"store\\\": 2, \\\"brand\\\": 6}, {\\\"week_start\\\": 704592000000, \\\"store\\\": 2, \\\"brand\\\": 6}, {\\\"week_start\\\": 703987200000, \\\"store\\\": 2, \\\"brand\\\": 7}, {\\\"week_start\\\": 704592000000, \\\"store\\\": 2, \\\"brand\\\": 7}, {\\\"week_start\\\": 703987200000, \\\"store\\\": 2, \\\"brand\\\": 8}, {\\\"week_start\\\": 704592000000, \\\"store\\\": 2, \\\"brand\\\": 8}, {\\\"week_start\\\": 703987200000, \\\"store\\\": 2, \\\"brand\\\": 9}, {\\\"week_start\\\": 704592000000, \\\"store\\\": 2, \\\"brand\\\": 9}, {\\\"week_start\\\": 703987200000, \\\"store\\\": 2, \\\"brand\\\": 10}, {\\\"week_start\\\": 704592000000, \\\"store\\\": 2, \\\"brand\\\": 10}, {\\\"week_start\\\": 703987200000, \\\"store\\\": 2, \\\"brand\\\": 11}, {\\\"week_start\\\": 704592000000, \\\"store\\\": 2, \\\"brand\\\": 11}, {\\\"week_start\\\": 703987200000, \\\"store\\\": 5, \\\"brand\\\": 1}, {\\\"week_start\\\": 704592000000, \\\"store\\\": 5, \\\"brand\\\": 1}, {\\\"week_start\\\": 703987200000, \\\"store\\\": 5, \\\"brand\\\": 2}, {\\\"week_start\\\": 704592000000, \\\"store\\\": 5, \\\"brand\\\": 2}, {\\\"week_start\\\": 703987200000, \\\"store\\\": 5, \\\"brand\\\": 3}, {\\\"week_start\\\": 704592000000, \\\"store\\\": 5, \\\"brand\\\": 3}, {\\\"week_start\\\": 703987200000, \\\"store\\\": 5, \\\"brand\\\": 4}, {\\\"week_start\\\": 704592000000, \\\"store\\\": 5, \\\"brand\\\": 4}, {\\\"week_start\\\": 703987200000, \\\"store\\\": 5, \\\"brand\\\": 5}, {\\\"week_start\\\": 704592000000, \\\"store\\\": 5, \\\"brand\\\": 5}, {\\\"week_start\\\": 703987200000, \\\"store\\\": 5, \\\"brand\\\": 6}, {\\\"week_start\\\": 704592000000, \\\"store\\\": 5, \\\"brand\\\": 6}, {\\\"week_start\\\": 703987200000, \\\"store\\\": 5, \\\"brand\\\": 7}, {\\\"week_start\\\": 704592000000, \\\"store\\\": 5, \\\"brand\\\": 7}, {\\\"week_start\\\": 703987200000, \\\"store\\\": 5, \\\"brand\\\": 8}, {\\\"week_start\\\": 704592000000, \\\"store\\\": 5, \\\"brand\\\": 8}, {\\\"week_start\\\": 703987200000, \\\"store\\\": 5, \\\"brand\\\": 9}, {\\\"week_start\\\": 704592000000, \\\"store\\\": 5, \\\"brand\\\": 9}, {\\\"week_start\\\": 703987200000, \\\"store\\\": 5, \\\"brand\\\": 10}, {\\\"week_start\\\": 704592000000, \\\"store\\\": 5, \\\"brand\\\": 10}, {\\\"week_start\\\": 703987200000, \\\"store\\\": 5, \\\"brand\\\": 11}, {\\\"week_start\\\": 704592000000, \\\"store\\\": 5, \\\"brand\\\": 11}, {\\\"week_start\\\": 703987200000, \\\"store\\\": 8, \\\"brand\\\": 1}, {\\\"week_start\\\": 704592000000, \\\"store\\\": 8, \\\"brand\\\": 1}, {\\\"week_start\\\": 703987200000, \\\"store\\\": 8, \\\"brand\\\": 2}, {\\\"week_start\\\": 704592000000, \\\"store\\\": 8, \\\"brand\\\": 2}, {\\\"week_start\\\": 703987200000, \\\"store\\\": 8, \\\"brand\\\": 3}, {\\\"week_start\\\": 704592000000, \\\"store\\\": 8, \\\"brand\\\": 3}, {\\\"week_start\\\": 703987200000, \\\"store\\\": 8, \\\"brand\\\": 4}, {\\\"week_start\\\": 704592000000, \\\"store\\\": 8, \\\"brand\\\": 4}, {\\\"week_start\\\": 703987200000, \\\"store\\\": 8, \\\"brand\\\": 5}, {\\\"week_start\\\": 704592000000, \\\"store\\\": 8, \\\"brand\\\": 5}, {\\\"week_start\\\": 703987200000, \\\"store\\\": 8, \\\"brand\\\": 6}, {\\\"week_start\\\": 704592000000, \\\"store\\\": 8, \\\"brand\\\": 6}, {\\\"week_start\\\": 703987200000, \\\"store\\\": 8, \\\"brand\\\": 7}, {\\\"week_start\\\": 704592000000, \\\"store\\\": 8, \\\"brand\\\": 7}, {\\\"week_start\\\": 703987200000, \\\"store\\\": 8, \\\"brand\\\": 8}, {\\\"week_start\\\": 704592000000, \\\"store\\\": 8, \\\"brand\\\": 8}, {\\\"week_start\\\": 703987200000, \\\"store\\\": 8, \\\"brand\\\": 9}, {\\\"week_start\\\": 704592000000, \\\"store\\\": 8, \\\"brand\\\": 9}, {\\\"week_start\\\": 703987200000, \\\"store\\\": 8, \\\"brand\\\": 10}, {\\\"week_start\\\": 704592000000, \\\"store\\\": 8, \\\"brand\\\": 10}, {\\\"week_start\\\": 703987200000, \\\"store\\\": 8, \\\"brand\\\": 11}, {\\\"week_start\\\": 704592000000, \\\"store\\\": 8, \\\"brand\\\": 11}, {\\\"week_start\\\": 703987200000, \\\"store\\\": 9, \\\"brand\\\": 1}, {\\\"week_start\\\": 704592000000, \\\"store\\\": 9, \\\"brand\\\": 1}, {\\\"week_start\\\": 703987200000, \\\"store\\\": 9, \\\"brand\\\": 2}, {\\\"week_start\\\": 704592000000, \\\"store\\\": 9, \\\"brand\\\": 2}, {\\\"week_start\\\": 703987200000, \\\"store\\\": 9, \\\"brand\\\": 3}, {\\\"week_start\\\": 704592000000, \\\"store\\\": 9, \\\"brand\\\": 3}, {\\\"week_start\\\": 703987200000, \\\"store\\\": 9, \\\"brand\\\": 4}, {\\\"week_start\\\": 704592000000, \\\"store\\\": 9, \\\"brand\\\": 4}, {\\\"week_start\\\": 703987200000, \\\"store\\\": 9, \\\"brand\\\": 5}, {\\\"week_start\\\": 704592000000, \\\"store\\\": 9, \\\"brand\\\": 5}, {\\\"week_start\\\": 703987200000, \\\"store\\\": 9, \\\"brand\\\": 6}, {\\\"week_start\\\": 704592000000, \\\"store\\\": 9, \\\"brand\\\": 6}, {\\\"week_start\\\": 703987200000, \\\"store\\\": 9, \\\"brand\\\": 7}, {\\\"week_start\\\": 704592000000, \\\"store\\\": 9, \\\"brand\\\": 7}, {\\\"week_start\\\": 703987200000, \\\"store\\\": 9, \\\"brand\\\": 8}, {\\\"week_start\\\": 704592000000, \\\"store\\\": 9, \\\"brand\\\": 8}, {\\\"week_start\\\": 703987200000, \\\"store\\\": 9, \\\"brand\\\": 9}, {\\\"week_start\\\": 704592000000, \\\"store\\\": 9, \\\"brand\\\": 9}, {\\\"week_start\\\": 703987200000, \\\"store\\\": 9, \\\"brand\\\": 10}, {\\\"week_start\\\": 704592000000, \\\"store\\\": 9, \\\"brand\\\": 10}, {\\\"week_start\\\": 703987200000, \\\"store\\\": 9, \\\"brand\\\": 11}, {\\\"week_start\\\": 704592000000, \\\"store\\\": 9, \\\"brand\\\": 11}, {\\\"week_start\\\": 703987200000, \\\"store\\\": 12, \\\"brand\\\": 1}, {\\\"week_start\\\": 704592000000, \\\"store\\\": 12, \\\"brand\\\": 1}, {\\\"week_start\\\": 703987200000, \\\"store\\\": 12, \\\"brand\\\": 2}, {\\\"week_start\\\": 704592000000, \\\"store\\\": 12, \\\"brand\\\": 2}, {\\\"week_start\\\": 703987200000, \\\"store\\\": 12, \\\"brand\\\": 3}, {\\\"week_start\\\": 704592000000, \\\"store\\\": 12, \\\"brand\\\": 3}, {\\\"week_start\\\": 703987200000, \\\"store\\\": 12, \\\"brand\\\": 4}, {\\\"week_start\\\": 704592000000, \\\"store\\\": 12, \\\"brand\\\": 4}, {\\\"week_start\\\": 703987200000, \\\"store\\\": 12, \\\"brand\\\": 5}, {\\\"week_start\\\": 704592000000, \\\"store\\\": 12, \\\"brand\\\": 5}, {\\\"week_start\\\": 703987200000, \\\"store\\\": 12, \\\"brand\\\": 6}, {\\\"week_start\\\": 704592000000, \\\"store\\\": 12, \\\"brand\\\": 6}, {\\\"week_start\\\": 703987200000, \\\"store\\\": 12, \\\"brand\\\": 7}, {\\\"week_start\\\": 704592000000, \\\"store\\\": 12, \\\"brand\\\": 7}, {\\\"week_start\\\": 703987200000, \\\"store\\\": 12, \\\"brand\\\": 8}, {\\\"week_start\\\": 704592000000, \\\"store\\\": 12, \\\"brand\\\": 8}, {\\\"week_start\\\": 703987200000, \\\"store\\\": 12, \\\"brand\\\": 9}, {\\\"week_start\\\": 704592000000, \\\"store\\\": 12, \\\"brand\\\": 9}, {\\\"week_start\\\": 703987200000, \\\"store\\\": 12, \\\"brand\\\": 10}, {\\\"week_start\\\": 704592000000, \\\"store\\\": 12, \\\"brand\\\": 10}, {\\\"week_start\\\": 703987200000, \\\"store\\\": 12, \\\"brand\\\": 11}, {\\\"week_start\\\": 704592000000, \\\"store\\\": 12, \\\"brand\\\": 11}, {\\\"week_start\\\": 703987200000, \\\"store\\\": 14, \\\"brand\\\": 1}, {\\\"week_start\\\": 704592000000, \\\"store\\\": 14, \\\"brand\\\": 1}, {\\\"week_start\\\": 703987200000, \\\"store\\\": 14, \\\"brand\\\": 2}, {\\\"week_start\\\": 704592000000, \\\"store\\\": 14, \\\"brand\\\": 2}, {\\\"week_start\\\": 703987200000, \\\"store\\\": 14, \\\"brand\\\": 3}, {\\\"week_start\\\": 704592000000, \\\"store\\\": 14, \\\"brand\\\": 3}, {\\\"week_start\\\": 703987200000, \\\"store\\\": 14, \\\"brand\\\": 4}, {\\\"week_start\\\": 704592000000, \\\"store\\\": 14, \\\"brand\\\": 4}, {\\\"week_start\\\": 703987200000, \\\"store\\\": 14, \\\"brand\\\": 5}, {\\\"week_start\\\": 704592000000, \\\"store\\\": 14, \\\"brand\\\": 5}, {\\\"week_start\\\": 703987200000, \\\"store\\\": 14, \\\"brand\\\": 6}, {\\\"week_start\\\": 704592000000, \\\"store\\\": 14, \\\"brand\\\": 6}, {\\\"week_start\\\": 703987200000, \\\"store\\\": 14, \\\"brand\\\": 7}, {\\\"week_start\\\": 704592000000, \\\"store\\\": 14, \\\"brand\\\": 7}, {\\\"week_start\\\": 703987200000, \\\"store\\\": 14, \\\"brand\\\": 8}, {\\\"week_start\\\": 704592000000, \\\"store\\\": 14, \\\"brand\\\": 8}, {\\\"week_start\\\": 703987200000, \\\"store\\\": 14, \\\"brand\\\": 9}, {\\\"week_start\\\": 704592000000, \\\"store\\\": 14, \\\"brand\\\": 9}, {\\\"week_start\\\": 703987200000, \\\"store\\\": 14, \\\"brand\\\": 10}, {\\\"week_start\\\": 704592000000, \\\"store\\\": 14, \\\"brand\\\": 10}, {\\\"week_start\\\": 703987200000, \\\"store\\\": 14, \\\"brand\\\": 11}, {\\\"week_start\\\": 704592000000, \\\"store\\\": 14, \\\"brand\\\": 11}, {\\\"week_start\\\": 703987200000, \\\"store\\\": 18, \\\"brand\\\": 1}, {\\\"week_start\\\": 704592000000, \\\"store\\\": 18, \\\"brand\\\": 1}, {\\\"week_start\\\": 703987200000, \\\"store\\\": 18, \\\"brand\\\": 2}, {\\\"week_start\\\": 704592000000, \\\"store\\\": 18, \\\"brand\\\": 2}, {\\\"week_start\\\": 703987200000, \\\"store\\\": 18, \\\"brand\\\": 3}, {\\\"week_start\\\": 704592000000, \\\"store\\\": 18, \\\"brand\\\": 3}, {\\\"week_start\\\": 703987200000, \\\"store\\\": 18, \\\"brand\\\": 4}, {\\\"week_start\\\": 704592000000, \\\"store\\\": 18, \\\"brand\\\": 4}, {\\\"week_start\\\": 703987200000, \\\"store\\\": 18, \\\"brand\\\": 5}, {\\\"week_start\\\": 704592000000, \\\"store\\\": 18, \\\"brand\\\": 5}, {\\\"week_start\\\": 703987200000, \\\"store\\\": 18, \\\"brand\\\": 6}, {\\\"week_start\\\": 704592000000, \\\"store\\\": 18, \\\"brand\\\": 6}, {\\\"week_start\\\": 703987200000, \\\"store\\\": 18, \\\"brand\\\": 7}, {\\\"week_start\\\": 704592000000, \\\"store\\\": 18, \\\"brand\\\": 7}, {\\\"week_start\\\": 703987200000, \\\"store\\\": 18, \\\"brand\\\": 8}, {\\\"week_start\\\": 704592000000, \\\"store\\\": 18, \\\"brand\\\": 8}, {\\\"week_start\\\": 703987200000, \\\"store\\\": 18, \\\"brand\\\": 9}, {\\\"week_start\\\": 704592000000, \\\"store\\\": 18, \\\"brand\\\": 9}, {\\\"week_start\\\": 703987200000, \\\"store\\\": 18, \\\"brand\\\": 10}, {\\\"week_start\\\": 704592000000, \\\"store\\\": 18, \\\"brand\\\": 10}, {\\\"week_start\\\": 703987200000, \\\"store\\\": 18, \\\"brand\\\": 11}, {\\\"week_start\\\": 704592000000, \\\"store\\\": 18, \\\"brand\\\": 11}, {\\\"week_start\\\": 703987200000, \\\"store\\\": 21, \\\"brand\\\": 1}, {\\\"week_start\\\": 704592000000, \\\"store\\\": 21, \\\"brand\\\": 1}, {\\\"week_start\\\": 703987200000, \\\"store\\\": 21, \\\"brand\\\": 2}, {\\\"week_start\\\": 704592000000, \\\"store\\\": 21, \\\"brand\\\": 2}, {\\\"week_start\\\": 703987200000, \\\"store\\\": 21, \\\"brand\\\": 3}, {\\\"week_start\\\": 704592000000, \\\"store\\\": 21, \\\"brand\\\": 3}, {\\\"week_start\\\": 703987200000, \\\"store\\\": 21, \\\"brand\\\": 4}, {\\\"week_start\\\": 704592000000, \\\"store\\\": 21, \\\"brand\\\": 4}, {\\\"week_start\\\": 703987200000, \\\"store\\\": 21, \\\"brand\\\": 5}, {\\\"week_start\\\": 704592000000, \\\"store\\\": 21, \\\"brand\\\": 5}, {\\\"week_start\\\": 703987200000, \\\"store\\\": 21, \\\"brand\\\": 6}, {\\\"week_start\\\": 704592000000, \\\"store\\\": 21, \\\"brand\\\": 6}, {\\\"week_start\\\": 703987200000, \\\"store\\\": 21, \\\"brand\\\": 7}, {\\\"week_start\\\": 704592000000, \\\"store\\\": 21, \\\"brand\\\": 7}, {\\\"week_start\\\": 703987200000, \\\"store\\\": 21, \\\"brand\\\": 8}, {\\\"week_start\\\": 704592000000, \\\"store\\\": 21, \\\"brand\\\": 8}, {\\\"week_start\\\": 703987200000, \\\"store\\\": 21, \\\"brand\\\": 9}, {\\\"week_start\\\": 704592000000, \\\"store\\\": 21, \\\"brand\\\": 9}, {\\\"week_start\\\": 703987200000, \\\"store\\\": 21, \\\"brand\\\": 10}, {\\\"week_start\\\": 704592000000, \\\"store\\\": 21, \\\"brand\\\": 10}, {\\\"week_start\\\": 703987200000, \\\"store\\\": 21, \\\"brand\\\": 11}, {\\\"week_start\\\": 704592000000, \\\"store\\\": 21, \\\"brand\\\": 11}, {\\\"week_start\\\": 703987200000, \\\"store\\\": 28, \\\"brand\\\": 1}, {\\\"week_start\\\": 704592000000, \\\"store\\\": 28, \\\"brand\\\": 1}, {\\\"week_start\\\": 703987200000, \\\"store\\\": 28, \\\"brand\\\": 2}, {\\\"week_start\\\": 704592000000, \\\"store\\\": 28, \\\"brand\\\": 2}, {\\\"week_start\\\": 703987200000, \\\"store\\\": 28, \\\"brand\\\": 3}, {\\\"week_start\\\": 704592000000, \\\"store\\\": 28, \\\"brand\\\": 3}, {\\\"week_start\\\": 703987200000, \\\"store\\\": 28, \\\"brand\\\": 4}, {\\\"week_start\\\": 704592000000, \\\"store\\\": 28, \\\"brand\\\": 4}, {\\\"week_start\\\": 703987200000, \\\"store\\\": 28, \\\"brand\\\": 5}, {\\\"week_start\\\": 704592000000, \\\"store\\\": 28, \\\"brand\\\": 5}, {\\\"week_start\\\": 703987200000, \\\"store\\\": 28, \\\"brand\\\": 6}, {\\\"week_start\\\": 704592000000, \\\"store\\\": 28, \\\"brand\\\": 6}, {\\\"week_start\\\": 703987200000, \\\"store\\\": 28, \\\"brand\\\": 7}, {\\\"week_start\\\": 704592000000, \\\"store\\\": 28, \\\"brand\\\": 7}, {\\\"week_start\\\": 703987200000, \\\"store\\\": 28, \\\"brand\\\": 8}, {\\\"week_start\\\": 704592000000, \\\"store\\\": 28, \\\"brand\\\": 8}, {\\\"week_start\\\": 703987200000, \\\"store\\\": 28, \\\"brand\\\": 9}, {\\\"week_start\\\": 704592000000, \\\"store\\\": 28, \\\"brand\\\": 9}, {\\\"week_start\\\": 703987200000, \\\"store\\\": 28, \\\"brand\\\": 10}, {\\\"week_start\\\": 704592000000, \\\"store\\\": 28, \\\"brand\\\": 10}, {\\\"week_start\\\": 703987200000, \\\"store\\\": 28, \\\"brand\\\": 11}, {\\\"week_start\\\": 704592000000, \\\"store\\\": 28, \\\"brand\\\": 11}, {\\\"week_start\\\": 703987200000, \\\"store\\\": 32, \\\"brand\\\": 1}, {\\\"week_start\\\": 704592000000, \\\"store\\\": 32, \\\"brand\\\": 1}, {\\\"week_start\\\": 703987200000, \\\"store\\\": 32, \\\"brand\\\": 2}, {\\\"week_start\\\": 704592000000, \\\"store\\\": 32, \\\"brand\\\": 2}, {\\\"week_start\\\": 703987200000, \\\"store\\\": 32, \\\"brand\\\": 3}, {\\\"week_start\\\": 704592000000, \\\"store\\\": 32, \\\"brand\\\": 3}, {\\\"week_start\\\": 703987200000, \\\"store\\\": 32, \\\"brand\\\": 4}, {\\\"week_start\\\": 704592000000, \\\"store\\\": 32, \\\"brand\\\": 4}, {\\\"week_start\\\": 703987200000, \\\"store\\\": 32, \\\"brand\\\": 5}, {\\\"week_start\\\": 704592000000, \\\"store\\\": 32, \\\"brand\\\": 5}, {\\\"week_start\\\": 703987200000, \\\"store\\\": 32, \\\"brand\\\": 6}, {\\\"week_start\\\": 704592000000, \\\"store\\\": 32, \\\"brand\\\": 6}, {\\\"week_start\\\": 703987200000, \\\"store\\\": 32, \\\"brand\\\": 7}, {\\\"week_start\\\": 704592000000, \\\"store\\\": 32, \\\"brand\\\": 7}, {\\\"week_start\\\": 703987200000, \\\"store\\\": 32, \\\"brand\\\": 8}, {\\\"week_start\\\": 704592000000, \\\"store\\\": 32, \\\"brand\\\": 8}, {\\\"week_start\\\": 703987200000, \\\"store\\\": 32, \\\"brand\\\": 9}, {\\\"week_start\\\": 704592000000, \\\"store\\\": 32, \\\"brand\\\": 9}, {\\\"week_start\\\": 703987200000, \\\"store\\\": 32, \\\"brand\\\": 10}, {\\\"week_start\\\": 704592000000, \\\"store\\\": 32, \\\"brand\\\": 10}, {\\\"week_start\\\": 703987200000, \\\"store\\\": 32, \\\"brand\\\": 11}, {\\\"week_start\\\": 704592000000, \\\"store\\\": 32, \\\"brand\\\": 11}, {\\\"week_start\\\": 703987200000, \\\"store\\\": 33, \\\"brand\\\": 1}, {\\\"week_start\\\": 704592000000, \\\"store\\\": 33, \\\"brand\\\": 1}, {\\\"week_start\\\": 703987200000, \\\"store\\\": 33, \\\"brand\\\": 2}, {\\\"week_start\\\": 704592000000, \\\"store\\\": 33, \\\"brand\\\": 2}, {\\\"week_start\\\": 703987200000, \\\"store\\\": 33, \\\"brand\\\": 3}, {\\\"week_start\\\": 704592000000, \\\"store\\\": 33, \\\"brand\\\": 3}, {\\\"week_start\\\": 703987200000, \\\"store\\\": 33, \\\"brand\\\": 4}, {\\\"week_start\\\": 704592000000, \\\"store\\\": 33, \\\"brand\\\": 4}, {\\\"week_start\\\": 703987200000, \\\"store\\\": 33, \\\"brand\\\": 5}, {\\\"week_start\\\": 704592000000, \\\"store\\\": 33, \\\"brand\\\": 5}, {\\\"week_start\\\": 703987200000, \\\"store\\\": 33, \\\"brand\\\": 6}, {\\\"week_start\\\": 704592000000, \\\"store\\\": 33, \\\"brand\\\": 6}, {\\\"week_start\\\": 703987200000, \\\"store\\\": 33, \\\"brand\\\": 7}, {\\\"week_start\\\": 704592000000, \\\"store\\\": 33, \\\"brand\\\": 7}, {\\\"week_start\\\": 703987200000, \\\"store\\\": 33, \\\"brand\\\": 8}, {\\\"week_start\\\": 704592000000, \\\"store\\\": 33, \\\"brand\\\": 8}, {\\\"week_start\\\": 703987200000, \\\"store\\\": 33, \\\"brand\\\": 9}, {\\\"week_start\\\": 704592000000, \\\"store\\\": 33, \\\"brand\\\": 9}, {\\\"week_start\\\": 703987200000, \\\"store\\\": 33, \\\"brand\\\": 10}, {\\\"week_start\\\": 704592000000, \\\"store\\\": 33, \\\"brand\\\": 10}, {\\\"week_start\\\": 703987200000, \\\"store\\\": 33, \\\"brand\\\": 11}, {\\\"week_start\\\": 704592000000, \\\"store\\\": 33, \\\"brand\\\": 11}, {\\\"week_start\\\": 703987200000, \\\"store\\\": 40, \\\"brand\\\": 1}, {\\\"week_start\\\": 704592000000, \\\"store\\\": 40, \\\"brand\\\": 1}, {\\\"week_start\\\": 703987200000, \\\"store\\\": 40, \\\"brand\\\": 2}, {\\\"week_start\\\": 704592000000, \\\"store\\\": 40, \\\"brand\\\": 2}, {\\\"week_start\\\": 703987200000, \\\"store\\\": 40, \\\"brand\\\": 3}, {\\\"week_start\\\": 704592000000, \\\"store\\\": 40, \\\"brand\\\": 3}, {\\\"week_start\\\": 703987200000, \\\"store\\\": 40, \\\"brand\\\": 4}, {\\\"week_start\\\": 704592000000, \\\"store\\\": 40, \\\"brand\\\": 4}, {\\\"week_start\\\": 703987200000, \\\"store\\\": 40, \\\"brand\\\": 5}, {\\\"week_start\\\": 704592000000, \\\"store\\\": 40, \\\"brand\\\": 5}, {\\\"week_start\\\": 703987200000, \\\"store\\\": 40, \\\"brand\\\": 6}, {\\\"week_start\\\": 704592000000, \\\"store\\\": 40, \\\"brand\\\": 6}, {\\\"week_start\\\": 703987200000, \\\"store\\\": 40, \\\"brand\\\": 7}, {\\\"week_start\\\": 704592000000, \\\"store\\\": 40, \\\"brand\\\": 7}, {\\\"week_start\\\": 703987200000, \\\"store\\\": 40, \\\"brand\\\": 8}, {\\\"week_start\\\": 704592000000, \\\"store\\\": 40, \\\"brand\\\": 8}, {\\\"week_start\\\": 703987200000, \\\"store\\\": 40, \\\"brand\\\": 9}, {\\\"week_start\\\": 704592000000, \\\"store\\\": 40, \\\"brand\\\": 9}, {\\\"week_start\\\": 703987200000, \\\"store\\\": 40, \\\"brand\\\": 10}, {\\\"week_start\\\": 704592000000, \\\"store\\\": 40, \\\"brand\\\": 10}, {\\\"week_start\\\": 703987200000, \\\"store\\\": 40, \\\"brand\\\": 11}, {\\\"week_start\\\": 704592000000, \\\"store\\\": 40, \\\"brand\\\": 11}, {\\\"week_start\\\": 703987200000, \\\"store\\\": 44, \\\"brand\\\": 1}, {\\\"week_start\\\": 704592000000, \\\"store\\\": 44, \\\"brand\\\": 1}, {\\\"week_start\\\": 703987200000, \\\"store\\\": 44, \\\"brand\\\": 2}, {\\\"week_start\\\": 704592000000, \\\"store\\\": 44, \\\"brand\\\": 2}, {\\\"week_start\\\": 703987200000, \\\"store\\\": 44, \\\"brand\\\": 3}, {\\\"week_start\\\": 704592000000, \\\"store\\\": 44, \\\"brand\\\": 3}, {\\\"week_start\\\": 703987200000, \\\"store\\\": 44, \\\"brand\\\": 4}, {\\\"week_start\\\": 704592000000, \\\"store\\\": 44, \\\"brand\\\": 4}, {\\\"week_start\\\": 703987200000, \\\"store\\\": 44, \\\"brand\\\": 5}, {\\\"week_start\\\": 704592000000, \\\"store\\\": 44, \\\"brand\\\": 5}, {\\\"week_start\\\": 703987200000, \\\"store\\\": 44, \\\"brand\\\": 6}, {\\\"week_start\\\": 704592000000, \\\"store\\\": 44, \\\"brand\\\": 6}, {\\\"week_start\\\": 703987200000, \\\"store\\\": 44, \\\"brand\\\": 7}, {\\\"week_start\\\": 704592000000, \\\"store\\\": 44, \\\"brand\\\": 7}, {\\\"week_start\\\": 703987200000, \\\"store\\\": 44, \\\"brand\\\": 8}, {\\\"week_start\\\": 704592000000, \\\"store\\\": 44, \\\"brand\\\": 8}, {\\\"week_start\\\": 703987200000, \\\"store\\\": 44, \\\"brand\\\": 9}, {\\\"week_start\\\": 704592000000, \\\"store\\\": 44, \\\"brand\\\": 9}, {\\\"week_start\\\": 703987200000, \\\"store\\\": 44, \\\"brand\\\": 10}, {\\\"week_start\\\": 704592000000, \\\"store\\\": 44, \\\"brand\\\": 10}, {\\\"week_start\\\": 703987200000, \\\"store\\\": 44, \\\"brand\\\": 11}, {\\\"week_start\\\": 704592000000, \\\"store\\\": 44, \\\"brand\\\": 11}, {\\\"week_start\\\": 703987200000, \\\"store\\\": 45, \\\"brand\\\": 1}, {\\\"week_start\\\": 704592000000, \\\"store\\\": 45, \\\"brand\\\": 1}, {\\\"week_start\\\": 703987200000, \\\"store\\\": 45, \\\"brand\\\": 2}, {\\\"week_start\\\": 704592000000, \\\"store\\\": 45, \\\"brand\\\": 2}, {\\\"week_start\\\": 703987200000, \\\"store\\\": 45, \\\"brand\\\": 3}, {\\\"week_start\\\": 704592000000, \\\"store\\\": 45, \\\"brand\\\": 3}, {\\\"week_start\\\": 703987200000, \\\"store\\\": 45, \\\"brand\\\": 4}, {\\\"week_start\\\": 704592000000, \\\"store\\\": 45, \\\"brand\\\": 4}, {\\\"week_start\\\": 703987200000, \\\"store\\\": 45, \\\"brand\\\": 5}, {\\\"week_start\\\": 704592000000, \\\"store\\\": 45, \\\"brand\\\": 5}, {\\\"week_start\\\": 703987200000, \\\"store\\\": 45, \\\"brand\\\": 6}, {\\\"week_start\\\": 704592000000, \\\"store\\\": 45, \\\"brand\\\": 6}, {\\\"week_start\\\": 703987200000, \\\"store\\\": 45, \\\"brand\\\": 7}, {\\\"week_start\\\": 704592000000, \\\"store\\\": 45, \\\"brand\\\": 7}, {\\\"week_start\\\": 703987200000, \\\"store\\\": 45, \\\"brand\\\": 8}, {\\\"week_start\\\": 704592000000, \\\"store\\\": 45, \\\"brand\\\": 8}, {\\\"week_start\\\": 703987200000, \\\"store\\\": 45, \\\"brand\\\": 9}, {\\\"week_start\\\": 704592000000, \\\"store\\\": 45, \\\"brand\\\": 9}, {\\\"week_start\\\": 703987200000, \\\"store\\\": 45, \\\"brand\\\": 10}, {\\\"week_start\\\": 704592000000, \\\"store\\\": 45, \\\"brand\\\": 10}, {\\\"week_start\\\": 703987200000, \\\"store\\\": 45, \\\"brand\\\": 11}, {\\\"week_start\\\": 704592000000, \\\"store\\\": 45, \\\"brand\\\": 11}, {\\\"week_start\\\": 703987200000, \\\"store\\\": 47, \\\"brand\\\": 1}, {\\\"week_start\\\": 704592000000, \\\"store\\\": 47, \\\"brand\\\": 1}, {\\\"week_start\\\": 703987200000, \\\"store\\\": 47, \\\"brand\\\": 2}, {\\\"week_start\\\": 704592000000, \\\"store\\\": 47, \\\"brand\\\": 2}, {\\\"week_start\\\": 703987200000, \\\"store\\\": 47, \\\"brand\\\": 3}, {\\\"week_start\\\": 704592000000, \\\"store\\\": 47, \\\"brand\\\": 3}, {\\\"week_start\\\": 703987200000, \\\"store\\\": 47, \\\"brand\\\": 4}, {\\\"week_start\\\": 704592000000, \\\"store\\\": 47, \\\"brand\\\": 4}, {\\\"week_start\\\": 703987200000, \\\"store\\\": 47, \\\"brand\\\": 5}, {\\\"week_start\\\": 704592000000, \\\"store\\\": 47, \\\"brand\\\": 5}, {\\\"week_start\\\": 703987200000, \\\"store\\\": 47, \\\"brand\\\": 6}, {\\\"week_start\\\": 704592000000, \\\"store\\\": 47, \\\"brand\\\": 6}, {\\\"week_start\\\": 703987200000, \\\"store\\\": 47, \\\"brand\\\": 7}, {\\\"week_start\\\": 704592000000, \\\"store\\\": 47, \\\"brand\\\": 7}, {\\\"week_start\\\": 703987200000, \\\"store\\\": 47, \\\"brand\\\": 8}, {\\\"week_start\\\": 704592000000, \\\"store\\\": 47, \\\"brand\\\": 8}, {\\\"week_start\\\": 703987200000, \\\"store\\\": 47, \\\"brand\\\": 9}, {\\\"week_start\\\": 704592000000, \\\"store\\\": 47, \\\"brand\\\": 9}, {\\\"week_start\\\": 703987200000, \\\"store\\\": 47, \\\"brand\\\": 10}, {\\\"week_start\\\": 704592000000, \\\"store\\\": 47, \\\"brand\\\": 10}, {\\\"week_start\\\": 703987200000, \\\"store\\\": 47, \\\"brand\\\": 11}, {\\\"week_start\\\": 704592000000, \\\"store\\\": 47, \\\"brand\\\": 11}, {\\\"week_start\\\": 703987200000, \\\"store\\\": 48, \\\"brand\\\": 1}, {\\\"week_start\\\": 704592000000, \\\"store\\\": 48, \\\"brand\\\": 1}, {\\\"week_start\\\": 703987200000, \\\"store\\\": 48, \\\"brand\\\": 2}, {\\\"week_start\\\": 704592000000, \\\"store\\\": 48, \\\"brand\\\": 2}, {\\\"week_start\\\": 703987200000, \\\"store\\\": 48, \\\"brand\\\": 3}, {\\\"week_start\\\": 704592000000, \\\"store\\\": 48, \\\"brand\\\": 3}, {\\\"week_start\\\": 703987200000, \\\"store\\\": 48, \\\"brand\\\": 4}, {\\\"week_start\\\": 704592000000, \\\"store\\\": 48, \\\"brand\\\": 4}, {\\\"week_start\\\": 703987200000, \\\"store\\\": 48, \\\"brand\\\": 5}, {\\\"week_start\\\": 704592000000, \\\"store\\\": 48, \\\"brand\\\": 5}, {\\\"week_start\\\": 703987200000, \\\"store\\\": 48, \\\"brand\\\": 6}, {\\\"week_start\\\": 704592000000, \\\"store\\\": 48, \\\"brand\\\": 6}, {\\\"week_start\\\": 703987200000, \\\"store\\\": 48, \\\"brand\\\": 7}, {\\\"week_start\\\": 704592000000, \\\"store\\\": 48, \\\"brand\\\": 7}, {\\\"week_start\\\": 703987200000, \\\"store\\\": 48, \\\"brand\\\": 8}, {\\\"week_start\\\": 704592000000, \\\"store\\\": 48, \\\"brand\\\": 8}, {\\\"week_start\\\": 703987200000, \\\"store\\\": 48, \\\"brand\\\": 9}, {\\\"week_start\\\": 704592000000, \\\"store\\\": 48, \\\"brand\\\": 9}, {\\\"week_start\\\": 703987200000, \\\"store\\\": 48, \\\"brand\\\": 10}, {\\\"week_start\\\": 704592000000, \\\"store\\\": 48, \\\"brand\\\": 10}, {\\\"week_start\\\": 703987200000, \\\"store\\\": 48, \\\"brand\\\": 11}, {\\\"week_start\\\": 704592000000, \\\"store\\\": 48, \\\"brand\\\": 11}, {\\\"week_start\\\": 703987200000, \\\"store\\\": 49, \\\"brand\\\": 1}, {\\\"week_start\\\": 704592000000, \\\"store\\\": 49, \\\"brand\\\": 1}, {\\\"week_start\\\": 703987200000, \\\"store\\\": 49, \\\"brand\\\": 2}, {\\\"week_start\\\": 704592000000, \\\"store\\\": 49, \\\"brand\\\": 2}, {\\\"week_start\\\": 703987200000, \\\"store\\\": 49, \\\"brand\\\": 3}, {\\\"week_start\\\": 704592000000, \\\"store\\\": 49, \\\"brand\\\": 3}, {\\\"week_start\\\": 703987200000, \\\"store\\\": 49, \\\"brand\\\": 4}, {\\\"week_start\\\": 704592000000, \\\"store\\\": 49, \\\"brand\\\": 4}, {\\\"week_start\\\": 703987200000, \\\"store\\\": 49, \\\"brand\\\": 5}, {\\\"week_start\\\": 704592000000, \\\"store\\\": 49, \\\"brand\\\": 5}, {\\\"week_start\\\": 703987200000, \\\"store\\\": 49, \\\"brand\\\": 6}, {\\\"week_start\\\": 704592000000, \\\"store\\\": 49, \\\"brand\\\": 6}, {\\\"week_start\\\": 703987200000, \\\"store\\\": 49, \\\"brand\\\": 7}, {\\\"week_start\\\": 704592000000, \\\"store\\\": 49, \\\"brand\\\": 7}, {\\\"week_start\\\": 703987200000, \\\"store\\\": 49, \\\"brand\\\": 8}, {\\\"week_start\\\": 704592000000, \\\"store\\\": 49, \\\"brand\\\": 8}, {\\\"week_start\\\": 703987200000, \\\"store\\\": 49, \\\"brand\\\": 9}, {\\\"week_start\\\": 704592000000, \\\"store\\\": 49, \\\"brand\\\": 9}, {\\\"week_start\\\": 703987200000, \\\"store\\\": 49, \\\"brand\\\": 10}, {\\\"week_start\\\": 704592000000, \\\"store\\\": 49, \\\"brand\\\": 10}, {\\\"week_start\\\": 703987200000, \\\"store\\\": 49, \\\"brand\\\": 11}, {\\\"week_start\\\": 704592000000, \\\"store\\\": 49, \\\"brand\\\": 11}, {\\\"week_start\\\": 703987200000, \\\"store\\\": 50, \\\"brand\\\": 1}, {\\\"week_start\\\": 704592000000, \\\"store\\\": 50, \\\"brand\\\": 1}, {\\\"week_start\\\": 703987200000, \\\"store\\\": 50, \\\"brand\\\": 2}, {\\\"week_start\\\": 704592000000, \\\"store\\\": 50, \\\"brand\\\": 2}, {\\\"week_start\\\": 703987200000, \\\"store\\\": 50, \\\"brand\\\": 3}, {\\\"week_start\\\": 704592000000, \\\"store\\\": 50, \\\"brand\\\": 3}, {\\\"week_start\\\": 703987200000, \\\"store\\\": 50, \\\"brand\\\": 4}, {\\\"week_start\\\": 704592000000, \\\"store\\\": 50, \\\"brand\\\": 4}, {\\\"week_start\\\": 703987200000, \\\"store\\\": 50, \\\"brand\\\": 5}, {\\\"week_start\\\": 704592000000, \\\"store\\\": 50, \\\"brand\\\": 5}, {\\\"week_start\\\": 703987200000, \\\"store\\\": 50, \\\"brand\\\": 6}, {\\\"week_start\\\": 704592000000, \\\"store\\\": 50, \\\"brand\\\": 6}, {\\\"week_start\\\": 703987200000, \\\"store\\\": 50, \\\"brand\\\": 7}, {\\\"week_start\\\": 704592000000, \\\"store\\\": 50, \\\"brand\\\": 7}, {\\\"week_start\\\": 703987200000, \\\"store\\\": 50, \\\"brand\\\": 8}, {\\\"week_start\\\": 704592000000, \\\"store\\\": 50, \\\"brand\\\": 8}, {\\\"week_start\\\": 703987200000, \\\"store\\\": 50, \\\"brand\\\": 9}, {\\\"week_start\\\": 704592000000, \\\"store\\\": 50, \\\"brand\\\": 9}, {\\\"week_start\\\": 703987200000, \\\"store\\\": 50, \\\"brand\\\": 10}, {\\\"week_start\\\": 704592000000, \\\"store\\\": 50, \\\"brand\\\": 10}, {\\\"week_start\\\": 703987200000, \\\"store\\\": 50, \\\"brand\\\": 11}, {\\\"week_start\\\": 704592000000, \\\"store\\\": 50, \\\"brand\\\": 11}, {\\\"week_start\\\": 703987200000, \\\"store\\\": 51, \\\"brand\\\": 1}, {\\\"week_start\\\": 704592000000, \\\"store\\\": 51, \\\"brand\\\": 1}, {\\\"week_start\\\": 703987200000, \\\"store\\\": 51, \\\"brand\\\": 2}, {\\\"week_start\\\": 704592000000, \\\"store\\\": 51, \\\"brand\\\": 2}, {\\\"week_start\\\": 703987200000, \\\"store\\\": 51, \\\"brand\\\": 3}, {\\\"week_start\\\": 704592000000, \\\"store\\\": 51, \\\"brand\\\": 3}, {\\\"week_start\\\": 703987200000, \\\"store\\\": 51, \\\"brand\\\": 4}, {\\\"week_start\\\": 704592000000, \\\"store\\\": 51, \\\"brand\\\": 4}, {\\\"week_start\\\": 703987200000, \\\"store\\\": 51, \\\"brand\\\": 5}, {\\\"week_start\\\": 704592000000, \\\"store\\\": 51, \\\"brand\\\": 5}, {\\\"week_start\\\": 703987200000, \\\"store\\\": 51, \\\"brand\\\": 6}, {\\\"week_start\\\": 704592000000, \\\"store\\\": 51, \\\"brand\\\": 6}, {\\\"week_start\\\": 703987200000, \\\"store\\\": 51, \\\"brand\\\": 7}, {\\\"week_start\\\": 704592000000, \\\"store\\\": 51, \\\"brand\\\": 7}, {\\\"week_start\\\": 703987200000, \\\"store\\\": 51, \\\"brand\\\": 8}, {\\\"week_start\\\": 704592000000, \\\"store\\\": 51, \\\"brand\\\": 8}, {\\\"week_start\\\": 703987200000, \\\"store\\\": 51, \\\"brand\\\": 9}, {\\\"week_start\\\": 704592000000, \\\"store\\\": 51, \\\"brand\\\": 9}, {\\\"week_start\\\": 703987200000, \\\"store\\\": 51, \\\"brand\\\": 10}, {\\\"week_start\\\": 704592000000, \\\"store\\\": 51, \\\"brand\\\": 10}, {\\\"week_start\\\": 703987200000, \\\"store\\\": 51, \\\"brand\\\": 11}, {\\\"week_start\\\": 704592000000, \\\"store\\\": 51, \\\"brand\\\": 11}, {\\\"week_start\\\": 703987200000, \\\"store\\\": 52, \\\"brand\\\": 1}, {\\\"week_start\\\": 704592000000, \\\"store\\\": 52, \\\"brand\\\": 1}, {\\\"week_start\\\": 703987200000, \\\"store\\\": 52, \\\"brand\\\": 2}, {\\\"week_start\\\": 704592000000, \\\"store\\\": 52, \\\"brand\\\": 2}, {\\\"week_start\\\": 703987200000, \\\"store\\\": 52, \\\"brand\\\": 3}, {\\\"week_start\\\": 704592000000, \\\"store\\\": 52, \\\"brand\\\": 3}, {\\\"week_start\\\": 703987200000, \\\"store\\\": 52, \\\"brand\\\": 4}, {\\\"week_start\\\": 704592000000, \\\"store\\\": 52, \\\"brand\\\": 4}, {\\\"week_start\\\": 703987200000, \\\"store\\\": 52, \\\"brand\\\": 5}, {\\\"week_start\\\": 704592000000, \\\"store\\\": 52, \\\"brand\\\": 5}, {\\\"week_start\\\": 703987200000, \\\"store\\\": 52, \\\"brand\\\": 6}, {\\\"week_start\\\": 704592000000, \\\"store\\\": 52, \\\"brand\\\": 6}, {\\\"week_start\\\": 703987200000, \\\"store\\\": 52, \\\"brand\\\": 7}, {\\\"week_start\\\": 704592000000, \\\"store\\\": 52, \\\"brand\\\": 7}, {\\\"week_start\\\": 703987200000, \\\"store\\\": 52, \\\"brand\\\": 8}, {\\\"week_start\\\": 704592000000, \\\"store\\\": 52, \\\"brand\\\": 8}, {\\\"week_start\\\": 703987200000, \\\"store\\\": 52, \\\"brand\\\": 9}, {\\\"week_start\\\": 704592000000, \\\"store\\\": 52, \\\"brand\\\": 9}, {\\\"week_start\\\": 703987200000, \\\"store\\\": 52, \\\"brand\\\": 10}, {\\\"week_start\\\": 704592000000, \\\"store\\\": 52, \\\"brand\\\": 10}, {\\\"week_start\\\": 703987200000, \\\"store\\\": 52, \\\"brand\\\": 11}, {\\\"week_start\\\": 704592000000, \\\"store\\\": 52, \\\"brand\\\": 11}, {\\\"week_start\\\": 703987200000, \\\"store\\\": 53, \\\"brand\\\": 1}, {\\\"week_start\\\": 704592000000, \\\"store\\\": 53, \\\"brand\\\": 1}, {\\\"week_start\\\": 703987200000, \\\"store\\\": 53, \\\"brand\\\": 2}, {\\\"week_start\\\": 704592000000, \\\"store\\\": 53, \\\"brand\\\": 2}, {\\\"week_start\\\": 703987200000, \\\"store\\\": 53, \\\"brand\\\": 3}, {\\\"week_start\\\": 704592000000, \\\"store\\\": 53, \\\"brand\\\": 3}, {\\\"week_start\\\": 703987200000, \\\"store\\\": 53, \\\"brand\\\": 4}, {\\\"week_start\\\": 704592000000, \\\"store\\\": 53, \\\"brand\\\": 4}, {\\\"week_start\\\": 703987200000, \\\"store\\\": 53, \\\"brand\\\": 5}, {\\\"week_start\\\": 704592000000, \\\"store\\\": 53, \\\"brand\\\": 5}, {\\\"week_start\\\": 703987200000, \\\"store\\\": 53, \\\"brand\\\": 6}, {\\\"week_start\\\": 704592000000, \\\"store\\\": 53, \\\"brand\\\": 6}, {\\\"week_start\\\": 703987200000, \\\"store\\\": 53, \\\"brand\\\": 7}, {\\\"week_start\\\": 704592000000, \\\"store\\\": 53, \\\"brand\\\": 7}, {\\\"week_start\\\": 703987200000, \\\"store\\\": 53, \\\"brand\\\": 8}, {\\\"week_start\\\": 704592000000, \\\"store\\\": 53, \\\"brand\\\": 8}, {\\\"week_start\\\": 703987200000, \\\"store\\\": 53, \\\"brand\\\": 9}, {\\\"week_start\\\": 704592000000, \\\"store\\\": 53, \\\"brand\\\": 9}, {\\\"week_start\\\": 703987200000, \\\"store\\\": 53, \\\"brand\\\": 10}, {\\\"week_start\\\": 704592000000, \\\"store\\\": 53, \\\"brand\\\": 10}, {\\\"week_start\\\": 703987200000, \\\"store\\\": 53, \\\"brand\\\": 11}, {\\\"week_start\\\": 704592000000, \\\"store\\\": 53, \\\"brand\\\": 11}, {\\\"week_start\\\": 703987200000, \\\"store\\\": 54, \\\"brand\\\": 1}, {\\\"week_start\\\": 704592000000, \\\"store\\\": 54, \\\"brand\\\": 1}, {\\\"week_start\\\": 703987200000, \\\"store\\\": 54, \\\"brand\\\": 2}, {\\\"week_start\\\": 704592000000, \\\"store\\\": 54, \\\"brand\\\": 2}, {\\\"week_start\\\": 703987200000, \\\"store\\\": 54, \\\"brand\\\": 3}, {\\\"week_start\\\": 704592000000, \\\"store\\\": 54, \\\"brand\\\": 3}, {\\\"week_start\\\": 703987200000, \\\"store\\\": 54, \\\"brand\\\": 4}, {\\\"week_start\\\": 704592000000, \\\"store\\\": 54, \\\"brand\\\": 4}, {\\\"week_start\\\": 703987200000, \\\"store\\\": 54, \\\"brand\\\": 5}, {\\\"week_start\\\": 704592000000, \\\"store\\\": 54, \\\"brand\\\": 5}, {\\\"week_start\\\": 703987200000, \\\"store\\\": 54, \\\"brand\\\": 6}, {\\\"week_start\\\": 704592000000, \\\"store\\\": 54, \\\"brand\\\": 6}, {\\\"week_start\\\": 703987200000, \\\"store\\\": 54, \\\"brand\\\": 7}, {\\\"week_start\\\": 704592000000, \\\"store\\\": 54, \\\"brand\\\": 7}, {\\\"week_start\\\": 703987200000, \\\"store\\\": 54, \\\"brand\\\": 8}, {\\\"week_start\\\": 704592000000, \\\"store\\\": 54, \\\"brand\\\": 8}, {\\\"week_start\\\": 703987200000, \\\"store\\\": 54, \\\"brand\\\": 9}, {\\\"week_start\\\": 704592000000, \\\"store\\\": 54, \\\"brand\\\": 9}, {\\\"week_start\\\": 703987200000, \\\"store\\\": 54, \\\"brand\\\": 10}, {\\\"week_start\\\": 704592000000, \\\"store\\\": 54, \\\"brand\\\": 10}, {\\\"week_start\\\": 703987200000, \\\"store\\\": 54, \\\"brand\\\": 11}, {\\\"week_start\\\": 704592000000, \\\"store\\\": 54, \\\"brand\\\": 11}, {\\\"week_start\\\": 703987200000, \\\"store\\\": 56, \\\"brand\\\": 1}, {\\\"week_start\\\": 704592000000, \\\"store\\\": 56, \\\"brand\\\": 1}, {\\\"week_start\\\": 703987200000, \\\"store\\\": 56, \\\"brand\\\": 2}, {\\\"week_start\\\": 704592000000, \\\"store\\\": 56, \\\"brand\\\": 2}, {\\\"week_start\\\": 703987200000, \\\"store\\\": 56, \\\"brand\\\": 3}, {\\\"week_start\\\": 704592000000, \\\"store\\\": 56, \\\"brand\\\": 3}, {\\\"week_start\\\": 703987200000, \\\"store\\\": 56, \\\"brand\\\": 4}, {\\\"week_start\\\": 704592000000, \\\"store\\\": 56, \\\"brand\\\": 4}, {\\\"week_start\\\": 703987200000, \\\"store\\\": 56, \\\"brand\\\": 5}, {\\\"week_start\\\": 704592000000, \\\"store\\\": 56, \\\"brand\\\": 5}, {\\\"week_start\\\": 703987200000, \\\"store\\\": 56, \\\"brand\\\": 6}, {\\\"week_start\\\": 704592000000, \\\"store\\\": 56, \\\"brand\\\": 6}, {\\\"week_start\\\": 703987200000, \\\"store\\\": 56, \\\"brand\\\": 7}, {\\\"week_start\\\": 704592000000, \\\"store\\\": 56, \\\"brand\\\": 7}, {\\\"week_start\\\": 703987200000, \\\"store\\\": 56, \\\"brand\\\": 8}, {\\\"week_start\\\": 704592000000, \\\"store\\\": 56, \\\"brand\\\": 8}, {\\\"week_start\\\": 703987200000, \\\"store\\\": 56, \\\"brand\\\": 9}, {\\\"week_start\\\": 704592000000, \\\"store\\\": 56, \\\"brand\\\": 9}, {\\\"week_start\\\": 703987200000, \\\"store\\\": 56, \\\"brand\\\": 10}, {\\\"week_start\\\": 704592000000, \\\"store\\\": 56, \\\"brand\\\": 10}, {\\\"week_start\\\": 703987200000, \\\"store\\\": 56, \\\"brand\\\": 11}, {\\\"week_start\\\": 704592000000, \\\"store\\\": 56, \\\"brand\\\": 11}, {\\\"week_start\\\": 703987200000, \\\"store\\\": 59, \\\"brand\\\": 1}, {\\\"week_start\\\": 704592000000, \\\"store\\\": 59, \\\"brand\\\": 1}, {\\\"week_start\\\": 703987200000, \\\"store\\\": 59, \\\"brand\\\": 2}, {\\\"week_start\\\": 704592000000, \\\"store\\\": 59, \\\"brand\\\": 2}, {\\\"week_start\\\": 703987200000, \\\"store\\\": 59, \\\"brand\\\": 3}, {\\\"week_start\\\": 704592000000, \\\"store\\\": 59, \\\"brand\\\": 3}, {\\\"week_start\\\": 703987200000, \\\"store\\\": 59, \\\"brand\\\": 4}, {\\\"week_start\\\": 704592000000, \\\"store\\\": 59, \\\"brand\\\": 4}, {\\\"week_start\\\": 703987200000, \\\"store\\\": 59, \\\"brand\\\": 5}, {\\\"week_start\\\": 704592000000, \\\"store\\\": 59, \\\"brand\\\": 5}, {\\\"week_start\\\": 703987200000, \\\"store\\\": 59, \\\"brand\\\": 6}, {\\\"week_start\\\": 704592000000, \\\"store\\\": 59, \\\"brand\\\": 6}, {\\\"week_start\\\": 703987200000, \\\"store\\\": 59, \\\"brand\\\": 7}, {\\\"week_start\\\": 704592000000, \\\"store\\\": 59, \\\"brand\\\": 7}, {\\\"week_start\\\": 703987200000, \\\"store\\\": 59, \\\"brand\\\": 8}, {\\\"week_start\\\": 704592000000, \\\"store\\\": 59, \\\"brand\\\": 8}, {\\\"week_start\\\": 703987200000, \\\"store\\\": 59, \\\"brand\\\": 9}, {\\\"week_start\\\": 704592000000, \\\"store\\\": 59, \\\"brand\\\": 9}, {\\\"week_start\\\": 703987200000, \\\"store\\\": 59, \\\"brand\\\": 10}, {\\\"week_start\\\": 704592000000, \\\"store\\\": 59, \\\"brand\\\": 10}, {\\\"week_start\\\": 703987200000, \\\"store\\\": 59, \\\"brand\\\": 11}, {\\\"week_start\\\": 704592000000, \\\"store\\\": 59, \\\"brand\\\": 11}, {\\\"week_start\\\": 703987200000, \\\"store\\\": 62, \\\"brand\\\": 1}, {\\\"week_start\\\": 704592000000, \\\"store\\\": 62, \\\"brand\\\": 1}, {\\\"week_start\\\": 703987200000, \\\"store\\\": 62, \\\"brand\\\": 2}, {\\\"week_start\\\": 704592000000, \\\"store\\\": 62, \\\"brand\\\": 2}, {\\\"week_start\\\": 703987200000, \\\"store\\\": 62, \\\"brand\\\": 3}, {\\\"week_start\\\": 704592000000, \\\"store\\\": 62, \\\"brand\\\": 3}, {\\\"week_start\\\": 703987200000, \\\"store\\\": 62, \\\"brand\\\": 4}, {\\\"week_start\\\": 704592000000, \\\"store\\\": 62, \\\"brand\\\": 4}, {\\\"week_start\\\": 703987200000, \\\"store\\\": 62, \\\"brand\\\": 5}, {\\\"week_start\\\": 704592000000, \\\"store\\\": 62, \\\"brand\\\": 5}, {\\\"week_start\\\": 703987200000, \\\"store\\\": 62, \\\"brand\\\": 6}, {\\\"week_start\\\": 704592000000, \\\"store\\\": 62, \\\"brand\\\": 6}, {\\\"week_start\\\": 703987200000, \\\"store\\\": 62, \\\"brand\\\": 7}, {\\\"week_start\\\": 704592000000, \\\"store\\\": 62, \\\"brand\\\": 7}, {\\\"week_start\\\": 703987200000, \\\"store\\\": 62, \\\"brand\\\": 8}, {\\\"week_start\\\": 704592000000, \\\"store\\\": 62, \\\"brand\\\": 8}, {\\\"week_start\\\": 703987200000, \\\"store\\\": 62, \\\"brand\\\": 9}, {\\\"week_start\\\": 704592000000, \\\"store\\\": 62, \\\"brand\\\": 9}, {\\\"week_start\\\": 703987200000, \\\"store\\\": 62, \\\"brand\\\": 10}, {\\\"week_start\\\": 704592000000, \\\"store\\\": 62, \\\"brand\\\": 10}, {\\\"week_start\\\": 703987200000, \\\"store\\\": 62, \\\"brand\\\": 11}, {\\\"week_start\\\": 704592000000, \\\"store\\\": 62, \\\"brand\\\": 11}, {\\\"week_start\\\": 703987200000, \\\"store\\\": 64, \\\"brand\\\": 1}, {\\\"week_start\\\": 704592000000, \\\"store\\\": 64, \\\"brand\\\": 1}, {\\\"week_start\\\": 703987200000, \\\"store\\\": 64, \\\"brand\\\": 2}, {\\\"week_start\\\": 704592000000, \\\"store\\\": 64, \\\"brand\\\": 2}, {\\\"week_start\\\": 703987200000, \\\"store\\\": 64, \\\"brand\\\": 3}, {\\\"week_start\\\": 704592000000, \\\"store\\\": 64, \\\"brand\\\": 3}, {\\\"week_start\\\": 703987200000, \\\"store\\\": 64, \\\"brand\\\": 4}, {\\\"week_start\\\": 704592000000, \\\"store\\\": 64, \\\"brand\\\": 4}, {\\\"week_start\\\": 703987200000, \\\"store\\\": 64, \\\"brand\\\": 5}, {\\\"week_start\\\": 704592000000, \\\"store\\\": 64, \\\"brand\\\": 5}, {\\\"week_start\\\": 703987200000, \\\"store\\\": 64, \\\"brand\\\": 6}, {\\\"week_start\\\": 704592000000, \\\"store\\\": 64, \\\"brand\\\": 6}, {\\\"week_start\\\": 703987200000, \\\"store\\\": 64, \\\"brand\\\": 7}, {\\\"week_start\\\": 704592000000, \\\"store\\\": 64, \\\"brand\\\": 7}, {\\\"week_start\\\": 703987200000, \\\"store\\\": 64, \\\"brand\\\": 8}, {\\\"week_start\\\": 704592000000, \\\"store\\\": 64, \\\"brand\\\": 8}, {\\\"week_start\\\": 703987200000, \\\"store\\\": 64, \\\"brand\\\": 9}, {\\\"week_start\\\": 704592000000, \\\"store\\\": 64, \\\"brand\\\": 9}, {\\\"week_start\\\": 703987200000, \\\"store\\\": 64, \\\"brand\\\": 10}, {\\\"week_start\\\": 704592000000, \\\"store\\\": 64, \\\"brand\\\": 10}, {\\\"week_start\\\": 703987200000, \\\"store\\\": 64, \\\"brand\\\": 11}, {\\\"week_start\\\": 704592000000, \\\"store\\\": 64, \\\"brand\\\": 11}, {\\\"week_start\\\": 703987200000, \\\"store\\\": 67, \\\"brand\\\": 1}, {\\\"week_start\\\": 704592000000, \\\"store\\\": 67, \\\"brand\\\": 1}, {\\\"week_start\\\": 703987200000, \\\"store\\\": 67, \\\"brand\\\": 2}, {\\\"week_start\\\": 704592000000, \\\"store\\\": 67, \\\"brand\\\": 2}, {\\\"week_start\\\": 703987200000, \\\"store\\\": 67, \\\"brand\\\": 3}, {\\\"week_start\\\": 704592000000, \\\"store\\\": 67, \\\"brand\\\": 3}, {\\\"week_start\\\": 703987200000, \\\"store\\\": 67, \\\"brand\\\": 4}, {\\\"week_start\\\": 704592000000, \\\"store\\\": 67, \\\"brand\\\": 4}, {\\\"week_start\\\": 703987200000, \\\"store\\\": 67, \\\"brand\\\": 5}, {\\\"week_start\\\": 704592000000, \\\"store\\\": 67, \\\"brand\\\": 5}, {\\\"week_start\\\": 703987200000, \\\"store\\\": 67, \\\"brand\\\": 6}, {\\\"week_start\\\": 704592000000, \\\"store\\\": 67, \\\"brand\\\": 6}, {\\\"week_start\\\": 703987200000, \\\"store\\\": 67, \\\"brand\\\": 7}, {\\\"week_start\\\": 704592000000, \\\"store\\\": 67, \\\"brand\\\": 7}, {\\\"week_start\\\": 703987200000, \\\"store\\\": 67, \\\"brand\\\": 8}, {\\\"week_start\\\": 704592000000, \\\"store\\\": 67, \\\"brand\\\": 8}, {\\\"week_start\\\": 703987200000, \\\"store\\\": 67, \\\"brand\\\": 9}, {\\\"week_start\\\": 704592000000, \\\"store\\\": 67, \\\"brand\\\": 9}, {\\\"week_start\\\": 703987200000, \\\"store\\\": 67, \\\"brand\\\": 10}, {\\\"week_start\\\": 704592000000, \\\"store\\\": 67, \\\"brand\\\": 10}, {\\\"week_start\\\": 703987200000, \\\"store\\\": 67, \\\"brand\\\": 11}, {\\\"week_start\\\": 704592000000, \\\"store\\\": 67, \\\"brand\\\": 11}, {\\\"week_start\\\": 703987200000, \\\"store\\\": 68, \\\"brand\\\": 1}, {\\\"week_start\\\": 704592000000, \\\"store\\\": 68, \\\"brand\\\": 1}, {\\\"week_start\\\": 703987200000, \\\"store\\\": 68, \\\"brand\\\": 2}, {\\\"week_start\\\": 704592000000, \\\"store\\\": 68, \\\"brand\\\": 2}, {\\\"week_start\\\": 703987200000, \\\"store\\\": 68, \\\"brand\\\": 3}, {\\\"week_start\\\": 704592000000, \\\"store\\\": 68, \\\"brand\\\": 3}, {\\\"week_start\\\": 703987200000, \\\"store\\\": 68, \\\"brand\\\": 4}, {\\\"week_start\\\": 704592000000, \\\"store\\\": 68, \\\"brand\\\": 4}, {\\\"week_start\\\": 703987200000, \\\"store\\\": 68, \\\"brand\\\": 5}, {\\\"week_start\\\": 704592000000, \\\"store\\\": 68, \\\"brand\\\": 5}, {\\\"week_start\\\": 703987200000, \\\"store\\\": 68, \\\"brand\\\": 6}, {\\\"week_start\\\": 704592000000, \\\"store\\\": 68, \\\"brand\\\": 6}, {\\\"week_start\\\": 703987200000, \\\"store\\\": 68, \\\"brand\\\": 7}, {\\\"week_start\\\": 704592000000, \\\"store\\\": 68, \\\"brand\\\": 7}, {\\\"week_start\\\": 703987200000, \\\"store\\\": 68, \\\"brand\\\": 8}, {\\\"week_start\\\": 704592000000, \\\"store\\\": 68, \\\"brand\\\": 8}, {\\\"week_start\\\": 703987200000, \\\"store\\\": 68, \\\"brand\\\": 9}, {\\\"week_start\\\": 704592000000, \\\"store\\\": 68, \\\"brand\\\": 9}, {\\\"week_start\\\": 703987200000, \\\"store\\\": 68, \\\"brand\\\": 10}, {\\\"week_start\\\": 704592000000, \\\"store\\\": 68, \\\"brand\\\": 10}, {\\\"week_start\\\": 703987200000, \\\"store\\\": 68, \\\"brand\\\": 11}, {\\\"week_start\\\": 704592000000, \\\"store\\\": 68, \\\"brand\\\": 11}, {\\\"week_start\\\": 703987200000, \\\"store\\\": 70, \\\"brand\\\": 1}, {\\\"week_start\\\": 704592000000, \\\"store\\\": 70, \\\"brand\\\": 1}, {\\\"week_start\\\": 703987200000, \\\"store\\\": 70, \\\"brand\\\": 2}, {\\\"week_start\\\": 704592000000, \\\"store\\\": 70, \\\"brand\\\": 2}, {\\\"week_start\\\": 703987200000, \\\"store\\\": 70, \\\"brand\\\": 3}, {\\\"week_start\\\": 704592000000, \\\"store\\\": 70, \\\"brand\\\": 3}, {\\\"week_start\\\": 703987200000, \\\"store\\\": 70, \\\"brand\\\": 4}, {\\\"week_start\\\": 704592000000, \\\"store\\\": 70, \\\"brand\\\": 4}, {\\\"week_start\\\": 703987200000, \\\"store\\\": 70, \\\"brand\\\": 5}, {\\\"week_start\\\": 704592000000, \\\"store\\\": 70, \\\"brand\\\": 5}, {\\\"week_start\\\": 703987200000, \\\"store\\\": 70, \\\"brand\\\": 6}, {\\\"week_start\\\": 704592000000, \\\"store\\\": 70, \\\"brand\\\": 6}, {\\\"week_start\\\": 703987200000, \\\"store\\\": 70, \\\"brand\\\": 7}, {\\\"week_start\\\": 704592000000, \\\"store\\\": 70, \\\"brand\\\": 7}, {\\\"week_start\\\": 703987200000, \\\"store\\\": 70, \\\"brand\\\": 8}, {\\\"week_start\\\": 704592000000, \\\"store\\\": 70, \\\"brand\\\": 8}, {\\\"week_start\\\": 703987200000, \\\"store\\\": 70, \\\"brand\\\": 9}, {\\\"week_start\\\": 704592000000, \\\"store\\\": 70, \\\"brand\\\": 9}, {\\\"week_start\\\": 703987200000, \\\"store\\\": 70, \\\"brand\\\": 10}, {\\\"week_start\\\": 704592000000, \\\"store\\\": 70, \\\"brand\\\": 10}, {\\\"week_start\\\": 703987200000, \\\"store\\\": 70, \\\"brand\\\": 11}, {\\\"week_start\\\": 704592000000, \\\"store\\\": 70, \\\"brand\\\": 11}, {\\\"week_start\\\": 703987200000, \\\"store\\\": 71, \\\"brand\\\": 1}, {\\\"week_start\\\": 704592000000, \\\"store\\\": 71, \\\"brand\\\": 1}, {\\\"week_start\\\": 703987200000, \\\"store\\\": 71, \\\"brand\\\": 2}, {\\\"week_start\\\": 704592000000, \\\"store\\\": 71, \\\"brand\\\": 2}, {\\\"week_start\\\": 703987200000, \\\"store\\\": 71, \\\"brand\\\": 3}, {\\\"week_start\\\": 704592000000, \\\"store\\\": 71, \\\"brand\\\": 3}, {\\\"week_start\\\": 703987200000, \\\"store\\\": 71, \\\"brand\\\": 4}, {\\\"week_start\\\": 704592000000, \\\"store\\\": 71, \\\"brand\\\": 4}, {\\\"week_start\\\": 703987200000, \\\"store\\\": 71, \\\"brand\\\": 5}, {\\\"week_start\\\": 704592000000, \\\"store\\\": 71, \\\"brand\\\": 5}, {\\\"week_start\\\": 703987200000, \\\"store\\\": 71, \\\"brand\\\": 6}, {\\\"week_start\\\": 704592000000, \\\"store\\\": 71, \\\"brand\\\": 6}, {\\\"week_start\\\": 703987200000, \\\"store\\\": 71, \\\"brand\\\": 7}, {\\\"week_start\\\": 704592000000, \\\"store\\\": 71, \\\"brand\\\": 7}, {\\\"week_start\\\": 703987200000, \\\"store\\\": 71, \\\"brand\\\": 8}, {\\\"week_start\\\": 704592000000, \\\"store\\\": 71, \\\"brand\\\": 8}, {\\\"week_start\\\": 703987200000, \\\"store\\\": 71, \\\"brand\\\": 9}, {\\\"week_start\\\": 704592000000, \\\"store\\\": 71, \\\"brand\\\": 9}, {\\\"week_start\\\": 703987200000, \\\"store\\\": 71, \\\"brand\\\": 10}, {\\\"week_start\\\": 704592000000, \\\"store\\\": 71, \\\"brand\\\": 10}, {\\\"week_start\\\": 703987200000, \\\"store\\\": 71, \\\"brand\\\": 11}, {\\\"week_start\\\": 704592000000, \\\"store\\\": 71, \\\"brand\\\": 11}, {\\\"week_start\\\": 703987200000, \\\"store\\\": 72, \\\"brand\\\": 1}, {\\\"week_start\\\": 704592000000, \\\"store\\\": 72, \\\"brand\\\": 1}, {\\\"week_start\\\": 703987200000, \\\"store\\\": 72, \\\"brand\\\": 2}, {\\\"week_start\\\": 704592000000, \\\"store\\\": 72, \\\"brand\\\": 2}, {\\\"week_start\\\": 703987200000, \\\"store\\\": 72, \\\"brand\\\": 3}, {\\\"week_start\\\": 704592000000, \\\"store\\\": 72, \\\"brand\\\": 3}, {\\\"week_start\\\": 703987200000, \\\"store\\\": 72, \\\"brand\\\": 4}, {\\\"week_start\\\": 704592000000, \\\"store\\\": 72, \\\"brand\\\": 4}, {\\\"week_start\\\": 703987200000, \\\"store\\\": 72, \\\"brand\\\": 5}, {\\\"week_start\\\": 704592000000, \\\"store\\\": 72, \\\"brand\\\": 5}, {\\\"week_start\\\": 703987200000, \\\"store\\\": 72, \\\"brand\\\": 6}, {\\\"week_start\\\": 704592000000, \\\"store\\\": 72, \\\"brand\\\": 6}, {\\\"week_start\\\": 703987200000, \\\"store\\\": 72, \\\"brand\\\": 7}, {\\\"week_start\\\": 704592000000, \\\"store\\\": 72, \\\"brand\\\": 7}, {\\\"week_start\\\": 703987200000, \\\"store\\\": 72, \\\"brand\\\": 8}, {\\\"week_start\\\": 704592000000, \\\"store\\\": 72, \\\"brand\\\": 8}, {\\\"week_start\\\": 703987200000, \\\"store\\\": 72, \\\"brand\\\": 9}, {\\\"week_start\\\": 704592000000, \\\"store\\\": 72, \\\"brand\\\": 9}, {\\\"week_start\\\": 703987200000, \\\"store\\\": 72, \\\"brand\\\": 10}, {\\\"week_start\\\": 704592000000, \\\"store\\\": 72, \\\"brand\\\": 10}, {\\\"week_start\\\": 703987200000, \\\"store\\\": 72, \\\"brand\\\": 11}, {\\\"week_start\\\": 704592000000, \\\"store\\\": 72, \\\"brand\\\": 11}, {\\\"week_start\\\": 703987200000, \\\"store\\\": 73, \\\"brand\\\": 1}, {\\\"week_start\\\": 704592000000, \\\"store\\\": 73, \\\"brand\\\": 1}, {\\\"week_start\\\": 703987200000, \\\"store\\\": 73, \\\"brand\\\": 2}, {\\\"week_start\\\": 704592000000, \\\"store\\\": 73, \\\"brand\\\": 2}, {\\\"week_start\\\": 703987200000, \\\"store\\\": 73, \\\"brand\\\": 3}, {\\\"week_start\\\": 704592000000, \\\"store\\\": 73, \\\"brand\\\": 3}, {\\\"week_start\\\": 703987200000, \\\"store\\\": 73, \\\"brand\\\": 4}, {\\\"week_start\\\": 704592000000, \\\"store\\\": 73, \\\"brand\\\": 4}, {\\\"week_start\\\": 703987200000, \\\"store\\\": 73, \\\"brand\\\": 5}, {\\\"week_start\\\": 704592000000, \\\"store\\\": 73, \\\"brand\\\": 5}, {\\\"week_start\\\": 703987200000, \\\"store\\\": 73, \\\"brand\\\": 6}, {\\\"week_start\\\": 704592000000, \\\"store\\\": 73, \\\"brand\\\": 6}, {\\\"week_start\\\": 703987200000, \\\"store\\\": 73, \\\"brand\\\": 7}, {\\\"week_start\\\": 704592000000, \\\"store\\\": 73, \\\"brand\\\": 7}, {\\\"week_start\\\": 703987200000, \\\"store\\\": 73, \\\"brand\\\": 8}, {\\\"week_start\\\": 704592000000, \\\"store\\\": 73, \\\"brand\\\": 8}, {\\\"week_start\\\": 703987200000, \\\"store\\\": 73, \\\"brand\\\": 9}, {\\\"week_start\\\": 704592000000, \\\"store\\\": 73, \\\"brand\\\": 9}, {\\\"week_start\\\": 703987200000, \\\"store\\\": 73, \\\"brand\\\": 10}, {\\\"week_start\\\": 704592000000, \\\"store\\\": 73, \\\"brand\\\": 10}, {\\\"week_start\\\": 703987200000, \\\"store\\\": 73, \\\"brand\\\": 11}, {\\\"week_start\\\": 704592000000, \\\"store\\\": 73, \\\"brand\\\": 11}, {\\\"week_start\\\": 703987200000, \\\"store\\\": 74, \\\"brand\\\": 1}, {\\\"week_start\\\": 704592000000, \\\"store\\\": 74, \\\"brand\\\": 1}, {\\\"week_start\\\": 703987200000, \\\"store\\\": 74, \\\"brand\\\": 2}, {\\\"week_start\\\": 704592000000, \\\"store\\\": 74, \\\"brand\\\": 2}, {\\\"week_start\\\": 703987200000, \\\"store\\\": 74, \\\"brand\\\": 3}, {\\\"week_start\\\": 704592000000, \\\"store\\\": 74, \\\"brand\\\": 3}, {\\\"week_start\\\": 703987200000, \\\"store\\\": 74, \\\"brand\\\": 4}, {\\\"week_start\\\": 704592000000, \\\"store\\\": 74, \\\"brand\\\": 4}, {\\\"week_start\\\": 703987200000, \\\"store\\\": 74, \\\"brand\\\": 5}, {\\\"week_start\\\": 704592000000, \\\"store\\\": 74, \\\"brand\\\": 5}, {\\\"week_start\\\": 703987200000, \\\"store\\\": 74, \\\"brand\\\": 6}, {\\\"week_start\\\": 704592000000, \\\"store\\\": 74, \\\"brand\\\": 6}, {\\\"week_start\\\": 703987200000, \\\"store\\\": 74, \\\"brand\\\": 7}, {\\\"week_start\\\": 704592000000, \\\"store\\\": 74, \\\"brand\\\": 7}, {\\\"week_start\\\": 703987200000, \\\"store\\\": 74, \\\"brand\\\": 8}, {\\\"week_start\\\": 704592000000, \\\"store\\\": 74, \\\"brand\\\": 8}, {\\\"week_start\\\": 703987200000, \\\"store\\\": 74, \\\"brand\\\": 9}, {\\\"week_start\\\": 704592000000, \\\"store\\\": 74, \\\"brand\\\": 9}, {\\\"week_start\\\": 703987200000, \\\"store\\\": 74, \\\"brand\\\": 10}, {\\\"week_start\\\": 704592000000, \\\"store\\\": 74, \\\"brand\\\": 10}, {\\\"week_start\\\": 703987200000, \\\"store\\\": 74, \\\"brand\\\": 11}, {\\\"week_start\\\": 704592000000, \\\"store\\\": 74, \\\"brand\\\": 11}, {\\\"week_start\\\": 703987200000, \\\"store\\\": 75, \\\"brand\\\": 1}, {\\\"week_start\\\": 704592000000, \\\"store\\\": 75, \\\"brand\\\": 1}, {\\\"week_start\\\": 703987200000, \\\"store\\\": 75, \\\"brand\\\": 2}, {\\\"week_start\\\": 704592000000, \\\"store\\\": 75, \\\"brand\\\": 2}, {\\\"week_start\\\": 703987200000, \\\"store\\\": 75, \\\"brand\\\": 3}, {\\\"week_start\\\": 704592000000, \\\"store\\\": 75, \\\"brand\\\": 3}, {\\\"week_start\\\": 703987200000, \\\"store\\\": 75, \\\"brand\\\": 4}, {\\\"week_start\\\": 704592000000, \\\"store\\\": 75, \\\"brand\\\": 4}, {\\\"week_start\\\": 703987200000, \\\"store\\\": 75, \\\"brand\\\": 5}, {\\\"week_start\\\": 704592000000, \\\"store\\\": 75, \\\"brand\\\": 5}, {\\\"week_start\\\": 703987200000, \\\"store\\\": 75, \\\"brand\\\": 6}, {\\\"week_start\\\": 704592000000, \\\"store\\\": 75, \\\"brand\\\": 6}, {\\\"week_start\\\": 703987200000, \\\"store\\\": 75, \\\"brand\\\": 7}, {\\\"week_start\\\": 704592000000, \\\"store\\\": 75, \\\"brand\\\": 7}, {\\\"week_start\\\": 703987200000, \\\"store\\\": 75, \\\"brand\\\": 8}, {\\\"week_start\\\": 704592000000, \\\"store\\\": 75, \\\"brand\\\": 8}, {\\\"week_start\\\": 703987200000, \\\"store\\\": 75, \\\"brand\\\": 9}, {\\\"week_start\\\": 704592000000, \\\"store\\\": 75, \\\"brand\\\": 9}, {\\\"week_start\\\": 703987200000, \\\"store\\\": 75, \\\"brand\\\": 10}, {\\\"week_start\\\": 704592000000, \\\"store\\\": 75, \\\"brand\\\": 10}, {\\\"week_start\\\": 703987200000, \\\"store\\\": 75, \\\"brand\\\": 11}, {\\\"week_start\\\": 704592000000, \\\"store\\\": 75, \\\"brand\\\": 11}, {\\\"week_start\\\": 703987200000, \\\"store\\\": 76, \\\"brand\\\": 1}, {\\\"week_start\\\": 704592000000, \\\"store\\\": 76, \\\"brand\\\": 1}, {\\\"week_start\\\": 703987200000, \\\"store\\\": 76, \\\"brand\\\": 2}, {\\\"week_start\\\": 704592000000, \\\"store\\\": 76, \\\"brand\\\": 2}, {\\\"week_start\\\": 703987200000, \\\"store\\\": 76, \\\"brand\\\": 3}, {\\\"week_start\\\": 704592000000, \\\"store\\\": 76, \\\"brand\\\": 3}, {\\\"week_start\\\": 703987200000, \\\"store\\\": 76, \\\"brand\\\": 4}, {\\\"week_start\\\": 704592000000, \\\"store\\\": 76, \\\"brand\\\": 4}, {\\\"week_start\\\": 703987200000, \\\"store\\\": 76, \\\"brand\\\": 5}, {\\\"week_start\\\": 704592000000, \\\"store\\\": 76, \\\"brand\\\": 5}, {\\\"week_start\\\": 703987200000, \\\"store\\\": 76, \\\"brand\\\": 6}, {\\\"week_start\\\": 704592000000, \\\"store\\\": 76, \\\"brand\\\": 6}, {\\\"week_start\\\": 703987200000, \\\"store\\\": 76, \\\"brand\\\": 7}, {\\\"week_start\\\": 704592000000, \\\"store\\\": 76, \\\"brand\\\": 7}, {\\\"week_start\\\": 703987200000, \\\"store\\\": 76, \\\"brand\\\": 8}, {\\\"week_start\\\": 704592000000, \\\"store\\\": 76, \\\"brand\\\": 8}, {\\\"week_start\\\": 703987200000, \\\"store\\\": 76, \\\"brand\\\": 9}, {\\\"week_start\\\": 704592000000, \\\"store\\\": 76, \\\"brand\\\": 9}, {\\\"week_start\\\": 703987200000, \\\"store\\\": 76, \\\"brand\\\": 10}, {\\\"week_start\\\": 704592000000, \\\"store\\\": 76, \\\"brand\\\": 10}, {\\\"week_start\\\": 703987200000, \\\"store\\\": 76, \\\"brand\\\": 11}, {\\\"week_start\\\": 704592000000, \\\"store\\\": 76, \\\"brand\\\": 11}, {\\\"week_start\\\": 703987200000, \\\"store\\\": 77, \\\"brand\\\": 1}, {\\\"week_start\\\": 704592000000, \\\"store\\\": 77, \\\"brand\\\": 1}, {\\\"week_start\\\": 703987200000, \\\"store\\\": 77, \\\"brand\\\": 2}, {\\\"week_start\\\": 704592000000, \\\"store\\\": 77, \\\"brand\\\": 2}, {\\\"week_start\\\": 703987200000, \\\"store\\\": 77, \\\"brand\\\": 3}, {\\\"week_start\\\": 704592000000, \\\"store\\\": 77, \\\"brand\\\": 3}, {\\\"week_start\\\": 703987200000, \\\"store\\\": 77, \\\"brand\\\": 4}, {\\\"week_start\\\": 704592000000, \\\"store\\\": 77, \\\"brand\\\": 4}, {\\\"week_start\\\": 703987200000, \\\"store\\\": 77, \\\"brand\\\": 5}, {\\\"week_start\\\": 704592000000, \\\"store\\\": 77, \\\"brand\\\": 5}, {\\\"week_start\\\": 703987200000, \\\"store\\\": 77, \\\"brand\\\": 6}, {\\\"week_start\\\": 704592000000, \\\"store\\\": 77, \\\"brand\\\": 6}, {\\\"week_start\\\": 703987200000, \\\"store\\\": 77, \\\"brand\\\": 7}, {\\\"week_start\\\": 704592000000, \\\"store\\\": 77, \\\"brand\\\": 7}, {\\\"week_start\\\": 703987200000, \\\"store\\\": 77, \\\"brand\\\": 8}, {\\\"week_start\\\": 704592000000, \\\"store\\\": 77, \\\"brand\\\": 8}, {\\\"week_start\\\": 703987200000, \\\"store\\\": 77, \\\"brand\\\": 9}, {\\\"week_start\\\": 704592000000, \\\"store\\\": 77, \\\"brand\\\": 9}, {\\\"week_start\\\": 703987200000, \\\"store\\\": 77, \\\"brand\\\": 10}, {\\\"week_start\\\": 704592000000, \\\"store\\\": 77, \\\"brand\\\": 10}, {\\\"week_start\\\": 703987200000, \\\"store\\\": 77, \\\"brand\\\": 11}, {\\\"week_start\\\": 704592000000, \\\"store\\\": 77, \\\"brand\\\": 11}, {\\\"week_start\\\": 703987200000, \\\"store\\\": 78, \\\"brand\\\": 1}, {\\\"week_start\\\": 704592000000, \\\"store\\\": 78, \\\"brand\\\": 1}, {\\\"week_start\\\": 703987200000, \\\"store\\\": 78, \\\"brand\\\": 2}, {\\\"week_start\\\": 704592000000, \\\"store\\\": 78, \\\"brand\\\": 2}, {\\\"week_start\\\": 703987200000, \\\"store\\\": 78, \\\"brand\\\": 3}, {\\\"week_start\\\": 704592000000, \\\"store\\\": 78, \\\"brand\\\": 3}, {\\\"week_start\\\": 703987200000, \\\"store\\\": 78, \\\"brand\\\": 4}, {\\\"week_start\\\": 704592000000, \\\"store\\\": 78, \\\"brand\\\": 4}, {\\\"week_start\\\": 703987200000, \\\"store\\\": 78, \\\"brand\\\": 5}, {\\\"week_start\\\": 704592000000, \\\"store\\\": 78, \\\"brand\\\": 5}, {\\\"week_start\\\": 703987200000, \\\"store\\\": 78, \\\"brand\\\": 6}, {\\\"week_start\\\": 704592000000, \\\"store\\\": 78, \\\"brand\\\": 6}, {\\\"week_start\\\": 703987200000, \\\"store\\\": 78, \\\"brand\\\": 7}, {\\\"week_start\\\": 704592000000, \\\"store\\\": 78, \\\"brand\\\": 7}, {\\\"week_start\\\": 703987200000, \\\"store\\\": 78, \\\"brand\\\": 8}, {\\\"week_start\\\": 704592000000, \\\"store\\\": 78, \\\"brand\\\": 8}, {\\\"week_start\\\": 703987200000, \\\"store\\\": 78, \\\"brand\\\": 9}, {\\\"week_start\\\": 704592000000, \\\"store\\\": 78, \\\"brand\\\": 9}, {\\\"week_start\\\": 703987200000, \\\"store\\\": 78, \\\"brand\\\": 10}, {\\\"week_start\\\": 704592000000, \\\"store\\\": 78, \\\"brand\\\": 10}, {\\\"week_start\\\": 703987200000, \\\"store\\\": 78, \\\"brand\\\": 11}, {\\\"week_start\\\": 704592000000, \\\"store\\\": 78, \\\"brand\\\": 11}, {\\\"week_start\\\": 703987200000, \\\"store\\\": 80, \\\"brand\\\": 1}, {\\\"week_start\\\": 704592000000, \\\"store\\\": 80, \\\"brand\\\": 1}, {\\\"week_start\\\": 703987200000, \\\"store\\\": 80, \\\"brand\\\": 2}, {\\\"week_start\\\": 704592000000, \\\"store\\\": 80, \\\"brand\\\": 2}, {\\\"week_start\\\": 703987200000, \\\"store\\\": 80, \\\"brand\\\": 3}, {\\\"week_start\\\": 704592000000, \\\"store\\\": 80, \\\"brand\\\": 3}, {\\\"week_start\\\": 703987200000, \\\"store\\\": 80, \\\"brand\\\": 4}, {\\\"week_start\\\": 704592000000, \\\"store\\\": 80, \\\"brand\\\": 4}, {\\\"week_start\\\": 703987200000, \\\"store\\\": 80, \\\"brand\\\": 5}, {\\\"week_start\\\": 704592000000, \\\"store\\\": 80, \\\"brand\\\": 5}, {\\\"week_start\\\": 703987200000, \\\"store\\\": 80, \\\"brand\\\": 6}, {\\\"week_start\\\": 704592000000, \\\"store\\\": 80, \\\"brand\\\": 6}, {\\\"week_start\\\": 703987200000, \\\"store\\\": 80, \\\"brand\\\": 7}, {\\\"week_start\\\": 704592000000, \\\"store\\\": 80, \\\"brand\\\": 7}, {\\\"week_start\\\": 703987200000, \\\"store\\\": 80, \\\"brand\\\": 8}, {\\\"week_start\\\": 704592000000, \\\"store\\\": 80, \\\"brand\\\": 8}, {\\\"week_start\\\": 703987200000, \\\"store\\\": 80, \\\"brand\\\": 9}, {\\\"week_start\\\": 704592000000, \\\"store\\\": 80, \\\"brand\\\": 9}, {\\\"week_start\\\": 703987200000, \\\"store\\\": 80, \\\"brand\\\": 10}, {\\\"week_start\\\": 704592000000, \\\"store\\\": 80, \\\"brand\\\": 10}, {\\\"week_start\\\": 703987200000, \\\"store\\\": 80, \\\"brand\\\": 11}, {\\\"week_start\\\": 704592000000, \\\"store\\\": 80, \\\"brand\\\": 11}, {\\\"week_start\\\": 703987200000, \\\"store\\\": 81, \\\"brand\\\": 1}, {\\\"week_start\\\": 704592000000, \\\"store\\\": 81, \\\"brand\\\": 1}, {\\\"week_start\\\": 703987200000, \\\"store\\\": 81, \\\"brand\\\": 2}, {\\\"week_start\\\": 704592000000, \\\"store\\\": 81, \\\"brand\\\": 2}, {\\\"week_start\\\": 703987200000, \\\"store\\\": 81, \\\"brand\\\": 3}, {\\\"week_start\\\": 704592000000, \\\"store\\\": 81, \\\"brand\\\": 3}, {\\\"week_start\\\": 703987200000, \\\"store\\\": 81, \\\"brand\\\": 4}, {\\\"week_start\\\": 704592000000, \\\"store\\\": 81, \\\"brand\\\": 4}, {\\\"week_start\\\": 703987200000, \\\"store\\\": 81, \\\"brand\\\": 5}, {\\\"week_start\\\": 704592000000, \\\"store\\\": 81, \\\"brand\\\": 5}, {\\\"week_start\\\": 703987200000, \\\"store\\\": 81, \\\"brand\\\": 6}, {\\\"week_start\\\": 704592000000, \\\"store\\\": 81, \\\"brand\\\": 6}, {\\\"week_start\\\": 703987200000, \\\"store\\\": 81, \\\"brand\\\": 7}, {\\\"week_start\\\": 704592000000, \\\"store\\\": 81, \\\"brand\\\": 7}, {\\\"week_start\\\": 703987200000, \\\"store\\\": 81, \\\"brand\\\": 8}, {\\\"week_start\\\": 704592000000, \\\"store\\\": 81, \\\"brand\\\": 8}, {\\\"week_start\\\": 703987200000, \\\"store\\\": 81, \\\"brand\\\": 9}, {\\\"week_start\\\": 704592000000, \\\"store\\\": 81, \\\"brand\\\": 9}, {\\\"week_start\\\": 703987200000, \\\"store\\\": 81, \\\"brand\\\": 10}, {\\\"week_start\\\": 704592000000, \\\"store\\\": 81, \\\"brand\\\": 10}, {\\\"week_start\\\": 703987200000, \\\"store\\\": 81, \\\"brand\\\": 11}, {\\\"week_start\\\": 704592000000, \\\"store\\\": 81, \\\"brand\\\": 11}, {\\\"week_start\\\": 703987200000, \\\"store\\\": 83, \\\"brand\\\": 1}, {\\\"week_start\\\": 704592000000, \\\"store\\\": 83, \\\"brand\\\": 1}, {\\\"week_start\\\": 703987200000, \\\"store\\\": 83, \\\"brand\\\": 2}, {\\\"week_start\\\": 704592000000, \\\"store\\\": 83, \\\"brand\\\": 2}, {\\\"week_start\\\": 703987200000, \\\"store\\\": 83, \\\"brand\\\": 3}, {\\\"week_start\\\": 704592000000, \\\"store\\\": 83, \\\"brand\\\": 3}, {\\\"week_start\\\": 703987200000, \\\"store\\\": 83, \\\"brand\\\": 4}, {\\\"week_start\\\": 704592000000, \\\"store\\\": 83, \\\"brand\\\": 4}, {\\\"week_start\\\": 703987200000, \\\"store\\\": 83, \\\"brand\\\": 5}, {\\\"week_start\\\": 704592000000, \\\"store\\\": 83, \\\"brand\\\": 5}, {\\\"week_start\\\": 703987200000, \\\"store\\\": 83, \\\"brand\\\": 6}, {\\\"week_start\\\": 704592000000, \\\"store\\\": 83, \\\"brand\\\": 6}, {\\\"week_start\\\": 703987200000, \\\"store\\\": 83, \\\"brand\\\": 7}, {\\\"week_start\\\": 704592000000, \\\"store\\\": 83, \\\"brand\\\": 7}, {\\\"week_start\\\": 703987200000, \\\"store\\\": 83, \\\"brand\\\": 8}, {\\\"week_start\\\": 704592000000, \\\"store\\\": 83, \\\"brand\\\": 8}, {\\\"week_start\\\": 703987200000, \\\"store\\\": 83, \\\"brand\\\": 9}, {\\\"week_start\\\": 704592000000, \\\"store\\\": 83, \\\"brand\\\": 9}, {\\\"week_start\\\": 703987200000, \\\"store\\\": 83, \\\"brand\\\": 10}, {\\\"week_start\\\": 704592000000, \\\"store\\\": 83, \\\"brand\\\": 10}, {\\\"week_start\\\": 703987200000, \\\"store\\\": 83, \\\"brand\\\": 11}, {\\\"week_start\\\": 704592000000, \\\"store\\\": 83, \\\"brand\\\": 11}, {\\\"week_start\\\": 703987200000, \\\"store\\\": 84, \\\"brand\\\": 1}, {\\\"week_start\\\": 704592000000, \\\"store\\\": 84, \\\"brand\\\": 1}, {\\\"week_start\\\": 703987200000, \\\"store\\\": 84, \\\"brand\\\": 2}, {\\\"week_start\\\": 704592000000, \\\"store\\\": 84, \\\"brand\\\": 2}, {\\\"week_start\\\": 703987200000, \\\"store\\\": 84, \\\"brand\\\": 3}, {\\\"week_start\\\": 704592000000, \\\"store\\\": 84, \\\"brand\\\": 3}, {\\\"week_start\\\": 703987200000, \\\"store\\\": 84, \\\"brand\\\": 4}, {\\\"week_start\\\": 704592000000, \\\"store\\\": 84, \\\"brand\\\": 4}, {\\\"week_start\\\": 703987200000, \\\"store\\\": 84, \\\"brand\\\": 5}, {\\\"week_start\\\": 704592000000, \\\"store\\\": 84, \\\"brand\\\": 5}, {\\\"week_start\\\": 703987200000, \\\"store\\\": 84, \\\"brand\\\": 6}, {\\\"week_start\\\": 704592000000, \\\"store\\\": 84, \\\"brand\\\": 6}, {\\\"week_start\\\": 703987200000, \\\"store\\\": 84, \\\"brand\\\": 7}, {\\\"week_start\\\": 704592000000, \\\"store\\\": 84, \\\"brand\\\": 7}, {\\\"week_start\\\": 703987200000, \\\"store\\\": 84, \\\"brand\\\": 8}, {\\\"week_start\\\": 704592000000, \\\"store\\\": 84, \\\"brand\\\": 8}, {\\\"week_start\\\": 703987200000, \\\"store\\\": 84, \\\"brand\\\": 9}, {\\\"week_start\\\": 704592000000, \\\"store\\\": 84, \\\"brand\\\": 9}, {\\\"week_start\\\": 703987200000, \\\"store\\\": 84, \\\"brand\\\": 10}, {\\\"week_start\\\": 704592000000, \\\"store\\\": 84, \\\"brand\\\": 10}, {\\\"week_start\\\": 703987200000, \\\"store\\\": 84, \\\"brand\\\": 11}, {\\\"week_start\\\": 704592000000, \\\"store\\\": 84, \\\"brand\\\": 11}, {\\\"week_start\\\": 703987200000, \\\"store\\\": 86, \\\"brand\\\": 1}, {\\\"week_start\\\": 704592000000, \\\"store\\\": 86, \\\"brand\\\": 1}, {\\\"week_start\\\": 703987200000, \\\"store\\\": 86, \\\"brand\\\": 2}, {\\\"week_start\\\": 704592000000, \\\"store\\\": 86, \\\"brand\\\": 2}, {\\\"week_start\\\": 703987200000, \\\"store\\\": 86, \\\"brand\\\": 3}, {\\\"week_start\\\": 704592000000, \\\"store\\\": 86, \\\"brand\\\": 3}, {\\\"week_start\\\": 703987200000, \\\"store\\\": 86, \\\"brand\\\": 4}, {\\\"week_start\\\": 704592000000, \\\"store\\\": 86, \\\"brand\\\": 4}, {\\\"week_start\\\": 703987200000, \\\"store\\\": 86, \\\"brand\\\": 5}, {\\\"week_start\\\": 704592000000, \\\"store\\\": 86, \\\"brand\\\": 5}, {\\\"week_start\\\": 703987200000, \\\"store\\\": 86, \\\"brand\\\": 6}, {\\\"week_start\\\": 704592000000, \\\"store\\\": 86, \\\"brand\\\": 6}, {\\\"week_start\\\": 703987200000, \\\"store\\\": 86, \\\"brand\\\": 7}, {\\\"week_start\\\": 704592000000, \\\"store\\\": 86, \\\"brand\\\": 7}, {\\\"week_start\\\": 703987200000, \\\"store\\\": 86, \\\"brand\\\": 8}, {\\\"week_start\\\": 704592000000, \\\"store\\\": 86, \\\"brand\\\": 8}, {\\\"week_start\\\": 703987200000, \\\"store\\\": 86, \\\"brand\\\": 9}, {\\\"week_start\\\": 704592000000, \\\"store\\\": 86, \\\"brand\\\": 9}, {\\\"week_start\\\": 703987200000, \\\"store\\\": 86, \\\"brand\\\": 10}, {\\\"week_start\\\": 704592000000, \\\"store\\\": 86, \\\"brand\\\": 10}, {\\\"week_start\\\": 703987200000, \\\"store\\\": 86, \\\"brand\\\": 11}, {\\\"week_start\\\": 704592000000, \\\"store\\\": 86, \\\"brand\\\": 11}, {\\\"week_start\\\": 703987200000, \\\"store\\\": 88, \\\"brand\\\": 1}, {\\\"week_start\\\": 704592000000, \\\"store\\\": 88, \\\"brand\\\": 1}, {\\\"week_start\\\": 703987200000, \\\"store\\\": 88, \\\"brand\\\": 2}, {\\\"week_start\\\": 704592000000, \\\"store\\\": 88, \\\"brand\\\": 2}, {\\\"week_start\\\": 703987200000, \\\"store\\\": 88, \\\"brand\\\": 3}, {\\\"week_start\\\": 704592000000, \\\"store\\\": 88, \\\"brand\\\": 3}, {\\\"week_start\\\": 703987200000, \\\"store\\\": 88, \\\"brand\\\": 4}, {\\\"week_start\\\": 704592000000, \\\"store\\\": 88, \\\"brand\\\": 4}, {\\\"week_start\\\": 703987200000, \\\"store\\\": 88, \\\"brand\\\": 5}, {\\\"week_start\\\": 704592000000, \\\"store\\\": 88, \\\"brand\\\": 5}, {\\\"week_start\\\": 703987200000, \\\"store\\\": 88, \\\"brand\\\": 6}, {\\\"week_start\\\": 704592000000, \\\"store\\\": 88, \\\"brand\\\": 6}, {\\\"week_start\\\": 703987200000, \\\"store\\\": 88, \\\"brand\\\": 7}, {\\\"week_start\\\": 704592000000, \\\"store\\\": 88, \\\"brand\\\": 7}, {\\\"week_start\\\": 703987200000, \\\"store\\\": 88, \\\"brand\\\": 8}, {\\\"week_start\\\": 704592000000, \\\"store\\\": 88, \\\"brand\\\": 8}, {\\\"week_start\\\": 703987200000, \\\"store\\\": 88, \\\"brand\\\": 9}, {\\\"week_start\\\": 704592000000, \\\"store\\\": 88, \\\"brand\\\": 9}, {\\\"week_start\\\": 703987200000, \\\"store\\\": 88, \\\"brand\\\": 10}, {\\\"week_start\\\": 704592000000, \\\"store\\\": 88, \\\"brand\\\": 10}, {\\\"week_start\\\": 703987200000, \\\"store\\\": 88, \\\"brand\\\": 11}, {\\\"week_start\\\": 704592000000, \\\"store\\\": 88, \\\"brand\\\": 11}, {\\\"week_start\\\": 703987200000, \\\"store\\\": 89, \\\"brand\\\": 1}, {\\\"week_start\\\": 704592000000, \\\"store\\\": 89, \\\"brand\\\": 1}, {\\\"week_start\\\": 703987200000, \\\"store\\\": 89, \\\"brand\\\": 2}, {\\\"week_start\\\": 704592000000, \\\"store\\\": 89, \\\"brand\\\": 2}, {\\\"week_start\\\": 703987200000, \\\"store\\\": 89, \\\"brand\\\": 3}, {\\\"week_start\\\": 704592000000, \\\"store\\\": 89, \\\"brand\\\": 3}, {\\\"week_start\\\": 703987200000, \\\"store\\\": 89, \\\"brand\\\": 4}, {\\\"week_start\\\": 704592000000, \\\"store\\\": 89, \\\"brand\\\": 4}, {\\\"week_start\\\": 703987200000, \\\"store\\\": 89, \\\"brand\\\": 5}, {\\\"week_start\\\": 704592000000, \\\"store\\\": 89, \\\"brand\\\": 5}, {\\\"week_start\\\": 703987200000, \\\"store\\\": 89, \\\"brand\\\": 6}, {\\\"week_start\\\": 704592000000, \\\"store\\\": 89, \\\"brand\\\": 6}, {\\\"week_start\\\": 703987200000, \\\"store\\\": 89, \\\"brand\\\": 7}, {\\\"week_start\\\": 704592000000, \\\"store\\\": 89, \\\"brand\\\": 7}, {\\\"week_start\\\": 703987200000, \\\"store\\\": 89, \\\"brand\\\": 8}, {\\\"week_start\\\": 704592000000, \\\"store\\\": 89, \\\"brand\\\": 8}, {\\\"week_start\\\": 703987200000, \\\"store\\\": 89, \\\"brand\\\": 9}, {\\\"week_start\\\": 704592000000, \\\"store\\\": 89, \\\"brand\\\": 9}, {\\\"week_start\\\": 703987200000, \\\"store\\\": 89, \\\"brand\\\": 10}, {\\\"week_start\\\": 704592000000, \\\"store\\\": 89, \\\"brand\\\": 10}, {\\\"week_start\\\": 703987200000, \\\"store\\\": 89, \\\"brand\\\": 11}, {\\\"week_start\\\": 704592000000, \\\"store\\\": 89, \\\"brand\\\": 11}, {\\\"week_start\\\": 703987200000, \\\"store\\\": 90, \\\"brand\\\": 1}, {\\\"week_start\\\": 704592000000, \\\"store\\\": 90, \\\"brand\\\": 1}, {\\\"week_start\\\": 703987200000, \\\"store\\\": 90, \\\"brand\\\": 2}, {\\\"week_start\\\": 704592000000, \\\"store\\\": 90, \\\"brand\\\": 2}, {\\\"week_start\\\": 703987200000, \\\"store\\\": 90, \\\"brand\\\": 3}, {\\\"week_start\\\": 704592000000, \\\"store\\\": 90, \\\"brand\\\": 3}, {\\\"week_start\\\": 703987200000, \\\"store\\\": 90, \\\"brand\\\": 4}, {\\\"week_start\\\": 704592000000, \\\"store\\\": 90, \\\"brand\\\": 4}, {\\\"week_start\\\": 703987200000, \\\"store\\\": 90, \\\"brand\\\": 5}, {\\\"week_start\\\": 704592000000, \\\"store\\\": 90, \\\"brand\\\": 5}, {\\\"week_start\\\": 703987200000, \\\"store\\\": 90, \\\"brand\\\": 6}, {\\\"week_start\\\": 704592000000, \\\"store\\\": 90, \\\"brand\\\": 6}, {\\\"week_start\\\": 703987200000, \\\"store\\\": 90, \\\"brand\\\": 7}, {\\\"week_start\\\": 704592000000, \\\"store\\\": 90, \\\"brand\\\": 7}, {\\\"week_start\\\": 703987200000, \\\"store\\\": 90, \\\"brand\\\": 8}, {\\\"week_start\\\": 704592000000, \\\"store\\\": 90, \\\"brand\\\": 8}, {\\\"week_start\\\": 703987200000, \\\"store\\\": 90, \\\"brand\\\": 9}, {\\\"week_start\\\": 704592000000, \\\"store\\\": 90, \\\"brand\\\": 9}, {\\\"week_start\\\": 703987200000, \\\"store\\\": 90, \\\"brand\\\": 10}, {\\\"week_start\\\": 704592000000, \\\"store\\\": 90, \\\"brand\\\": 10}, {\\\"week_start\\\": 703987200000, \\\"store\\\": 90, \\\"brand\\\": 11}, {\\\"week_start\\\": 704592000000, \\\"store\\\": 90, \\\"brand\\\": 11}, {\\\"week_start\\\": 703987200000, \\\"store\\\": 91, \\\"brand\\\": 1}, {\\\"week_start\\\": 704592000000, \\\"store\\\": 91, \\\"brand\\\": 1}, {\\\"week_start\\\": 703987200000, \\\"store\\\": 91, \\\"brand\\\": 2}, {\\\"week_start\\\": 704592000000, \\\"store\\\": 91, \\\"brand\\\": 2}, {\\\"week_start\\\": 703987200000, \\\"store\\\": 91, \\\"brand\\\": 3}, {\\\"week_start\\\": 704592000000, \\\"store\\\": 91, \\\"brand\\\": 3}, {\\\"week_start\\\": 703987200000, \\\"store\\\": 91, \\\"brand\\\": 4}, {\\\"week_start\\\": 704592000000, \\\"store\\\": 91, \\\"brand\\\": 4}, {\\\"week_start\\\": 703987200000, \\\"store\\\": 91, \\\"brand\\\": 5}, {\\\"week_start\\\": 704592000000, \\\"store\\\": 91, \\\"brand\\\": 5}]}\"\n"
     ]
    }
   ],
   "source": [
    "print(response.text)"
   ]
  },
  {
   "cell_type": "code",
   "execution_count": 77,
   "metadata": {},
   "outputs": [],
   "source": [
    "result = json.loads(json.loads(response.text))"
   ]
  },
  {
   "cell_type": "code",
   "execution_count": 96,
   "metadata": {
    "scrolled": true
   },
   "outputs": [
    {
     "data": {
      "text/plain": [
       "{'week_start': 703987200000, 'store': 2, 'brand': 1}"
      ]
     },
     "execution_count": 96,
     "metadata": {},
     "output_type": "execute_result"
    }
   ],
   "source": [
    "result[\"index\"][0]"
   ]
  },
  {
   "cell_type": "code",
   "execution_count": 81,
   "metadata": {},
   "outputs": [],
   "source": [
    "gd_truth_test = ground_truth[START_SAMPLES:END_SAMPLES]\n",
    "\n",
    "df_result = pd.DataFrame(result[\"index\"])\n",
    "df_result[time_column_name] = pd.to_datetime(df_result[time_column_name], unit=\"ms\")\n",
    "df_result[\"ground_truth\"] = gd_truth_test\n",
    "df_result[\"forecast\"] = result[\"forecast\"]\n",
    "df_result[\"prediction_interval\"] = result[\"prediction_interval\"]"
   ]
  },
  {
   "cell_type": "code",
   "execution_count": 82,
   "metadata": {},
   "outputs": [],
   "source": [
    "test_size = len(test_X)"
   ]
  },
  {
   "cell_type": "code",
   "execution_count": 83,
   "metadata": {},
   "outputs": [
    {
     "data": {
      "text/html": [
       "<div>\n",
       "<style scoped>\n",
       "    .dataframe tbody tr th:only-of-type {\n",
       "        vertical-align: middle;\n",
       "    }\n",
       "\n",
       "    .dataframe tbody tr th {\n",
       "        vertical-align: top;\n",
       "    }\n",
       "\n",
       "    .dataframe thead th {\n",
       "        text-align: right;\n",
       "    }\n",
       "</style>\n",
       "<table border=\"1\" class=\"dataframe\">\n",
       "  <thead>\n",
       "    <tr style=\"text-align: right;\">\n",
       "      <th></th>\n",
       "      <th>week_start</th>\n",
       "      <th>store</th>\n",
       "      <th>brand</th>\n",
       "      <th>ground_truth</th>\n",
       "      <th>forecast</th>\n",
       "      <th>prediction_interval</th>\n",
       "    </tr>\n",
       "  </thead>\n",
       "  <tbody>\n",
       "    <tr>\n",
       "      <th>0</th>\n",
       "      <td>1992-04-23</td>\n",
       "      <td>2</td>\n",
       "      <td>1</td>\n",
       "      <td>9792</td>\n",
       "      <td>12808.53</td>\n",
       "      <td>[-75091.55491913024, 100708.62158579691]</td>\n",
       "    </tr>\n",
       "    <tr>\n",
       "      <th>1</th>\n",
       "      <td>1992-04-30</td>\n",
       "      <td>2</td>\n",
       "      <td>1</td>\n",
       "      <td>16960</td>\n",
       "      <td>12808.53</td>\n",
       "      <td>[-94846.64894873949, 120463.71561540614]</td>\n",
       "    </tr>\n",
       "    <tr>\n",
       "      <th>2</th>\n",
       "      <td>1992-04-23</td>\n",
       "      <td>2</td>\n",
       "      <td>2</td>\n",
       "      <td>6240</td>\n",
       "      <td>8671.20</td>\n",
       "      <td>[-79228.88825246358, 96571.28825246356]</td>\n",
       "    </tr>\n",
       "    <tr>\n",
       "      <th>3</th>\n",
       "      <td>1992-04-30</td>\n",
       "      <td>2</td>\n",
       "      <td>2</td>\n",
       "      <td>14784</td>\n",
       "      <td>8671.20</td>\n",
       "      <td>[-98983.98228207283, 116326.3822820728]</td>\n",
       "    </tr>\n",
       "    <tr>\n",
       "      <th>4</th>\n",
       "      <td>1992-04-23</td>\n",
       "      <td>2</td>\n",
       "      <td>3</td>\n",
       "      <td>1920</td>\n",
       "      <td>2987.73</td>\n",
       "      <td>[-84912.35491913024, 90887.8215857969]</td>\n",
       "    </tr>\n",
       "    <tr>\n",
       "      <th>...</th>\n",
       "      <td>...</td>\n",
       "      <td>...</td>\n",
       "      <td>...</td>\n",
       "      <td>...</td>\n",
       "      <td>...</td>\n",
       "      <td>...</td>\n",
       "    </tr>\n",
       "    <tr>\n",
       "      <th>995</th>\n",
       "      <td>1992-04-30</td>\n",
       "      <td>91</td>\n",
       "      <td>3</td>\n",
       "      <td>448</td>\n",
       "      <td>2105.60</td>\n",
       "      <td>[-105549.58228207282, 109760.7822820728]</td>\n",
       "    </tr>\n",
       "    <tr>\n",
       "      <th>996</th>\n",
       "      <td>1992-04-23</td>\n",
       "      <td>91</td>\n",
       "      <td>4</td>\n",
       "      <td>2880</td>\n",
       "      <td>13400.53</td>\n",
       "      <td>[-74499.55491913024, 101300.62158579691]</td>\n",
       "    </tr>\n",
       "    <tr>\n",
       "      <th>997</th>\n",
       "      <td>1992-04-30</td>\n",
       "      <td>91</td>\n",
       "      <td>4</td>\n",
       "      <td>11968</td>\n",
       "      <td>13400.53</td>\n",
       "      <td>[-94254.64894873949, 121055.71561540614]</td>\n",
       "    </tr>\n",
       "    <tr>\n",
       "      <th>998</th>\n",
       "      <td>1992-04-23</td>\n",
       "      <td>91</td>\n",
       "      <td>5</td>\n",
       "      <td>27840</td>\n",
       "      <td>13946.13</td>\n",
       "      <td>[-73953.95491913025, 101846.2215857969]</td>\n",
       "    </tr>\n",
       "    <tr>\n",
       "      <th>999</th>\n",
       "      <td>1992-04-30</td>\n",
       "      <td>91</td>\n",
       "      <td>5</td>\n",
       "      <td>2944</td>\n",
       "      <td>13946.13</td>\n",
       "      <td>[-93709.0489487395, 121601.31561540613]</td>\n",
       "    </tr>\n",
       "  </tbody>\n",
       "</table>\n",
       "<p>1000 rows × 6 columns</p>\n",
       "</div>"
      ],
      "text/plain": [
       "    week_start  store  brand  ground_truth  forecast  \\\n",
       "0   1992-04-23      2      1          9792  12808.53   \n",
       "1   1992-04-30      2      1         16960  12808.53   \n",
       "2   1992-04-23      2      2          6240   8671.20   \n",
       "3   1992-04-30      2      2         14784   8671.20   \n",
       "4   1992-04-23      2      3          1920   2987.73   \n",
       "..         ...    ...    ...           ...       ...   \n",
       "995 1992-04-30     91      3           448   2105.60   \n",
       "996 1992-04-23     91      4          2880  13400.53   \n",
       "997 1992-04-30     91      4         11968  13400.53   \n",
       "998 1992-04-23     91      5         27840  13946.13   \n",
       "999 1992-04-30     91      5          2944  13946.13   \n",
       "\n",
       "                          prediction_interval  \n",
       "0    [-75091.55491913024, 100708.62158579691]  \n",
       "1    [-94846.64894873949, 120463.71561540614]  \n",
       "2     [-79228.88825246358, 96571.28825246356]  \n",
       "3     [-98983.98228207283, 116326.3822820728]  \n",
       "4      [-84912.35491913024, 90887.8215857969]  \n",
       "..                                        ...  \n",
       "995  [-105549.58228207282, 109760.7822820728]  \n",
       "996  [-74499.55491913024, 101300.62158579691]  \n",
       "997  [-94254.64894873949, 121055.71561540614]  \n",
       "998   [-73953.95491913025, 101846.2215857969]  \n",
       "999   [-93709.0489487395, 121601.31561540613]  \n",
       "\n",
       "[1000 rows x 6 columns]"
      ]
     },
     "execution_count": 83,
     "metadata": {},
     "output_type": "execute_result"
    }
   ],
   "source": [
    "df_result.head(test_size)"
   ]
  },
  {
   "cell_type": "code",
   "execution_count": 92,
   "metadata": {},
   "outputs": [],
   "source": [
    "# Compute MAPE metric of the test data\n",
    "\n",
    "def compute_mape(ground_truth, forecasts) -> float:\n",
    "    ground_truth, forecasts = np.array(ground_truth), np.array(forecasts)\n",
    "    mape = np.mean(np.abs((ground_truth-forecasts)/ground_truth))*100\n",
    "    return round(mape,2)"
   ]
  },
  {
   "cell_type": "code",
   "execution_count": 93,
   "metadata": {},
   "outputs": [
    {
     "name": "stdout",
     "output_type": "stream",
     "text": [
      "MAPE :  137 %\n"
     ]
    }
   ],
   "source": [
    "forecasts = df_result[\"forecast\"].values\n",
    "print(\"MAPE : \",compute_mape(gd_truth_test, forecasts),\"%\")"
   ]
  },
  {
   "cell_type": "markdown",
   "metadata": {
    "collapsed": true,
    "gather": {
     "logged": 1598432765711
    },
    "jupyter": {
     "outputs_hidden": false,
     "source_hidden": false
    },
    "nteract": {
     "transient": {
      "deleting": false
     }
    }
   },
   "source": [
    "TODO: In the cell below, print the logs of the web service and delete the service"
   ]
  },
  {
   "cell_type": "code",
   "execution_count": 97,
   "metadata": {},
   "outputs": [],
   "source": [
    "# Enable application insights\n",
    "service.update(enable_app_insights=True)"
   ]
  },
  {
   "cell_type": "code",
   "execution_count": 98,
   "metadata": {
    "jupyter": {
     "outputs_hidden": false,
     "source_hidden": false
    },
    "nteract": {
     "transient": {
      "deleting": false
     }
    },
    "scrolled": false
   },
   "outputs": [
    {
     "name": "stdout",
     "output_type": "stream",
     "text": [
      "/bin/bash: /azureml-envs/azureml_7becf92bd9d8786204e7278bb441885c/lib/libtinfo.so.6: no version information available (required by /bin/bash)\n",
      "/bin/bash: /azureml-envs/azureml_7becf92bd9d8786204e7278bb441885c/lib/libtinfo.so.6: no version information available (required by /bin/bash)\n",
      "/bin/bash: /azureml-envs/azureml_7becf92bd9d8786204e7278bb441885c/lib/libtinfo.so.6: no version information available (required by /bin/bash)\n",
      "/bin/bash: /azureml-envs/azureml_7becf92bd9d8786204e7278bb441885c/lib/libtinfo.so.6: no version information available (required by /bin/bash)\n",
      "2022-07-06T11:11:06,600800491+00:00 - iot-server/run \n",
      "2022-07-06T11:11:06,603129291+00:00 - gunicorn/run \n",
      "2022-07-06T11:11:06,603198791+00:00 - rsyslog/run \n",
      "2022-07-06T11:11:06,607883491+00:00 | gunicorn/run | \n",
      "2022-07-06T11:11:06,612178991+00:00 | gunicorn/run | ###############################################\n",
      "2022-07-06T11:11:06,614388991+00:00 | gunicorn/run | AzureML Container Runtime Information\n",
      "bash: /azureml-envs/azureml_7becf92bd9d8786204e7278bb441885c/lib/libtinfo.so.6: no version information available (required by bash)\n",
      "2022-07-06T11:11:06,621599391+00:00 - nginx/run \n",
      "2022-07-06T11:11:06,632054391+00:00 | gunicorn/run | ###############################################\n",
      "2022-07-06T11:11:06,639960291+00:00 | gunicorn/run | \n",
      "2022-07-06T11:11:06,650013291+00:00 | gunicorn/run | \n",
      "2022-07-06T11:11:06,657730891+00:00 | gunicorn/run | PATH environment variable: /azureml-envs/azureml_7becf92bd9d8786204e7278bb441885c/bin:/opt/miniconda/bin:/usr/local/sbin:/usr/local/bin:/usr/sbin:/usr/bin:/sbin:/bin\n",
      "2022-07-06T11:11:06,662230091+00:00 | gunicorn/run | PYTHONPATH environment variable: \n",
      "2022-07-06T11:11:06,664435991+00:00 | gunicorn/run | \n",
      "2022-07-06T11:11:06,669862091+00:00 | gunicorn/run | Pip Dependencies (before dynamic installation)\n",
      "\n",
      "EdgeHubConnectionString and IOTEDGE_IOTHUBHOSTNAME are not set. Exiting...\n",
      "/bin/bash: /azureml-envs/azureml_7becf92bd9d8786204e7278bb441885c/lib/libtinfo.so.6: no version information available (required by /bin/bash)\n",
      "2022-07-06T11:11:06,891988391+00:00 - iot-server/finish 1 0\n",
      "2022-07-06T11:11:06,894577091+00:00 - Exit code 1 is normal. Not restarting iot-server.\n",
      "adal==1.2.7\n",
      "aiofiles==0.8.0\n",
      "aiohttp==3.7.4.post0\n",
      "aiotask-context==0.6.1\n",
      "applicationinsights==0.11.10\n",
      "argcomplete==2.0.0\n",
      "arviz @ file:///tmp/build/80754af9/arviz_1614019183254/work\n",
      "async-timeout==3.0.1\n",
      "attrs==21.4.0\n",
      "azure-common==1.1.28\n",
      "azure-core==1.22.1\n",
      "azure-graphrbac==0.61.1\n",
      "azure-identity==1.7.0\n",
      "azure-mgmt-authorization==2.0.0\n",
      "azure-mgmt-containerregistry==9.1.0\n",
      "azure-mgmt-core==1.3.0\n",
      "azure-mgmt-keyvault==9.3.0\n",
      "azure-mgmt-resource==21.0.0\n",
      "azure-mgmt-storage==20.0.0\n",
      "azure-storage-queue==12.2.0\n",
      "azureml-automl-core==1.42.0.post1\n",
      "azureml-automl-runtime==1.42.0.post1\n",
      "azureml-core==1.42.0.post1\n",
      "azureml-dataprep==4.0.4\n",
      "azureml-dataprep-native==38.0.0\n",
      "azureml-dataprep-rslex==2.6.3\n",
      "azureml-dataset-runtime==1.42.0\n",
      "azureml-defaults==1.42.0\n",
      "azureml-inference-server-http==0.4.9\n",
      "azureml-interpret==1.42.0\n",
      "azureml-mlflow==1.42.0\n",
      "azureml-telemetry==1.42.0\n",
      "azureml-train-automl-client==1.42.0.post1\n",
      "azureml-train-automl-runtime==1.42.0.post1\n",
      "azureml-train-core==1.42.0\n",
      "azureml-train-restclients-hyperdrive==1.42.0\n",
      "azureml-training-tabular==1.42.0.post1\n",
      "backports.tempfile==1.0\n",
      "backports.weakref==1.0.post1\n",
      "bcrypt==3.2.2\n",
      "bokeh==2.4.3\n",
      "boto==2.49.0\n",
      "boto3==1.20.19\n",
      "botocore==1.23.19\n",
      "Brotli==1.0.9\n",
      "cachetools==5.2.0\n",
      "certifi @ file:///opt/conda/conda-bld/certifi_1655968806487/work/certifi\n",
      "cffi==1.15.1\n",
      "cftime @ file:///tmp/build/80754af9/cftime_1638345281172/work\n",
      "chardet==4.0.0\n",
      "charset-normalizer==2.1.0\n",
      "click==8.1.3\n",
      "cloudpickle==2.1.0\n",
      "configparser==3.7.4\n",
      "contextlib2==21.6.0\n",
      "convertdate @ file:///tmp/build/80754af9/convertdate_1634070773133/work\n",
      "cryptography==36.0.2\n",
      "cycler @ file:///tmp/build/80754af9/cycler_1637851556182/work\n",
      "Cython==0.29.17\n",
      "dask==2.30.0\n",
      "databricks-cli==0.17.0\n",
      "dataclasses==0.6\n",
      "dill==0.3.5.1\n",
      "distributed==2.30.1\n",
      "distro==1.7.0\n",
      "docker==5.0.3\n",
      "dotnetcore2==3.1.23\n",
      "entrypoints==0.4\n",
      "ephem @ file:///tmp/build/80754af9/ephem_1638960312619/work\n",
      "fbprophet @ file:///home/conda/feedstock_root/build_artifacts/fbprophet_1599365534439/work\n",
      "fire==0.4.0\n",
      "Flask==1.0.3\n",
      "flatbuffers==2.0\n",
      "fonttools==4.25.0\n",
      "fsspec==2022.5.0\n",
      "fusepy==3.0.1\n",
      "gensim==3.8.3\n",
      "gevent==21.12.0\n",
      "geventhttpclient==1.5.5\n",
      "gitdb==4.0.9\n",
      "GitPython==3.1.27\n",
      "google-api-core==2.8.2\n",
      "google-auth==2.9.0\n",
      "googleapis-common-protos==1.56.3\n",
      "greenlet==1.1.2\n",
      "grpcio==1.47.0\n",
      "grpcio-tools==1.38.1\n",
      "gunicorn==20.1.0\n",
      "HeapDict==1.0.1\n",
      "holidays @ file:///home/conda/feedstock_root/build_artifacts/holidays_1595448845196/work\n",
      "httptools==0.4.0\n",
      "humanfriendly==10.0\n",
      "idna==3.3\n",
      "importlib-metadata==4.12.0\n",
      "importlib-resources==5.8.0\n",
      "inference-schema==1.3.2\n",
      "interpret-community==0.25.0\n",
      "interpret-core==0.2.7\n",
      "isodate==0.6.1\n",
      "itsdangerous==1.1.0\n",
      "jeepney==0.8.0\n",
      "Jinja2==2.11.2\n",
      "jmespath==0.10.0\n",
      "joblib==0.14.1\n",
      "json-logging-py==0.2\n",
      "jsonpickle==2.2.0\n",
      "jsonschema==4.6.1\n",
      "keras2onnx==1.6.0\n",
      "kiwisolver @ file:///opt/conda/conda-bld/kiwisolver_1653292039266/work\n",
      "knack==0.9.0\n",
      "korean-lunar-calendar @ file:///tmp/build/80754af9/korean_lunar_calendar_1634063020401/work\n",
      "lightgbm==3.2.1\n",
      "llvmlite==0.36.0\n",
      "locket==1.0.0\n",
      "LunarCalendar @ file:///tmp/build/80754af9/lunarcalendar_1646383991234/work\n",
      "MarkupSafe==2.0.1\n",
      "matplotlib @ file:///tmp/build/80754af9/matplotlib-suite_1634667019719/work\n",
      "mkl-fft==1.3.0\n",
      "mkl-random==1.1.0\n",
      "mkl-service==2.3.0\n",
      "ml-wrappers==0.1.0\n",
      "mlflow-skinny==1.27.0\n",
      "msal==1.18.0\n",
      "msal-extensions==0.3.1\n",
      "msgpack==1.0.4\n",
      "msrest==0.6.21\n",
      "msrestazure==0.6.4\n",
      "multidict==5.2.0\n",
      "munkres==1.1.4\n",
      "ndg-httpsclient==0.5.1\n",
      "netCDF4==1.5.7\n",
      "nimbusml==1.8.0\n",
      "numba==0.53.1\n",
      "numpy==1.19.5\n",
      "oauthlib==3.2.0\n",
      "onnx==1.7.0\n",
      "onnxconverter-common==1.6.0\n",
      "onnxmltools==1.4.1\n",
      "onnxruntime==1.8.1\n",
      "opencensus==0.10.0\n",
      "opencensus-context==0.1.2\n",
      "opencensus-ext-azure==1.1.5\n",
      "packaging @ file:///tmp/build/80754af9/packaging_1637314298585/work\n",
      "pandas==1.1.5\n",
      "paramiko==2.11.0\n",
      "partd==1.2.0\n",
      "pathspec==0.9.0\n",
      "patsy==0.5.2\n",
      "Pillow==9.0.1\n",
      "pkginfo==1.8.3\n",
      "pmdarima==1.7.1\n",
      "portalocker==2.4.0\n",
      "protobuf==3.17.3\n",
      "psutil @ file:///tmp/build/80754af9/psutil_1612298016854/work\n",
      "pyarrow==3.0.0\n",
      "pyasn1==0.4.8\n",
      "pyasn1-modules==0.2.8\n",
      "pycparser==2.21\n",
      "Pygments==2.12.0\n",
      "PyJWT==2.4.0\n",
      "PyMeeus @ file:///tmp/build/80754af9/pymeeus_1634069098549/work\n",
      "PyNaCl==1.5.0\n",
      "pyOpenSSL==22.0.0\n",
      "pyparsing @ file:///tmp/build/80754af9/pyparsing_1635766073266/work\n",
      "pyrsistent==0.18.1\n",
      "PySocks==1.7.1\n",
      "pystan @ file:///tmp/build/80754af9/pystan_1613565226242/work\n",
      "python-dateutil @ file:///tmp/build/80754af9/python-dateutil_1626374649649/work\n",
      "python-rapidjson==1.6\n",
      "pytz @ file:///opt/conda/conda-bld/pytz_1654762638606/work\n",
      "PyYAML==6.0\n",
      "requests==2.28.1\n",
      "requests-oauthlib==1.3.1\n",
      "rsa==4.8\n",
      "s3transfer==0.5.2\n",
      "sanic==21.6.2\n",
      "Sanic-Cors==1.0.1\n",
      "sanic-plugin-toolkit==1.2.1\n",
      "sanic-routing==0.7.2\n",
      "scikit-learn==0.22.1\n",
      "scipy==1.5.2\n",
      "SecretStorage==3.3.2\n",
      "shap==0.39.0\n",
      "six @ file:///tmp/build/80754af9/six_1644875935023/work\n",
      "skl2onnx==1.4.9\n",
      "sklearn-pandas==1.7.0\n",
      "slicer==0.0.7\n",
      "smart-open==1.9.0\n",
      "smmap==5.0.0\n",
      "sortedcontainers==2.4.0\n",
      "statsmodels==0.11.1\n",
      "tabulate==0.8.10\n",
      "tblib==1.7.0\n",
      "termcolor==1.1.0\n",
      "toolz==0.11.2\n",
      "tornado @ file:///tmp/build/80754af9/tornado_1606942283357/work\n",
      "tqdm @ file:///opt/conda/conda-bld/tqdm_1650891076910/work\n",
      "tritonclient==2.11.0\n",
      "typing_extensions @ file:///opt/conda/conda-bld/typing_extensions_1647553014482/work\n",
      "ujson==5.4.0\n",
      "urllib3==1.26.9\n",
      "uvloop==0.16.0\n",
      "websocket-client==1.3.3\n",
      "websockets==10.3\n",
      "Werkzeug==2.1.2\n",
      "wrapt==1.12.1\n",
      "xarray @ file:///opt/conda/conda-bld/xarray_1639166117697/work\n",
      "xgboost==1.3.3\n",
      "yarl==1.7.2\n",
      "zict==2.2.0\n",
      "zipp==3.8.0\n",
      "zope.event==4.5.0\n",
      "zope.interface==5.4.0\n",
      "\n",
      "2022-07-06T11:11:08,479562691+00:00 | gunicorn/run | \n",
      "2022-07-06T11:11:08,481614891+00:00 | gunicorn/run | ###############################################\n",
      "2022-07-06T11:11:08,484812291+00:00 | gunicorn/run | AzureML Inference Server\n",
      "2022-07-06T11:11:08,488780891+00:00 | gunicorn/run | ###############################################\n",
      "2022-07-06T11:11:08,491138591+00:00 | gunicorn/run | \n",
      "2022-07-06T11:11:08,494996191+00:00 | gunicorn/run | \n",
      "2022-07-06T11:11:08,498966891+00:00 | gunicorn/run | Starting HTTP server\n",
      "2022-07-06T11:11:08,501226491+00:00 | gunicorn/run | \n",
      "Starting gunicorn 20.1.0\n",
      "Listening at: http://127.0.0.1:31311 (84)\n",
      "Using worker: sync\n",
      "worker timeout is set to 300\n",
      "Booting worker with pid: 144\n",
      "SPARK_HOME not set. Skipping PySpark Initialization.\n",
      "Initializing logger\n",
      "2022-07-06 11:11:10,361 | root | INFO | Starting up app insights client\n",
      "DeprecationWarning: Explicitly using instrumentation key isdeprecated. Please use a connection string instead.\n",
      "DeprecationWarning: Explicitly using instrumentation key isdeprecated. Please use a connection string instead.\n",
      "DeprecationWarning: Explicitly using instrumentation key isdeprecated. Please use a connection string instead.\n",
      "logging socket was found. logging is available.\n",
      "logging socket was found. logging is available.\n",
      "2022-07-06 11:11:10,375 | root | INFO | Starting up request id generator\n",
      "2022-07-06 11:11:10,376 | root | INFO | Starting up app insight hooks\n",
      "2022-07-06 11:11:10,376 | root | INFO | Invoking user's init function\n",
      "generated new fontManager\n",
      "Importing plotly failed. Interactive plots will not work.\n",
      "2022-07-06 11:11:18,216 | root | INFO | Users's init has completed successfully\n",
      "2022-07-06 11:11:18,235 | root | INFO | Skipping middleware: dbg_model_info as it's not enabled.\n",
      "2022-07-06 11:11:18,235 | root | INFO | Skipping middleware: dbg_resource_usage as it's not enabled.\n",
      "Generating swagger file: /tmp/tmpx9slecku\n",
      "2022-07-06 11:11:18,238 | root | INFO | Scoring timeout is found from os.environ: 60000 ms\n",
      "2022-07-06 11:11:27,770 | root | INFO | 200\n",
      "127.0.0.1 - - [06/Jul/2022:11:11:27 +0000] \"GET /swagger.json HTTP/1.0\" 200 3511 \"-\" \"Go-http-client/1.1\"\n",
      "\n"
     ]
    }
   ],
   "source": [
    "# Print the logs of the Web service\n",
    "logs = service.get_logs()\n",
    "for line in logs.split('\\n'):\n",
    "    print(line)"
   ]
  },
  {
   "cell_type": "markdown",
   "metadata": {},
   "source": [
    " # DELETE"
   ]
  },
  {
   "cell_type": "code",
   "execution_count": 99,
   "metadata": {},
   "outputs": [
    {
     "name": "stdout",
     "output_type": "stream",
     "text": [
      "Current provisioning state of AmlCompute is \"Deleting\"\n",
      "\n"
     ]
    }
   ],
   "source": [
    "# Remove the web service\n",
    "service.delete()\n",
    "\n",
    "# Remove the compute cluster\n",
    "compute_target.delete()"
   ]
  },
  {
   "cell_type": "markdown",
   "metadata": {},
   "source": [
    "**Submission Checklist**\n",
    "- I have registered the model.\n",
    "- I have deployed the model with the best accuracy as a webservice.\n",
    "- I have tested the webservice by sending a request to the model endpoint.\n",
    "- I have deleted the webservice and shutdown all the computes that I have used.\n",
    "- I have taken a screenshot showing the model endpoint as active.\n",
    "- The project includes a file containing the environment details.\n"
   ]
  },
  {
   "cell_type": "markdown",
   "metadata": {},
   "source": []
  }
 ],
 "metadata": {
  "kernel_info": {
   "name": "python3"
  },
  "kernelspec": {
   "display_name": "Python 3 (ipykernel)",
   "language": "python",
   "name": "python3"
  },
  "language_info": {
   "codemirror_mode": {
    "name": "ipython",
    "version": 3
   },
   "file_extension": ".py",
   "mimetype": "text/x-python",
   "name": "python",
   "nbconvert_exporter": "python",
   "pygments_lexer": "ipython3",
   "version": "3.8.5"
  },
  "nteract": {
   "version": "nteract-front-end@1.0.0"
  },
  "vscode": {
   "interpreter": {
    "hash": "6a926afa313b26ae1264fdcf81c726a97e69f6ba2ba780f6aa901948710f8d6e"
   }
  }
 },
 "nbformat": 4,
 "nbformat_minor": 2
}
