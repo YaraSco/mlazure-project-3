{
 "cells": [
  {
   "cell_type": "markdown",
   "metadata": {},
   "source": [
    "# Automated ML\n",
    "\n",
    "TODO: Import Dependencies. In the cell below, import all the dependencies that you will need to complete the project."
   ]
  },
  {
   "cell_type": "code",
   "execution_count": 3,
   "metadata": {
    "gather": {
     "logged": 1598423888013
    },
    "jupyter": {
     "outputs_hidden": false,
     "source_hidden": false
    },
    "nteract": {
     "transient": {
      "deleting": false
     }
    }
   },
   "outputs": [
    {
     "name": "stdout",
     "output_type": "stream",
     "text": [
      "SDK version: 1.42.0\n"
     ]
    }
   ],
   "source": [
    "import logging\n",
    "import os\n",
    "import joblib\n",
    "import math\n",
    "import pandas as pd\n",
    "import datetime\n",
    "import azureml.core\n",
    "import azureml.automl\n",
    "\n",
    "from azureml.core.experiment import Experiment\n",
    "from azureml.core.workspace import Workspace\n",
    "from azureml.train.automl import AutoMLConfig\n",
    "from azureml.core.dataset import Dataset\n",
    "\n",
    "from azureml.core.compute import ComputeTarget, AmlCompute\n",
    "from azureml.core.compute_target import ComputeTargetException\n",
    "\n",
    "from azureml.widgets import RunDetails\n",
    "\n",
    "from azureml.core.environment import Environment\n",
    "from azureml.automl.core.shared import constants\n",
    "\n",
    "from azureml.core.model import InferenceConfig\n",
    "from azureml.core.webservice import AciWebservice\n",
    "from azureml.core.model import Model\n",
    "\n",
    "from inference.utils import align_outputs\n",
    "\n",
    "# Check core SDK version number\n",
    "print(\"SDK version:\", azureml.core.VERSION)"
   ]
  },
  {
   "cell_type": "markdown",
   "metadata": {},
   "source": [
    "## Dataset\n",
    "\n",
    "### Overview\n",
    "TODO: In this markdown cell, give an overview of the dataset you are using. Also mention the task you will be performing.\n",
    "\n",
    "\n",
    "TODO: Get data. In the cell below, write code to access the data you will be using in this project. Remember that the dataset needs to be external."
   ]
  },
  {
   "cell_type": "code",
   "execution_count": 4,
   "metadata": {
    "gather": {
     "logged": 1598423890461
    },
    "jupyter": {
     "outputs_hidden": false,
     "source_hidden": false
    },
    "nteract": {
     "transient": {
      "deleting": false
     }
    }
   },
   "outputs": [
    {
     "name": "stdout",
     "output_type": "stream",
     "text": [
      "quick-starts-ws-199690\n",
      "aml-quickstarts-199690\n",
      "southcentralus\n",
      "3d1a56d2-7c81-4118-9790-f85d1acf0c77\n"
     ]
    }
   ],
   "source": [
    "ws = Workspace.from_config()\n",
    "print(ws.name, ws.resource_group, ws.location, ws.subscription_id, sep = '\\n')\n",
    "\n",
    "# choose a name for experiment\n",
    "experiment_name = 'automl-forecast'\n",
    "\n",
    "experiment=Experiment(ws, experiment_name)"
   ]
  },
  {
   "cell_type": "code",
   "execution_count": 5,
   "metadata": {},
   "outputs": [
    {
     "name": "stdout",
     "output_type": "stream",
     "text": [
      "A new compute target has been created.\n",
      "InProgress.\n",
      "SucceededProvisioning operation finished, operation \"Succeeded\"\n",
      "Succeeded\n",
      "AmlCompute wait for completion finished\n",
      "\n",
      "Minimum number of nodes requested have been provisioned\n"
     ]
    }
   ],
   "source": [
    "# Create or attach a compute cluster\n",
    "cluster_name = \"canina-cluster\"\n",
    "\n",
    "try:\n",
    "    compute_target = ComputeTarget(workspace=ws, name=cluster_name)\n",
    "    print('This compute target already exists.')\n",
    "except ComputeTargetException:\n",
    "    compute_config = AmlCompute.provisioning_configuration(vm_size=\"Standard_D2_V2\",\n",
    "                                                          max_nodes=4)\n",
    "    compute_target = ComputeTarget.create(ws, cluster_name, compute_config)\n",
    "    print('A new compute target has been created.')\n",
    "    \n",
    "compute_target.wait_for_completion(show_output=True, min_node_count=0, timeout_in_minutes=10)"
   ]
  },
  {
   "cell_type": "code",
   "execution_count": 6,
   "metadata": {},
   "outputs": [],
   "source": [
    "DATA_DIR = os.path.join(os.path.abspath(os.getcwd()), \"ojdata\")\n",
    "LAST_WEEK = 138\n",
    "NUM_WEEK_TEST = 3\n",
    "time_column_name = \"week_start\"\n",
    "grain_column_names = [\"store\", \"brand\"]\n",
    "target = \"move\"\n",
    "\n",
    "# The start datetime of the first week in the record\n",
    "FIRST_WEEK_START = pd.to_datetime(\"1989-09-14 00:00:00\")\n",
    "\n",
    "df = pd.read_csv(os.path.join(DATA_DIR, \"yx.csv\"))\n",
    "df = df.loc[df.week <= LAST_WEEK]"
   ]
  },
  {
   "cell_type": "code",
   "execution_count": 7,
   "metadata": {},
   "outputs": [],
   "source": [
    "# Convert logarithm of the unit sales to unit sales\n",
    "df[\"move\"] = df[\"logmove\"].apply(lambda x: round(math.exp(x)))\n",
    "\n",
    "# Add timestamp column\n",
    "df[\"week_start\"] = df[\"week\"].apply(lambda x: FIRST_WEEK_START + datetime.timedelta(days=(x - 1) * 7))"
   ]
  },
  {
   "cell_type": "code",
   "execution_count": 8,
   "metadata": {},
   "outputs": [],
   "source": [
    "# Split data into training and test sets\n",
    "\n",
    "def split_last_n_by_grain(df, n):\n",
    "    \"\"\"Group df by grain and split on last n rows for each group.\"\"\"\n",
    "    df_grouped = df.sort_values(time_column_name).groupby(\n",
    "        grain_column_names, group_keys=False\n",
    "    )\n",
    "    df_head = df_grouped.apply(lambda dfg: dfg.iloc[:-n])\n",
    "    df_tail = df_grouped.apply(lambda dfg: dfg.iloc[-n:])\n",
    "    return df_head, df_tail\n",
    "\n",
    "\n",
    "train_df, test_df = split_last_n_by_grain(df, NUM_WEEK_TEST)\n",
    "train_df.drop(\"logmove\", axis=1, inplace=True)\n",
    "train_df.reset_index(drop=True)\n",
    "test_df.reset_index(drop=True)\n",
    "\n",
    "local_data_paths = [\n",
    "    os.path.join(DATA_DIR, \"train_automl.csv\"),\n",
    "    os.path.join(DATA_DIR, \"test_automl.csv\")\n",
    "]\n",
    "\n",
    "train_df.to_csv(local_data_paths[0], index=None, header=True)\n",
    "test_df.to_csv(local_data_paths[1], index=None, header=True)"
   ]
  },
  {
   "cell_type": "code",
   "execution_count": 9,
   "metadata": {},
   "outputs": [
    {
     "name": "stderr",
     "output_type": "stream",
     "text": [
      "\"datastore.upload_files\" is deprecated after version 1.0.69. Please use \"FileDatasetFactory.upload_directory\" instead. See Dataset API change notice at https://aka.ms/dataset-deprecation.\n"
     ]
    },
    {
     "data": {
      "text/plain": [
       "$AZUREML_DATAREFERENCE_632e3f4bd8e6464aa470496000fe0f24"
      ]
     },
     "execution_count": 9,
     "metadata": {},
     "output_type": "execute_result"
    }
   ],
   "source": [
    "# Upload data to datastore\n",
    "\n",
    "ds = ws.get_default_datastore()\n",
    "ds.upload_files(\n",
    "    files=local_data_paths, \n",
    "    target_path=\"dataset/\", \n",
    "    overwrite=True, \n",
    "    show_progress=False)"
   ]
  },
  {
   "cell_type": "code",
   "execution_count": 10,
   "metadata": {},
   "outputs": [],
   "source": [
    "train_dataset = Dataset.Tabular.from_delimited_files(path=ds.path(\"dataset/train_automl.csv\"))"
   ]
  },
  {
   "cell_type": "code",
   "execution_count": 11,
   "metadata": {},
   "outputs": [
    {
     "data": {
      "text/html": [
       "<div>\n",
       "<style scoped>\n",
       "    .dataframe tbody tr th:only-of-type {\n",
       "        vertical-align: middle;\n",
       "    }\n",
       "\n",
       "    .dataframe tbody tr th {\n",
       "        vertical-align: top;\n",
       "    }\n",
       "\n",
       "    .dataframe thead th {\n",
       "        text-align: right;\n",
       "    }\n",
       "</style>\n",
       "<table border=\"1\" class=\"dataframe\">\n",
       "  <thead>\n",
       "    <tr style=\"text-align: right;\">\n",
       "      <th></th>\n",
       "      <th>store</th>\n",
       "      <th>brand</th>\n",
       "      <th>week</th>\n",
       "      <th>constant</th>\n",
       "      <th>price1</th>\n",
       "      <th>price2</th>\n",
       "      <th>price3</th>\n",
       "      <th>price4</th>\n",
       "      <th>price5</th>\n",
       "      <th>price6</th>\n",
       "      <th>price7</th>\n",
       "      <th>price8</th>\n",
       "      <th>price9</th>\n",
       "      <th>price10</th>\n",
       "      <th>price11</th>\n",
       "      <th>deal</th>\n",
       "      <th>feat</th>\n",
       "      <th>profit</th>\n",
       "      <th>move</th>\n",
       "      <th>week_start</th>\n",
       "    </tr>\n",
       "  </thead>\n",
       "  <tbody>\n",
       "    <tr>\n",
       "      <th>0</th>\n",
       "      <td>2</td>\n",
       "      <td>1</td>\n",
       "      <td>40</td>\n",
       "      <td>1</td>\n",
       "      <td>0.060469</td>\n",
       "      <td>0.060497</td>\n",
       "      <td>0.042031</td>\n",
       "      <td>0.029531</td>\n",
       "      <td>0.049531</td>\n",
       "      <td>0.053021</td>\n",
       "      <td>0.038906</td>\n",
       "      <td>0.041406</td>\n",
       "      <td>0.028906</td>\n",
       "      <td>0.024844</td>\n",
       "      <td>0.038984</td>\n",
       "      <td>1</td>\n",
       "      <td>0.0</td>\n",
       "      <td>37.992326</td>\n",
       "      <td>8256</td>\n",
       "      <td>1990-06-14</td>\n",
       "    </tr>\n",
       "    <tr>\n",
       "      <th>1</th>\n",
       "      <td>2</td>\n",
       "      <td>1</td>\n",
       "      <td>46</td>\n",
       "      <td>1</td>\n",
       "      <td>0.060469</td>\n",
       "      <td>0.060312</td>\n",
       "      <td>0.045156</td>\n",
       "      <td>0.046719</td>\n",
       "      <td>0.049531</td>\n",
       "      <td>0.047813</td>\n",
       "      <td>0.045781</td>\n",
       "      <td>0.027969</td>\n",
       "      <td>0.042969</td>\n",
       "      <td>0.042031</td>\n",
       "      <td>0.038984</td>\n",
       "      <td>0</td>\n",
       "      <td>0.0</td>\n",
       "      <td>30.126667</td>\n",
       "      <td>6144</td>\n",
       "      <td>1990-07-26</td>\n",
       "    </tr>\n",
       "    <tr>\n",
       "      <th>2</th>\n",
       "      <td>2</td>\n",
       "      <td>1</td>\n",
       "      <td>47</td>\n",
       "      <td>1</td>\n",
       "      <td>0.060469</td>\n",
       "      <td>0.060312</td>\n",
       "      <td>0.045156</td>\n",
       "      <td>0.046719</td>\n",
       "      <td>0.037344</td>\n",
       "      <td>0.053021</td>\n",
       "      <td>0.045781</td>\n",
       "      <td>0.041406</td>\n",
       "      <td>0.048125</td>\n",
       "      <td>0.032656</td>\n",
       "      <td>0.038984</td>\n",
       "      <td>0</td>\n",
       "      <td>0.0</td>\n",
       "      <td>30.000000</td>\n",
       "      <td>3840</td>\n",
       "      <td>1990-08-02</td>\n",
       "    </tr>\n",
       "    <tr>\n",
       "      <th>3</th>\n",
       "      <td>2</td>\n",
       "      <td>1</td>\n",
       "      <td>48</td>\n",
       "      <td>1</td>\n",
       "      <td>0.060469</td>\n",
       "      <td>0.060312</td>\n",
       "      <td>0.049844</td>\n",
       "      <td>0.037344</td>\n",
       "      <td>0.049531</td>\n",
       "      <td>0.053021</td>\n",
       "      <td>0.045781</td>\n",
       "      <td>0.041406</td>\n",
       "      <td>0.042344</td>\n",
       "      <td>0.032656</td>\n",
       "      <td>0.038984</td>\n",
       "      <td>0</td>\n",
       "      <td>0.0</td>\n",
       "      <td>29.950000</td>\n",
       "      <td>8000</td>\n",
       "      <td>1990-08-09</td>\n",
       "    </tr>\n",
       "    <tr>\n",
       "      <th>4</th>\n",
       "      <td>2</td>\n",
       "      <td>1</td>\n",
       "      <td>50</td>\n",
       "      <td>1</td>\n",
       "      <td>0.060469</td>\n",
       "      <td>0.060312</td>\n",
       "      <td>0.043594</td>\n",
       "      <td>0.031094</td>\n",
       "      <td>0.049531</td>\n",
       "      <td>0.053021</td>\n",
       "      <td>0.046648</td>\n",
       "      <td>0.041406</td>\n",
       "      <td>0.042344</td>\n",
       "      <td>0.032656</td>\n",
       "      <td>0.038203</td>\n",
       "      <td>0</td>\n",
       "      <td>0.0</td>\n",
       "      <td>29.920000</td>\n",
       "      <td>8896</td>\n",
       "      <td>1990-08-23</td>\n",
       "    </tr>\n",
       "  </tbody>\n",
       "</table>\n",
       "</div>"
      ],
      "text/plain": [
       "   store  brand  week  constant    price1    price2    price3    price4  \\\n",
       "0      2      1    40         1  0.060469  0.060497  0.042031  0.029531   \n",
       "1      2      1    46         1  0.060469  0.060312  0.045156  0.046719   \n",
       "2      2      1    47         1  0.060469  0.060312  0.045156  0.046719   \n",
       "3      2      1    48         1  0.060469  0.060312  0.049844  0.037344   \n",
       "4      2      1    50         1  0.060469  0.060312  0.043594  0.031094   \n",
       "\n",
       "     price5    price6    price7    price8    price9   price10   price11  deal  \\\n",
       "0  0.049531  0.053021  0.038906  0.041406  0.028906  0.024844  0.038984     1   \n",
       "1  0.049531  0.047813  0.045781  0.027969  0.042969  0.042031  0.038984     0   \n",
       "2  0.037344  0.053021  0.045781  0.041406  0.048125  0.032656  0.038984     0   \n",
       "3  0.049531  0.053021  0.045781  0.041406  0.042344  0.032656  0.038984     0   \n",
       "4  0.049531  0.053021  0.046648  0.041406  0.042344  0.032656  0.038203     0   \n",
       "\n",
       "   feat     profit  move week_start  \n",
       "0   0.0  37.992326  8256 1990-06-14  \n",
       "1   0.0  30.126667  6144 1990-07-26  \n",
       "2   0.0  30.000000  3840 1990-08-02  \n",
       "3   0.0  29.950000  8000 1990-08-09  \n",
       "4   0.0  29.920000  8896 1990-08-23  "
      ]
     },
     "execution_count": 11,
     "metadata": {},
     "output_type": "execute_result"
    }
   ],
   "source": [
    "# Visualize the first five lines of the training dataset\n",
    "\n",
    "train_dataset.to_pandas_dataframe().head(5)"
   ]
  },
  {
   "cell_type": "markdown",
   "metadata": {},
   "source": [
    "## AutoML Configuration\n",
    "\n",
    "TODO: Explain why you chose the automl settings and cofiguration you used below."
   ]
  },
  {
   "cell_type": "code",
   "execution_count": 12,
   "metadata": {
    "gather": {
     "logged": 1598429217746
    },
    "jupyter": {
     "outputs_hidden": false,
     "source_hidden": false
    },
    "nteract": {
     "transient": {
      "deleting": false
     }
    }
   },
   "outputs": [],
   "source": [
    "# Forecast settings\n",
    "forecast_settings = {\n",
    "    \"time_column_name\": time_column_name,\n",
    "    \"grain_column_names\": grain_column_names,\n",
    "    \"max_horizon\": NUM_WEEK_TEST\n",
    "}\n",
    "# Automl settings \n",
    "automl_settings = {\n",
    "    \"experiment_timeout_hours\" : 1.2,\n",
    "    \"primary_metric\" : \"normalized_mean_absolute_error\",\n",
    "    \"n_cross_validations\" : 3\n",
    "}\n",
    "\n",
    "# Automl config \n",
    "automl_config = AutoMLConfig(\n",
    "    task=\"forecasting\",\n",
    "    debug_log=\"automl_errors.log\",\n",
    "    training_data=train_dataset,\n",
    "    label_column_name=target,\n",
    "    compute_target=compute_target,\n",
    "    enable_early_stopping=True,\n",
    "    verbosity=logging.INFO,\n",
    "    **automl_settings,\n",
    "    **forecast_settings\n",
    ")"
   ]
  },
  {
   "cell_type": "code",
   "execution_count": 13,
   "metadata": {
    "gather": {
     "logged": 1598431107951
    },
    "jupyter": {
     "outputs_hidden": false,
     "source_hidden": false
    },
    "nteract": {
     "transient": {
      "deleting": false
     }
    }
   },
   "outputs": [
    {
     "name": "stdout",
     "output_type": "stream",
     "text": [
      "Submitting remote run.\n",
      "No run_configuration provided, running on canina-cluster with default configuration\n",
      "Running on remote compute: canina-cluster\n"
     ]
    },
    {
     "data": {
      "text/html": [
       "<table style=\"width:100%\"><tr><th>Experiment</th><th>Id</th><th>Type</th><th>Status</th><th>Details Page</th><th>Docs Page</th></tr><tr><td>automl-forecast</td><td>AutoML_fad18826-43dd-4bbc-b521-accc8cb32cb6</td><td>automl</td><td>NotStarted</td><td><a href=\"https://ml.azure.com/runs/AutoML_fad18826-43dd-4bbc-b521-accc8cb32cb6?wsid=/subscriptions/3d1a56d2-7c81-4118-9790-f85d1acf0c77/resourcegroups/aml-quickstarts-199690/workspaces/quick-starts-ws-199690&amp;tid=660b3398-b80e-49d2-bc5b-ac1dc93b5254\" target=\"_blank\" rel=\"noopener\">Link to Azure Machine Learning studio</a></td><td><a href=\"https://docs.microsoft.com/en-us/python/api/overview/azure/ml/intro?view=azure-ml-py\" target=\"_blank\" rel=\"noopener\">Link to Documentation</a></td></tr></table>"
      ],
      "text/plain": [
       "<IPython.core.display.HTML object>"
      ]
     },
     "metadata": {},
     "output_type": "display_data"
    },
    {
     "name": "stdout",
     "output_type": "stream",
     "text": [
      "\n",
      "Current status: DatasetFeaturization. Beginning to featurize the dataset.\n",
      "Current status: DatasetCrossValidationSplit. Generating individually featurized CV splits.\n",
      "Current status: DatasetFeaturization. Beginning to featurize the CV split.\n",
      "Current status: DatasetFeaturizationCompleted. Completed featurizing the CV split.\n",
      "Current status: DatasetFeaturization. Beginning to featurize the CV split.\n",
      "Current status: DatasetFeaturizationCompleted. Completed featurizing the CV split.\n",
      "Current status: DatasetFeaturization. Beginning to featurize the CV split.\n",
      "Current status: DatasetFeaturizationCompleted. Completed featurizing the CV split.\n",
      "Current status: ModelSelection. Beginning model selection.\n",
      "\n",
      "********************************************************************************************\n",
      "DATA GUARDRAILS: \n",
      "\n",
      "TYPE:         Time Series ID detection\n",
      "STATUS:       PASSED\n",
      "DESCRIPTION:  The data set was analyzed, and no duplicate time index were detected.\n",
      "              Learn more about time-series forecasting configurations: https://aka.ms/AutomatedMLForecastingConfiguration\n",
      "\n",
      "********************************************************************************************\n",
      "\n",
      "TYPE:         Frequency detection\n",
      "STATUS:       PASSED\n",
      "DESCRIPTION:  The time series was analyzed, all data points are aligned with detected frequency.\n",
      "              \n",
      "\n",
      "********************************************************************************************\n",
      "\n",
      "TYPE:         Missing feature values imputation\n",
      "STATUS:       PASSED\n",
      "DESCRIPTION:  No feature missing values were detected in the training data.\n",
      "              Learn more about missing value imputation: https://aka.ms/AutomatedMLFeaturization\n",
      "\n",
      "********************************************************************************************\n",
      "\n",
      "TYPE:         Short series handling\n",
      "STATUS:       PASSED\n",
      "DESCRIPTION:  Automated ML detected enough data points for each series in the input data to continue with training.\n",
      "              \n",
      "\n",
      "********************************************************************************************\n",
      "\n",
      "********************************************************************************************\n",
      "ITER: The iteration being evaluated.\n",
      "PIPELINE: A summary description of the pipeline being evaluated.\n",
      "DURATION: Time taken for the current iteration.\n",
      "METRIC: The result of computing score on the fitted pipeline.\n",
      "BEST: The best observed score thus far.\n",
      "********************************************************************************************\n",
      "\n",
      " ITER   PIPELINE                                       DURATION            METRIC      BEST\n",
      "    0    Naive                                         0:00:59             0.1268    0.1268\n",
      "    1    SeasonalNaive                                 0:00:58             0.1650    0.1268\n",
      "    2    Average                                       0:00:58             0.1157    0.1157\n",
      "    3    SeasonalAverage                               0:00:58             0.1302    0.1157\n",
      "    4    ExponentialSmoothing                          1:12:02                nan    0.1157\n",
      "    5                                                  1:16:37                nan    0.1157\n",
      "    6                                                  1:16:36                nan    0.1157\n",
      "    7                                                  1:16:36                nan    0.1157\n",
      "    8                                                  1:16:35                nan    0.1157\n",
      "    9                                                  1:16:35                nan    0.1157\n",
      "   10                                                  1:16:35                nan    0.1157\n",
      "   11                                                  1:16:34                nan    0.1157\n",
      "   12                                                  1:16:34                nan    0.1157\n",
      "   13                                                  1:16:33                nan    0.1157\n",
      "   14                                                  1:16:33                nan    0.1157\n",
      "   15                                                  1:16:32                nan    0.1157\n",
      "   16                                                  1:16:32                nan    0.1157\n",
      "   17                                                  1:16:32                nan    0.1157\n",
      "   18                                                  1:16:32                nan    0.1157\n",
      "   19                                                  1:16:31                nan    0.1157\n",
      "   20    VotingEnsemble                                0:00:34             0.1096    0.1096\n"
     ]
    }
   ],
   "source": [
    "# Submit the experiment\n",
    "remote_run = experiment.submit(automl_config, show_output=True)"
   ]
  },
  {
   "cell_type": "markdown",
   "metadata": {},
   "source": [
    "## Run Details\n",
    "\n",
    "OPTIONAL: Write about the different models trained and their performance. Why do you think some models did better than others?\n",
    "\n",
    "TODO: In the cell below, use the `RunDetails` widget to show the different experiments."
   ]
  },
  {
   "cell_type": "code",
   "execution_count": 14,
   "metadata": {
    "gather": {
     "logged": 1598431121770
    },
    "jupyter": {
     "outputs_hidden": false,
     "source_hidden": false
    },
    "nteract": {
     "transient": {
      "deleting": false
     }
    }
   },
   "outputs": [
    {
     "data": {
      "application/vnd.jupyter.widget-view+json": {
       "model_id": "659c8894571444c0b31dfffe1ccb6fe2",
       "version_major": 2,
       "version_minor": 0
      },
      "text/plain": [
       "_AutoMLWidget(widget_settings={'childWidgetDisplay': 'popup', 'send_telemetry': False, 'log_level': 'INFO', 's…"
      ]
     },
     "metadata": {},
     "output_type": "display_data"
    },
    {
     "data": {
      "application/aml.mini.widget.v1": "{\"status\": \"Completed\", \"workbench_run_details_uri\": \"https://ml.azure.com/runs/AutoML_fad18826-43dd-4bbc-b521-accc8cb32cb6?wsid=/subscriptions/3d1a56d2-7c81-4118-9790-f85d1acf0c77/resourcegroups/aml-quickstarts-199690/workspaces/quick-starts-ws-199690&tid=660b3398-b80e-49d2-bc5b-ac1dc93b5254\", \"run_id\": \"AutoML_fad18826-43dd-4bbc-b521-accc8cb32cb6\", \"run_properties\": {\"run_id\": \"AutoML_fad18826-43dd-4bbc-b521-accc8cb32cb6\", \"created_utc\": \"2022-06-28T13:33:18.128925Z\", \"properties\": {\"num_iterations\": \"1000\", \"training_type\": \"TrainFull\", \"acquisition_function\": \"EI\", \"primary_metric\": \"normalized_mean_absolute_error\", \"train_split\": \"0\", \"acquisition_parameter\": \"0\", \"num_cross_validation\": \"3\", \"target\": \"canina-cluster\", \"AMLSettingsJsonString\": \"{\\\"path\\\":null,\\\"name\\\":\\\"automl-forecast\\\",\\\"subscription_id\\\":\\\"3d1a56d2-7c81-4118-9790-f85d1acf0c77\\\",\\\"resource_group\\\":\\\"aml-quickstarts-199690\\\",\\\"workspace_name\\\":\\\"quick-starts-ws-199690\\\",\\\"region\\\":\\\"southcentralus\\\",\\\"compute_target\\\":\\\"canina-cluster\\\",\\\"spark_service\\\":null,\\\"azure_service\\\":\\\"remote\\\",\\\"many_models\\\":false,\\\"pipeline_fetch_max_batch_size\\\":1,\\\"enable_batch_run\\\":true,\\\"enable_run_restructure\\\":false,\\\"start_auxiliary_runs_before_parent_complete\\\":false,\\\"enable_code_generation\\\":true,\\\"iterations\\\":1000,\\\"primary_metric\\\":\\\"normalized_mean_absolute_error\\\",\\\"task_type\\\":\\\"regression\\\",\\\"positive_label\\\":null,\\\"data_script\\\":null,\\\"test_size\\\":0.0,\\\"test_include_predictions_only\\\":false,\\\"validation_size\\\":0.0,\\\"n_cross_validations\\\":3,\\\"y_min\\\":null,\\\"y_max\\\":null,\\\"num_classes\\\":null,\\\"featurization\\\":\\\"auto\\\",\\\"_ignore_package_version_incompatibilities\\\":false,\\\"is_timeseries\\\":true,\\\"max_cores_per_iteration\\\":1,\\\"max_concurrent_iterations\\\":1,\\\"iteration_timeout_minutes\\\":null,\\\"mem_in_mb\\\":null,\\\"enforce_time_on_windows\\\":false,\\\"experiment_timeout_minutes\\\":72,\\\"experiment_exit_score\\\":null,\\\"partition_column_names\\\":null,\\\"whitelist_models\\\":null,\\\"blacklist_algos\\\":[\\\"TensorFlowDNN\\\",\\\"TensorFlowLinearRegressor\\\"],\\\"supported_models\\\":[\\\"LightGBM\\\",\\\"TensorFlowDNN\\\",\\\"ElasticNet\\\",\\\"XGBoostRegressor\\\",\\\"Naive\\\",\\\"DecisionTree\\\",\\\"SeasonalNaive\\\",\\\"KNN\\\",\\\"GradientBoosting\\\",\\\"TabnetRegressor\\\",\\\"SeasonalAverage\\\",\\\"ExponentialSmoothing\\\",\\\"LassoLars\\\",\\\"AutoArima\\\",\\\"TCNForecaster\\\",\\\"TensorFlowLinearRegressor\\\",\\\"RandomForest\\\",\\\"Average\\\",\\\"SGD\\\",\\\"ExtremeRandomTrees\\\",\\\"Arimax\\\",\\\"Prophet\\\"],\\\"private_models\\\":[],\\\"auto_blacklist\\\":true,\\\"blacklist_samples_reached\\\":false,\\\"exclude_nan_labels\\\":true,\\\"verbosity\\\":20,\\\"_debug_log\\\":\\\"azureml_automl.log\\\",\\\"show_warnings\\\":false,\\\"model_explainability\\\":true,\\\"service_url\\\":null,\\\"sdk_url\\\":null,\\\"sdk_packages\\\":null,\\\"enable_onnx_compatible_models\\\":false,\\\"enable_split_onnx_featurizer_estimator_models\\\":false,\\\"vm_type\\\":\\\"STANDARD_D2_V2\\\",\\\"telemetry_verbosity\\\":20,\\\"send_telemetry\\\":true,\\\"enable_dnn\\\":false,\\\"scenario\\\":\\\"SDK-1.13.0\\\",\\\"environment_label\\\":null,\\\"save_mlflow\\\":false,\\\"enable_categorical_indicators\\\":false,\\\"force_text_dnn\\\":false,\\\"enable_feature_sweeping\\\":false,\\\"time_column_name\\\":\\\"week_start\\\",\\\"grain_column_names\\\":[\\\"store\\\",\\\"brand\\\"],\\\"drop_column_names\\\":[],\\\"max_horizon\\\":3,\\\"dropna\\\":false,\\\"overwrite_columns\\\":true,\\\"transform_dictionary\\\":{\\\"min\\\":\\\"_automl_target_col\\\",\\\"max\\\":\\\"_automl_target_col\\\",\\\"mean\\\":\\\"_automl_target_col\\\"},\\\"window_size\\\":null,\\\"country_or_region\\\":null,\\\"lags\\\":null,\\\"feature_lags\\\":null,\\\"seasonality\\\":\\\"auto\\\",\\\"use_stl\\\":null,\\\"short_series_handling\\\":true,\\\"freq\\\":null,\\\"short_series_handling_configuration\\\":\\\"auto\\\",\\\"target_aggregation_function\\\":null,\\\"cv_step_size\\\":1,\\\"has_multiple_series\\\":true,\\\"enable_early_stopping\\\":true,\\\"early_stopping_n_iters\\\":10,\\\"arguments\\\":null,\\\"dataset_id\\\":\\\"e09edf01-29d1-4350-a2a5-a238b286c56a\\\",\\\"hyperdrive_config\\\":null,\\\"validation_dataset_id\\\":null,\\\"run_source\\\":null,\\\"metrics\\\":null,\\\"enable_metric_confidence\\\":false,\\\"enable_ensembling\\\":true,\\\"enable_stack_ensembling\\\":false,\\\"ensemble_iterations\\\":15,\\\"enable_tf\\\":false,\\\"enable_subsampling\\\":false,\\\"subsample_seed\\\":null,\\\"enable_nimbusml\\\":false,\\\"enable_streaming\\\":false,\\\"force_streaming\\\":false,\\\"track_child_runs\\\":true,\\\"allowed_private_models\\\":[],\\\"label_column_name\\\":\\\"move\\\",\\\"weight_column_name\\\":null,\\\"cv_split_column_names\\\":null,\\\"enable_local_managed\\\":false,\\\"_local_managed_run_id\\\":null,\\\"cost_mode\\\":1,\\\"lag_length\\\":0,\\\"metric_operation\\\":\\\"minimize\\\",\\\"preprocess\\\":true}\", \"DataPrepJsonString\": \"{\\\\\\\"training_data\\\\\\\": {\\\\\\\"datasetId\\\\\\\": \\\\\\\"e09edf01-29d1-4350-a2a5-a238b286c56a\\\\\\\"}, \\\\\\\"datasets\\\\\\\": 0}\", \"EnableSubsampling\": \"False\", \"runTemplate\": \"AutoML\", \"azureml.runsource\": \"automl\", \"display_task_type\": \"forecasting\", \"dependencies_versions\": \"{\\\"azureml-widgets\\\": \\\"1.42.0\\\", \\\"azureml-training-tabular\\\": \\\"1.42.0\\\", \\\"azureml-train\\\": \\\"1.42.0\\\", \\\"azureml-train-restclients-hyperdrive\\\": \\\"1.42.0\\\", \\\"azureml-train-core\\\": \\\"1.42.0\\\", \\\"azureml-train-automl\\\": \\\"1.42.0\\\", \\\"azureml-train-automl-runtime\\\": \\\"1.42.0\\\", \\\"azureml-train-automl-client\\\": \\\"1.42.0\\\", \\\"azureml-tensorboard\\\": \\\"1.42.0\\\", \\\"azureml-telemetry\\\": \\\"1.42.0\\\", \\\"azureml-sdk\\\": \\\"1.42.0\\\", \\\"azureml-samples\\\": \\\"0+unknown\\\", \\\"azureml-responsibleai\\\": \\\"1.42.0\\\", \\\"azureml-pipeline\\\": \\\"1.42.0\\\", \\\"azureml-pipeline-steps\\\": \\\"1.42.0\\\", \\\"azureml-pipeline-core\\\": \\\"1.42.0\\\", \\\"azureml-opendatasets\\\": \\\"1.42.0\\\", \\\"azureml-mlflow\\\": \\\"1.42.0\\\", \\\"azureml-interpret\\\": \\\"1.42.0\\\", \\\"azureml-inference-server-http\\\": \\\"0.4.13\\\", \\\"azureml-explain-model\\\": \\\"1.42.0\\\", \\\"azureml-defaults\\\": \\\"1.42.0\\\", \\\"azureml-dataset-runtime\\\": \\\"1.42.0\\\", \\\"azureml-dataprep\\\": \\\"4.0.1\\\", \\\"azureml-dataprep-rslex\\\": \\\"2.6.1\\\", \\\"azureml-dataprep-native\\\": \\\"38.0.0\\\", \\\"azureml-datadrift\\\": \\\"1.42.0\\\", \\\"azureml-core\\\": \\\"1.42.0\\\", \\\"azureml-contrib-services\\\": \\\"1.42.0\\\", \\\"azureml-contrib-server\\\": \\\"1.42.0\\\", \\\"azureml-contrib-reinforcementlearning\\\": \\\"1.42.0\\\", \\\"azureml-contrib-pipeline-steps\\\": \\\"1.42.0\\\", \\\"azureml-contrib-notebook\\\": \\\"1.42.0\\\", \\\"azureml-contrib-fairness\\\": \\\"1.42.0\\\", \\\"azureml-contrib-dataset\\\": \\\"1.42.0\\\", \\\"azureml-contrib-automl-pipeline-steps\\\": \\\"1.42.0\\\", \\\"azureml-cli-common\\\": \\\"1.42.0\\\", \\\"azureml-automl-runtime\\\": \\\"1.42.0\\\", \\\"azureml-automl-dnn-nlp\\\": \\\"1.42.0\\\", \\\"azureml-automl-core\\\": \\\"1.42.0\\\", \\\"azureml-accel-models\\\": \\\"1.42.0\\\"}\", \"_aml_system_scenario_identification\": \"Remote.Parent\", \"ClientType\": \"SDK\", \"environment_cpu_name\": \"AzureML-AutoML\", \"environment_cpu_label\": \"prod\", \"environment_gpu_name\": \"AzureML-AutoML-GPU\", \"environment_gpu_label\": \"prod\", \"root_attribution\": \"automl\", \"attribution\": \"AutoML\", \"Orchestrator\": \"AutoML\", \"CancelUri\": \"https://southcentralus.api.azureml.ms/jasmine/v1.0/subscriptions/3d1a56d2-7c81-4118-9790-f85d1acf0c77/resourceGroups/aml-quickstarts-199690/providers/Microsoft.MachineLearningServices/workspaces/quick-starts-ws-199690/experimentids/03108020-69ae-456f-a979-d65c94aff73b/cancel/AutoML_fad18826-43dd-4bbc-b521-accc8cb32cb6\", \"ClientSdkVersion\": \"1.42.0.post1\", \"snapshotId\": \"00000000-0000-0000-0000-000000000000\", \"SetupRunId\": \"AutoML_fad18826-43dd-4bbc-b521-accc8cb32cb6_setup\", \"SetupRunContainerId\": \"dcid.AutoML_fad18826-43dd-4bbc-b521-accc8cb32cb6_setup\", \"forecasting_target_lags\": \"[0]\", \"forecasting_target_rolling_window_size\": \"0\", \"forecasting_max_horizon\": \"3\", \"forecasting_freq\": \"W-THU\", \"ProblemInfoJsonString\": \"{\\\"dataset_num_categorical\\\": 0, \\\"is_sparse\\\": false, \\\"subsampling\\\": false, \\\"has_extra_col\\\": true, \\\"dataset_classes\\\": 2253, \\\"dataset_features\\\": 41, \\\"dataset_samples\\\": 86966, \\\"single_frequency_class_detected\\\": false, \\\"series_column_count\\\": 2, \\\"series_count\\\": 913, \\\"series_len_min\\\": 62, \\\"series_len_max\\\": 96, \\\"series_len_avg\\\": 92.19277108433735, \\\"series_len_perc_25\\\": 91.0, \\\"series_len_perc_50\\\": 93.0, \\\"series_len_perc_75\\\": 95.0}\", \"ModelExplainRunId\": \"AutoML_fad18826-43dd-4bbc-b521-accc8cb32cb6_ModelExplain\"}, \"tags\": {\"model_explain_run\": \"best_run\", \"_aml_system_automl_run_workspace_id\": \"7b69bead-92e7-42e1-9d17-9f6a25911ecc\", \"_aml_system_azureml.automlComponent\": \"AutoML\", \"pipeline_id\": \"\", \"score\": \"\", \"predicted_cost\": \"\", \"fit_time\": \"\", \"training_percent\": \"\", \"iteration\": \"\", \"run_preprocessor\": \"\", \"run_algorithm\": \"\", \"_aml_system_azureml.automl_early_exit_message\": \"Experiment timeout reached, hence experiment stopped. Current experiment timeout: 1 hour(s) 12 minute(s)\", \"automl_best_child_run_id\": \"AutoML_fad18826-43dd-4bbc-b521-accc8cb32cb6_20\", \"model_explain_best_run_child_id\": \"AutoML_fad18826-43dd-4bbc-b521-accc8cb32cb6_20\"}, \"end_time_utc\": \"2022-06-28T15:01:08.714985Z\", \"status\": \"Completed\", \"log_files\": {}, \"log_groups\": [], \"run_duration\": \"1:27:50\", \"run_number\": \"1656423198\", \"run_queued_details\": {\"status\": \"Completed\", \"details\": null}}, \"child_runs\": [{\"run_id\": \"AutoML_fad18826-43dd-4bbc-b521-accc8cb32cb6_setup\", \"run_number\": 1656423216, \"metric\": null, \"status\": \"Completed\", \"run_type\": \"azureml.scriptrun\", \"training_percent\": null, \"start_time\": \"2022-06-28T13:35:42.116615Z\", \"end_time\": \"2022-06-28T13:41:43.529764Z\", \"created_time\": \"2022-06-28T13:33:36.826572Z\", \"created_time_dt\": \"2022-06-28T13:33:36.826572Z\", \"duration\": \"0:08:06\", \"iteration\": null, \"goal\": null, \"run_name\": \"Completed\", \"run_properties\": null}, {\"run_id\": \"AutoML_fad18826-43dd-4bbc-b521-accc8cb32cb6_0\", \"run_number\": 1656423706, \"metric\": null, \"status\": \"Completed\", \"run_type\": null, \"training_percent\": \"100\", \"start_time\": \"2022-06-28T13:42:28.868559Z\", \"end_time\": \"2022-06-28T13:43:27.456786Z\", \"created_time\": \"2022-06-28T13:41:46.152646Z\", \"created_time_dt\": \"2022-06-28T13:41:46.152646Z\", \"duration\": \"0:01:41\", \"iteration\": \"0\", \"goal\": \"normalized_mean_absolute_error_min\", \"run_name\": \"Naive\", \"run_properties\": \"timeseries_param_dict={'time_column_name': 'week_start', 'grain_column_names': ['store', 'brand'], 'drop_column_names': [], 'overwrite_columns': True, 'dropna': False, 'transform_dictionary': {'min': '_automl_target_col', 'max': '_automl_target_col', 'mean': '_automl_target_col'}, 'max_horizon': 3, 'origin_time_colname': 'origin', 'country_or_region': None, 'n_cross_validations': 3, 'short_series_handling': True, 'max_cores_per_iteration': 1, 'feature_lags': None, 'target_aggregation_function': None, 'cv_step_size': 1, 'seasonality': 4, 'use_stl': None, 'freq': 'W-THU', 'short_series_handling_configuration': 'auto', 'target_lags': [0], 'target_rolling_window_size': 0, 'arimax_raw_columns': ['price1', 'week', 'price9', 'profit', 'week_start', 'price5', 'price2', 'price4', 'price10', 'price8', 'store', 'price11', 'price3', 'price6', 'constant', 'brand', 'feat', 'price7', 'deal']}\", \"primary_metric\": 0.12678031, \"best_metric\": 0.12678031}, {\"run_id\": \"AutoML_fad18826-43dd-4bbc-b521-accc8cb32cb6_3\", \"run_number\": 1656423707, \"metric\": null, \"status\": \"Completed\", \"run_type\": null, \"training_percent\": \"100\", \"start_time\": \"2022-06-28T13:45:24.44474Z\", \"end_time\": \"2022-06-28T13:46:22.703015Z\", \"created_time\": \"2022-06-28T13:41:47.397207Z\", \"created_time_dt\": \"2022-06-28T13:41:47.397207Z\", \"duration\": \"0:04:35\", \"iteration\": \"3\", \"goal\": \"normalized_mean_absolute_error_min\", \"run_name\": \"SeasonalAverage\", \"run_properties\": \"timeseries_param_dict={'time_column_name': 'week_start', 'grain_column_names': ['store', 'brand'], 'drop_column_names': [], 'overwrite_columns': True, 'dropna': False, 'transform_dictionary': {'min': '_automl_target_col', 'max': '_automl_target_col', 'mean': '_automl_target_col'}, 'max_horizon': 3, 'origin_time_colname': 'origin', 'country_or_region': None, 'n_cross_validations': 3, 'short_series_handling': True, 'max_cores_per_iteration': 1, 'feature_lags': None, 'target_aggregation_function': None, 'cv_step_size': 1, 'seasonality': 4, 'use_stl': None, 'freq': 'W-THU', 'short_series_handling_configuration': 'auto', 'target_lags': [0], 'target_rolling_window_size': 0, 'arimax_raw_columns': ['price1', 'week', 'price9', 'profit', 'week_start', 'price5', 'price2', 'price4', 'price10', 'price8', 'store', 'price11', 'price3', 'price6', 'constant', 'brand', 'feat', 'price7', 'deal']}\", \"primary_metric\": 0.13018739, \"best_metric\": 0.12678031}, {\"run_id\": \"AutoML_fad18826-43dd-4bbc-b521-accc8cb32cb6_5\", \"run_number\": 1656423708, \"metric\": null, \"status\": \"Canceled\", \"run_type\": null, \"training_percent\": \"100\", \"start_time\": \"2022-06-28T13:41:48.24521Z\", \"end_time\": \"2022-06-28T14:58:24.818256Z\", \"created_time\": \"2022-06-28T13:41:48.24521Z\", \"created_time_dt\": \"2022-06-28T13:41:48.24521Z\", \"duration\": \"1:16:36\", \"iteration\": \"5\", \"goal\": null, \"run_name\": \"Canceled\", \"run_properties\": null}, {\"run_id\": \"AutoML_fad18826-43dd-4bbc-b521-accc8cb32cb6_7\", \"run_number\": 1656423709, \"metric\": null, \"status\": \"Canceled\", \"run_type\": null, \"training_percent\": \"100\", \"start_time\": \"2022-06-28T13:41:49.1565Z\", \"end_time\": \"2022-06-28T14:58:25.229236Z\", \"created_time\": \"2022-06-28T13:41:49.1565Z\", \"created_time_dt\": \"2022-06-28T13:41:49.1565Z\", \"duration\": \"1:16:36\", \"iteration\": \"7\", \"goal\": null, \"run_name\": \"Canceled\", \"run_properties\": null}, {\"run_id\": \"AutoML_fad18826-43dd-4bbc-b521-accc8cb32cb6_9\", \"run_number\": 1656423710, \"metric\": null, \"status\": \"Canceled\", \"run_type\": null, \"training_percent\": \"100\", \"start_time\": \"2022-06-28T13:41:50.042187Z\", \"end_time\": \"2022-06-28T14:58:25.529554Z\", \"created_time\": \"2022-06-28T13:41:50.042187Z\", \"created_time_dt\": \"2022-06-28T13:41:50.042187Z\", \"duration\": \"1:16:35\", \"iteration\": \"9\", \"goal\": null, \"run_name\": \"Canceled\", \"run_properties\": null}, {\"run_id\": \"AutoML_fad18826-43dd-4bbc-b521-accc8cb32cb6_12\", \"run_number\": 1656423711, \"metric\": null, \"status\": \"Canceled\", \"run_type\": null, \"training_percent\": \"100\", \"start_time\": \"2022-06-28T13:41:51.263332Z\", \"end_time\": \"2022-06-28T14:58:25.481155Z\", \"created_time\": \"2022-06-28T13:41:51.263332Z\", \"created_time_dt\": \"2022-06-28T13:41:51.263332Z\", \"duration\": \"1:16:34\", \"iteration\": \"12\", \"goal\": null, \"run_name\": \"Canceled\", \"run_properties\": null}, {\"run_id\": \"AutoML_fad18826-43dd-4bbc-b521-accc8cb32cb6_14\", \"run_number\": 1656423712, \"metric\": null, \"status\": \"Canceled\", \"run_type\": null, \"training_percent\": \"100\", \"start_time\": \"2022-06-28T13:41:52.155223Z\", \"end_time\": \"2022-06-28T14:58:24.742366Z\", \"created_time\": \"2022-06-28T13:41:52.155223Z\", \"created_time_dt\": \"2022-06-28T13:41:52.155223Z\", \"duration\": \"1:16:32\", \"iteration\": \"14\", \"goal\": null, \"run_name\": \"Canceled\", \"run_properties\": null}, {\"run_id\": \"AutoML_fad18826-43dd-4bbc-b521-accc8cb32cb6_17\", \"run_number\": 1656423713, \"metric\": null, \"status\": \"Canceled\", \"run_type\": null, \"training_percent\": \"100\", \"start_time\": \"2022-06-28T13:41:53.367509Z\", \"end_time\": \"2022-06-28T14:58:25.584689Z\", \"created_time\": \"2022-06-28T13:41:53.367509Z\", \"created_time_dt\": \"2022-06-28T13:41:53.367509Z\", \"duration\": \"1:16:32\", \"iteration\": \"17\", \"goal\": null, \"run_name\": \"Canceled\", \"run_properties\": null}, {\"run_id\": \"AutoML_fad18826-43dd-4bbc-b521-accc8cb32cb6_19\", \"run_number\": 1656423714, \"metric\": null, \"status\": \"Canceled\", \"run_type\": null, \"training_percent\": \"100\", \"start_time\": \"2022-06-28T13:41:54.168959Z\", \"end_time\": \"2022-06-28T14:58:25.024112Z\", \"created_time\": \"2022-06-28T13:41:54.168959Z\", \"created_time_dt\": \"2022-06-28T13:41:54.168959Z\", \"duration\": \"1:16:30\", \"iteration\": \"19\", \"goal\": null, \"run_name\": \"Canceled\", \"run_properties\": null}, {\"run_id\": \"AutoML_fad18826-43dd-4bbc-b521-accc8cb32cb6_20\", \"run_number\": 1656428307, \"metric\": null, \"status\": \"Completed\", \"run_type\": \"azureml.scriptrun\", \"training_percent\": \"100\", \"start_time\": \"2022-06-28T15:00:33.509868Z\", \"end_time\": \"2022-06-28T15:01:07.116031Z\", \"created_time\": \"2022-06-28T14:58:27.320507Z\", \"created_time_dt\": \"2022-06-28T14:58:27.320507Z\", \"duration\": \"0:02:39\", \"iteration\": \"20\", \"goal\": \"normalized_mean_absolute_error_min\", \"run_name\": \"VotingEnsemble\", \"run_properties\": \"estimators=[('2', Pipeline(memory=None, steps=[('average', Average(timeseries_param_dict={'time_column_name': 'week_start', 'grain_column_names': ['store', 'brand'], 'drop_column_names': [], 'overwrite_columns': True, 'dropna': False, 'transform_dictionary': {'min': '_automl_target_col', 'max': '_automl_target_col', 'mean': '_automl_target_col'}, 'max_horizon': 3, 'origin_time_colname': 'origin', 'country_or_region': None, 'n_cross_validations': 3, 'short_series_handling': True, 'max_cores_per_iteration': 1, 'feature_lags': None, 'target_aggregation_function': None, 'cv_step_size': 1, 'seasonality': 4, 'use_stl': None, 'freq': 'W-THU', 'short_series_handling_configuration': 'auto', 'target_lags': [0], 'target_rolling_window_size': 0, 'arimax_raw_columns': ['price1', 'week', 'price9', 'profit', 'week_start', 'price5', 'price2', 'price4', 'price10', 'price8', 'store', 'price11', 'price3', 'price6', 'constant', 'brand', 'feat', 'price7', 'deal']}\", \"primary_metric\": 0.10960287, \"best_metric\": 0.10960287}], \"children_metrics\": {\"categories\": [0], \"series\": {\"normalized_root_mean_squared_log_error\": [{\"categories\": [\"0\", \"3\", \"20\"], \"mode\": \"markers\", \"name\": \"normalized_root_mean_squared_log_error\", \"stepped\": false, \"type\": \"scatter\", \"data\": [0.2050139381438381, 0.21198601351711724, 0.1945550504526623]}, {\"categories\": [\"0\", \"3\", \"20\"], \"mode\": \"lines\", \"name\": \"normalized_root_mean_squared_log_error_min\", \"stepped\": true, \"type\": \"scatter\", \"data\": [0.2050139381438381, 0.2050139381438381, 0.1945550504526623]}], \"normalized_mean_absolute_error\": [{\"categories\": [\"0\", \"3\", \"20\"], \"mode\": \"markers\", \"name\": \"normalized_mean_absolute_error\", \"stepped\": false, \"type\": \"scatter\", \"data\": [0.12678030771739876, 0.13018738550928097, 0.10960286633862626]}, {\"categories\": [\"0\", \"3\", \"20\"], \"mode\": \"lines\", \"name\": \"normalized_mean_absolute_error_min\", \"stepped\": true, \"type\": \"scatter\", \"data\": [0.12678030771739876, 0.12678030771739876, 0.10960286633862626]}], \"explained_variance\": [{\"categories\": [\"0\", \"3\", \"20\"], \"mode\": \"markers\", \"name\": \"explained_variance\", \"stepped\": false, \"type\": \"scatter\", \"data\": [-0.12550929272463596, -0.14354058970394368, 0.08800651717195869]}, {\"categories\": [\"0\", \"3\", \"20\"], \"mode\": \"lines\", \"name\": \"explained_variance_max\", \"stepped\": true, \"type\": \"scatter\", \"data\": [-0.12550929272463596, -0.12550929272463596, 0.08800651717195869]}], \"normalized_root_mean_squared_error\": [{\"categories\": [\"0\", \"3\", \"20\"], \"mode\": \"markers\", \"name\": \"normalized_root_mean_squared_error\", \"stepped\": false, \"type\": \"scatter\", \"data\": [0.1586979484542713, 0.16181106654931765, 0.14071916098297987]}, {\"categories\": [\"0\", \"3\", \"20\"], \"mode\": \"lines\", \"name\": \"normalized_root_mean_squared_error_min\", \"stepped\": true, \"type\": \"scatter\", \"data\": [0.1586979484542713, 0.1586979484542713, 0.14071916098297987]}], \"median_absolute_error\": [{\"categories\": [\"0\", \"3\", \"20\"], \"mode\": \"markers\", \"name\": \"median_absolute_error\", \"stepped\": false, \"type\": \"scatter\", \"data\": [1802.6666666666667, 2333.3333333333335, 2263.019157560532]}, {\"categories\": [\"0\", \"3\", \"20\"], \"mode\": \"lines\", \"name\": \"median_absolute_error_min\", \"stepped\": true, \"type\": \"scatter\", \"data\": [1802.6666666666667, 1802.6666666666667, 1802.6666666666667]}], \"spearman_correlation\": [{\"categories\": [\"0\", \"3\", \"20\"], \"mode\": \"markers\", \"name\": \"spearman_correlation\", \"stepped\": false, \"type\": \"scatter\", \"data\": [0.7416909849474553, 0.7181835606915863, 0.7565418928644784]}, {\"categories\": [\"0\", \"3\", \"20\"], \"mode\": \"lines\", \"name\": \"spearman_correlation_max\", \"stepped\": true, \"type\": \"scatter\", \"data\": [0.7416909849474553, 0.7416909849474553, 0.7565418928644784]}], \"normalized_median_absolute_error\": [{\"categories\": [\"0\", \"3\", \"20\"], \"mode\": \"markers\", \"name\": \"normalized_median_absolute_error\", \"stepped\": false, \"type\": \"scatter\", \"data\": [0.09606394036351414, 0.09901261961199992, 0.07499737912954695]}, {\"categories\": [\"0\", \"3\", \"20\"], \"mode\": \"lines\", \"name\": \"normalized_median_absolute_error_min\", \"stepped\": true, \"type\": \"scatter\", \"data\": [0.09606394036351414, 0.09606394036351414, 0.07499737912954695]}], \"mean_absolute_error\": [{\"categories\": [\"0\", \"3\", \"20\"], \"mode\": \"markers\", \"name\": \"mean_absolute_error\", \"stepped\": false, \"type\": \"scatter\", \"data\": [11524.74767103605, 12271.88453520828, 9682.832564720467]}, {\"categories\": [\"0\", \"3\", \"20\"], \"mode\": \"lines\", \"name\": \"mean_absolute_error_min\", \"stepped\": true, \"type\": \"scatter\", \"data\": [11524.74767103605, 11524.74767103605, 9682.832564720467]}], \"mean_absolute_percentage_error\": [{\"categories\": [\"0\", \"3\", \"20\"], \"mode\": \"markers\", \"name\": \"mean_absolute_percentage_error\", \"stepped\": false, \"type\": \"scatter\", \"data\": [80.52533250076628, 113.52316010202067, 95.58172663345624]}, {\"categories\": [\"0\", \"3\", \"20\"], \"mode\": \"lines\", \"name\": \"mean_absolute_percentage_error_min\", \"stepped\": true, \"type\": \"scatter\", \"data\": [80.52533250076628, 80.52533250076628, 80.52533250076628]}], \"root_mean_squared_error\": [{\"categories\": [\"0\", \"3\", \"20\"], \"mode\": \"markers\", \"name\": \"root_mean_squared_error\", \"stepped\": false, \"type\": \"scatter\", \"data\": [35345.486958250964, 35543.96671687347, 31927.000301509164]}, {\"categories\": [\"0\", \"3\", \"20\"], \"mode\": \"lines\", \"name\": \"root_mean_squared_error_min\", \"stepped\": true, \"type\": \"scatter\", \"data\": [35345.486958250964, 35345.486958250964, 31927.000301509164]}], \"root_mean_squared_log_error\": [{\"categories\": [\"0\", \"3\", \"20\"], \"mode\": \"markers\", \"name\": \"root_mean_squared_log_error\", \"stepped\": false, \"type\": \"scatter\", \"data\": [1.0171135861949183, 1.0485104430985779, 0.8695950502106419]}, {\"categories\": [\"0\", \"3\", \"20\"], \"mode\": \"lines\", \"name\": \"root_mean_squared_log_error_min\", \"stepped\": true, \"type\": \"scatter\", \"data\": [1.0171135861949183, 1.0171135861949183, 0.8695950502106419]}], \"r2_score\": [{\"categories\": [\"0\", \"3\", \"20\"], \"mode\": \"markers\", \"name\": \"r2_score\", \"stepped\": false, \"type\": \"scatter\", \"data\": [-0.1333877713137345, -0.14588137856384834, 0.07548594845059264]}, {\"categories\": [\"0\", \"3\", \"20\"], \"mode\": \"lines\", \"name\": \"r2_score_max\", \"stepped\": true, \"type\": \"scatter\", \"data\": [-0.1333877713137345, -0.1333877713137345, 0.07548594845059264]}]}, \"metricName\": null, \"primaryMetricName\": \"normalized_mean_absolute_error\", \"showLegend\": false}, \"run_metrics\": [{\"name\": \"experiment_status\", \"run_id\": \"AutoML_fad18826-43dd-4bbc-b521-accc8cb32cb6\", \"categories\": [0, 1, 2, 3, 4, 5, 6, 7, 8, 9, 10, 11, 12, 13, 14, 15, 16, 17], \"series\": [{\"data\": [\"DatasetFeaturization\", \"DatasetFeaturizationCompleted\", \"DatasetCrossValidationSplit\", \"DatasetFeaturization\", \"DatasetFeaturizationCompleted\", \"DatasetFeaturization\", \"DatasetFeaturizationCompleted\", \"DatasetFeaturization\", \"DatasetFeaturizationCompleted\", \"ModelSelection\", \"BestRunExplainModel\", \"ModelExplanationDataSetSetup\", \"PickSurrogateModel\", \"EngineeredFeatureExplanations\", \"EngineeredFeatureExplanations\", \"RawFeaturesExplanations\", \"RawFeaturesExplanations\", \"BestRunExplainModel\"]}]}, {\"name\": \"experiment_status_description\", \"run_id\": \"AutoML_fad18826-43dd-4bbc-b521-accc8cb32cb6\", \"categories\": [0, 1, 2, 3, 4, 5, 6, 7, 8, 9, 10, 11, 12, 13, 14, 15, 16, 17], \"series\": [{\"data\": [\"Beginning to featurize the dataset.\", \"Completed featurizing the dataset.\", \"Generating individually featurized CV splits.\", \"Beginning to featurize the CV split.\", \"Completed featurizing the CV split.\", \"Beginning to featurize the CV split.\", \"Completed featurizing the CV split.\", \"Beginning to featurize the CV split.\", \"Completed featurizing the CV split.\", \"Beginning model selection.\", \"Best run model explanations started\", \"Model explanations data setup completed\", \"Choosing LightGBM as the surrogate model for explanations\", \"Computation of engineered features started\", \"Computation of engineered features completed\", \"Computation of raw features started\", \"Computation of raw features completed\", \"Best run model explanations completed\"]}]}, {\"name\": \"normalized_median_absolute_error\", \"run_id\": \"AutoML_fad18826-43dd-4bbc-b521-accc8cb32cb6\", \"categories\": [0], \"series\": [{\"data\": [0.07499737912954695]}]}, {\"name\": \"r2_score\", \"run_id\": \"AutoML_fad18826-43dd-4bbc-b521-accc8cb32cb6\", \"categories\": [0], \"series\": [{\"data\": [0.07548594845059264]}]}, {\"name\": \"spearman_correlation\", \"run_id\": \"AutoML_fad18826-43dd-4bbc-b521-accc8cb32cb6\", \"categories\": [0], \"series\": [{\"data\": [0.7565418928644784]}]}, {\"name\": \"root_mean_squared_error\", \"run_id\": \"AutoML_fad18826-43dd-4bbc-b521-accc8cb32cb6\", \"categories\": [0], \"series\": [{\"data\": [31927.000301509164]}]}, {\"name\": \"median_absolute_error\", \"run_id\": \"AutoML_fad18826-43dd-4bbc-b521-accc8cb32cb6\", \"categories\": [0], \"series\": [{\"data\": [2263.019157560532]}]}, {\"name\": \"mean_absolute_percentage_error\", \"run_id\": \"AutoML_fad18826-43dd-4bbc-b521-accc8cb32cb6\", \"categories\": [0], \"series\": [{\"data\": [95.58172663345624]}]}, {\"name\": \"root_mean_squared_log_error\", \"run_id\": \"AutoML_fad18826-43dd-4bbc-b521-accc8cb32cb6\", \"categories\": [0], \"series\": [{\"data\": [0.8695950502106419]}]}, {\"name\": \"normalized_mean_absolute_error\", \"run_id\": \"AutoML_fad18826-43dd-4bbc-b521-accc8cb32cb6\", \"categories\": [0], \"series\": [{\"data\": [0.10960286633862626]}]}, {\"name\": \"mean_absolute_error\", \"run_id\": \"AutoML_fad18826-43dd-4bbc-b521-accc8cb32cb6\", \"categories\": [0], \"series\": [{\"data\": [9682.832564720467]}]}, {\"name\": \"explained_variance\", \"run_id\": \"AutoML_fad18826-43dd-4bbc-b521-accc8cb32cb6\", \"categories\": [0], \"series\": [{\"data\": [0.08800651717195869]}]}, {\"name\": \"normalized_root_mean_squared_error\", \"run_id\": \"AutoML_fad18826-43dd-4bbc-b521-accc8cb32cb6\", \"categories\": [0], \"series\": [{\"data\": [0.14071916098297987]}]}, {\"name\": \"normalized_root_mean_squared_log_error\", \"run_id\": \"AutoML_fad18826-43dd-4bbc-b521-accc8cb32cb6\", \"categories\": [0], \"series\": [{\"data\": [0.1945550504526623]}]}], \"run_logs\": \"\\nRun is completed.\", \"graph\": {}, \"widget_settings\": {\"childWidgetDisplay\": \"popup\", \"send_telemetry\": false, \"log_level\": \"INFO\", \"sdk_version\": \"1.42.0\"}, \"loading\": false}"
     },
     "metadata": {},
     "output_type": "display_data"
    }
   ],
   "source": [
    "RunDetails(remote_run).show()"
   ]
  },
  {
   "cell_type": "code",
   "execution_count": 15,
   "metadata": {},
   "outputs": [
    {
     "data": {
      "text/plain": [
       "{'runId': 'AutoML_fad18826-43dd-4bbc-b521-accc8cb32cb6',\n",
       " 'target': 'canina-cluster',\n",
       " 'status': 'Completed',\n",
       " 'startTimeUtc': '2022-06-28T13:33:38.297342Z',\n",
       " 'endTimeUtc': '2022-06-28T15:01:08.714985Z',\n",
       " 'services': {},\n",
       " 'warnings': [{'source': 'JasmineService',\n",
       "   'message': 'Experiment timeout reached, hence experiment stopped. Current experiment timeout: 1 hour(s) 12 minute(s)'}],\n",
       " 'properties': {'num_iterations': '1000',\n",
       "  'training_type': 'TrainFull',\n",
       "  'acquisition_function': 'EI',\n",
       "  'primary_metric': 'normalized_mean_absolute_error',\n",
       "  'train_split': '0',\n",
       "  'acquisition_parameter': '0',\n",
       "  'num_cross_validation': '3',\n",
       "  'target': 'canina-cluster',\n",
       "  'AMLSettingsJsonString': '{\"path\":null,\"name\":\"automl-forecast\",\"subscription_id\":\"3d1a56d2-7c81-4118-9790-f85d1acf0c77\",\"resource_group\":\"aml-quickstarts-199690\",\"workspace_name\":\"quick-starts-ws-199690\",\"region\":\"southcentralus\",\"compute_target\":\"canina-cluster\",\"spark_service\":null,\"azure_service\":\"remote\",\"many_models\":false,\"pipeline_fetch_max_batch_size\":1,\"enable_batch_run\":true,\"enable_run_restructure\":false,\"start_auxiliary_runs_before_parent_complete\":false,\"enable_code_generation\":true,\"iterations\":1000,\"primary_metric\":\"normalized_mean_absolute_error\",\"task_type\":\"regression\",\"positive_label\":null,\"data_script\":null,\"test_size\":0.0,\"test_include_predictions_only\":false,\"validation_size\":0.0,\"n_cross_validations\":3,\"y_min\":null,\"y_max\":null,\"num_classes\":null,\"featurization\":\"auto\",\"_ignore_package_version_incompatibilities\":false,\"is_timeseries\":true,\"max_cores_per_iteration\":1,\"max_concurrent_iterations\":1,\"iteration_timeout_minutes\":null,\"mem_in_mb\":null,\"enforce_time_on_windows\":false,\"experiment_timeout_minutes\":72,\"experiment_exit_score\":null,\"partition_column_names\":null,\"whitelist_models\":null,\"blacklist_algos\":[\"TensorFlowDNN\",\"TensorFlowLinearRegressor\"],\"supported_models\":[\"LightGBM\",\"TensorFlowDNN\",\"ElasticNet\",\"XGBoostRegressor\",\"Naive\",\"DecisionTree\",\"SeasonalNaive\",\"KNN\",\"GradientBoosting\",\"TabnetRegressor\",\"SeasonalAverage\",\"ExponentialSmoothing\",\"LassoLars\",\"AutoArima\",\"TCNForecaster\",\"TensorFlowLinearRegressor\",\"RandomForest\",\"Average\",\"SGD\",\"ExtremeRandomTrees\",\"Arimax\",\"Prophet\"],\"private_models\":[],\"auto_blacklist\":true,\"blacklist_samples_reached\":false,\"exclude_nan_labels\":true,\"verbosity\":20,\"_debug_log\":\"azureml_automl.log\",\"show_warnings\":false,\"model_explainability\":true,\"service_url\":null,\"sdk_url\":null,\"sdk_packages\":null,\"enable_onnx_compatible_models\":false,\"enable_split_onnx_featurizer_estimator_models\":false,\"vm_type\":\"STANDARD_D2_V2\",\"telemetry_verbosity\":20,\"send_telemetry\":true,\"enable_dnn\":false,\"scenario\":\"SDK-1.13.0\",\"environment_label\":null,\"save_mlflow\":false,\"enable_categorical_indicators\":false,\"force_text_dnn\":false,\"enable_feature_sweeping\":false,\"time_column_name\":\"week_start\",\"grain_column_names\":[\"store\",\"brand\"],\"drop_column_names\":[],\"max_horizon\":3,\"dropna\":false,\"overwrite_columns\":true,\"transform_dictionary\":{\"min\":\"_automl_target_col\",\"max\":\"_automl_target_col\",\"mean\":\"_automl_target_col\"},\"window_size\":null,\"country_or_region\":null,\"lags\":null,\"feature_lags\":null,\"seasonality\":\"auto\",\"use_stl\":null,\"short_series_handling\":true,\"freq\":null,\"short_series_handling_configuration\":\"auto\",\"target_aggregation_function\":null,\"cv_step_size\":1,\"has_multiple_series\":true,\"enable_early_stopping\":true,\"early_stopping_n_iters\":10,\"arguments\":null,\"dataset_id\":\"e09edf01-29d1-4350-a2a5-a238b286c56a\",\"hyperdrive_config\":null,\"validation_dataset_id\":null,\"run_source\":null,\"metrics\":null,\"enable_metric_confidence\":false,\"enable_ensembling\":true,\"enable_stack_ensembling\":false,\"ensemble_iterations\":15,\"enable_tf\":false,\"enable_subsampling\":false,\"subsample_seed\":null,\"enable_nimbusml\":false,\"enable_streaming\":false,\"force_streaming\":false,\"track_child_runs\":true,\"allowed_private_models\":[],\"label_column_name\":\"move\",\"weight_column_name\":null,\"cv_split_column_names\":null,\"enable_local_managed\":false,\"_local_managed_run_id\":null,\"cost_mode\":1,\"lag_length\":0,\"metric_operation\":\"minimize\",\"preprocess\":true}',\n",
       "  'DataPrepJsonString': '{\\\\\"training_data\\\\\": {\\\\\"datasetId\\\\\": \\\\\"e09edf01-29d1-4350-a2a5-a238b286c56a\\\\\"}, \\\\\"datasets\\\\\": 0}',\n",
       "  'EnableSubsampling': 'False',\n",
       "  'runTemplate': 'AutoML',\n",
       "  'azureml.runsource': 'automl',\n",
       "  'display_task_type': 'forecasting',\n",
       "  'dependencies_versions': '{\"azureml-widgets\": \"1.42.0\", \"azureml-training-tabular\": \"1.42.0\", \"azureml-train\": \"1.42.0\", \"azureml-train-restclients-hyperdrive\": \"1.42.0\", \"azureml-train-core\": \"1.42.0\", \"azureml-train-automl\": \"1.42.0\", \"azureml-train-automl-runtime\": \"1.42.0\", \"azureml-train-automl-client\": \"1.42.0\", \"azureml-tensorboard\": \"1.42.0\", \"azureml-telemetry\": \"1.42.0\", \"azureml-sdk\": \"1.42.0\", \"azureml-samples\": \"0+unknown\", \"azureml-responsibleai\": \"1.42.0\", \"azureml-pipeline\": \"1.42.0\", \"azureml-pipeline-steps\": \"1.42.0\", \"azureml-pipeline-core\": \"1.42.0\", \"azureml-opendatasets\": \"1.42.0\", \"azureml-mlflow\": \"1.42.0\", \"azureml-interpret\": \"1.42.0\", \"azureml-inference-server-http\": \"0.4.13\", \"azureml-explain-model\": \"1.42.0\", \"azureml-defaults\": \"1.42.0\", \"azureml-dataset-runtime\": \"1.42.0\", \"azureml-dataprep\": \"4.0.1\", \"azureml-dataprep-rslex\": \"2.6.1\", \"azureml-dataprep-native\": \"38.0.0\", \"azureml-datadrift\": \"1.42.0\", \"azureml-core\": \"1.42.0\", \"azureml-contrib-services\": \"1.42.0\", \"azureml-contrib-server\": \"1.42.0\", \"azureml-contrib-reinforcementlearning\": \"1.42.0\", \"azureml-contrib-pipeline-steps\": \"1.42.0\", \"azureml-contrib-notebook\": \"1.42.0\", \"azureml-contrib-fairness\": \"1.42.0\", \"azureml-contrib-dataset\": \"1.42.0\", \"azureml-contrib-automl-pipeline-steps\": \"1.42.0\", \"azureml-cli-common\": \"1.42.0\", \"azureml-automl-runtime\": \"1.42.0\", \"azureml-automl-dnn-nlp\": \"1.42.0\", \"azureml-automl-core\": \"1.42.0\", \"azureml-accel-models\": \"1.42.0\"}',\n",
       "  '_aml_system_scenario_identification': 'Remote.Parent',\n",
       "  'ClientType': 'SDK',\n",
       "  'environment_cpu_name': 'AzureML-AutoML',\n",
       "  'environment_cpu_label': 'prod',\n",
       "  'environment_gpu_name': 'AzureML-AutoML-GPU',\n",
       "  'environment_gpu_label': 'prod',\n",
       "  'root_attribution': 'automl',\n",
       "  'attribution': 'AutoML',\n",
       "  'Orchestrator': 'AutoML',\n",
       "  'CancelUri': 'https://southcentralus.api.azureml.ms/jasmine/v1.0/subscriptions/3d1a56d2-7c81-4118-9790-f85d1acf0c77/resourceGroups/aml-quickstarts-199690/providers/Microsoft.MachineLearningServices/workspaces/quick-starts-ws-199690/experimentids/03108020-69ae-456f-a979-d65c94aff73b/cancel/AutoML_fad18826-43dd-4bbc-b521-accc8cb32cb6',\n",
       "  'ClientSdkVersion': '1.42.0.post1',\n",
       "  'snapshotId': '00000000-0000-0000-0000-000000000000',\n",
       "  'SetupRunId': 'AutoML_fad18826-43dd-4bbc-b521-accc8cb32cb6_setup',\n",
       "  'SetupRunContainerId': 'dcid.AutoML_fad18826-43dd-4bbc-b521-accc8cb32cb6_setup',\n",
       "  'forecasting_target_lags': '[0]',\n",
       "  'forecasting_target_rolling_window_size': '0',\n",
       "  'forecasting_max_horizon': '3',\n",
       "  'forecasting_freq': 'W-THU',\n",
       "  'ProblemInfoJsonString': '{\"dataset_num_categorical\": 0, \"is_sparse\": false, \"subsampling\": false, \"has_extra_col\": true, \"dataset_classes\": 2253, \"dataset_features\": 41, \"dataset_samples\": 86966, \"single_frequency_class_detected\": false, \"series_column_count\": 2, \"series_count\": 913, \"series_len_min\": 62, \"series_len_max\": 96, \"series_len_avg\": 92.19277108433735, \"series_len_perc_25\": 91.0, \"series_len_perc_50\": 93.0, \"series_len_perc_75\": 95.0}',\n",
       "  'ModelExplainRunId': 'AutoML_fad18826-43dd-4bbc-b521-accc8cb32cb6_ModelExplain'},\n",
       " 'inputDatasets': [{'dataset': {'id': 'e09edf01-29d1-4350-a2a5-a238b286c56a'}, 'consumptionDetails': {'type': 'RunInput', 'inputName': 'training_data', 'mechanism': 'Direct'}}],\n",
       " 'outputDatasets': [],\n",
       " 'logFiles': {},\n",
       " 'submittedBy': 'ODL_User 199690'}"
      ]
     },
     "execution_count": 15,
     "metadata": {},
     "output_type": "execute_result"
    }
   ],
   "source": [
    "remote_run.wait_for_completion(show_output=False)"
   ]
  },
  {
   "cell_type": "markdown",
   "metadata": {},
   "source": [
    "## Best Model\n",
    "\n",
    "TODO: In the cell below, get the best model from the automl experiments and display all the properties of the model.\n",
    "\n"
   ]
  },
  {
   "cell_type": "code",
   "execution_count": 16,
   "metadata": {
    "gather": {
     "logged": 1598431426111
    },
    "jupyter": {
     "outputs_hidden": false,
     "source_hidden": false
    },
    "nteract": {
     "transient": {
      "deleting": false
     }
    }
   },
   "outputs": [],
   "source": [
    "# Get the best model\n",
    "best_run_automl, best_automl_model = remote_run.get_output()"
   ]
  },
  {
   "cell_type": "code",
   "execution_count": 17,
   "metadata": {},
   "outputs": [
    {
     "data": {
      "text/plain": [
       "['automl_driver.py',\n",
       " 'explanation/e007a503/expected_values.interpret.json',\n",
       " 'explanation/e007a503/features.interpret.json',\n",
       " 'explanation/e007a503/global_names/0.interpret.json',\n",
       " 'explanation/e007a503/global_rank/0.interpret.json',\n",
       " 'explanation/e007a503/global_values/0.interpret.json',\n",
       " 'explanation/e007a503/local_importance_values.interpret.json',\n",
       " 'explanation/e007a503/rich_metadata.interpret.json',\n",
       " 'explanation/e007a503/visualization_dict.interpret.json',\n",
       " 'explanation/e007a503/ys_pred_viz.interpret.json',\n",
       " 'explanation/e9485e95/eval_data_viz.interpret.json',\n",
       " 'explanation/e9485e95/expected_values.interpret.json',\n",
       " 'explanation/e9485e95/features.interpret.json',\n",
       " 'explanation/e9485e95/global_names/0.interpret.json',\n",
       " 'explanation/e9485e95/global_rank/0.interpret.json',\n",
       " 'explanation/e9485e95/global_values/0.interpret.json',\n",
       " 'explanation/e9485e95/local_importance_values.interpret.json',\n",
       " 'explanation/e9485e95/rich_metadata.interpret.json',\n",
       " 'explanation/e9485e95/visualization_dict.interpret.json',\n",
       " 'explanation/e9485e95/ys_pred_viz.interpret.json',\n",
       " 'forecast_table',\n",
       " 'logs/azureml/azureml_automl.log',\n",
       " 'outputs/conda_env_v_1_0_0.yml',\n",
       " 'outputs/engineered_feature_names.json',\n",
       " 'outputs/env_dependencies.json',\n",
       " 'outputs/featurization_summary.json',\n",
       " 'outputs/generated_code/conda_environment.yaml',\n",
       " 'outputs/generated_code/script.py',\n",
       " 'outputs/generated_code/script_run_notebook.ipynb',\n",
       " 'outputs/internal_cross_validated_models.pkl',\n",
       " 'outputs/model.pkl',\n",
       " 'outputs/pipeline_graph.json',\n",
       " 'outputs/run_id.txt',\n",
       " 'outputs/scoring_file_v_1_0_0.py',\n",
       " 'outputs/scoring_file_v_2_0_0.py',\n",
       " 'predicted_true',\n",
       " 'residuals',\n",
       " 'system_logs/cs_capability/cs-capability.log',\n",
       " 'system_logs/hosttools_capability/hosttools-capability.log',\n",
       " 'system_logs/lifecycler/execution-wrapper.log',\n",
       " 'system_logs/lifecycler/lifecycler.log',\n",
       " 'system_logs/lifecycler/vm-bootstrapper.log',\n",
       " 'system_logs/metrics_capability/metrics-capability.log',\n",
       " 'user_logs/std_log.txt']"
      ]
     },
     "execution_count": 17,
     "metadata": {},
     "output_type": "execute_result"
    }
   ],
   "source": [
    "# List all files to see the saved model as \"model.pkl\"\n",
    "best_run_automl.get_file_names()"
   ]
  },
  {
   "cell_type": "code",
   "execution_count": 23,
   "metadata": {},
   "outputs": [],
   "source": [
    "if \"outputs\" not in os.listdir():\n",
    "    os.mkdir(\"./outputs\")"
   ]
  },
  {
   "cell_type": "code",
   "execution_count": 24,
   "metadata": {},
   "outputs": [],
   "source": [
    "# Download the best AutoML model\n",
    "id_file = 30\n",
    "best_run_automl.download_file(best_run_automl.get_file_names()[id_file],\n",
    "                                 output_file_path = './outputs/')"
   ]
  },
  {
   "cell_type": "code",
   "execution_count": 25,
   "metadata": {},
   "outputs": [
    {
     "name": "stdout",
     "output_type": "stream",
     "text": [
      "Model ID None\n"
     ]
    }
   ],
   "source": [
    "print(\"Model ID\", remote_run.model_id)"
   ]
  },
  {
   "cell_type": "code",
   "execution_count": 26,
   "metadata": {},
   "outputs": [
    {
     "name": "stdout",
     "output_type": "stream",
     "text": [
      "normalized_root_mean_squared_log_error: 0.1945550504526623\n",
      "normalized_mean_absolute_error: 0.10960286633862626\n",
      "explained_variance: 0.08800651717195869\n",
      "normalized_root_mean_squared_error: 0.14071916098297987\n",
      "median_absolute_error: 2263.019157560532\n",
      "spearman_correlation: 0.7565418928644784\n",
      "normalized_median_absolute_error: 0.07499737912954695\n",
      "mean_absolute_error: 9682.832564720467\n",
      "mean_absolute_percentage_error: 95.58172663345624\n",
      "root_mean_squared_error: 31927.000301509164\n",
      "root_mean_squared_log_error: 0.8695950502106419\n",
      "r2_score: 0.07548594845059264\n",
      "residuals: aml://artifactId/ExperimentRun/dcid.AutoML_fad18826-43dd-4bbc-b521-accc8cb32cb6_20/residuals\n",
      "predicted_true: aml://artifactId/ExperimentRun/dcid.AutoML_fad18826-43dd-4bbc-b521-accc8cb32cb6_20/predicted_true\n",
      "forecast_table: aml://artifactId/ExperimentRun/dcid.AutoML_fad18826-43dd-4bbc-b521-accc8cb32cb6_20/forecast_table\n"
     ]
    }
   ],
   "source": [
    "run_metrics = best_run_automl.get_metrics()\n",
    "for m, val in run_metrics.items():\n",
    "    print(f\"{m}: {val}\")"
   ]
  },
  {
   "cell_type": "code",
   "execution_count": 27,
   "metadata": {},
   "outputs": [
    {
     "data": {
      "text/plain": [
       "{'_aml_system_azureml.automlComponent': 'AutoML',\n",
       " '_aml_system_ComputeTargetStatus': '{\"AllocationState\":\"steady\",\"PreparingNodeCount\":0,\"RunningNodeCount\":1,\"CurrentNodeCount\":1}',\n",
       " 'mlflow.source.type': 'JOB',\n",
       " 'mlflow.source.name': 'automl_driver.py',\n",
       " '_aml_system_codegen': 'completed',\n",
       " '_aml_system_automl_is_child_run_end_telemetry_event_logged': 'True',\n",
       " 'model_explain_run_id': 'AutoML_fad18826-43dd-4bbc-b521-accc8cb32cb6_ModelExplain',\n",
       " 'model_explanation': 'True'}"
      ]
     },
     "execution_count": 27,
     "metadata": {},
     "output_type": "execute_result"
    }
   ],
   "source": [
    "best_run_automl.get_tags()"
   ]
  },
  {
   "cell_type": "code",
   "execution_count": 28,
   "metadata": {},
   "outputs": [
    {
     "name": "stdout",
     "output_type": "stream",
     "text": [
      "[('timeseriestransformer', TimeSeriesTransformer(country_or_region=None, drop_column_names=[], featurization_config=FeaturizationConfig(blocked_transformers=None, column_purposes=None, dataset_language=None, prediction_transform_type=None, transformer_params=None), force_time_index_features=None, freq='W-THU', grain_column_names=['store', 'brand'], group=None, lookback_features_removed=False, max_horizon=3, origin_time_colname='origin', pipeline=Pipeline(memory=None, steps=[('make_numeric_na_dummies', MissingDummiesTransformer(numerical_columns=['week', 'constant', 'price1', 'price2', 'price3', 'price4', 'price5', 'price6', 'price7', 'price8', 'price9', 'price10', 'price11', 'deal', 'feat', 'profit'])), ('impute_na_numeric_datetime', TimeSeriesImputer(end=None, freq='W-THU', impute_by_horizon=False, input_column=['week', 'constant', 'price1', 'price2', 'price3', 'price4', 'price5', 'price6', 'price7', 'price8', 'price9', 'price10', 'price11', 'deal', 'feat', 'profit'], limit=None, limit_direction='forward', method=OrderedDict([('ffill', [])]), option='fillna', order=None, origin=None, value={'week': 88.0, 'constant': 1.0, 'price1': 0.04671875, 'price2': 0.0494791667, 'price3': 0.045631886299999994, 'price4': 0.03578125, 'price5': 0.03265625, 'price6': 0.0403125, 'price7': 0.03578125, 'price8': 0.03421875, 'price9': 0.03109375, 'price10': 0.02484375, 'price11': 0.028828125, 'deal': 0.0, 'feat': 0.0, 'profit': 28.94})), ('grain_dropper', ShortGrainDropper(cv_step_size=1, max_horizon=3, n_cross_validations=3, target_lags=[0], target_rolling_window_size=0)), ('restore_dtypes_transform', RestoreDtypesTransformer(dtypes={'price1': dtype('float64'), 'week': dtype('int64'), 'price9': dtype('float64'), 'profit': dtype('float64'), 'price5': dtype('float64'), 'price2': dtype('float64'), 'price4': dtype('float64'), 'price10': dtype('float64'), 'price8': dtype('float64'), 'price11': dtype('float64'), 'price3': dtype('float64'), 'price6': dtype('float64'), 'constant': dtype('int64'), 'feat': dtype('float64'), 'price7': dtype('float64'), 'deal': dtype('int64'), '_automl_target_col': dtype('int64')}, target_column='_automl_target_col')), ('make_grain_features', GrainIndexFeaturizer(categories_by_grain_cols=None, grain_feature_prefix='grain', overwrite_columns=True, prefix_sep='_', ts_frequency='W-THU')), ('make_categoricals_numeric', NumericalizeTransformer(categories_by_col={'grain_store': Int64Index([  2,   5,   8,   9,  12,  14,  18,  21,  28,  32,  33,  40,  44,  45,  47,  48,  49,  50,  51,  52,  53,\n",
      "             54,  56,  59,  62,  64,  67,  68,  70,  71,  72,  73,  74,  75,  76,  77,  78,  80,  81,  83,  84,  86,\n",
      "             88,  89,  90,  91,  92,  93,  94,  95,  97,  98, 100, 101, 102, 103, 104, 105, 106, 107, 109, 110, 111,\n",
      "            112, 113, 114, 115, 116, 117, 118, 119, 121, 122, 123, 124, 126, 128, 129, 130, 131, 132, 134, 137],\n",
      "           dtype='int64'), 'grain_brand': Int64Index([1, 2, 3, 4, 5, 6, 7, 8, 9, 10, 11], dtype='int64')}, exclude_columns=set(), include_columns=set())), ('make_time_index_featuers', TimeIndexFeaturizer(correlation_cutoff=0.99, country_or_region=None, datetime_columns=None, force_feature_list=None, freq='W-THU', holiday_end_time=None, holiday_start_time=None, overwrite_columns=True, prune_features=True)), ('make_categoricals_onehot', CategoryBinarizer(columns=[], drop_first=False, dummy_na=False, encode_all_categoricals=False, prefix=None, prefix_sep='_'))], verbose=False), pipeline_type=TimeSeriesPipelineType.FULL, seasonality=4, time_column_name='week_start', time_index_non_holiday_features=['_automl_year', '_automl_half', '_automl_quarter', '_automl_month', '_automl_day', '_automl_qday'], use_stl=None)), ('prefittedsoftvotingregressor', PreFittedSoftVotingRegressor(estimators=[('2', Pipeline(memory=None, steps=[('average', Average(timeseries_param_dict={'time_column_name': 'week_start', 'grain_column_names': ['store', 'brand'], 'drop_column_names': [], 'overwrite_columns': True, 'dropna': False, 'transform_dictionary': {'min': '_automl_target_col', 'max': '_automl_target_col', 'mean': '_automl_target_col'}, 'max_horizon': 3, 'origin_time_colname': 'origin', 'country_or_region': None, 'n_cross_validations': 3, 'short_series_handling': True, 'max_cores_per_iteration': 1, 'feature_lags': None, 'target_aggregation_function': None, 'cv_step_size': 1, 'seasonality': 4, 'use_stl': None, 'freq': 'W-THU', 'short_series_handling_configuration': 'auto', 'target_lags': [0], 'target_rolling_window_size': 0, 'arimax_raw_columns': ['price1', 'week', 'price9', 'profit', 'week_start', 'price5', 'price2', 'price4', 'price10', 'price8', 'store', 'price11', 'price3', 'price6', 'constant', 'brand', 'feat', 'price7', 'deal']}))], verbose=False)), ('0', Pipeline(memory=None, steps=[('naive', Naive(timeseries_param_dict={'time_column_name': 'week_start', 'grain_column_names': ['store', 'brand'], 'drop_column_names': [], 'overwrite_columns': True, 'dropna': False, 'transform_dictionary': {'min': '_automl_target_col', 'max': '_automl_target_col', 'mean': '_automl_target_col'}, 'max_horizon': 3, 'origin_time_colname': 'origin', 'country_or_region': None, 'n_cross_validations': 3, 'short_series_handling': True, 'max_cores_per_iteration': 1, 'feature_lags': None, 'target_aggregation_function': None, 'cv_step_size': 1, 'seasonality': 4, 'use_stl': None, 'freq': 'W-THU', 'short_series_handling_configuration': 'auto', 'target_lags': [0], 'target_rolling_window_size': 0, 'arimax_raw_columns': ['price1', 'week', 'price9', 'profit', 'week_start', 'price5', 'price2', 'price4', 'price10', 'price8', 'store', 'price11', 'price3', 'price6', 'constant', 'brand', 'feat', 'price7', 'deal']}))], verbose=False))], weights=[0.8, 0.2]))]\n"
     ]
    }
   ],
   "source": [
    "print(best_automl_model.steps)"
   ]
  },
  {
   "cell_type": "markdown",
   "metadata": {},
   "source": [
    "## Model Deployment\n",
    "\n",
    "Remember you have to deploy only one of the two models you trained but you still need to register both the models. Perform the steps in the rest of this notebook only if you wish to deploy this model.\n",
    "\n",
    "TODO: In the cell below, register the model, create an inference config and deploy the model as a web service."
   ]
  },
  {
   "cell_type": "code",
   "execution_count": 74,
   "metadata": {
    "gather": {
     "logged": 1598431435189
    },
    "jupyter": {
     "outputs_hidden": false,
     "source_hidden": false
    },
    "nteract": {
     "transient": {
      "deleting": false
     }
    }
   },
   "outputs": [],
   "source": [
    "# Register the best AutoML model\n",
    "automl_model_name = best_run_automl.properties[\"model_name\"]\n",
    "model_reg = remote_run.register_model(model_name = automl_model_name,\n",
    "                                  description = \"AutoML model for forecasting.\",\n",
    "                                  tags = None)"
   ]
  },
  {
   "cell_type": "code",
   "execution_count": 79,
   "metadata": {},
   "outputs": [
    {
     "data": {
      "text/plain": [
       "'AutoMLfad18826420'"
      ]
     },
     "execution_count": 79,
     "metadata": {},
     "output_type": "execute_result"
    }
   ],
   "source": [
    "automl_model_name"
   ]
  },
  {
   "cell_type": "code",
   "execution_count": 75,
   "metadata": {},
   "outputs": [
    {
     "data": {
      "text/plain": [
       "Model(workspace=Workspace.create(name='quick-starts-ws-199690', subscription_id='3d1a56d2-7c81-4118-9790-f85d1acf0c77', resource_group='aml-quickstarts-199690'), name=AutoMLfad18826420, id=AutoMLfad18826420:3, version=3, tags={}, properties={})"
      ]
     },
     "execution_count": 75,
     "metadata": {},
     "output_type": "execute_result"
    }
   ],
   "source": [
    "model_reg"
   ]
  },
  {
   "cell_type": "code",
   "execution_count": 76,
   "metadata": {},
   "outputs": [
    {
     "data": {
      "text/plain": [
       "'outputs_automl/model.pkl'"
      ]
     },
     "execution_count": 76,
     "metadata": {},
     "output_type": "execute_result"
    }
   ],
   "source": [
    "model_reg.download(target_dir='outputs_automl', exist_ok=True)"
   ]
  },
  {
   "cell_type": "code",
   "execution_count": 77,
   "metadata": {},
   "outputs": [
    {
     "name": "stdout",
     "output_type": "stream",
     "text": [
      "Model ID AutoMLfad18826420\n"
     ]
    }
   ],
   "source": [
    "print(\"Model ID\", remote_run.model_id)"
   ]
  },
  {
   "cell_type": "code",
   "execution_count": 104,
   "metadata": {},
   "outputs": [],
   "source": [
    "model = Model(ws,automl_model_name, version=1)"
   ]
  },
  {
   "cell_type": "code",
   "execution_count": 32,
   "metadata": {},
   "outputs": [],
   "source": [
    "# Create a file containing the environment details\n",
    "best_run_automl.download_file(constants.CONDA_ENV_FILE_PATH, 'myenv.yml')\n",
    "myenv = Environment.from_conda_specification(name=\"myenv\", file_path=\"myenv.yml\")"
   ]
  },
  {
   "cell_type": "code",
   "execution_count": 105,
   "metadata": {},
   "outputs": [],
   "source": [
    "inference_config = InferenceConfig(entry_script=\"score.py\", environment=myenv)\n",
    "aciconfig = AciWebservice.deploy_configuration(\n",
    "    cpu_cores=1,\n",
    "    memory_gb=1,\n",
    "    description=\"AutoML model to forecast Orange Juice data\"\n",
    ")\n",
    "\n",
    "service = Model.deploy(workspace=ws,\n",
    "             name=\"automl\", \n",
    "             models=[model], \n",
    "             inference_config=inference_config, \n",
    "             deployment_config=aciconfig)"
   ]
  },
  {
   "cell_type": "code",
   "execution_count": 106,
   "metadata": {},
   "outputs": [
    {
     "name": "stdout",
     "output_type": "stream",
     "text": [
      "Tips: You can try get_logs(): https://aka.ms/debugimage#dockerlog or local deployment: https://aka.ms/debugimage#debug-locally to debug if deployment takes longer than 10 minutes.\n",
      "Running\n",
      "2022-06-28 19:15:23+00:00 Creating Container Registry if not exists.\n",
      "2022-06-28 19:15:23+00:00 Registering the environment.\n",
      "2022-06-28 19:15:24+00:00 Generating deployment configuration..\n",
      "2022-06-28 19:19:51+00:00 Submitting deployment to compute..\n",
      "2022-06-28 19:20:19+00:00 Checking the status of deployment automl..\n",
      "2022-06-28 19:25:10+00:00 Checking the status of inference endpoint automl.\n",
      "Succeeded\n",
      "ACI service creation operation finished, operation \"Succeeded\"\n"
     ]
    }
   ],
   "source": [
    "service.wait_for_deployment(True)"
   ]
  },
  {
   "cell_type": "code",
   "execution_count": 107,
   "metadata": {},
   "outputs": [
    {
     "name": "stdout",
     "output_type": "stream",
     "text": [
      "Healthy\n"
     ]
    }
   ],
   "source": [
    "print(service.state)"
   ]
  },
  {
   "cell_type": "markdown",
   "metadata": {
    "collapsed": true,
    "gather": {
     "logged": 1598431657736
    },
    "jupyter": {
     "outputs_hidden": false,
     "source_hidden": false
    },
    "nteract": {
     "transient": {
      "deleting": false
     }
    }
   },
   "source": [
    "TODO: In the cell below, send a request to the web service you deployed to test it."
   ]
  },
  {
   "cell_type": "code",
   "execution_count": 36,
   "metadata": {},
   "outputs": [],
   "source": [
    "# Prepare data to test it on the web service\n",
    "X = test_df\n",
    "ground_truth = test_df.pop(target).values"
   ]
  },
  {
   "cell_type": "code",
   "execution_count": 40,
   "metadata": {},
   "outputs": [
    {
     "data": {
      "text/html": [
       "<div>\n",
       "<style scoped>\n",
       "    .dataframe tbody tr th:only-of-type {\n",
       "        vertical-align: middle;\n",
       "    }\n",
       "\n",
       "    .dataframe tbody tr th {\n",
       "        vertical-align: top;\n",
       "    }\n",
       "\n",
       "    .dataframe thead th {\n",
       "        text-align: right;\n",
       "    }\n",
       "</style>\n",
       "<table border=\"1\" class=\"dataframe\">\n",
       "  <thead>\n",
       "    <tr style=\"text-align: right;\">\n",
       "      <th></th>\n",
       "      <th>store</th>\n",
       "      <th>brand</th>\n",
       "      <th>week</th>\n",
       "      <th>logmove</th>\n",
       "      <th>constant</th>\n",
       "      <th>price1</th>\n",
       "      <th>price2</th>\n",
       "      <th>price3</th>\n",
       "      <th>price4</th>\n",
       "      <th>price5</th>\n",
       "      <th>price6</th>\n",
       "      <th>price7</th>\n",
       "      <th>price8</th>\n",
       "      <th>price9</th>\n",
       "      <th>price10</th>\n",
       "      <th>price11</th>\n",
       "      <th>deal</th>\n",
       "      <th>feat</th>\n",
       "      <th>profit</th>\n",
       "      <th>week_start</th>\n",
       "    </tr>\n",
       "  </thead>\n",
       "  <tbody>\n",
       "    <tr>\n",
       "      <th>85</th>\n",
       "      <td>2</td>\n",
       "      <td>1</td>\n",
       "      <td>136</td>\n",
       "      <td>8.59</td>\n",
       "      <td>1</td>\n",
       "      <td>0.05</td>\n",
       "      <td>0.05</td>\n",
       "      <td>0.05</td>\n",
       "      <td>0.05</td>\n",
       "      <td>0.04</td>\n",
       "      <td>0.05</td>\n",
       "      <td>0.03</td>\n",
       "      <td>0.04</td>\n",
       "      <td>0.03</td>\n",
       "      <td>0.02</td>\n",
       "      <td>0.03</td>\n",
       "      <td>0</td>\n",
       "      <td>0.00</td>\n",
       "      <td>33.54</td>\n",
       "      <td>1992-04-16</td>\n",
       "    </tr>\n",
       "    <tr>\n",
       "      <th>86</th>\n",
       "      <td>2</td>\n",
       "      <td>1</td>\n",
       "      <td>137</td>\n",
       "      <td>9.19</td>\n",
       "      <td>1</td>\n",
       "      <td>0.04</td>\n",
       "      <td>0.05</td>\n",
       "      <td>0.05</td>\n",
       "      <td>0.04</td>\n",
       "      <td>0.03</td>\n",
       "      <td>0.04</td>\n",
       "      <td>0.03</td>\n",
       "      <td>0.04</td>\n",
       "      <td>0.04</td>\n",
       "      <td>0.02</td>\n",
       "      <td>0.03</td>\n",
       "      <td>0</td>\n",
       "      <td>0.00</td>\n",
       "      <td>20.43</td>\n",
       "      <td>1992-04-23</td>\n",
       "    </tr>\n",
       "    <tr>\n",
       "      <th>87</th>\n",
       "      <td>2</td>\n",
       "      <td>1</td>\n",
       "      <td>138</td>\n",
       "      <td>9.74</td>\n",
       "      <td>1</td>\n",
       "      <td>0.04</td>\n",
       "      <td>0.04</td>\n",
       "      <td>0.05</td>\n",
       "      <td>0.04</td>\n",
       "      <td>0.04</td>\n",
       "      <td>0.05</td>\n",
       "      <td>0.04</td>\n",
       "      <td>0.04</td>\n",
       "      <td>0.04</td>\n",
       "      <td>0.03</td>\n",
       "      <td>0.03</td>\n",
       "      <td>1</td>\n",
       "      <td>1.00</td>\n",
       "      <td>11.29</td>\n",
       "      <td>1992-04-30</td>\n",
       "    </tr>\n",
       "    <tr>\n",
       "      <th>195</th>\n",
       "      <td>2</td>\n",
       "      <td>2</td>\n",
       "      <td>136</td>\n",
       "      <td>9.14</td>\n",
       "      <td>1</td>\n",
       "      <td>0.05</td>\n",
       "      <td>0.05</td>\n",
       "      <td>0.05</td>\n",
       "      <td>0.05</td>\n",
       "      <td>0.04</td>\n",
       "      <td>0.05</td>\n",
       "      <td>0.03</td>\n",
       "      <td>0.04</td>\n",
       "      <td>0.03</td>\n",
       "      <td>0.02</td>\n",
       "      <td>0.03</td>\n",
       "      <td>1</td>\n",
       "      <td>0.00</td>\n",
       "      <td>27.13</td>\n",
       "      <td>1992-04-16</td>\n",
       "    </tr>\n",
       "    <tr>\n",
       "      <th>196</th>\n",
       "      <td>2</td>\n",
       "      <td>2</td>\n",
       "      <td>137</td>\n",
       "      <td>8.74</td>\n",
       "      <td>1</td>\n",
       "      <td>0.04</td>\n",
       "      <td>0.05</td>\n",
       "      <td>0.05</td>\n",
       "      <td>0.04</td>\n",
       "      <td>0.03</td>\n",
       "      <td>0.04</td>\n",
       "      <td>0.03</td>\n",
       "      <td>0.04</td>\n",
       "      <td>0.04</td>\n",
       "      <td>0.02</td>\n",
       "      <td>0.03</td>\n",
       "      <td>0</td>\n",
       "      <td>0.00</td>\n",
       "      <td>33.30</td>\n",
       "      <td>1992-04-23</td>\n",
       "    </tr>\n",
       "  </tbody>\n",
       "</table>\n",
       "</div>"
      ],
      "text/plain": [
       "     store  brand  week  logmove  constant  price1  price2  price3  price4  \\\n",
       "85       2      1   136     8.59         1    0.05    0.05    0.05    0.05   \n",
       "86       2      1   137     9.19         1    0.04    0.05    0.05    0.04   \n",
       "87       2      1   138     9.74         1    0.04    0.04    0.05    0.04   \n",
       "195      2      2   136     9.14         1    0.05    0.05    0.05    0.05   \n",
       "196      2      2   137     8.74         1    0.04    0.05    0.05    0.04   \n",
       "\n",
       "     price5  price6  price7  price8  price9  price10  price11  deal  feat  \\\n",
       "85     0.04    0.05    0.03    0.04    0.03     0.02     0.03     0  0.00   \n",
       "86     0.03    0.04    0.03    0.04    0.04     0.02     0.03     0  0.00   \n",
       "87     0.04    0.05    0.04    0.04    0.04     0.03     0.03     1  1.00   \n",
       "195    0.04    0.05    0.03    0.04    0.03     0.02     0.03     1  0.00   \n",
       "196    0.03    0.04    0.03    0.04    0.04     0.02     0.03     0  0.00   \n",
       "\n",
       "     profit week_start  \n",
       "85    33.54 1992-04-16  \n",
       "86    20.43 1992-04-23  \n",
       "87    11.29 1992-04-30  \n",
       "195   27.13 1992-04-16  \n",
       "196   33.30 1992-04-23  "
      ]
     },
     "execution_count": 40,
     "metadata": {},
     "output_type": "execute_result"
    }
   ],
   "source": [
    "# Visualize the first five lines of the test data\n",
    "X.head(5)"
   ]
  },
  {
   "cell_type": "code",
   "execution_count": 111,
   "metadata": {},
   "outputs": [],
   "source": [
    "test_X = X.iloc[:1,:]"
   ]
  },
  {
   "cell_type": "code",
   "execution_count": 112,
   "metadata": {},
   "outputs": [],
   "source": [
    "# Save the test data \"X\" as a json file \"data.json\"\n",
    "raw_data = './data.json'\n",
    "test_X.to_json('./data.json')"
   ]
  },
  {
   "cell_type": "code",
   "execution_count": 113,
   "metadata": {},
   "outputs": [
    {
     "name": "stderr",
     "output_type": "stream",
     "text": [
      "ERROR:azureml.core.webservice.aci:Received bad response from service. More information can be found by calling `.get_logs()` on the webservice object.\n",
      "Response Code: 502\n",
      "Headers: {'Connection': 'keep-alive', 'Content-Length': '24', 'Content-Type': 'text/html; charset=utf-8', 'Date': 'Tue, 28 Jun 2022 19:50:10 GMT', 'Server': 'nginx/1.18.0 (Ubuntu)', 'X-Ms-Request-Id': 'c6ff49bb-e4a6-4c91-abd2-1013defadc16', 'X-Ms-Run-Function-Failed': 'True'}\n",
      "Content: b'Expected object or value'\n",
      "\n"
     ]
    },
    {
     "ename": "WebserviceException",
     "evalue": "WebserviceException:\n\tMessage: Received bad response from service. More information can be found by calling `.get_logs()` on the webservice object.\nResponse Code: 502\nHeaders: {'Connection': 'keep-alive', 'Content-Length': '24', 'Content-Type': 'text/html; charset=utf-8', 'Date': 'Tue, 28 Jun 2022 19:50:10 GMT', 'Server': 'nginx/1.18.0 (Ubuntu)', 'X-Ms-Request-Id': 'c6ff49bb-e4a6-4c91-abd2-1013defadc16', 'X-Ms-Run-Function-Failed': 'True'}\nContent: b'Expected object or value'\n\tInnerException None\n\tErrorResponse \n{\n    \"error\": {\n        \"message\": \"Received bad response from service. More information can be found by calling `.get_logs()` on the webservice object.\\nResponse Code: 502\\nHeaders: {'Connection': 'keep-alive', 'Content-Length': '24', 'Content-Type': 'text/html; charset=utf-8', 'Date': 'Tue, 28 Jun 2022 19:50:10 GMT', 'Server': 'nginx/1.18.0 (Ubuntu)', 'X-Ms-Request-Id': 'c6ff49bb-e4a6-4c91-abd2-1013defadc16', 'X-Ms-Run-Function-Failed': 'True'}\\nContent: b'Expected object or value'\"\n    }\n}",
     "output_type": "error",
     "traceback": [
      "\u001b[0;31m---------------------------------------------------------------------------\u001b[0m",
      "\u001b[0;31mWebserviceException\u001b[0m                       Traceback (most recent call last)",
      "Input \u001b[0;32mIn [113]\u001b[0m, in \u001b[0;36m<cell line: 1>\u001b[0;34m()\u001b[0m\n\u001b[0;32m----> 1\u001b[0m forecasts, X_future \u001b[38;5;241m=\u001b[39m \u001b[43mservice\u001b[49m\u001b[38;5;241;43m.\u001b[39;49m\u001b[43mrun\u001b[49m\u001b[43m(\u001b[49m\u001b[43minput_data\u001b[49m\u001b[38;5;241;43m=\u001b[39;49m\u001b[43mraw_data\u001b[49m\u001b[43m)\u001b[49m\n",
      "File \u001b[0;32m/anaconda/envs/azureml_py38/lib/python3.8/site-packages/azureml/core/webservice/aci.py:400\u001b[0m, in \u001b[0;36mAciWebservice.run\u001b[0;34m(self, input_data)\u001b[0m\n\u001b[1;32m    398\u001b[0m     \u001b[38;5;28;01mreturn\u001b[39;00m resp\u001b[38;5;241m.\u001b[39mjson()\n\u001b[1;32m    399\u001b[0m \u001b[38;5;28;01melse\u001b[39;00m:\n\u001b[0;32m--> 400\u001b[0m     \u001b[38;5;28;01mraise\u001b[39;00m WebserviceException(\u001b[38;5;124m'\u001b[39m\u001b[38;5;124mReceived bad response from service. More information can be found by calling \u001b[39m\u001b[38;5;124m'\u001b[39m\n\u001b[1;32m    401\u001b[0m                               \u001b[38;5;124m'\u001b[39m\u001b[38;5;124m`.get_logs()` on the webservice object.\u001b[39m\u001b[38;5;130;01m\\n\u001b[39;00m\u001b[38;5;124m'\u001b[39m\n\u001b[1;32m    402\u001b[0m                               \u001b[38;5;124m'\u001b[39m\u001b[38;5;124mResponse Code: \u001b[39m\u001b[38;5;132;01m{}\u001b[39;00m\u001b[38;5;130;01m\\n\u001b[39;00m\u001b[38;5;124m'\u001b[39m\n\u001b[1;32m    403\u001b[0m                               \u001b[38;5;124m'\u001b[39m\u001b[38;5;124mHeaders: \u001b[39m\u001b[38;5;132;01m{}\u001b[39;00m\u001b[38;5;130;01m\\n\u001b[39;00m\u001b[38;5;124m'\u001b[39m\n\u001b[1;32m    404\u001b[0m                               \u001b[38;5;124m'\u001b[39m\u001b[38;5;124mContent: \u001b[39m\u001b[38;5;132;01m{}\u001b[39;00m\u001b[38;5;124m'\u001b[39m\u001b[38;5;241m.\u001b[39mformat(resp\u001b[38;5;241m.\u001b[39mstatus_code, resp\u001b[38;5;241m.\u001b[39mheaders, resp\u001b[38;5;241m.\u001b[39mcontent),\n\u001b[1;32m    405\u001b[0m                               logger\u001b[38;5;241m=\u001b[39mmodule_logger)\n",
      "\u001b[0;31mWebserviceException\u001b[0m: WebserviceException:\n\tMessage: Received bad response from service. More information can be found by calling `.get_logs()` on the webservice object.\nResponse Code: 502\nHeaders: {'Connection': 'keep-alive', 'Content-Length': '24', 'Content-Type': 'text/html; charset=utf-8', 'Date': 'Tue, 28 Jun 2022 19:50:10 GMT', 'Server': 'nginx/1.18.0 (Ubuntu)', 'X-Ms-Request-Id': 'c6ff49bb-e4a6-4c91-abd2-1013defadc16', 'X-Ms-Run-Function-Failed': 'True'}\nContent: b'Expected object or value'\n\tInnerException None\n\tErrorResponse \n{\n    \"error\": {\n        \"message\": \"Received bad response from service. More information can be found by calling `.get_logs()` on the webservice object.\\nResponse Code: 502\\nHeaders: {'Connection': 'keep-alive', 'Content-Length': '24', 'Content-Type': 'text/html; charset=utf-8', 'Date': 'Tue, 28 Jun 2022 19:50:10 GMT', 'Server': 'nginx/1.18.0 (Ubuntu)', 'X-Ms-Request-Id': 'c6ff49bb-e4a6-4c91-abd2-1013defadc16', 'X-Ms-Run-Function-Failed': 'True'}\\nContent: b'Expected object or value'\"\n    }\n}"
     ]
    }
   ],
   "source": [
    "forecasts, X_future = service.run(input_data=raw_data)"
   ]
  },
  {
   "cell_type": "code",
   "execution_count": null,
   "metadata": {},
   "outputs": [],
   "source": [
    "df_result = align_outputs(forecasts, X_future, X, ground_truth, target)"
   ]
  },
  {
   "cell_type": "code",
   "execution_count": null,
   "metadata": {},
   "outputs": [],
   "source": [
    "df_result.head(5)"
   ]
  },
  {
   "cell_type": "markdown",
   "metadata": {
    "collapsed": true,
    "gather": {
     "logged": 1598432765711
    },
    "jupyter": {
     "outputs_hidden": false,
     "source_hidden": false
    },
    "nteract": {
     "transient": {
      "deleting": false
     }
    }
   },
   "source": [
    "TODO: In the cell below, print the logs of the web service and delete the service"
   ]
  },
  {
   "cell_type": "code",
   "execution_count": null,
   "metadata": {},
   "outputs": [],
   "source": [
    "# Enable application insights\n",
    "service.update(enable_app_insights=True)"
   ]
  },
  {
   "cell_type": "code",
   "execution_count": 114,
   "metadata": {},
   "outputs": [
    {
     "data": {
      "text/plain": [
       "'/bin/bash: /azureml-envs/azureml_7becf92bd9d8786204e7278bb441885c/lib/libtinfo.so.6: no version information available (required by /bin/bash)\\n/bin/bash: /azureml-envs/azureml_7becf92bd9d8786204e7278bb441885c/lib/libtinfo.so.6: no version information available (required by /bin/bash)\\n/bin/bash: /azureml-envs/azureml_7becf92bd9d8786204e7278bb441885c/lib/libtinfo.so.6: no version information available (required by /bin/bash)\\n/bin/bash: /azureml-envs/azureml_7becf92bd9d8786204e7278bb441885c/lib/libtinfo.so.6: no version information available (required by /bin/bash)\\n2022-06-28T19:22:27,658227000+00:00 - gunicorn/run \\n2022-06-28T19:22:27,659829400+00:00 - iot-server/run \\n2022-06-28T19:22:27,651695200+00:00 - rsyslog/run \\nbash: /azureml-envs/azureml_7becf92bd9d8786204e7278bb441885c/lib/libtinfo.so.6: no version information available (required by bash)\\n2022-06-28T19:22:27,669996900+00:00 | gunicorn/run | \\n2022-06-28T19:22:27,676337500+00:00 - nginx/run \\n2022-06-28T19:22:27,685858100+00:00 | gunicorn/run | ###############################################\\n2022-06-28T19:22:27,696215400+00:00 | gunicorn/run | AzureML Container Runtime Information\\n2022-06-28T19:22:27,711829400+00:00 | gunicorn/run | ###############################################\\n2022-06-28T19:22:27,721060200+00:00 | gunicorn/run | \\n2022-06-28T19:22:27,729972500+00:00 | gunicorn/run | \\n2022-06-28T19:22:27,749866700+00:00 | gunicorn/run | PATH environment variable: /azureml-envs/azureml_7becf92bd9d8786204e7278bb441885c/bin:/opt/miniconda/bin:/usr/local/sbin:/usr/local/bin:/usr/sbin:/usr/bin:/sbin:/bin\\n2022-06-28T19:22:27,762500400+00:00 | gunicorn/run | PYTHONPATH environment variable: \\n2022-06-28T19:22:27,785502700+00:00 | gunicorn/run | \\n2022-06-28T19:22:27,787627500+00:00 | gunicorn/run | Pip Dependencies (before dynamic installation)\\n\\nEdgeHubConnectionString and IOTEDGE_IOTHUBHOSTNAME are not set. Exiting...\\n/bin/bash: /azureml-envs/azureml_7becf92bd9d8786204e7278bb441885c/lib/libtinfo.so.6: no version information available (required by /bin/bash)\\n2022-06-28T19:22:28,006861800+00:00 - iot-server/finish 1 0\\n2022-06-28T19:22:28,008566400+00:00 - Exit code 1 is normal. Not restarting iot-server.\\nadal==1.2.7\\naiofiles==0.8.0\\naiohttp==3.7.4.post0\\naiotask-context==0.6.1\\napplicationinsights==0.11.10\\nargcomplete==2.0.0\\narviz @ file:///tmp/build/80754af9/arviz_1614019183254/work\\nasync-timeout==3.0.1\\nattrs==21.4.0\\nazure-common==1.1.28\\nazure-core==1.22.1\\nazure-graphrbac==0.61.1\\nazure-identity==1.7.0\\nazure-mgmt-authorization==2.0.0\\nazure-mgmt-containerregistry==9.1.0\\nazure-mgmt-core==1.3.0\\nazure-mgmt-keyvault==9.3.0\\nazure-mgmt-resource==21.0.0\\nazure-mgmt-storage==20.0.0\\nazure-storage-queue==12.2.0\\nazureml-automl-core==1.42.0.post1\\nazureml-automl-runtime==1.42.0.post1\\nazureml-core==1.42.0.post1\\nazureml-dataprep==4.0.4\\nazureml-dataprep-native==38.0.0\\nazureml-dataprep-rslex==2.6.3\\nazureml-dataset-runtime==1.42.0\\nazureml-defaults==1.42.0\\nazureml-inference-server-http==0.4.9\\nazureml-interpret==1.42.0\\nazureml-mlflow==1.42.0\\nazureml-telemetry==1.42.0\\nazureml-train-automl-client==1.42.0.post1\\nazureml-train-automl-runtime==1.42.0.post1\\nazureml-train-core==1.42.0\\nazureml-train-restclients-hyperdrive==1.42.0\\nazureml-training-tabular==1.42.0.post1\\nbackports.tempfile==1.0\\nbackports.weakref==1.0.post1\\nbcrypt==3.2.2\\nbokeh==2.4.3\\nboto==2.49.0\\nboto3==1.20.19\\nbotocore==1.23.19\\nBrotli==1.0.9\\ncachetools==5.2.0\\ncertifi @ file:///opt/conda/conda-bld/certifi_1655968806487/work/certifi\\ncffi==1.15.0\\ncftime @ file:///tmp/build/80754af9/cftime_1638345281172/work\\nchardet==4.0.0\\ncharset-normalizer==2.0.12\\nclick==8.1.3\\ncloudpickle==2.1.0\\nconfigparser==3.7.4\\ncontextlib2==21.6.0\\nconvertdate @ file:///tmp/build/80754af9/convertdate_1634070773133/work\\ncryptography==36.0.2\\ncycler @ file:///tmp/build/80754af9/cycler_1637851556182/work\\nCython==0.29.17\\ndask==2.30.0\\ndatabricks-cli==0.17.0\\ndataclasses==0.6\\ndill==0.3.5.1\\ndistributed==2.30.1\\ndistro==1.7.0\\ndocker==5.0.3\\ndotnetcore2==3.1.23\\nentrypoints==0.4\\nephem @ file:///tmp/build/80754af9/ephem_1638960312619/work\\nfbprophet @ file:///home/conda/feedstock_root/build_artifacts/fbprophet_1599365534439/work\\nfire==0.4.0\\nFlask==1.0.3\\nflatbuffers==2.0\\nfonttools==4.25.0\\nfsspec==2022.5.0\\nfusepy==3.0.1\\ngensim==3.8.3\\ngevent==21.12.0\\ngeventhttpclient==1.5.5\\ngitdb==4.0.9\\nGitPython==3.1.27\\ngoogle-api-core==2.8.2\\ngoogle-auth==2.8.0\\ngoogleapis-common-protos==1.56.3\\ngreenlet==1.1.2\\ngrpcio==1.47.0\\ngrpcio-tools==1.38.1\\ngunicorn==20.1.0\\nHeapDict==1.0.1\\nholidays @ file:///home/conda/feedstock_root/build_artifacts/holidays_1595448845196/work\\nhttptools==0.4.0\\nhumanfriendly==10.0\\nidna==3.3\\nimportlib-metadata==4.12.0\\nimportlib-resources==5.8.0\\ninference-schema==1.3.2\\ninterpret-community==0.25.0\\ninterpret-core==0.2.7\\nisodate==0.6.1\\nitsdangerous==1.1.0\\njeepney==0.8.0\\nJinja2==2.11.2\\njmespath==0.10.0\\njoblib==0.14.1\\njson-logging-py==0.2\\njsonpickle==2.2.0\\njsonschema==4.6.1\\nkeras2onnx==1.6.0\\nkiwisolver @ file:///opt/conda/conda-bld/kiwisolver_1653292039266/work\\nknack==0.9.0\\nkorean-lunar-calendar @ file:///tmp/build/80754af9/korean_lunar_calendar_1634063020401/work\\nlightgbm==3.2.1\\nllvmlite==0.36.0\\nlocket==1.0.0\\nLunarCalendar @ file:///tmp/build/80754af9/lunarcalendar_1646383991234/work\\nMarkupSafe==2.0.1\\nmatplotlib @ file:///tmp/build/80754af9/matplotlib-suite_1634667019719/work\\nmkl-fft==1.3.0\\nmkl-random==1.1.0\\nmkl-service==2.3.0\\nml-wrappers==0.1.0\\nmlflow-skinny==1.26.1\\nmsal==1.18.0\\nmsal-extensions==0.3.1\\nmsgpack==1.0.4\\nmsrest==0.6.21\\nmsrestazure==0.6.4\\nmultidict==5.2.0\\nmunkres==1.1.4\\nndg-httpsclient==0.5.1\\nnetCDF4==1.5.7\\nnimbusml==1.8.0\\nnumba==0.53.1\\nnumpy==1.19.5\\noauthlib==3.2.0\\nonnx==1.7.0\\nonnxconverter-common==1.6.0\\nonnxmltools==1.4.1\\nonnxruntime==1.8.1\\nopencensus==0.9.0\\nopencensus-context==0.1.2\\nopencensus-ext-azure==1.1.4\\npackaging @ file:///tmp/build/80754af9/packaging_1637314298585/work\\npandas==1.1.5\\nparamiko==2.11.0\\npartd==1.2.0\\npathspec==0.9.0\\npatsy==0.5.2\\nPillow==9.0.1\\npkginfo==1.8.3\\npmdarima==1.7.1\\nportalocker==2.4.0\\nprotobuf==3.17.3\\npsutil @ file:///tmp/build/80754af9/psutil_1612298016854/work\\npyarrow==3.0.0\\npyasn1==0.4.8\\npyasn1-modules==0.2.8\\npycparser==2.21\\nPygments==2.12.0\\nPyJWT==2.4.0\\nPyMeeus @ file:///tmp/build/80754af9/pymeeus_1634069098549/work\\nPyNaCl==1.5.0\\npyOpenSSL==22.0.0\\npyparsing @ file:///tmp/build/80754af9/pyparsing_1635766073266/work\\npyrsistent==0.18.1\\nPySocks==1.7.1\\npystan @ file:///tmp/build/80754af9/pystan_1613565226242/work\\npython-dateutil @ file:///tmp/build/80754af9/python-dateutil_1626374649649/work\\npython-rapidjson==1.6\\npytz @ file:///opt/conda/conda-bld/pytz_1654762638606/work\\nPyYAML==6.0\\nrequests==2.28.0\\nrequests-oauthlib==1.3.1\\nrsa==4.8\\ns3transfer==0.5.2\\nsanic==21.6.2\\nSanic-Cors==1.0.1\\nsanic-plugin-toolkit==1.2.1\\nsanic-routing==0.7.2\\nscikit-learn==0.22.1\\nscipy==1.5.2\\nSecretStorage==3.3.2\\nshap==0.39.0\\nsix @ file:///tmp/build/80754af9/six_1644875935023/work\\nskl2onnx==1.4.9\\nsklearn-pandas==1.7.0\\nslicer==0.0.7\\nsmart-open==1.9.0\\nsmmap==5.0.0\\nsortedcontainers==2.4.0\\nstatsmodels==0.11.1\\ntabulate==0.8.10\\ntblib==1.7.0\\ntermcolor==1.1.0\\ntoolz==0.11.2\\ntornado @ file:///tmp/build/80754af9/tornado_1606942283357/work\\ntqdm @ file:///opt/conda/conda-bld/tqdm_1650891076910/work\\ntritonclient==2.11.0\\ntyping_extensions @ file:///opt/conda/conda-bld/typing_extensions_1647553014482/work\\nujson==5.3.0\\nurllib3==1.26.9\\nuvloop==0.16.0\\nwebsocket-client==1.3.3\\nwebsockets==10.3\\nWerkzeug==2.1.2\\nwrapt==1.12.1\\nxarray @ file:///opt/conda/conda-bld/xarray_1639166117697/work\\nxgboost==1.3.3\\nyarl==1.7.2\\nzict==2.2.0\\nzipp==3.8.0\\nzope.event==4.5.0\\nzope.interface==5.4.0\\n\\n2022-06-28T19:22:30,046459100+00:00 | gunicorn/run | \\n2022-06-28T19:22:30,047914300+00:00 | gunicorn/run | ###############################################\\n2022-06-28T19:22:30,053702100+00:00 | gunicorn/run | AzureML Inference Server\\n2022-06-28T19:22:30,055512600+00:00 | gunicorn/run | ###############################################\\n2022-06-28T19:22:30,063761100+00:00 | gunicorn/run | \\n2022-06-28T19:22:30,071347000+00:00 | gunicorn/run | \\n2022-06-28T19:22:30,077931400+00:00 | gunicorn/run | Starting HTTP server\\n2022-06-28T19:22:30,082693100+00:00 | gunicorn/run | \\nStarting gunicorn 20.1.0\\nListening at: http://127.0.0.1:31311 (74)\\nUsing worker: sync\\nworker timeout is set to 300\\nBooting worker with pid: 121\\nSPARK_HOME not set. Skipping PySpark Initialization.\\nInitializing logger\\n2022-06-28 19:22:35,403 | root | INFO | Starting up app insights client\\nlogging socket was found. logging is available.\\nlogging socket was found. logging is available.\\n2022-06-28 19:22:35,404 | root | INFO | Starting up request id generator\\n2022-06-28 19:22:35,405 | root | INFO | Starting up app insight hooks\\n2022-06-28 19:22:35,406 | root | INFO | Invoking user\\'s init function\\ngenerated new fontManager\\nImporting plotly failed. Interactive plots will not work.\\n2022-06-28 19:22:44,321 | root | INFO | Users\\'s init has completed successfully\\n2022-06-28 19:22:44,335 | root | INFO | Skipping middleware: dbg_model_info as it\\'s not enabled.\\n2022-06-28 19:22:44,335 | root | INFO | Skipping middleware: dbg_resource_usage as it\\'s not enabled.\\n2022-06-28 19:22:44,336 | root | INFO | Scoring timeout is found from os.environ: 60000 ms\\n2022-06-28 19:25:10,807 | root | INFO | Swagger file not present\\n2022-06-28 19:25:10,807 | root | INFO | 404\\n127.0.0.1 - - [28/Jun/2022:19:25:10 +0000] \"GET /swagger.json HTTP/1.0\" 404 19 \"-\" \"Go-http-client/1.1\"\\n2022-06-28 19:27:02,124 | root | INFO | Swagger file not present\\n2022-06-28 19:27:02,126 | root | INFO | 404\\n127.0.0.1 - - [28/Jun/2022:19:27:02 +0000] \"GET /swagger.json HTTP/1.0\" 404 19 \"-\" \"Go-http-client/1.1\"\\n2022-06-28 19:27:37,678 | root | INFO | Scoring Timer is set to 60.0 seconds\\n284400d3-64b0-49fd-90d4-bd3931734c85,./data.json\\n2022-06-28 19:27:37,698 | root | ERROR | Encountered Exception: Traceback (most recent call last):\\n  File \"/var/azureml-server/routes.py\", line 294, in run_scoring\\n    response, time_taken_ms = invoke_user_with_timer(service_input, request_headers)\\n  File \"/var/azureml-server/routes.py\", line 341, in invoke_user_with_timer\\n    result, time_taken_ms = capture_time_taken(user_main.run)(**params)\\n  File \"/var/azureml-server/routes.py\", line 322, in timer\\n    result = func(*args, **kwargs)\\n  File \"/var/azureml-app/score.py\", line 23, in run\\n    df_data = pd.read_json(raw_data)\\n  File \"/azureml-envs/azureml_7becf92bd9d8786204e7278bb441885c/lib/python3.7/site-packages/pandas/util/_decorators.py\", line 199, in wrapper\\n    return func(*args, **kwargs)\\n  File \"/azureml-envs/azureml_7becf92bd9d8786204e7278bb441885c/lib/python3.7/site-packages/pandas/util/_decorators.py\", line 296, in wrapper\\n    return func(*args, **kwargs)\\n  File \"/azureml-envs/azureml_7becf92bd9d8786204e7278bb441885c/lib/python3.7/site-packages/pandas/io/json/_json.py\", line 618, in read_json\\n    result = json_reader.read()\\n  File \"/azureml-envs/azureml_7becf92bd9d8786204e7278bb441885c/lib/python3.7/site-packages/pandas/io/json/_json.py\", line 755, in read\\n    obj = self._get_object_parser(self.data)\\n  File \"/azureml-envs/azureml_7becf92bd9d8786204e7278bb441885c/lib/python3.7/site-packages/pandas/io/json/_json.py\", line 777, in _get_object_parser\\n    obj = FrameParser(json, **kwargs).parse()\\n  File \"/azureml-envs/azureml_7becf92bd9d8786204e7278bb441885c/lib/python3.7/site-packages/pandas/io/json/_json.py\", line 886, in parse\\n    self._parse_no_numpy()\\n  File \"/azureml-envs/azureml_7becf92bd9d8786204e7278bb441885c/lib/python3.7/site-packages/pandas/io/json/_json.py\", line 1119, in _parse_no_numpy\\n    loads(json, precise_float=self.precise_float), dtype=None\\nValueError: Expected object or value\\n\\nDuring handling of the above exception, another exception occurred:\\n\\nTraceback (most recent call last):\\n  File \"/azureml-envs/azureml_7becf92bd9d8786204e7278bb441885c/lib/python3.7/site-packages/flask/app.py\", line 1832, in full_dispatch_request\\n    rv = self.dispatch_request()\\n  File \"/azureml-envs/azureml_7becf92bd9d8786204e7278bb441885c/lib/python3.7/site-packages/flask/app.py\", line 1818, in dispatch_request\\n    return self.view_functions[rule.endpoint](**req.view_args)\\n  File \"/var/azureml-server/routes.py\", line 270, in score_realtime\\n    service_input, request.headers, request.environ.get(\"REQUEST_ID\", \"00000000-0000-0000-0000-000000000000\")\\n  File \"/var/azureml-server/routes.py\", line 303, in run_scoring\\n    raise RunFunctionException(str(exc))\\nrun_function_exception.RunFunctionException\\n\\n2022-06-28 19:27:37,700 | root | INFO | 500\\n127.0.0.1 - - [28/Jun/2022:19:27:37 +0000] \"POST /score HTTP/1.0\" 500 24 \"-\" \"python-requests/2.27.1\"\\n2022-06-28 19:27:37,727 | root | INFO | Scoring Timer is set to 60.0 seconds\\n7f826596-1730-4bcf-93f4-1c1ac2986874,./data.json\\n2022-06-28 19:27:37,729 | root | ERROR | Encountered Exception: Traceback (most recent call last):\\n  File \"/var/azureml-server/routes.py\", line 294, in run_scoring\\n    response, time_taken_ms = invoke_user_with_timer(service_input, request_headers)\\n  File \"/var/azureml-server/routes.py\", line 341, in invoke_user_with_timer\\n    result, time_taken_ms = capture_time_taken(user_main.run)(**params)\\n  File \"/var/azureml-server/routes.py\", line 322, in timer\\n    result = func(*args, **kwargs)\\n  File \"/var/azureml-app/score.py\", line 23, in run\\n    df_data = pd.read_json(raw_data)\\n  File \"/azureml-envs/azureml_7becf92bd9d8786204e7278bb441885c/lib/python3.7/site-packages/pandas/util/_decorators.py\", line 199, in wrapper\\n    return func(*args, **kwargs)\\n  File \"/azureml-envs/azureml_7becf92bd9d8786204e7278bb441885c/lib/python3.7/site-packages/pandas/util/_decorators.py\", line 296, in wrapper\\n    return func(*args, **kwargs)\\n  File \"/azureml-envs/azureml_7becf92bd9d8786204e7278bb441885c/lib/python3.7/site-packages/pandas/io/json/_json.py\", line 618, in read_json\\n    result = json_reader.read()\\n  File \"/azureml-envs/azureml_7becf92bd9d8786204e7278bb441885c/lib/python3.7/site-packages/pandas/io/json/_json.py\", line 755, in read\\n    obj = self._get_object_parser(self.data)\\n  File \"/azureml-envs/azureml_7becf92bd9d8786204e7278bb441885c/lib/python3.7/site-packages/pandas/io/json/_json.py\", line 777, in _get_object_parser\\n    obj = FrameParser(json, **kwargs).parse()\\n  File \"/azureml-envs/azureml_7becf92bd9d8786204e7278bb441885c/lib/python3.7/site-packages/pandas/io/json/_json.py\", line 886, in parse\\n    self._parse_no_numpy()\\n  File \"/azureml-envs/azureml_7becf92bd9d8786204e7278bb441885c/lib/python3.7/site-packages/pandas/io/json/_json.py\", line 1119, in _parse_no_numpy\\n    loads(json, precise_float=self.precise_float), dtype=None\\nValueError: Expected object or value\\n\\nDuring handling of the above exception, another exception occurred:\\n\\nTraceback (most recent call last):\\n  File \"/azureml-envs/azureml_7becf92bd9d8786204e7278bb441885c/lib/python3.7/site-packages/flask/app.py\", line 1832, in full_dispatch_request\\n    rv = self.dispatch_request()\\n  File \"/azureml-envs/azureml_7becf92bd9d8786204e7278bb441885c/lib/python3.7/site-packages/flask/app.py\", line 1818, in dispatch_request\\n    return self.view_functions[rule.endpoint](**req.view_args)\\n  File \"/var/azureml-server/routes.py\", line 270, in score_realtime\\n    service_input, request.headers, request.environ.get(\"REQUEST_ID\", \"00000000-0000-0000-0000-000000000000\")\\n  File \"/var/azureml-server/routes.py\", line 303, in run_scoring\\n    raise RunFunctionException(str(exc))\\nrun_function_exception.RunFunctionException\\n\\n2022-06-28 19:27:37,731 | root | INFO | 500\\n127.0.0.1 - - [28/Jun/2022:19:27:37 +0000] \"POST /score HTTP/1.0\" 500 24 \"-\" \"python-requests/2.27.1\"\\n2022-06-28 19:27:38,742 | root | INFO | Scoring Timer is set to 60.0 seconds\\n60f11281-5a7d-45ad-9d6f-0eadfc559f81,./data.json\\n2022-06-28 19:27:38,744 | root | ERROR | Encountered Exception: Traceback (most recent call last):\\n  File \"/var/azureml-server/routes.py\", line 294, in run_scoring\\n    response, time_taken_ms = invoke_user_with_timer(service_input, request_headers)\\n  File \"/var/azureml-server/routes.py\", line 341, in invoke_user_with_timer\\n    result, time_taken_ms = capture_time_taken(user_main.run)(**params)\\n  File \"/var/azureml-server/routes.py\", line 322, in timer\\n    result = func(*args, **kwargs)\\n  File \"/var/azureml-app/score.py\", line 23, in run\\n    df_data = pd.read_json(raw_data)\\n  File \"/azureml-envs/azureml_7becf92bd9d8786204e7278bb441885c/lib/python3.7/site-packages/pandas/util/_decorators.py\", line 199, in wrapper\\n    return func(*args, **kwargs)\\n  File \"/azureml-envs/azureml_7becf92bd9d8786204e7278bb441885c/lib/python3.7/site-packages/pandas/util/_decorators.py\", line 296, in wrapper\\n    return func(*args, **kwargs)\\n  File \"/azureml-envs/azureml_7becf92bd9d8786204e7278bb441885c/lib/python3.7/site-packages/pandas/io/json/_json.py\", line 618, in read_json\\n    result = json_reader.read()\\n  File \"/azureml-envs/azureml_7becf92bd9d8786204e7278bb441885c/lib/python3.7/site-packages/pandas/io/json/_json.py\", line 755, in read\\n    obj = self._get_object_parser(self.data)\\n  File \"/azureml-envs/azureml_7becf92bd9d8786204e7278bb441885c/lib/python3.7/site-packages/pandas/io/json/_json.py\", line 777, in _get_object_parser\\n    obj = FrameParser(json, **kwargs).parse()\\n  File \"/azureml-envs/azureml_7becf92bd9d8786204e7278bb441885c/lib/python3.7/site-packages/pandas/io/json/_json.py\", line 886, in parse\\n    self._parse_no_numpy()\\n  File \"/azureml-envs/azureml_7becf92bd9d8786204e7278bb441885c/lib/python3.7/site-packages/pandas/io/json/_json.py\", line 1119, in _parse_no_numpy\\n    loads(json, precise_float=self.precise_float), dtype=None\\nValueError: Expected object or value\\n\\nDuring handling of the above exception, another exception occurred:\\n\\nTraceback (most recent call last):\\n  File \"/azureml-envs/azureml_7becf92bd9d8786204e7278bb441885c/lib/python3.7/site-packages/flask/app.py\", line 1832, in full_dispatch_request\\n    rv = self.dispatch_request()\\n  File \"/azureml-envs/azureml_7becf92bd9d8786204e7278bb441885c/lib/python3.7/site-packages/flask/app.py\", line 1818, in dispatch_request\\n    return self.view_functions[rule.endpoint](**req.view_args)\\n  File \"/var/azureml-server/routes.py\", line 270, in score_realtime\\n    service_input, request.headers, request.environ.get(\"REQUEST_ID\", \"00000000-0000-0000-0000-000000000000\")\\n  File \"/var/azureml-server/routes.py\", line 303, in run_scoring\\n    raise RunFunctionException(str(exc))\\nrun_function_exception.RunFunctionException\\n\\n2022-06-28 19:27:38,744 | root | INFO | 500\\n127.0.0.1 - - [28/Jun/2022:19:27:38 +0000] \"POST /score HTTP/1.0\" 500 24 \"-\" \"python-requests/2.27.1\"\\n2022-06-28 19:27:40,757 | root | INFO | Scoring Timer is set to 60.0 seconds\\nb0abe558-7b4f-41ea-80cf-23f2208f114d,./data.json\\n2022-06-28 19:27:40,762 | root | ERROR | Encountered Exception: Traceback (most recent call last):\\n  File \"/var/azureml-server/routes.py\", line 294, in run_scoring\\n    response, time_taken_ms = invoke_user_with_timer(service_input, request_headers)\\n  File \"/var/azureml-server/routes.py\", line 341, in invoke_user_with_timer\\n    result, time_taken_ms = capture_time_taken(user_main.run)(**params)\\n  File \"/var/azureml-server/routes.py\", line 322, in timer\\n    result = func(*args, **kwargs)\\n  File \"/var/azureml-app/score.py\", line 23, in run\\n    df_data = pd.read_json(raw_data)\\n  File \"/azureml-envs/azureml_7becf92bd9d8786204e7278bb441885c/lib/python3.7/site-packages/pandas/util/_decorators.py\", line 199, in wrapper\\n    return func(*args, **kwargs)\\n  File \"/azureml-envs/azureml_7becf92bd9d8786204e7278bb441885c/lib/python3.7/site-packages/pandas/util/_decorators.py\", line 296, in wrapper\\n    return func(*args, **kwargs)\\n  File \"/azureml-envs/azureml_7becf92bd9d8786204e7278bb441885c/lib/python3.7/site-packages/pandas/io/json/_json.py\", line 618, in read_json\\n    result = json_reader.read()\\n  File \"/azureml-envs/azureml_7becf92bd9d8786204e7278bb441885c/lib/python3.7/site-packages/pandas/io/json/_json.py\", line 755, in read\\n    obj = self._get_object_parser(self.data)\\n  File \"/azureml-envs/azureml_7becf92bd9d8786204e7278bb441885c/lib/python3.7/site-packages/pandas/io/json/_json.py\", line 777, in _get_object_parser\\n    obj = FrameParser(json, **kwargs).parse()\\n  File \"/azureml-envs/azureml_7becf92bd9d8786204e7278bb441885c/lib/python3.7/site-packages/pandas/io/json/_json.py\", line 886, in parse\\n    self._parse_no_numpy()\\n  File \"/azureml-envs/azureml_7becf92bd9d8786204e7278bb441885c/lib/python3.7/site-packages/pandas/io/json/_json.py\", line 1119, in _parse_no_numpy\\n    loads(json, precise_float=self.precise_float), dtype=None\\nValueError: Expected object or value\\n\\nDuring handling of the above exception, another exception occurred:\\n\\nTraceback (most recent call last):\\n  File \"/azureml-envs/azureml_7becf92bd9d8786204e7278bb441885c/lib/python3.7/site-packages/flask/app.py\", line 1832, in full_dispatch_request\\n    rv = self.dispatch_request()\\n  File \"/azureml-envs/azureml_7becf92bd9d8786204e7278bb441885c/lib/python3.7/site-packages/flask/app.py\", line 1818, in dispatch_request\\n    return self.view_functions[rule.endpoint](**req.view_args)\\n  File \"/var/azureml-server/routes.py\", line 270, in score_realtime\\n    service_input, request.headers, request.environ.get(\"REQUEST_ID\", \"00000000-0000-0000-0000-000000000000\")\\n  File \"/var/azureml-server/routes.py\", line 303, in run_scoring\\n    raise RunFunctionException(str(exc))\\nrun_function_exception.RunFunctionException\\n\\n2022-06-28 19:27:40,762 | root | INFO | 500\\n127.0.0.1 - - [28/Jun/2022:19:27:40 +0000] \"POST /score HTTP/1.0\" 500 24 \"-\" \"python-requests/2.27.1\"\\nException in worker process\\nTraceback (most recent call last):\\n  File \"/azureml-envs/azureml_7becf92bd9d8786204e7278bb441885c/lib/python3.7/site-packages/gunicorn/arbiter.py\", line 589, in spawn_worker\\n    worker.init_process()\\n  File \"/azureml-envs/azureml_7becf92bd9d8786204e7278bb441885c/lib/python3.7/site-packages/gunicorn/workers/base.py\", line 142, in init_process\\n    self.run()\\n  File \"/azureml-envs/azureml_7becf92bd9d8786204e7278bb441885c/lib/python3.7/site-packages/gunicorn/workers/sync.py\", line 125, in run\\n    self.run_for_one(timeout)\\n  File \"/azureml-envs/azureml_7becf92bd9d8786204e7278bb441885c/lib/python3.7/site-packages/gunicorn/workers/sync.py\", line 84, in run_for_one\\n    self.wait(timeout)\\n  File \"/azureml-envs/azureml_7becf92bd9d8786204e7278bb441885c/lib/python3.7/site-packages/gunicorn/workers/sync.py\", line 36, in wait\\n    ret = select.select(self.wait_fds, [], [], timeout)\\n  File \"/var/azureml-server/routes.py\", line 159, in alarm_handler\\n    raise TimeoutException(error_message)\\ntimeout_exception.TimeoutException\\nWorker exiting (pid: 121)\\nworker timeout is set to 300\\nBooting worker with pid: 260\\nSPARK_HOME not set. Skipping PySpark Initialization.\\nInitializing logger\\n2022-06-28 19:28:46,824 | root | INFO | Starting up app insights client\\nlogging socket was found. logging is available.\\nlogging socket was found. logging is available.\\n2022-06-28 19:28:46,825 | root | INFO | Starting up request id generator\\n2022-06-28 19:28:46,825 | root | INFO | Starting up app insight hooks\\n2022-06-28 19:28:46,826 | root | INFO | Invoking user\\'s init function\\nImporting plotly failed. Interactive plots will not work.\\n2022-06-28 19:28:55,225 | root | INFO | Users\\'s init has completed successfully\\n2022-06-28 19:28:55,228 | root | INFO | Skipping middleware: dbg_model_info as it\\'s not enabled.\\n2022-06-28 19:28:55,228 | root | INFO | Skipping middleware: dbg_resource_usage as it\\'s not enabled.\\n2022-06-28 19:28:55,231 | root | INFO | Scoring timeout is found from os.environ: 60000 ms\\n2022-06-28 19:44:42,021 | root | INFO | Swagger file not present\\n2022-06-28 19:44:42,022 | root | INFO | 404\\n127.0.0.1 - - [28/Jun/2022:19:44:42 +0000] \"GET /swagger.json HTTP/1.0\" 404 19 \"-\" \"Go-http-client/1.1\"\\n2022-06-28 19:45:26,964 | root | INFO | Swagger file not present\\n2022-06-28 19:45:26,965 | root | INFO | 404\\n127.0.0.1 - - [28/Jun/2022:19:45:26 +0000] \"GET /swagger.json HTTP/1.0\" 404 19 \"-\" \"Go-http-client/1.1\"\\n2022-06-28 19:50:07,522 | root | INFO | Scoring Timer is set to 60.0 seconds\\n8a803d04-32fd-4305-a5d1-e7305ee5046a,./data.json\\n2022-06-28 19:50:07,530 | root | ERROR | Encountered Exception: Traceback (most recent call last):\\n  File \"/var/azureml-server/routes.py\", line 294, in run_scoring\\n    response, time_taken_ms = invoke_user_with_timer(service_input, request_headers)\\n  File \"/var/azureml-server/routes.py\", line 341, in invoke_user_with_timer\\n    result, time_taken_ms = capture_time_taken(user_main.run)(**params)\\n  File \"/var/azureml-server/routes.py\", line 322, in timer\\n    result = func(*args, **kwargs)\\n  File \"/var/azureml-app/score.py\", line 23, in run\\n    df_data = pd.read_json(raw_data)\\n  File \"/azureml-envs/azureml_7becf92bd9d8786204e7278bb441885c/lib/python3.7/site-packages/pandas/util/_decorators.py\", line 199, in wrapper\\n    return func(*args, **kwargs)\\n  File \"/azureml-envs/azureml_7becf92bd9d8786204e7278bb441885c/lib/python3.7/site-packages/pandas/util/_decorators.py\", line 296, in wrapper\\n    return func(*args, **kwargs)\\n  File \"/azureml-envs/azureml_7becf92bd9d8786204e7278bb441885c/lib/python3.7/site-packages/pandas/io/json/_json.py\", line 618, in read_json\\n    result = json_reader.read()\\n  File \"/azureml-envs/azureml_7becf92bd9d8786204e7278bb441885c/lib/python3.7/site-packages/pandas/io/json/_json.py\", line 755, in read\\n    obj = self._get_object_parser(self.data)\\n  File \"/azureml-envs/azureml_7becf92bd9d8786204e7278bb441885c/lib/python3.7/site-packages/pandas/io/json/_json.py\", line 777, in _get_object_parser\\n    obj = FrameParser(json, **kwargs).parse()\\n  File \"/azureml-envs/azureml_7becf92bd9d8786204e7278bb441885c/lib/python3.7/site-packages/pandas/io/json/_json.py\", line 886, in parse\\n    self._parse_no_numpy()\\n  File \"/azureml-envs/azureml_7becf92bd9d8786204e7278bb441885c/lib/python3.7/site-packages/pandas/io/json/_json.py\", line 1119, in _parse_no_numpy\\n    loads(json, precise_float=self.precise_float), dtype=None\\nValueError: Expected object or value\\n\\nDuring handling of the above exception, another exception occurred:\\n\\nTraceback (most recent call last):\\n  File \"/azureml-envs/azureml_7becf92bd9d8786204e7278bb441885c/lib/python3.7/site-packages/flask/app.py\", line 1832, in full_dispatch_request\\n    rv = self.dispatch_request()\\n  File \"/azureml-envs/azureml_7becf92bd9d8786204e7278bb441885c/lib/python3.7/site-packages/flask/app.py\", line 1818, in dispatch_request\\n    return self.view_functions[rule.endpoint](**req.view_args)\\n  File \"/var/azureml-server/routes.py\", line 270, in score_realtime\\n    service_input, request.headers, request.environ.get(\"REQUEST_ID\", \"00000000-0000-0000-0000-000000000000\")\\n  File \"/var/azureml-server/routes.py\", line 303, in run_scoring\\n    raise RunFunctionException(str(exc))\\nrun_function_exception.RunFunctionException\\n\\n2022-06-28 19:50:07,532 | root | INFO | 500\\n127.0.0.1 - - [28/Jun/2022:19:50:07 +0000] \"POST /score HTTP/1.0\" 500 24 \"-\" \"python-requests/2.27.1\"\\n2022-06-28 19:50:07,542 | root | INFO | Scoring Timer is set to 60.0 seconds\\nbfa2cc6b-58b7-44a5-99ec-1fdefc22143c,./data.json\\n2022-06-28 19:50:07,544 | root | ERROR | Encountered Exception: Traceback (most recent call last):\\n  File \"/var/azureml-server/routes.py\", line 294, in run_scoring\\n    response, time_taken_ms = invoke_user_with_timer(service_input, request_headers)\\n  File \"/var/azureml-server/routes.py\", line 341, in invoke_user_with_timer\\n    result, time_taken_ms = capture_time_taken(user_main.run)(**params)\\n  File \"/var/azureml-server/routes.py\", line 322, in timer\\n    result = func(*args, **kwargs)\\n  File \"/var/azureml-app/score.py\", line 23, in run\\n    df_data = pd.read_json(raw_data)\\n  File \"/azureml-envs/azureml_7becf92bd9d8786204e7278bb441885c/lib/python3.7/site-packages/pandas/util/_decorators.py\", line 199, in wrapper\\n    return func(*args, **kwargs)\\n  File \"/azureml-envs/azureml_7becf92bd9d8786204e7278bb441885c/lib/python3.7/site-packages/pandas/util/_decorators.py\", line 296, in wrapper\\n    return func(*args, **kwargs)\\n  File \"/azureml-envs/azureml_7becf92bd9d8786204e7278bb441885c/lib/python3.7/site-packages/pandas/io/json/_json.py\", line 618, in read_json\\n    result = json_reader.read()\\n  File \"/azureml-envs/azureml_7becf92bd9d8786204e7278bb441885c/lib/python3.7/site-packages/pandas/io/json/_json.py\", line 755, in read\\n    obj = self._get_object_parser(self.data)\\n  File \"/azureml-envs/azureml_7becf92bd9d8786204e7278bb441885c/lib/python3.7/site-packages/pandas/io/json/_json.py\", line 777, in _get_object_parser\\n    obj = FrameParser(json, **kwargs).parse()\\n  File \"/azureml-envs/azureml_7becf92bd9d8786204e7278bb441885c/lib/python3.7/site-packages/pandas/io/json/_json.py\", line 886, in parse\\n    self._parse_no_numpy()\\n  File \"/azureml-envs/azureml_7becf92bd9d8786204e7278bb441885c/lib/python3.7/site-packages/pandas/io/json/_json.py\", line 1119, in _parse_no_numpy\\n    loads(json, precise_float=self.precise_float), dtype=None\\nValueError: Expected object or value\\n\\nDuring handling of the above exception, another exception occurred:\\n\\nTraceback (most recent call last):\\n  File \"/azureml-envs/azureml_7becf92bd9d8786204e7278bb441885c/lib/python3.7/site-packages/flask/app.py\", line 1832, in full_dispatch_request\\n    rv = self.dispatch_request()\\n  File \"/azureml-envs/azureml_7becf92bd9d8786204e7278bb441885c/lib/python3.7/site-packages/flask/app.py\", line 1818, in dispatch_request\\n    return self.view_functions[rule.endpoint](**req.view_args)\\n  File \"/var/azureml-server/routes.py\", line 270, in score_realtime\\n    service_input, request.headers, request.environ.get(\"REQUEST_ID\", \"00000000-0000-0000-0000-000000000000\")\\n  File \"/var/azureml-server/routes.py\", line 303, in run_scoring\\n    raise RunFunctionException(str(exc))\\nrun_function_exception.RunFunctionException\\n\\n2022-06-28 19:50:07,547 | root | INFO | 500\\n127.0.0.1 - - [28/Jun/2022:19:50:07 +0000] \"POST /score HTTP/1.0\" 500 24 \"-\" \"python-requests/2.27.1\"\\n2022-06-28 19:50:08,556 | root | INFO | Scoring Timer is set to 60.0 seconds\\n267661a3-2265-4c25-8b3b-01a4406844aa,./data.json\\n2022-06-28 19:50:08,558 | root | ERROR | Encountered Exception: Traceback (most recent call last):\\n  File \"/var/azureml-server/routes.py\", line 294, in run_scoring\\n    response, time_taken_ms = invoke_user_with_timer(service_input, request_headers)\\n  File \"/var/azureml-server/routes.py\", line 341, in invoke_user_with_timer\\n    result, time_taken_ms = capture_time_taken(user_main.run)(**params)\\n  File \"/var/azureml-server/routes.py\", line 322, in timer\\n    result = func(*args, **kwargs)\\n  File \"/var/azureml-app/score.py\", line 23, in run\\n    df_data = pd.read_json(raw_data)\\n  File \"/azureml-envs/azureml_7becf92bd9d8786204e7278bb441885c/lib/python3.7/site-packages/pandas/util/_decorators.py\", line 199, in wrapper\\n    return func(*args, **kwargs)\\n  File \"/azureml-envs/azureml_7becf92bd9d8786204e7278bb441885c/lib/python3.7/site-packages/pandas/util/_decorators.py\", line 296, in wrapper\\n    return func(*args, **kwargs)\\n  File \"/azureml-envs/azureml_7becf92bd9d8786204e7278bb441885c/lib/python3.7/site-packages/pandas/io/json/_json.py\", line 618, in read_json\\n    result = json_reader.read()\\n  File \"/azureml-envs/azureml_7becf92bd9d8786204e7278bb441885c/lib/python3.7/site-packages/pandas/io/json/_json.py\", line 755, in read\\n    obj = self._get_object_parser(self.data)\\n  File \"/azureml-envs/azureml_7becf92bd9d8786204e7278bb441885c/lib/python3.7/site-packages/pandas/io/json/_json.py\", line 777, in _get_object_parser\\n    obj = FrameParser(json, **kwargs).parse()\\n  File \"/azureml-envs/azureml_7becf92bd9d8786204e7278bb441885c/lib/python3.7/site-packages/pandas/io/json/_json.py\", line 886, in parse\\n    self._parse_no_numpy()\\n  File \"/azureml-envs/azureml_7becf92bd9d8786204e7278bb441885c/lib/python3.7/site-packages/pandas/io/json/_json.py\", line 1119, in _parse_no_numpy\\n    loads(json, precise_float=self.precise_float), dtype=None\\nValueError: Expected object or value\\n\\nDuring handling of the above exception, another exception occurred:\\n\\nTraceback (most recent call last):\\n  File \"/azureml-envs/azureml_7becf92bd9d8786204e7278bb441885c/lib/python3.7/site-packages/flask/app.py\", line 1832, in full_dispatch_request\\n    rv = self.dispatch_request()\\n  File \"/azureml-envs/azureml_7becf92bd9d8786204e7278bb441885c/lib/python3.7/site-packages/flask/app.py\", line 1818, in dispatch_request\\n    return self.view_functions[rule.endpoint](**req.view_args)\\n  File \"/var/azureml-server/routes.py\", line 270, in score_realtime\\n    service_input, request.headers, request.environ.get(\"REQUEST_ID\", \"00000000-0000-0000-0000-000000000000\")\\n  File \"/var/azureml-server/routes.py\", line 303, in run_scoring\\n    raise RunFunctionException(str(exc))\\nrun_function_exception.RunFunctionException\\n\\n2022-06-28 19:50:08,558 | root | INFO | 500\\n127.0.0.1 - - [28/Jun/2022:19:50:08 +0000] \"POST /score HTTP/1.0\" 500 24 \"-\" \"python-requests/2.27.1\"\\n2022-06-28 19:50:10,569 | root | INFO | Scoring Timer is set to 60.0 seconds\\nc6ff49bb-e4a6-4c91-abd2-1013defadc16,./data.json\\n2022-06-28 19:50:10,571 | root | ERROR | Encountered Exception: Traceback (most recent call last):\\n  File \"/var/azureml-server/routes.py\", line 294, in run_scoring\\n    response, time_taken_ms = invoke_user_with_timer(service_input, request_headers)\\n  File \"/var/azureml-server/routes.py\", line 341, in invoke_user_with_timer\\n    result, time_taken_ms = capture_time_taken(user_main.run)(**params)\\n  File \"/var/azureml-server/routes.py\", line 322, in timer\\n    result = func(*args, **kwargs)\\n  File \"/var/azureml-app/score.py\", line 23, in run\\n    df_data = pd.read_json(raw_data)\\n  File \"/azureml-envs/azureml_7becf92bd9d8786204e7278bb441885c/lib/python3.7/site-packages/pandas/util/_decorators.py\", line 199, in wrapper\\n    return func(*args, **kwargs)\\n  File \"/azureml-envs/azureml_7becf92bd9d8786204e7278bb441885c/lib/python3.7/site-packages/pandas/util/_decorators.py\", line 296, in wrapper\\n    return func(*args, **kwargs)\\n  File \"/azureml-envs/azureml_7becf92bd9d8786204e7278bb441885c/lib/python3.7/site-packages/pandas/io/json/_json.py\", line 618, in read_json\\n    result = json_reader.read()\\n  File \"/azureml-envs/azureml_7becf92bd9d8786204e7278bb441885c/lib/python3.7/site-packages/pandas/io/json/_json.py\", line 755, in read\\n    obj = self._get_object_parser(self.data)\\n  File \"/azureml-envs/azureml_7becf92bd9d8786204e7278bb441885c/lib/python3.7/site-packages/pandas/io/json/_json.py\", line 777, in _get_object_parser\\n    obj = FrameParser(json, **kwargs).parse()\\n  File \"/azureml-envs/azureml_7becf92bd9d8786204e7278bb441885c/lib/python3.7/site-packages/pandas/io/json/_json.py\", line 886, in parse\\n    self._parse_no_numpy()\\n  File \"/azureml-envs/azureml_7becf92bd9d8786204e7278bb441885c/lib/python3.7/site-packages/pandas/io/json/_json.py\", line 1119, in _parse_no_numpy\\n    loads(json, precise_float=self.precise_float), dtype=None\\nValueError: Expected object or value\\n\\nDuring handling of the above exception, another exception occurred:\\n\\nTraceback (most recent call last):\\n  File \"/azureml-envs/azureml_7becf92bd9d8786204e7278bb441885c/lib/python3.7/site-packages/flask/app.py\", line 1832, in full_dispatch_request\\n    rv = self.dispatch_request()\\n  File \"/azureml-envs/azureml_7becf92bd9d8786204e7278bb441885c/lib/python3.7/site-packages/flask/app.py\", line 1818, in dispatch_request\\n    return self.view_functions[rule.endpoint](**req.view_args)\\n  File \"/var/azureml-server/routes.py\", line 270, in score_realtime\\n    service_input, request.headers, request.environ.get(\"REQUEST_ID\", \"00000000-0000-0000-0000-000000000000\")\\n  File \"/var/azureml-server/routes.py\", line 303, in run_scoring\\n    raise RunFunctionException(str(exc))\\nrun_function_exception.RunFunctionException\\n\\n2022-06-28 19:50:10,572 | root | INFO | 500\\n127.0.0.1 - - [28/Jun/2022:19:50:10 +0000] \"POST /score HTTP/1.0\" 500 24 \"-\" \"python-requests/2.27.1\"\\nException in worker process\\nTraceback (most recent call last):\\n  File \"/azureml-envs/azureml_7becf92bd9d8786204e7278bb441885c/lib/python3.7/site-packages/gunicorn/arbiter.py\", line 589, in spawn_worker\\n    worker.init_process()\\n  File \"/azureml-envs/azureml_7becf92bd9d8786204e7278bb441885c/lib/python3.7/site-packages/gunicorn/workers/base.py\", line 142, in init_process\\n    self.run()\\n  File \"/azureml-envs/azureml_7becf92bd9d8786204e7278bb441885c/lib/python3.7/site-packages/gunicorn/workers/sync.py\", line 125, in run\\n    self.run_for_one(timeout)\\n  File \"/azureml-envs/azureml_7becf92bd9d8786204e7278bb441885c/lib/python3.7/site-packages/gunicorn/workers/sync.py\", line 84, in run_for_one\\n    self.wait(timeout)\\n  File \"/azureml-envs/azureml_7becf92bd9d8786204e7278bb441885c/lib/python3.7/site-packages/gunicorn/workers/sync.py\", line 36, in wait\\n    ret = select.select(self.wait_fds, [], [], timeout)\\n  File \"/var/azureml-server/routes.py\", line 159, in alarm_handler\\n    raise TimeoutException(error_message)\\ntimeout_exception.TimeoutException\\nWorker exiting (pid: 260)\\nworker timeout is set to 300\\nBooting worker with pid: 706\\nSPARK_HOME not set. Skipping PySpark Initialization.\\nInitializing logger\\n2022-06-28 19:51:16,821 | root | INFO | Starting up app insights client\\nlogging socket was found. logging is available.\\nlogging socket was found. logging is available.\\n2022-06-28 19:51:16,826 | root | INFO | Starting up request id generator\\n2022-06-28 19:51:16,826 | root | INFO | Starting up app insight hooks\\n2022-06-28 19:51:16,827 | root | INFO | Invoking user\\'s init function\\nImporting plotly failed. Interactive plots will not work.\\n2022-06-28 19:51:23,558 | root | INFO | Users\\'s init has completed successfully\\n2022-06-28 19:51:23,560 | root | INFO | Skipping middleware: dbg_model_info as it\\'s not enabled.\\n2022-06-28 19:51:23,560 | root | INFO | Skipping middleware: dbg_resource_usage as it\\'s not enabled.\\n2022-06-28 19:51:23,566 | root | INFO | Scoring timeout is found from os.environ: 60000 ms\\n127.0.0.1 - - [28/Jun/2022:19:51:40 +0000] \"GET /.env HTTP/1.0\" 404 207 \"-\" \"Mozilla/5.0 (X11; Linux x86_64) AppleWebKit/537.36 (KHTML, like Gecko) Chrome/81.0.4044.129 Safari/537.36\"\\n'"
      ]
     },
     "execution_count": 114,
     "metadata": {},
     "output_type": "execute_result"
    }
   ],
   "source": [
    "service.get_logs()"
   ]
  },
  {
   "cell_type": "code",
   "execution_count": 115,
   "metadata": {
    "jupyter": {
     "outputs_hidden": false,
     "source_hidden": false
    },
    "nteract": {
     "transient": {
      "deleting": false
     }
    }
   },
   "outputs": [
    {
     "name": "stdout",
     "output_type": "stream",
     "text": [
      "/bin/bash: /azureml-envs/azureml_7becf92bd9d8786204e7278bb441885c/lib/libtinfo.so.6: no version information available (required by /bin/bash)\n",
      "/bin/bash: /azureml-envs/azureml_7becf92bd9d8786204e7278bb441885c/lib/libtinfo.so.6: no version information available (required by /bin/bash)\n",
      "/bin/bash: /azureml-envs/azureml_7becf92bd9d8786204e7278bb441885c/lib/libtinfo.so.6: no version information available (required by /bin/bash)\n",
      "/bin/bash: /azureml-envs/azureml_7becf92bd9d8786204e7278bb441885c/lib/libtinfo.so.6: no version information available (required by /bin/bash)\n",
      "2022-06-28T19:22:27,658227000+00:00 - gunicorn/run \n",
      "2022-06-28T19:22:27,659829400+00:00 - iot-server/run \n",
      "2022-06-28T19:22:27,651695200+00:00 - rsyslog/run \n",
      "bash: /azureml-envs/azureml_7becf92bd9d8786204e7278bb441885c/lib/libtinfo.so.6: no version information available (required by bash)\n",
      "2022-06-28T19:22:27,669996900+00:00 | gunicorn/run | \n",
      "2022-06-28T19:22:27,676337500+00:00 - nginx/run \n",
      "2022-06-28T19:22:27,685858100+00:00 | gunicorn/run | ###############################################\n",
      "2022-06-28T19:22:27,696215400+00:00 | gunicorn/run | AzureML Container Runtime Information\n",
      "2022-06-28T19:22:27,711829400+00:00 | gunicorn/run | ###############################################\n",
      "2022-06-28T19:22:27,721060200+00:00 | gunicorn/run | \n",
      "2022-06-28T19:22:27,729972500+00:00 | gunicorn/run | \n",
      "2022-06-28T19:22:27,749866700+00:00 | gunicorn/run | PATH environment variable: /azureml-envs/azureml_7becf92bd9d8786204e7278bb441885c/bin:/opt/miniconda/bin:/usr/local/sbin:/usr/local/bin:/usr/sbin:/usr/bin:/sbin:/bin\n",
      "2022-06-28T19:22:27,762500400+00:00 | gunicorn/run | PYTHONPATH environment variable: \n",
      "2022-06-28T19:22:27,785502700+00:00 | gunicorn/run | \n",
      "2022-06-28T19:22:27,787627500+00:00 | gunicorn/run | Pip Dependencies (before dynamic installation)\n",
      "\n",
      "EdgeHubConnectionString and IOTEDGE_IOTHUBHOSTNAME are not set. Exiting...\n",
      "/bin/bash: /azureml-envs/azureml_7becf92bd9d8786204e7278bb441885c/lib/libtinfo.so.6: no version information available (required by /bin/bash)\n",
      "2022-06-28T19:22:28,006861800+00:00 - iot-server/finish 1 0\n",
      "2022-06-28T19:22:28,008566400+00:00 - Exit code 1 is normal. Not restarting iot-server.\n",
      "adal==1.2.7\n",
      "aiofiles==0.8.0\n",
      "aiohttp==3.7.4.post0\n",
      "aiotask-context==0.6.1\n",
      "applicationinsights==0.11.10\n",
      "argcomplete==2.0.0\n",
      "arviz @ file:///tmp/build/80754af9/arviz_1614019183254/work\n",
      "async-timeout==3.0.1\n",
      "attrs==21.4.0\n",
      "azure-common==1.1.28\n",
      "azure-core==1.22.1\n",
      "azure-graphrbac==0.61.1\n",
      "azure-identity==1.7.0\n",
      "azure-mgmt-authorization==2.0.0\n",
      "azure-mgmt-containerregistry==9.1.0\n",
      "azure-mgmt-core==1.3.0\n",
      "azure-mgmt-keyvault==9.3.0\n",
      "azure-mgmt-resource==21.0.0\n",
      "azure-mgmt-storage==20.0.0\n",
      "azure-storage-queue==12.2.0\n",
      "azureml-automl-core==1.42.0.post1\n",
      "azureml-automl-runtime==1.42.0.post1\n",
      "azureml-core==1.42.0.post1\n",
      "azureml-dataprep==4.0.4\n",
      "azureml-dataprep-native==38.0.0\n",
      "azureml-dataprep-rslex==2.6.3\n",
      "azureml-dataset-runtime==1.42.0\n",
      "azureml-defaults==1.42.0\n",
      "azureml-inference-server-http==0.4.9\n",
      "azureml-interpret==1.42.0\n",
      "azureml-mlflow==1.42.0\n",
      "azureml-telemetry==1.42.0\n",
      "azureml-train-automl-client==1.42.0.post1\n",
      "azureml-train-automl-runtime==1.42.0.post1\n",
      "azureml-train-core==1.42.0\n",
      "azureml-train-restclients-hyperdrive==1.42.0\n",
      "azureml-training-tabular==1.42.0.post1\n",
      "backports.tempfile==1.0\n",
      "backports.weakref==1.0.post1\n",
      "bcrypt==3.2.2\n",
      "bokeh==2.4.3\n",
      "boto==2.49.0\n",
      "boto3==1.20.19\n",
      "botocore==1.23.19\n",
      "Brotli==1.0.9\n",
      "cachetools==5.2.0\n",
      "certifi @ file:///opt/conda/conda-bld/certifi_1655968806487/work/certifi\n",
      "cffi==1.15.0\n",
      "cftime @ file:///tmp/build/80754af9/cftime_1638345281172/work\n",
      "chardet==4.0.0\n",
      "charset-normalizer==2.0.12\n",
      "click==8.1.3\n",
      "cloudpickle==2.1.0\n",
      "configparser==3.7.4\n",
      "contextlib2==21.6.0\n",
      "convertdate @ file:///tmp/build/80754af9/convertdate_1634070773133/work\n",
      "cryptography==36.0.2\n",
      "cycler @ file:///tmp/build/80754af9/cycler_1637851556182/work\n",
      "Cython==0.29.17\n",
      "dask==2.30.0\n",
      "databricks-cli==0.17.0\n",
      "dataclasses==0.6\n",
      "dill==0.3.5.1\n",
      "distributed==2.30.1\n",
      "distro==1.7.0\n",
      "docker==5.0.3\n",
      "dotnetcore2==3.1.23\n",
      "entrypoints==0.4\n",
      "ephem @ file:///tmp/build/80754af9/ephem_1638960312619/work\n",
      "fbprophet @ file:///home/conda/feedstock_root/build_artifacts/fbprophet_1599365534439/work\n",
      "fire==0.4.0\n",
      "Flask==1.0.3\n",
      "flatbuffers==2.0\n",
      "fonttools==4.25.0\n",
      "fsspec==2022.5.0\n",
      "fusepy==3.0.1\n",
      "gensim==3.8.3\n",
      "gevent==21.12.0\n",
      "geventhttpclient==1.5.5\n",
      "gitdb==4.0.9\n",
      "GitPython==3.1.27\n",
      "google-api-core==2.8.2\n",
      "google-auth==2.8.0\n",
      "googleapis-common-protos==1.56.3\n",
      "greenlet==1.1.2\n",
      "grpcio==1.47.0\n",
      "grpcio-tools==1.38.1\n",
      "gunicorn==20.1.0\n",
      "HeapDict==1.0.1\n",
      "holidays @ file:///home/conda/feedstock_root/build_artifacts/holidays_1595448845196/work\n",
      "httptools==0.4.0\n",
      "humanfriendly==10.0\n",
      "idna==3.3\n",
      "importlib-metadata==4.12.0\n",
      "importlib-resources==5.8.0\n",
      "inference-schema==1.3.2\n",
      "interpret-community==0.25.0\n",
      "interpret-core==0.2.7\n",
      "isodate==0.6.1\n",
      "itsdangerous==1.1.0\n",
      "jeepney==0.8.0\n",
      "Jinja2==2.11.2\n",
      "jmespath==0.10.0\n",
      "joblib==0.14.1\n",
      "json-logging-py==0.2\n",
      "jsonpickle==2.2.0\n",
      "jsonschema==4.6.1\n",
      "keras2onnx==1.6.0\n",
      "kiwisolver @ file:///opt/conda/conda-bld/kiwisolver_1653292039266/work\n",
      "knack==0.9.0\n",
      "korean-lunar-calendar @ file:///tmp/build/80754af9/korean_lunar_calendar_1634063020401/work\n",
      "lightgbm==3.2.1\n",
      "llvmlite==0.36.0\n",
      "locket==1.0.0\n",
      "LunarCalendar @ file:///tmp/build/80754af9/lunarcalendar_1646383991234/work\n",
      "MarkupSafe==2.0.1\n",
      "matplotlib @ file:///tmp/build/80754af9/matplotlib-suite_1634667019719/work\n",
      "mkl-fft==1.3.0\n",
      "mkl-random==1.1.0\n",
      "mkl-service==2.3.0\n",
      "ml-wrappers==0.1.0\n",
      "mlflow-skinny==1.26.1\n",
      "msal==1.18.0\n",
      "msal-extensions==0.3.1\n",
      "msgpack==1.0.4\n",
      "msrest==0.6.21\n",
      "msrestazure==0.6.4\n",
      "multidict==5.2.0\n",
      "munkres==1.1.4\n",
      "ndg-httpsclient==0.5.1\n",
      "netCDF4==1.5.7\n",
      "nimbusml==1.8.0\n",
      "numba==0.53.1\n",
      "numpy==1.19.5\n",
      "oauthlib==3.2.0\n",
      "onnx==1.7.0\n",
      "onnxconverter-common==1.6.0\n",
      "onnxmltools==1.4.1\n",
      "onnxruntime==1.8.1\n",
      "opencensus==0.9.0\n",
      "opencensus-context==0.1.2\n",
      "opencensus-ext-azure==1.1.4\n",
      "packaging @ file:///tmp/build/80754af9/packaging_1637314298585/work\n",
      "pandas==1.1.5\n",
      "paramiko==2.11.0\n",
      "partd==1.2.0\n",
      "pathspec==0.9.0\n",
      "patsy==0.5.2\n",
      "Pillow==9.0.1\n",
      "pkginfo==1.8.3\n",
      "pmdarima==1.7.1\n",
      "portalocker==2.4.0\n",
      "protobuf==3.17.3\n",
      "psutil @ file:///tmp/build/80754af9/psutil_1612298016854/work\n",
      "pyarrow==3.0.0\n",
      "pyasn1==0.4.8\n",
      "pyasn1-modules==0.2.8\n",
      "pycparser==2.21\n",
      "Pygments==2.12.0\n",
      "PyJWT==2.4.0\n",
      "PyMeeus @ file:///tmp/build/80754af9/pymeeus_1634069098549/work\n",
      "PyNaCl==1.5.0\n",
      "pyOpenSSL==22.0.0\n",
      "pyparsing @ file:///tmp/build/80754af9/pyparsing_1635766073266/work\n",
      "pyrsistent==0.18.1\n",
      "PySocks==1.7.1\n",
      "pystan @ file:///tmp/build/80754af9/pystan_1613565226242/work\n",
      "python-dateutil @ file:///tmp/build/80754af9/python-dateutil_1626374649649/work\n",
      "python-rapidjson==1.6\n",
      "pytz @ file:///opt/conda/conda-bld/pytz_1654762638606/work\n",
      "PyYAML==6.0\n",
      "requests==2.28.0\n",
      "requests-oauthlib==1.3.1\n",
      "rsa==4.8\n",
      "s3transfer==0.5.2\n",
      "sanic==21.6.2\n",
      "Sanic-Cors==1.0.1\n",
      "sanic-plugin-toolkit==1.2.1\n",
      "sanic-routing==0.7.2\n",
      "scikit-learn==0.22.1\n",
      "scipy==1.5.2\n",
      "SecretStorage==3.3.2\n",
      "shap==0.39.0\n",
      "six @ file:///tmp/build/80754af9/six_1644875935023/work\n",
      "skl2onnx==1.4.9\n",
      "sklearn-pandas==1.7.0\n",
      "slicer==0.0.7\n",
      "smart-open==1.9.0\n",
      "smmap==5.0.0\n",
      "sortedcontainers==2.4.0\n",
      "statsmodels==0.11.1\n",
      "tabulate==0.8.10\n",
      "tblib==1.7.0\n",
      "termcolor==1.1.0\n",
      "toolz==0.11.2\n",
      "tornado @ file:///tmp/build/80754af9/tornado_1606942283357/work\n",
      "tqdm @ file:///opt/conda/conda-bld/tqdm_1650891076910/work\n",
      "tritonclient==2.11.0\n",
      "typing_extensions @ file:///opt/conda/conda-bld/typing_extensions_1647553014482/work\n",
      "ujson==5.3.0\n",
      "urllib3==1.26.9\n",
      "uvloop==0.16.0\n",
      "websocket-client==1.3.3\n",
      "websockets==10.3\n",
      "Werkzeug==2.1.2\n",
      "wrapt==1.12.1\n",
      "xarray @ file:///opt/conda/conda-bld/xarray_1639166117697/work\n",
      "xgboost==1.3.3\n",
      "yarl==1.7.2\n",
      "zict==2.2.0\n",
      "zipp==3.8.0\n",
      "zope.event==4.5.0\n",
      "zope.interface==5.4.0\n",
      "\n",
      "2022-06-28T19:22:30,046459100+00:00 | gunicorn/run | \n",
      "2022-06-28T19:22:30,047914300+00:00 | gunicorn/run | ###############################################\n",
      "2022-06-28T19:22:30,053702100+00:00 | gunicorn/run | AzureML Inference Server\n",
      "2022-06-28T19:22:30,055512600+00:00 | gunicorn/run | ###############################################\n",
      "2022-06-28T19:22:30,063761100+00:00 | gunicorn/run | \n",
      "2022-06-28T19:22:30,071347000+00:00 | gunicorn/run | \n",
      "2022-06-28T19:22:30,077931400+00:00 | gunicorn/run | Starting HTTP server\n",
      "2022-06-28T19:22:30,082693100+00:00 | gunicorn/run | \n",
      "Starting gunicorn 20.1.0\n",
      "Listening at: http://127.0.0.1:31311 (74)\n",
      "Using worker: sync\n",
      "worker timeout is set to 300\n",
      "Booting worker with pid: 121\n",
      "SPARK_HOME not set. Skipping PySpark Initialization.\n",
      "Initializing logger\n",
      "2022-06-28 19:22:35,403 | root | INFO | Starting up app insights client\n",
      "logging socket was found. logging is available.\n",
      "logging socket was found. logging is available.\n",
      "2022-06-28 19:22:35,404 | root | INFO | Starting up request id generator\n",
      "2022-06-28 19:22:35,405 | root | INFO | Starting up app insight hooks\n",
      "2022-06-28 19:22:35,406 | root | INFO | Invoking user's init function\n",
      "generated new fontManager\n",
      "Importing plotly failed. Interactive plots will not work.\n",
      "2022-06-28 19:22:44,321 | root | INFO | Users's init has completed successfully\n",
      "2022-06-28 19:22:44,335 | root | INFO | Skipping middleware: dbg_model_info as it's not enabled.\n",
      "2022-06-28 19:22:44,335 | root | INFO | Skipping middleware: dbg_resource_usage as it's not enabled.\n",
      "2022-06-28 19:22:44,336 | root | INFO | Scoring timeout is found from os.environ: 60000 ms\n",
      "2022-06-28 19:25:10,807 | root | INFO | Swagger file not present\n",
      "2022-06-28 19:25:10,807 | root | INFO | 404\n",
      "127.0.0.1 - - [28/Jun/2022:19:25:10 +0000] \"GET /swagger.json HTTP/1.0\" 404 19 \"-\" \"Go-http-client/1.1\"\n",
      "2022-06-28 19:27:02,124 | root | INFO | Swagger file not present\n",
      "2022-06-28 19:27:02,126 | root | INFO | 404\n",
      "127.0.0.1 - - [28/Jun/2022:19:27:02 +0000] \"GET /swagger.json HTTP/1.0\" 404 19 \"-\" \"Go-http-client/1.1\"\n",
      "2022-06-28 19:27:37,678 | root | INFO | Scoring Timer is set to 60.0 seconds\n",
      "284400d3-64b0-49fd-90d4-bd3931734c85,./data.json\n",
      "2022-06-28 19:27:37,698 | root | ERROR | Encountered Exception: Traceback (most recent call last):\n",
      "  File \"/var/azureml-server/routes.py\", line 294, in run_scoring\n",
      "    response, time_taken_ms = invoke_user_with_timer(service_input, request_headers)\n",
      "  File \"/var/azureml-server/routes.py\", line 341, in invoke_user_with_timer\n",
      "    result, time_taken_ms = capture_time_taken(user_main.run)(**params)\n",
      "  File \"/var/azureml-server/routes.py\", line 322, in timer\n",
      "    result = func(*args, **kwargs)\n",
      "  File \"/var/azureml-app/score.py\", line 23, in run\n",
      "    df_data = pd.read_json(raw_data)\n",
      "  File \"/azureml-envs/azureml_7becf92bd9d8786204e7278bb441885c/lib/python3.7/site-packages/pandas/util/_decorators.py\", line 199, in wrapper\n",
      "    return func(*args, **kwargs)\n",
      "  File \"/azureml-envs/azureml_7becf92bd9d8786204e7278bb441885c/lib/python3.7/site-packages/pandas/util/_decorators.py\", line 296, in wrapper\n",
      "    return func(*args, **kwargs)\n",
      "  File \"/azureml-envs/azureml_7becf92bd9d8786204e7278bb441885c/lib/python3.7/site-packages/pandas/io/json/_json.py\", line 618, in read_json\n",
      "    result = json_reader.read()\n",
      "  File \"/azureml-envs/azureml_7becf92bd9d8786204e7278bb441885c/lib/python3.7/site-packages/pandas/io/json/_json.py\", line 755, in read\n",
      "    obj = self._get_object_parser(self.data)\n",
      "  File \"/azureml-envs/azureml_7becf92bd9d8786204e7278bb441885c/lib/python3.7/site-packages/pandas/io/json/_json.py\", line 777, in _get_object_parser\n",
      "    obj = FrameParser(json, **kwargs).parse()\n",
      "  File \"/azureml-envs/azureml_7becf92bd9d8786204e7278bb441885c/lib/python3.7/site-packages/pandas/io/json/_json.py\", line 886, in parse\n",
      "    self._parse_no_numpy()\n",
      "  File \"/azureml-envs/azureml_7becf92bd9d8786204e7278bb441885c/lib/python3.7/site-packages/pandas/io/json/_json.py\", line 1119, in _parse_no_numpy\n",
      "    loads(json, precise_float=self.precise_float), dtype=None\n",
      "ValueError: Expected object or value\n",
      "\n",
      "During handling of the above exception, another exception occurred:\n",
      "\n",
      "Traceback (most recent call last):\n",
      "  File \"/azureml-envs/azureml_7becf92bd9d8786204e7278bb441885c/lib/python3.7/site-packages/flask/app.py\", line 1832, in full_dispatch_request\n",
      "    rv = self.dispatch_request()\n",
      "  File \"/azureml-envs/azureml_7becf92bd9d8786204e7278bb441885c/lib/python3.7/site-packages/flask/app.py\", line 1818, in dispatch_request\n",
      "    return self.view_functions[rule.endpoint](**req.view_args)\n",
      "  File \"/var/azureml-server/routes.py\", line 270, in score_realtime\n",
      "    service_input, request.headers, request.environ.get(\"REQUEST_ID\", \"00000000-0000-0000-0000-000000000000\")\n",
      "  File \"/var/azureml-server/routes.py\", line 303, in run_scoring\n",
      "    raise RunFunctionException(str(exc))\n",
      "run_function_exception.RunFunctionException\n",
      "\n",
      "2022-06-28 19:27:37,700 | root | INFO | 500\n",
      "127.0.0.1 - - [28/Jun/2022:19:27:37 +0000] \"POST /score HTTP/1.0\" 500 24 \"-\" \"python-requests/2.27.1\"\n",
      "2022-06-28 19:27:37,727 | root | INFO | Scoring Timer is set to 60.0 seconds\n",
      "7f826596-1730-4bcf-93f4-1c1ac2986874,./data.json\n",
      "2022-06-28 19:27:37,729 | root | ERROR | Encountered Exception: Traceback (most recent call last):\n",
      "  File \"/var/azureml-server/routes.py\", line 294, in run_scoring\n",
      "    response, time_taken_ms = invoke_user_with_timer(service_input, request_headers)\n",
      "  File \"/var/azureml-server/routes.py\", line 341, in invoke_user_with_timer\n",
      "    result, time_taken_ms = capture_time_taken(user_main.run)(**params)\n",
      "  File \"/var/azureml-server/routes.py\", line 322, in timer\n",
      "    result = func(*args, **kwargs)\n",
      "  File \"/var/azureml-app/score.py\", line 23, in run\n",
      "    df_data = pd.read_json(raw_data)\n",
      "  File \"/azureml-envs/azureml_7becf92bd9d8786204e7278bb441885c/lib/python3.7/site-packages/pandas/util/_decorators.py\", line 199, in wrapper\n",
      "    return func(*args, **kwargs)\n",
      "  File \"/azureml-envs/azureml_7becf92bd9d8786204e7278bb441885c/lib/python3.7/site-packages/pandas/util/_decorators.py\", line 296, in wrapper\n",
      "    return func(*args, **kwargs)\n",
      "  File \"/azureml-envs/azureml_7becf92bd9d8786204e7278bb441885c/lib/python3.7/site-packages/pandas/io/json/_json.py\", line 618, in read_json\n",
      "    result = json_reader.read()\n",
      "  File \"/azureml-envs/azureml_7becf92bd9d8786204e7278bb441885c/lib/python3.7/site-packages/pandas/io/json/_json.py\", line 755, in read\n",
      "    obj = self._get_object_parser(self.data)\n",
      "  File \"/azureml-envs/azureml_7becf92bd9d8786204e7278bb441885c/lib/python3.7/site-packages/pandas/io/json/_json.py\", line 777, in _get_object_parser\n",
      "    obj = FrameParser(json, **kwargs).parse()\n",
      "  File \"/azureml-envs/azureml_7becf92bd9d8786204e7278bb441885c/lib/python3.7/site-packages/pandas/io/json/_json.py\", line 886, in parse\n",
      "    self._parse_no_numpy()\n",
      "  File \"/azureml-envs/azureml_7becf92bd9d8786204e7278bb441885c/lib/python3.7/site-packages/pandas/io/json/_json.py\", line 1119, in _parse_no_numpy\n",
      "    loads(json, precise_float=self.precise_float), dtype=None\n",
      "ValueError: Expected object or value\n",
      "\n",
      "During handling of the above exception, another exception occurred:\n",
      "\n",
      "Traceback (most recent call last):\n",
      "  File \"/azureml-envs/azureml_7becf92bd9d8786204e7278bb441885c/lib/python3.7/site-packages/flask/app.py\", line 1832, in full_dispatch_request\n",
      "    rv = self.dispatch_request()\n",
      "  File \"/azureml-envs/azureml_7becf92bd9d8786204e7278bb441885c/lib/python3.7/site-packages/flask/app.py\", line 1818, in dispatch_request\n",
      "    return self.view_functions[rule.endpoint](**req.view_args)\n",
      "  File \"/var/azureml-server/routes.py\", line 270, in score_realtime\n",
      "    service_input, request.headers, request.environ.get(\"REQUEST_ID\", \"00000000-0000-0000-0000-000000000000\")\n",
      "  File \"/var/azureml-server/routes.py\", line 303, in run_scoring\n",
      "    raise RunFunctionException(str(exc))\n",
      "run_function_exception.RunFunctionException\n",
      "\n",
      "2022-06-28 19:27:37,731 | root | INFO | 500\n",
      "127.0.0.1 - - [28/Jun/2022:19:27:37 +0000] \"POST /score HTTP/1.0\" 500 24 \"-\" \"python-requests/2.27.1\"\n",
      "2022-06-28 19:27:38,742 | root | INFO | Scoring Timer is set to 60.0 seconds\n",
      "60f11281-5a7d-45ad-9d6f-0eadfc559f81,./data.json\n",
      "2022-06-28 19:27:38,744 | root | ERROR | Encountered Exception: Traceback (most recent call last):\n",
      "  File \"/var/azureml-server/routes.py\", line 294, in run_scoring\n",
      "    response, time_taken_ms = invoke_user_with_timer(service_input, request_headers)\n",
      "  File \"/var/azureml-server/routes.py\", line 341, in invoke_user_with_timer\n",
      "    result, time_taken_ms = capture_time_taken(user_main.run)(**params)\n",
      "  File \"/var/azureml-server/routes.py\", line 322, in timer\n",
      "    result = func(*args, **kwargs)\n",
      "  File \"/var/azureml-app/score.py\", line 23, in run\n",
      "    df_data = pd.read_json(raw_data)\n",
      "  File \"/azureml-envs/azureml_7becf92bd9d8786204e7278bb441885c/lib/python3.7/site-packages/pandas/util/_decorators.py\", line 199, in wrapper\n",
      "    return func(*args, **kwargs)\n",
      "  File \"/azureml-envs/azureml_7becf92bd9d8786204e7278bb441885c/lib/python3.7/site-packages/pandas/util/_decorators.py\", line 296, in wrapper\n",
      "    return func(*args, **kwargs)\n",
      "  File \"/azureml-envs/azureml_7becf92bd9d8786204e7278bb441885c/lib/python3.7/site-packages/pandas/io/json/_json.py\", line 618, in read_json\n",
      "    result = json_reader.read()\n",
      "  File \"/azureml-envs/azureml_7becf92bd9d8786204e7278bb441885c/lib/python3.7/site-packages/pandas/io/json/_json.py\", line 755, in read\n",
      "    obj = self._get_object_parser(self.data)\n",
      "  File \"/azureml-envs/azureml_7becf92bd9d8786204e7278bb441885c/lib/python3.7/site-packages/pandas/io/json/_json.py\", line 777, in _get_object_parser\n",
      "    obj = FrameParser(json, **kwargs).parse()\n",
      "  File \"/azureml-envs/azureml_7becf92bd9d8786204e7278bb441885c/lib/python3.7/site-packages/pandas/io/json/_json.py\", line 886, in parse\n",
      "    self._parse_no_numpy()\n",
      "  File \"/azureml-envs/azureml_7becf92bd9d8786204e7278bb441885c/lib/python3.7/site-packages/pandas/io/json/_json.py\", line 1119, in _parse_no_numpy\n",
      "    loads(json, precise_float=self.precise_float), dtype=None\n",
      "ValueError: Expected object or value\n",
      "\n",
      "During handling of the above exception, another exception occurred:\n",
      "\n",
      "Traceback (most recent call last):\n",
      "  File \"/azureml-envs/azureml_7becf92bd9d8786204e7278bb441885c/lib/python3.7/site-packages/flask/app.py\", line 1832, in full_dispatch_request\n",
      "    rv = self.dispatch_request()\n",
      "  File \"/azureml-envs/azureml_7becf92bd9d8786204e7278bb441885c/lib/python3.7/site-packages/flask/app.py\", line 1818, in dispatch_request\n",
      "    return self.view_functions[rule.endpoint](**req.view_args)\n",
      "  File \"/var/azureml-server/routes.py\", line 270, in score_realtime\n",
      "    service_input, request.headers, request.environ.get(\"REQUEST_ID\", \"00000000-0000-0000-0000-000000000000\")\n",
      "  File \"/var/azureml-server/routes.py\", line 303, in run_scoring\n",
      "    raise RunFunctionException(str(exc))\n",
      "run_function_exception.RunFunctionException\n",
      "\n",
      "2022-06-28 19:27:38,744 | root | INFO | 500\n",
      "127.0.0.1 - - [28/Jun/2022:19:27:38 +0000] \"POST /score HTTP/1.0\" 500 24 \"-\" \"python-requests/2.27.1\"\n",
      "2022-06-28 19:27:40,757 | root | INFO | Scoring Timer is set to 60.0 seconds\n",
      "b0abe558-7b4f-41ea-80cf-23f2208f114d,./data.json\n",
      "2022-06-28 19:27:40,762 | root | ERROR | Encountered Exception: Traceback (most recent call last):\n",
      "  File \"/var/azureml-server/routes.py\", line 294, in run_scoring\n",
      "    response, time_taken_ms = invoke_user_with_timer(service_input, request_headers)\n",
      "  File \"/var/azureml-server/routes.py\", line 341, in invoke_user_with_timer\n",
      "    result, time_taken_ms = capture_time_taken(user_main.run)(**params)\n",
      "  File \"/var/azureml-server/routes.py\", line 322, in timer\n",
      "    result = func(*args, **kwargs)\n",
      "  File \"/var/azureml-app/score.py\", line 23, in run\n",
      "    df_data = pd.read_json(raw_data)\n",
      "  File \"/azureml-envs/azureml_7becf92bd9d8786204e7278bb441885c/lib/python3.7/site-packages/pandas/util/_decorators.py\", line 199, in wrapper\n",
      "    return func(*args, **kwargs)\n",
      "  File \"/azureml-envs/azureml_7becf92bd9d8786204e7278bb441885c/lib/python3.7/site-packages/pandas/util/_decorators.py\", line 296, in wrapper\n",
      "    return func(*args, **kwargs)\n",
      "  File \"/azureml-envs/azureml_7becf92bd9d8786204e7278bb441885c/lib/python3.7/site-packages/pandas/io/json/_json.py\", line 618, in read_json\n",
      "    result = json_reader.read()\n",
      "  File \"/azureml-envs/azureml_7becf92bd9d8786204e7278bb441885c/lib/python3.7/site-packages/pandas/io/json/_json.py\", line 755, in read\n",
      "    obj = self._get_object_parser(self.data)\n",
      "  File \"/azureml-envs/azureml_7becf92bd9d8786204e7278bb441885c/lib/python3.7/site-packages/pandas/io/json/_json.py\", line 777, in _get_object_parser\n",
      "    obj = FrameParser(json, **kwargs).parse()\n",
      "  File \"/azureml-envs/azureml_7becf92bd9d8786204e7278bb441885c/lib/python3.7/site-packages/pandas/io/json/_json.py\", line 886, in parse\n",
      "    self._parse_no_numpy()\n",
      "  File \"/azureml-envs/azureml_7becf92bd9d8786204e7278bb441885c/lib/python3.7/site-packages/pandas/io/json/_json.py\", line 1119, in _parse_no_numpy\n",
      "    loads(json, precise_float=self.precise_float), dtype=None\n",
      "ValueError: Expected object or value\n",
      "\n",
      "During handling of the above exception, another exception occurred:\n",
      "\n",
      "Traceback (most recent call last):\n",
      "  File \"/azureml-envs/azureml_7becf92bd9d8786204e7278bb441885c/lib/python3.7/site-packages/flask/app.py\", line 1832, in full_dispatch_request\n",
      "    rv = self.dispatch_request()\n",
      "  File \"/azureml-envs/azureml_7becf92bd9d8786204e7278bb441885c/lib/python3.7/site-packages/flask/app.py\", line 1818, in dispatch_request\n",
      "    return self.view_functions[rule.endpoint](**req.view_args)\n",
      "  File \"/var/azureml-server/routes.py\", line 270, in score_realtime\n",
      "    service_input, request.headers, request.environ.get(\"REQUEST_ID\", \"00000000-0000-0000-0000-000000000000\")\n",
      "  File \"/var/azureml-server/routes.py\", line 303, in run_scoring\n",
      "    raise RunFunctionException(str(exc))\n",
      "run_function_exception.RunFunctionException\n",
      "\n",
      "2022-06-28 19:27:40,762 | root | INFO | 500\n",
      "127.0.0.1 - - [28/Jun/2022:19:27:40 +0000] \"POST /score HTTP/1.0\" 500 24 \"-\" \"python-requests/2.27.1\"\n",
      "Exception in worker process\n",
      "Traceback (most recent call last):\n",
      "  File \"/azureml-envs/azureml_7becf92bd9d8786204e7278bb441885c/lib/python3.7/site-packages/gunicorn/arbiter.py\", line 589, in spawn_worker\n",
      "    worker.init_process()\n",
      "  File \"/azureml-envs/azureml_7becf92bd9d8786204e7278bb441885c/lib/python3.7/site-packages/gunicorn/workers/base.py\", line 142, in init_process\n",
      "    self.run()\n",
      "  File \"/azureml-envs/azureml_7becf92bd9d8786204e7278bb441885c/lib/python3.7/site-packages/gunicorn/workers/sync.py\", line 125, in run\n",
      "    self.run_for_one(timeout)\n",
      "  File \"/azureml-envs/azureml_7becf92bd9d8786204e7278bb441885c/lib/python3.7/site-packages/gunicorn/workers/sync.py\", line 84, in run_for_one\n",
      "    self.wait(timeout)\n",
      "  File \"/azureml-envs/azureml_7becf92bd9d8786204e7278bb441885c/lib/python3.7/site-packages/gunicorn/workers/sync.py\", line 36, in wait\n",
      "    ret = select.select(self.wait_fds, [], [], timeout)\n",
      "  File \"/var/azureml-server/routes.py\", line 159, in alarm_handler\n",
      "    raise TimeoutException(error_message)\n",
      "timeout_exception.TimeoutException\n",
      "Worker exiting (pid: 121)\n",
      "worker timeout is set to 300\n",
      "Booting worker with pid: 260\n",
      "SPARK_HOME not set. Skipping PySpark Initialization.\n",
      "Initializing logger\n",
      "2022-06-28 19:28:46,824 | root | INFO | Starting up app insights client\n",
      "logging socket was found. logging is available.\n",
      "logging socket was found. logging is available.\n",
      "2022-06-28 19:28:46,825 | root | INFO | Starting up request id generator\n",
      "2022-06-28 19:28:46,825 | root | INFO | Starting up app insight hooks\n",
      "2022-06-28 19:28:46,826 | root | INFO | Invoking user's init function\n",
      "Importing plotly failed. Interactive plots will not work.\n",
      "2022-06-28 19:28:55,225 | root | INFO | Users's init has completed successfully\n",
      "2022-06-28 19:28:55,228 | root | INFO | Skipping middleware: dbg_model_info as it's not enabled.\n",
      "2022-06-28 19:28:55,228 | root | INFO | Skipping middleware: dbg_resource_usage as it's not enabled.\n",
      "2022-06-28 19:28:55,231 | root | INFO | Scoring timeout is found from os.environ: 60000 ms\n",
      "2022-06-28 19:44:42,021 | root | INFO | Swagger file not present\n",
      "2022-06-28 19:44:42,022 | root | INFO | 404\n",
      "127.0.0.1 - - [28/Jun/2022:19:44:42 +0000] \"GET /swagger.json HTTP/1.0\" 404 19 \"-\" \"Go-http-client/1.1\"\n",
      "2022-06-28 19:45:26,964 | root | INFO | Swagger file not present\n",
      "2022-06-28 19:45:26,965 | root | INFO | 404\n",
      "127.0.0.1 - - [28/Jun/2022:19:45:26 +0000] \"GET /swagger.json HTTP/1.0\" 404 19 \"-\" \"Go-http-client/1.1\"\n",
      "2022-06-28 19:50:07,522 | root | INFO | Scoring Timer is set to 60.0 seconds\n",
      "8a803d04-32fd-4305-a5d1-e7305ee5046a,./data.json\n",
      "2022-06-28 19:50:07,530 | root | ERROR | Encountered Exception: Traceback (most recent call last):\n",
      "  File \"/var/azureml-server/routes.py\", line 294, in run_scoring\n",
      "    response, time_taken_ms = invoke_user_with_timer(service_input, request_headers)\n",
      "  File \"/var/azureml-server/routes.py\", line 341, in invoke_user_with_timer\n",
      "    result, time_taken_ms = capture_time_taken(user_main.run)(**params)\n",
      "  File \"/var/azureml-server/routes.py\", line 322, in timer\n",
      "    result = func(*args, **kwargs)\n",
      "  File \"/var/azureml-app/score.py\", line 23, in run\n",
      "    df_data = pd.read_json(raw_data)\n",
      "  File \"/azureml-envs/azureml_7becf92bd9d8786204e7278bb441885c/lib/python3.7/site-packages/pandas/util/_decorators.py\", line 199, in wrapper\n",
      "    return func(*args, **kwargs)\n",
      "  File \"/azureml-envs/azureml_7becf92bd9d8786204e7278bb441885c/lib/python3.7/site-packages/pandas/util/_decorators.py\", line 296, in wrapper\n",
      "    return func(*args, **kwargs)\n",
      "  File \"/azureml-envs/azureml_7becf92bd9d8786204e7278bb441885c/lib/python3.7/site-packages/pandas/io/json/_json.py\", line 618, in read_json\n",
      "    result = json_reader.read()\n",
      "  File \"/azureml-envs/azureml_7becf92bd9d8786204e7278bb441885c/lib/python3.7/site-packages/pandas/io/json/_json.py\", line 755, in read\n",
      "    obj = self._get_object_parser(self.data)\n",
      "  File \"/azureml-envs/azureml_7becf92bd9d8786204e7278bb441885c/lib/python3.7/site-packages/pandas/io/json/_json.py\", line 777, in _get_object_parser\n",
      "    obj = FrameParser(json, **kwargs).parse()\n",
      "  File \"/azureml-envs/azureml_7becf92bd9d8786204e7278bb441885c/lib/python3.7/site-packages/pandas/io/json/_json.py\", line 886, in parse\n",
      "    self._parse_no_numpy()\n",
      "  File \"/azureml-envs/azureml_7becf92bd9d8786204e7278bb441885c/lib/python3.7/site-packages/pandas/io/json/_json.py\", line 1119, in _parse_no_numpy\n",
      "    loads(json, precise_float=self.precise_float), dtype=None\n",
      "ValueError: Expected object or value\n",
      "\n",
      "During handling of the above exception, another exception occurred:\n",
      "\n",
      "Traceback (most recent call last):\n",
      "  File \"/azureml-envs/azureml_7becf92bd9d8786204e7278bb441885c/lib/python3.7/site-packages/flask/app.py\", line 1832, in full_dispatch_request\n",
      "    rv = self.dispatch_request()\n",
      "  File \"/azureml-envs/azureml_7becf92bd9d8786204e7278bb441885c/lib/python3.7/site-packages/flask/app.py\", line 1818, in dispatch_request\n",
      "    return self.view_functions[rule.endpoint](**req.view_args)\n",
      "  File \"/var/azureml-server/routes.py\", line 270, in score_realtime\n",
      "    service_input, request.headers, request.environ.get(\"REQUEST_ID\", \"00000000-0000-0000-0000-000000000000\")\n",
      "  File \"/var/azureml-server/routes.py\", line 303, in run_scoring\n",
      "    raise RunFunctionException(str(exc))\n",
      "run_function_exception.RunFunctionException\n",
      "\n",
      "2022-06-28 19:50:07,532 | root | INFO | 500\n",
      "127.0.0.1 - - [28/Jun/2022:19:50:07 +0000] \"POST /score HTTP/1.0\" 500 24 \"-\" \"python-requests/2.27.1\"\n",
      "2022-06-28 19:50:07,542 | root | INFO | Scoring Timer is set to 60.0 seconds\n",
      "bfa2cc6b-58b7-44a5-99ec-1fdefc22143c,./data.json\n",
      "2022-06-28 19:50:07,544 | root | ERROR | Encountered Exception: Traceback (most recent call last):\n",
      "  File \"/var/azureml-server/routes.py\", line 294, in run_scoring\n",
      "    response, time_taken_ms = invoke_user_with_timer(service_input, request_headers)\n",
      "  File \"/var/azureml-server/routes.py\", line 341, in invoke_user_with_timer\n",
      "    result, time_taken_ms = capture_time_taken(user_main.run)(**params)\n",
      "  File \"/var/azureml-server/routes.py\", line 322, in timer\n",
      "    result = func(*args, **kwargs)\n",
      "  File \"/var/azureml-app/score.py\", line 23, in run\n",
      "    df_data = pd.read_json(raw_data)\n",
      "  File \"/azureml-envs/azureml_7becf92bd9d8786204e7278bb441885c/lib/python3.7/site-packages/pandas/util/_decorators.py\", line 199, in wrapper\n",
      "    return func(*args, **kwargs)\n",
      "  File \"/azureml-envs/azureml_7becf92bd9d8786204e7278bb441885c/lib/python3.7/site-packages/pandas/util/_decorators.py\", line 296, in wrapper\n",
      "    return func(*args, **kwargs)\n",
      "  File \"/azureml-envs/azureml_7becf92bd9d8786204e7278bb441885c/lib/python3.7/site-packages/pandas/io/json/_json.py\", line 618, in read_json\n",
      "    result = json_reader.read()\n",
      "  File \"/azureml-envs/azureml_7becf92bd9d8786204e7278bb441885c/lib/python3.7/site-packages/pandas/io/json/_json.py\", line 755, in read\n",
      "    obj = self._get_object_parser(self.data)\n",
      "  File \"/azureml-envs/azureml_7becf92bd9d8786204e7278bb441885c/lib/python3.7/site-packages/pandas/io/json/_json.py\", line 777, in _get_object_parser\n",
      "    obj = FrameParser(json, **kwargs).parse()\n",
      "  File \"/azureml-envs/azureml_7becf92bd9d8786204e7278bb441885c/lib/python3.7/site-packages/pandas/io/json/_json.py\", line 886, in parse\n",
      "    self._parse_no_numpy()\n",
      "  File \"/azureml-envs/azureml_7becf92bd9d8786204e7278bb441885c/lib/python3.7/site-packages/pandas/io/json/_json.py\", line 1119, in _parse_no_numpy\n",
      "    loads(json, precise_float=self.precise_float), dtype=None\n",
      "ValueError: Expected object or value\n",
      "\n",
      "During handling of the above exception, another exception occurred:\n",
      "\n",
      "Traceback (most recent call last):\n",
      "  File \"/azureml-envs/azureml_7becf92bd9d8786204e7278bb441885c/lib/python3.7/site-packages/flask/app.py\", line 1832, in full_dispatch_request\n",
      "    rv = self.dispatch_request()\n",
      "  File \"/azureml-envs/azureml_7becf92bd9d8786204e7278bb441885c/lib/python3.7/site-packages/flask/app.py\", line 1818, in dispatch_request\n",
      "    return self.view_functions[rule.endpoint](**req.view_args)\n",
      "  File \"/var/azureml-server/routes.py\", line 270, in score_realtime\n",
      "    service_input, request.headers, request.environ.get(\"REQUEST_ID\", \"00000000-0000-0000-0000-000000000000\")\n",
      "  File \"/var/azureml-server/routes.py\", line 303, in run_scoring\n",
      "    raise RunFunctionException(str(exc))\n",
      "run_function_exception.RunFunctionException\n",
      "\n",
      "2022-06-28 19:50:07,547 | root | INFO | 500\n",
      "127.0.0.1 - - [28/Jun/2022:19:50:07 +0000] \"POST /score HTTP/1.0\" 500 24 \"-\" \"python-requests/2.27.1\"\n",
      "2022-06-28 19:50:08,556 | root | INFO | Scoring Timer is set to 60.0 seconds\n",
      "267661a3-2265-4c25-8b3b-01a4406844aa,./data.json\n",
      "2022-06-28 19:50:08,558 | root | ERROR | Encountered Exception: Traceback (most recent call last):\n",
      "  File \"/var/azureml-server/routes.py\", line 294, in run_scoring\n",
      "    response, time_taken_ms = invoke_user_with_timer(service_input, request_headers)\n",
      "  File \"/var/azureml-server/routes.py\", line 341, in invoke_user_with_timer\n",
      "    result, time_taken_ms = capture_time_taken(user_main.run)(**params)\n",
      "  File \"/var/azureml-server/routes.py\", line 322, in timer\n",
      "    result = func(*args, **kwargs)\n",
      "  File \"/var/azureml-app/score.py\", line 23, in run\n",
      "    df_data = pd.read_json(raw_data)\n",
      "  File \"/azureml-envs/azureml_7becf92bd9d8786204e7278bb441885c/lib/python3.7/site-packages/pandas/util/_decorators.py\", line 199, in wrapper\n",
      "    return func(*args, **kwargs)\n",
      "  File \"/azureml-envs/azureml_7becf92bd9d8786204e7278bb441885c/lib/python3.7/site-packages/pandas/util/_decorators.py\", line 296, in wrapper\n",
      "    return func(*args, **kwargs)\n",
      "  File \"/azureml-envs/azureml_7becf92bd9d8786204e7278bb441885c/lib/python3.7/site-packages/pandas/io/json/_json.py\", line 618, in read_json\n",
      "    result = json_reader.read()\n",
      "  File \"/azureml-envs/azureml_7becf92bd9d8786204e7278bb441885c/lib/python3.7/site-packages/pandas/io/json/_json.py\", line 755, in read\n",
      "    obj = self._get_object_parser(self.data)\n",
      "  File \"/azureml-envs/azureml_7becf92bd9d8786204e7278bb441885c/lib/python3.7/site-packages/pandas/io/json/_json.py\", line 777, in _get_object_parser\n",
      "    obj = FrameParser(json, **kwargs).parse()\n",
      "  File \"/azureml-envs/azureml_7becf92bd9d8786204e7278bb441885c/lib/python3.7/site-packages/pandas/io/json/_json.py\", line 886, in parse\n",
      "    self._parse_no_numpy()\n",
      "  File \"/azureml-envs/azureml_7becf92bd9d8786204e7278bb441885c/lib/python3.7/site-packages/pandas/io/json/_json.py\", line 1119, in _parse_no_numpy\n",
      "    loads(json, precise_float=self.precise_float), dtype=None\n",
      "ValueError: Expected object or value\n",
      "\n",
      "During handling of the above exception, another exception occurred:\n",
      "\n",
      "Traceback (most recent call last):\n",
      "  File \"/azureml-envs/azureml_7becf92bd9d8786204e7278bb441885c/lib/python3.7/site-packages/flask/app.py\", line 1832, in full_dispatch_request\n",
      "    rv = self.dispatch_request()\n",
      "  File \"/azureml-envs/azureml_7becf92bd9d8786204e7278bb441885c/lib/python3.7/site-packages/flask/app.py\", line 1818, in dispatch_request\n",
      "    return self.view_functions[rule.endpoint](**req.view_args)\n",
      "  File \"/var/azureml-server/routes.py\", line 270, in score_realtime\n",
      "    service_input, request.headers, request.environ.get(\"REQUEST_ID\", \"00000000-0000-0000-0000-000000000000\")\n",
      "  File \"/var/azureml-server/routes.py\", line 303, in run_scoring\n",
      "    raise RunFunctionException(str(exc))\n",
      "run_function_exception.RunFunctionException\n",
      "\n",
      "2022-06-28 19:50:08,558 | root | INFO | 500\n",
      "127.0.0.1 - - [28/Jun/2022:19:50:08 +0000] \"POST /score HTTP/1.0\" 500 24 \"-\" \"python-requests/2.27.1\"\n",
      "2022-06-28 19:50:10,569 | root | INFO | Scoring Timer is set to 60.0 seconds\n",
      "c6ff49bb-e4a6-4c91-abd2-1013defadc16,./data.json\n",
      "2022-06-28 19:50:10,571 | root | ERROR | Encountered Exception: Traceback (most recent call last):\n",
      "  File \"/var/azureml-server/routes.py\", line 294, in run_scoring\n",
      "    response, time_taken_ms = invoke_user_with_timer(service_input, request_headers)\n",
      "  File \"/var/azureml-server/routes.py\", line 341, in invoke_user_with_timer\n",
      "    result, time_taken_ms = capture_time_taken(user_main.run)(**params)\n",
      "  File \"/var/azureml-server/routes.py\", line 322, in timer\n",
      "    result = func(*args, **kwargs)\n",
      "  File \"/var/azureml-app/score.py\", line 23, in run\n",
      "    df_data = pd.read_json(raw_data)\n",
      "  File \"/azureml-envs/azureml_7becf92bd9d8786204e7278bb441885c/lib/python3.7/site-packages/pandas/util/_decorators.py\", line 199, in wrapper\n",
      "    return func(*args, **kwargs)\n",
      "  File \"/azureml-envs/azureml_7becf92bd9d8786204e7278bb441885c/lib/python3.7/site-packages/pandas/util/_decorators.py\", line 296, in wrapper\n",
      "    return func(*args, **kwargs)\n",
      "  File \"/azureml-envs/azureml_7becf92bd9d8786204e7278bb441885c/lib/python3.7/site-packages/pandas/io/json/_json.py\", line 618, in read_json\n",
      "    result = json_reader.read()\n",
      "  File \"/azureml-envs/azureml_7becf92bd9d8786204e7278bb441885c/lib/python3.7/site-packages/pandas/io/json/_json.py\", line 755, in read\n",
      "    obj = self._get_object_parser(self.data)\n",
      "  File \"/azureml-envs/azureml_7becf92bd9d8786204e7278bb441885c/lib/python3.7/site-packages/pandas/io/json/_json.py\", line 777, in _get_object_parser\n",
      "    obj = FrameParser(json, **kwargs).parse()\n",
      "  File \"/azureml-envs/azureml_7becf92bd9d8786204e7278bb441885c/lib/python3.7/site-packages/pandas/io/json/_json.py\", line 886, in parse\n",
      "    self._parse_no_numpy()\n",
      "  File \"/azureml-envs/azureml_7becf92bd9d8786204e7278bb441885c/lib/python3.7/site-packages/pandas/io/json/_json.py\", line 1119, in _parse_no_numpy\n",
      "    loads(json, precise_float=self.precise_float), dtype=None\n",
      "ValueError: Expected object or value\n",
      "\n",
      "During handling of the above exception, another exception occurred:\n",
      "\n",
      "Traceback (most recent call last):\n",
      "  File \"/azureml-envs/azureml_7becf92bd9d8786204e7278bb441885c/lib/python3.7/site-packages/flask/app.py\", line 1832, in full_dispatch_request\n",
      "    rv = self.dispatch_request()\n",
      "  File \"/azureml-envs/azureml_7becf92bd9d8786204e7278bb441885c/lib/python3.7/site-packages/flask/app.py\", line 1818, in dispatch_request\n",
      "    return self.view_functions[rule.endpoint](**req.view_args)\n",
      "  File \"/var/azureml-server/routes.py\", line 270, in score_realtime\n",
      "    service_input, request.headers, request.environ.get(\"REQUEST_ID\", \"00000000-0000-0000-0000-000000000000\")\n",
      "  File \"/var/azureml-server/routes.py\", line 303, in run_scoring\n",
      "    raise RunFunctionException(str(exc))\n",
      "run_function_exception.RunFunctionException\n",
      "\n",
      "2022-06-28 19:50:10,572 | root | INFO | 500\n",
      "127.0.0.1 - - [28/Jun/2022:19:50:10 +0000] \"POST /score HTTP/1.0\" 500 24 \"-\" \"python-requests/2.27.1\"\n",
      "Exception in worker process\n",
      "Traceback (most recent call last):\n",
      "  File \"/azureml-envs/azureml_7becf92bd9d8786204e7278bb441885c/lib/python3.7/site-packages/gunicorn/arbiter.py\", line 589, in spawn_worker\n",
      "    worker.init_process()\n",
      "  File \"/azureml-envs/azureml_7becf92bd9d8786204e7278bb441885c/lib/python3.7/site-packages/gunicorn/workers/base.py\", line 142, in init_process\n",
      "    self.run()\n",
      "  File \"/azureml-envs/azureml_7becf92bd9d8786204e7278bb441885c/lib/python3.7/site-packages/gunicorn/workers/sync.py\", line 125, in run\n",
      "    self.run_for_one(timeout)\n",
      "  File \"/azureml-envs/azureml_7becf92bd9d8786204e7278bb441885c/lib/python3.7/site-packages/gunicorn/workers/sync.py\", line 84, in run_for_one\n",
      "    self.wait(timeout)\n",
      "  File \"/azureml-envs/azureml_7becf92bd9d8786204e7278bb441885c/lib/python3.7/site-packages/gunicorn/workers/sync.py\", line 36, in wait\n",
      "    ret = select.select(self.wait_fds, [], [], timeout)\n",
      "  File \"/var/azureml-server/routes.py\", line 159, in alarm_handler\n",
      "    raise TimeoutException(error_message)\n",
      "timeout_exception.TimeoutException\n",
      "Worker exiting (pid: 260)\n",
      "worker timeout is set to 300\n",
      "Booting worker with pid: 706\n",
      "SPARK_HOME not set. Skipping PySpark Initialization.\n",
      "Initializing logger\n",
      "2022-06-28 19:51:16,821 | root | INFO | Starting up app insights client\n",
      "logging socket was found. logging is available.\n",
      "logging socket was found. logging is available.\n",
      "2022-06-28 19:51:16,826 | root | INFO | Starting up request id generator\n",
      "2022-06-28 19:51:16,826 | root | INFO | Starting up app insight hooks\n",
      "2022-06-28 19:51:16,827 | root | INFO | Invoking user's init function\n",
      "Importing plotly failed. Interactive plots will not work.\n",
      "2022-06-28 19:51:23,558 | root | INFO | Users's init has completed successfully\n",
      "2022-06-28 19:51:23,560 | root | INFO | Skipping middleware: dbg_model_info as it's not enabled.\n",
      "2022-06-28 19:51:23,560 | root | INFO | Skipping middleware: dbg_resource_usage as it's not enabled.\n",
      "2022-06-28 19:51:23,566 | root | INFO | Scoring timeout is found from os.environ: 60000 ms\n",
      "127.0.0.1 - - [28/Jun/2022:19:51:40 +0000] \"GET /.env HTTP/1.0\" 404 207 \"-\" \"Mozilla/5.0 (X11; Linux x86_64) AppleWebKit/537.36 (KHTML, like Gecko) Chrome/81.0.4044.129 Safari/537.36\"\n",
      "\n"
     ]
    }
   ],
   "source": [
    "# Print the logs of the Web service\n",
    "logs = service.get_logs()\n",
    "for line in logs.split('\\n'):\n",
    "    print(line)"
   ]
  },
  {
   "cell_type": "code",
   "execution_count": null,
   "metadata": {},
   "outputs": [],
   "source": [
    "# Remove the web service\n",
    "service.delete()\n",
    "\n",
    "# Remove the compute cluster\n",
    "compute_target.delete()"
   ]
  },
  {
   "cell_type": "markdown",
   "metadata": {},
   "source": [
    "**Submission Checklist**\n",
    "- I have registered the model.\n",
    "- I have deployed the model with the best accuracy as a webservice.\n",
    "- I have tested the webservice by sending a request to the model endpoint.\n",
    "- I have deleted the webservice and shutdown all the computes that I have used.\n",
    "- I have taken a screenshot showing the model endpoint as active.\n",
    "- The project includes a file containing the environment details.\n"
   ]
  },
  {
   "cell_type": "markdown",
   "metadata": {},
   "source": []
  }
 ],
 "metadata": {
  "kernel_info": {
   "name": "python3-azureml"
  },
  "kernelspec": {
   "display_name": "Python 3 (ipykernel)",
   "language": "python",
   "name": "python3"
  },
  "language_info": {
   "codemirror_mode": {
    "name": "ipython",
    "version": 3
   },
   "file_extension": ".py",
   "mimetype": "text/x-python",
   "name": "python",
   "nbconvert_exporter": "python",
   "pygments_lexer": "ipython3",
   "version": "3.8.5"
  },
  "nteract": {
   "version": "nteract-front-end@1.0.0"
  }
 },
 "nbformat": 4,
 "nbformat_minor": 2
}
